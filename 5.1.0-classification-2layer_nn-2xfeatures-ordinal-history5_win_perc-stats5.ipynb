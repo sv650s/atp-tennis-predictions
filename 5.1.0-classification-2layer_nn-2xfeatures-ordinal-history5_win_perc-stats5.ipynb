{
  "nbformat": 4,
  "nbformat_minor": 0,
  "metadata": {
    "colab": {
      "name": "5.1.0-classification-2layer_nn-2xfeatures-ordinal-history5_win_perc-stats5.ipynb",
      "provenance": [],
      "collapsed_sections": [],
      "machine_shape": "hm",
      "include_colab_link": true
    },
    "kernelspec": {
      "name": "python3",
      "display_name": "Python 3"
    },
    "accelerator": "GPU"
  },
  "cells": [
    {
      "cell_type": "markdown",
      "metadata": {
        "id": "view-in-github",
        "colab_type": "text"
      },
      "source": [
        "<a href=\"https://colab.research.google.com/github/sv650s/atp-tennis-predictions/blob/dataset2/5.1.0-classification-2layer_nn-2xfeatures-ordinal-history5_win_perc-stats5.ipynb\" target=\"_parent\"><img src=\"https://colab.research.google.com/assets/colab-badge.svg\" alt=\"Open In Colab\"/></a>"
      ]
    },
    {
      "cell_type": "markdown",
      "metadata": {
        "id": "maNMeGSioSdx",
        "colab_type": "text"
      },
      "source": [
        "# ATP Tennis Data - NN Using One Hot Encoding\n",
        "\n",
        "In this notebook, I we will run our data through a 2 layer NN where number of hidden units is 2x number of features in each of the layers\n",
        "\n",
        "Columns that will be used in this notebook are:\n",
        "* raw ordinal features -ie, p1/p2_rank, p1/p2_height\n",
        "* history win percentage for each player for the last 5 maches\n",
        "* raw player stats from last 5 maches\n",
        "\n",
        "The idea is adding more layers will allow the model to better discover relationships between features and make better predictions\n",
        "\n",
        "We will compare the results of the NN with the Gradient Boosting model\n",
        "\n",
        "```\n",
        "Model Score: 0.6829169480081027\n",
        "\n",
        "ROC/AUC Score: 0.6829166839061929\n",
        "              precision    recall  f1-score   support\n",
        "\n",
        "        Loss       0.68      0.68      0.68     14815\n",
        "         Win       0.68      0.68      0.68     14805\n",
        "\n",
        "    accuracy                           0.68     29620\n",
        "   macro avg       0.68      0.68      0.68     29620\n",
        "weighted avg       0.68      0.68      0.68     29620\n",
        "```\n",
        "\n",
        "# Results\n",
        "\n",
        "Unfortunately, accuracy for a 2 layer architecture is still below our tree based model.\n",
        "\n",
        "```\n",
        "Model Score: 0.6556380823767725\n",
        "\n",
        "ROC/AUC Score: 0.6557052038170413\n",
        "              precision    recall  f1-score   support\n",
        "\n",
        "        Loss       0.65      0.66      0.66     14690\n",
        "         Win       0.66      0.65      0.65     14930\n",
        "\n",
        "    accuracy                           0.66     29620\n",
        "   macro avg       0.66      0.66      0.66     29620\n",
        "weighted avg       0.66      0.66      0.66     29620\n",
        "```\n",
        "\n"
      ]
    },
    {
      "cell_type": "code",
      "metadata": {
        "id": "KAcNYkLbn46s",
        "colab_type": "code",
        "outputId": "3f03cd10-aac2-4848-c05b-de6788a0196d",
        "colab": {
          "base_uri": "https://localhost:8080/",
          "height": 34
        }
      },
      "source": [
        "from google.colab import drive\n",
        "drive.mount('/content/drive')\n"
      ],
      "execution_count": 1,
      "outputs": [
        {
          "output_type": "stream",
          "text": [
            "Drive already mounted at /content/drive; to attempt to forcibly remount, call drive.mount(\"/content/drive\", force_remount=True).\n"
          ],
          "name": "stdout"
        }
      ]
    },
    {
      "cell_type": "code",
      "metadata": {
        "id": "A56-84YeuRCZ",
        "colab_type": "code",
        "outputId": "9503de82-bf19-4242-8604-0b4ad1397c86",
        "colab": {
          "base_uri": "https://localhost:8080/",
          "height": 51
        }
      },
      "source": [
        "%tensorflow_version 2.x\n",
        "\n",
        "\n",
        "import tensorflow as tf\n",
        "# checl to make sure we are using GPU here\n",
        "tf.test.gpu_device_name()"
      ],
      "execution_count": 2,
      "outputs": [
        {
          "output_type": "stream",
          "text": [
            "TensorFlow 2.x selected.\n"
          ],
          "name": "stdout"
        },
        {
          "output_type": "execute_result",
          "data": {
            "text/plain": [
              "'/device:GPU:0'"
            ]
          },
          "metadata": {
            "tags": []
          },
          "execution_count": 2
        }
      ]
    },
    {
      "cell_type": "code",
      "metadata": {
        "id": "Q6FhTGhHo8RT",
        "colab_type": "code",
        "outputId": "7a9fae69-5e4a-4942-e4c4-1aac99f25034",
        "colab": {
          "base_uri": "https://localhost:8080/",
          "height": 51
        }
      },
      "source": [
        "import sys\n",
        "import pandas as pd\n",
        "import numpy as np\n",
        "from datetime import datetime\n",
        "import pickle\n",
        "import json\n",
        "import sys\n",
        "import matplotlib.pyplot as plt\n",
        "import seaborn as sns\n",
        "import logging\n",
        "\n",
        "from sklearn.model_selection import train_test_split\n",
        "from sklearn.metrics import classification_report, confusion_matrix, accuracy_score\n",
        "from sklearn.preprocessing import OneHotEncoder\n",
        "\n",
        "from keras.models import Sequential\n",
        "from keras.layers import Dense, Activation, Dropout\n",
        "from keras.layers.normalization import BatchNormalization\n",
        "from keras.callbacks import EarlyStopping, ReduceLROnPlateau, ModelCheckpoint\n",
        "from keras.optimizers import SGD\n",
        "\n",
        "# add our google drive directory to path so we can load custom modules\n",
        "DRIVE_DIR = \"drive/My Drive/Springboard/capstone2\"\n",
        "sys.path.append(DRIVE_DIR)\n",
        "import util.model_util as mu\n",
        "from util.model_util import LABEL_COL, RSTATE\n",
        "\n",
        "\n",
        "logging.basicConfig(level=logging.INFO)\n",
        "%matplotlib inline\n",
        "sns.set()\n",
        "\n",
        "tf.test.gpu_device_name()"
      ],
      "execution_count": 3,
      "outputs": [
        {
          "output_type": "stream",
          "text": [
            "Using TensorFlow backend.\n"
          ],
          "name": "stderr"
        },
        {
          "output_type": "execute_result",
          "data": {
            "text/plain": [
              "'/device:GPU:0'"
            ]
          },
          "metadata": {
            "tags": []
          },
          "execution_count": 3
        }
      ]
    },
    {
      "cell_type": "code",
      "metadata": {
        "id": "sO579yKwn46J",
        "colab_type": "code",
        "colab": {}
      },
      "source": [
        "DATASET_DIR = f'{DRIVE_DIR}/datasets'\n",
        "MODEL_DIR = f'{DRIVE_DIR}/models'\n",
        "REPORT_DIR = f'{DRIVE_DIR}/reports'\n",
        "\n",
        "START_YEAR = 1998\n",
        "END_YEAR = 2018\n",
        "\n",
        "DEBUG = False\n",
        "MODEL_NAME = 'nn_2layer-2xfeatures-ordinal-history5_win_perc-stats5'\n",
        "mu.ModelWrapper.MODEL_DIR = f'{DRIVE_DIR}/models'\n",
        "\n",
        "\n",
        "if DEBUG:\n",
        "  FEATURE_FILE = f'{DATASET_DIR}/atp_matches_1985-2019_features_test-raw_diff-ohe-history-matchup-stats.csv'\n",
        "  MODEL_NAME = f'{MODEL_NAME}-test'\n",
        "  mu.ModelWrapper.REPORT_FILE = f'{DRIVE_DIR}/reports/summary-test.csv'\n",
        "else:\n",
        "  FEATURE_FILE = f'{DATASET_DIR}/atp_matches_1985-2019_features-raw_diff-ohe-history-matchup-stats.csv'\n",
        "  mu.ModelWrapper.REPORT_FILE = f'{DRIVE_DIR}/reports/summary.csv'\n"
      ],
      "execution_count": 0,
      "outputs": []
    },
    {
      "cell_type": "code",
      "metadata": {
        "id": "zRGm73EhWkPA",
        "colab_type": "code",
        "outputId": "f959c377-e518-4158-c3e8-706e85e64c89",
        "colab": {
          "base_uri": "https://localhost:8080/",
          "height": 989
        }
      },
      "source": [
        "filters = [\"util.model_util.BaseOrdinalFilter\", \"util.model_util.History5WinPercentageFilter\", \"util.model_util.Stats5RawFilter\"]\n",
        "MODEL_BASENAME = f'{MODEL_DIR}/{MODEL_NAME}'\n",
        "\n",
        "\n",
        "features, labels = mu.ModelWrapper.get_data(FEATURE_FILE, LABEL_COL, START_YEAR, END_YEAR, column_filters = filters,\n",
        "                                                split_train_test = False)\n",
        "print(features.shape)\n",
        "print(features.info())\n",
        "features.head()"
      ],
      "execution_count": 5,
      "outputs": [
        {
          "output_type": "stream",
          "text": [
            "INFO:util.model_util:Adding filter: util.model_util.BaseOrdinalFilter\n",
            "INFO:util.model_util:Adding filter: util.model_util.History5WinPercentageFilter\n",
            "INFO:util.model_util:Adding filter: util.model_util.Stats5RawFilter\n",
            "INFO:util.model_util:loading drive/My Drive/Springboard/capstone2/datasets/atp_matches_1985-2019_features-raw_diff-ohe-history-matchup-stats.csv\n",
            "INFO:util.model_util:Shape before filtering: (118478, 5464)\n",
            "INFO:util.model_util:Shape after filtering: (118478, 31)\n",
            "INFO:util.model_util:Final Features shape: (118478, 31)\n"
          ],
          "name": "stderr"
        },
        {
          "output_type": "stream",
          "text": [
            "(118478, 31)\n",
            "<class 'pandas.core.frame.DataFrame'>\n",
            "Int64Index: 118478 entries, 81324 to 199801\n",
            "Data columns (total 31 columns):\n",
            "draw_size                     118478 non-null int64\n",
            "round_label                   118478 non-null int64\n",
            "tourney_level_label           118478 non-null int64\n",
            "tourney_month                 118478 non-null int64\n",
            "tourney_year                  118478 non-null int64\n",
            "p1_age                        118478 non-null float64\n",
            "p1_ht                         118478 non-null float64\n",
            "p1_rank                       118478 non-null int64\n",
            "p2_age                        118478 non-null float64\n",
            "p2_ht                         118478 non-null float64\n",
            "p2_rank                       118478 non-null int64\n",
            "p1_history5_win_percentage    118478 non-null float64\n",
            "p2_history5_win_percentage    118478 non-null float64\n",
            "p1_stats5_1stin               118478 non-null int64\n",
            "p1_stats5_1stwon              118478 non-null int64\n",
            "p1_stats5_2ndwon              118478 non-null int64\n",
            "p1_stats5_ace                 118478 non-null int64\n",
            "p1_stats5_bpfaced             118478 non-null int64\n",
            "p1_stats5_bpsaved             118478 non-null int64\n",
            "p1_stats5_df                  118478 non-null int64\n",
            "p1_stats5_svgms               118478 non-null int64\n",
            "p1_stats5_svpt                118478 non-null int64\n",
            "p2_stats5_1stin               118478 non-null int64\n",
            "p2_stats5_1stwon              118478 non-null int64\n",
            "p2_stats5_2ndwon              118478 non-null int64\n",
            "p2_stats5_ace                 118478 non-null int64\n",
            "p2_stats5_bpfaced             118478 non-null int64\n",
            "p2_stats5_bpsaved             118478 non-null int64\n",
            "p2_stats5_df                  118478 non-null int64\n",
            "p2_stats5_svgms               118478 non-null int64\n",
            "p2_stats5_svpt                118478 non-null int64\n",
            "dtypes: float64(6), int64(25)\n",
            "memory usage: 28.9 MB\n",
            "None\n"
          ],
          "name": "stdout"
        },
        {
          "output_type": "execute_result",
          "data": {
            "text/html": [
              "<div>\n",
              "<style scoped>\n",
              "    .dataframe tbody tr th:only-of-type {\n",
              "        vertical-align: middle;\n",
              "    }\n",
              "\n",
              "    .dataframe tbody tr th {\n",
              "        vertical-align: top;\n",
              "    }\n",
              "\n",
              "    .dataframe thead th {\n",
              "        text-align: right;\n",
              "    }\n",
              "</style>\n",
              "<table border=\"1\" class=\"dataframe\">\n",
              "  <thead>\n",
              "    <tr style=\"text-align: right;\">\n",
              "      <th></th>\n",
              "      <th>draw_size</th>\n",
              "      <th>round_label</th>\n",
              "      <th>tourney_level_label</th>\n",
              "      <th>tourney_month</th>\n",
              "      <th>tourney_year</th>\n",
              "      <th>p1_age</th>\n",
              "      <th>p1_ht</th>\n",
              "      <th>p1_rank</th>\n",
              "      <th>p2_age</th>\n",
              "      <th>p2_ht</th>\n",
              "      <th>p2_rank</th>\n",
              "      <th>p1_history5_win_percentage</th>\n",
              "      <th>p2_history5_win_percentage</th>\n",
              "      <th>p1_stats5_1stin</th>\n",
              "      <th>p1_stats5_1stwon</th>\n",
              "      <th>p1_stats5_2ndwon</th>\n",
              "      <th>p1_stats5_ace</th>\n",
              "      <th>p1_stats5_bpfaced</th>\n",
              "      <th>p1_stats5_bpsaved</th>\n",
              "      <th>p1_stats5_df</th>\n",
              "      <th>p1_stats5_svgms</th>\n",
              "      <th>p1_stats5_svpt</th>\n",
              "      <th>p2_stats5_1stin</th>\n",
              "      <th>p2_stats5_1stwon</th>\n",
              "      <th>p2_stats5_2ndwon</th>\n",
              "      <th>p2_stats5_ace</th>\n",
              "      <th>p2_stats5_bpfaced</th>\n",
              "      <th>p2_stats5_bpsaved</th>\n",
              "      <th>p2_stats5_df</th>\n",
              "      <th>p2_stats5_svgms</th>\n",
              "      <th>p2_stats5_svpt</th>\n",
              "    </tr>\n",
              "  </thead>\n",
              "  <tbody>\n",
              "    <tr>\n",
              "      <th>81324</th>\n",
              "      <td>32</td>\n",
              "      <td>5</td>\n",
              "      <td>4</td>\n",
              "      <td>1</td>\n",
              "      <td>1998</td>\n",
              "      <td>25.79</td>\n",
              "      <td>183.0</td>\n",
              "      <td>4</td>\n",
              "      <td>26.61</td>\n",
              "      <td>188.0</td>\n",
              "      <td>74</td>\n",
              "      <td>0.6</td>\n",
              "      <td>0.4</td>\n",
              "      <td>36</td>\n",
              "      <td>26</td>\n",
              "      <td>14</td>\n",
              "      <td>6</td>\n",
              "      <td>6</td>\n",
              "      <td>4</td>\n",
              "      <td>2</td>\n",
              "      <td>9</td>\n",
              "      <td>65</td>\n",
              "      <td>45</td>\n",
              "      <td>31</td>\n",
              "      <td>16</td>\n",
              "      <td>4</td>\n",
              "      <td>7</td>\n",
              "      <td>4</td>\n",
              "      <td>2</td>\n",
              "      <td>12</td>\n",
              "      <td>76</td>\n",
              "    </tr>\n",
              "    <tr>\n",
              "      <th>81325</th>\n",
              "      <td>32</td>\n",
              "      <td>5</td>\n",
              "      <td>4</td>\n",
              "      <td>1</td>\n",
              "      <td>1998</td>\n",
              "      <td>26.61</td>\n",
              "      <td>188.0</td>\n",
              "      <td>74</td>\n",
              "      <td>25.79</td>\n",
              "      <td>183.0</td>\n",
              "      <td>4</td>\n",
              "      <td>0.4</td>\n",
              "      <td>0.6</td>\n",
              "      <td>45</td>\n",
              "      <td>31</td>\n",
              "      <td>16</td>\n",
              "      <td>4</td>\n",
              "      <td>7</td>\n",
              "      <td>4</td>\n",
              "      <td>2</td>\n",
              "      <td>12</td>\n",
              "      <td>76</td>\n",
              "      <td>36</td>\n",
              "      <td>26</td>\n",
              "      <td>14</td>\n",
              "      <td>6</td>\n",
              "      <td>6</td>\n",
              "      <td>4</td>\n",
              "      <td>2</td>\n",
              "      <td>9</td>\n",
              "      <td>65</td>\n",
              "    </tr>\n",
              "    <tr>\n",
              "      <th>81326</th>\n",
              "      <td>32</td>\n",
              "      <td>5</td>\n",
              "      <td>4</td>\n",
              "      <td>1</td>\n",
              "      <td>1998</td>\n",
              "      <td>27.76</td>\n",
              "      <td>185.0</td>\n",
              "      <td>79</td>\n",
              "      <td>22.85</td>\n",
              "      <td>175.0</td>\n",
              "      <td>87</td>\n",
              "      <td>0.4</td>\n",
              "      <td>0.4</td>\n",
              "      <td>43</td>\n",
              "      <td>33</td>\n",
              "      <td>20</td>\n",
              "      <td>8</td>\n",
              "      <td>6</td>\n",
              "      <td>3</td>\n",
              "      <td>3</td>\n",
              "      <td>13</td>\n",
              "      <td>82</td>\n",
              "      <td>46</td>\n",
              "      <td>26</td>\n",
              "      <td>10</td>\n",
              "      <td>0</td>\n",
              "      <td>8</td>\n",
              "      <td>3</td>\n",
              "      <td>3</td>\n",
              "      <td>10</td>\n",
              "      <td>68</td>\n",
              "    </tr>\n",
              "    <tr>\n",
              "      <th>81327</th>\n",
              "      <td>32</td>\n",
              "      <td>5</td>\n",
              "      <td>4</td>\n",
              "      <td>1</td>\n",
              "      <td>1998</td>\n",
              "      <td>22.85</td>\n",
              "      <td>175.0</td>\n",
              "      <td>87</td>\n",
              "      <td>27.76</td>\n",
              "      <td>185.0</td>\n",
              "      <td>79</td>\n",
              "      <td>0.4</td>\n",
              "      <td>0.4</td>\n",
              "      <td>46</td>\n",
              "      <td>26</td>\n",
              "      <td>10</td>\n",
              "      <td>0</td>\n",
              "      <td>8</td>\n",
              "      <td>3</td>\n",
              "      <td>3</td>\n",
              "      <td>10</td>\n",
              "      <td>68</td>\n",
              "      <td>43</td>\n",
              "      <td>33</td>\n",
              "      <td>20</td>\n",
              "      <td>8</td>\n",
              "      <td>6</td>\n",
              "      <td>3</td>\n",
              "      <td>3</td>\n",
              "      <td>13</td>\n",
              "      <td>82</td>\n",
              "    </tr>\n",
              "    <tr>\n",
              "      <th>81328</th>\n",
              "      <td>32</td>\n",
              "      <td>5</td>\n",
              "      <td>4</td>\n",
              "      <td>1</td>\n",
              "      <td>1998</td>\n",
              "      <td>21.76</td>\n",
              "      <td>185.0</td>\n",
              "      <td>93</td>\n",
              "      <td>23.08</td>\n",
              "      <td>185.0</td>\n",
              "      <td>71</td>\n",
              "      <td>0.4</td>\n",
              "      <td>0.2</td>\n",
              "      <td>38</td>\n",
              "      <td>27</td>\n",
              "      <td>13</td>\n",
              "      <td>5</td>\n",
              "      <td>7</td>\n",
              "      <td>5</td>\n",
              "      <td>1</td>\n",
              "      <td>9</td>\n",
              "      <td>64</td>\n",
              "      <td>39</td>\n",
              "      <td>31</td>\n",
              "      <td>11</td>\n",
              "      <td>9</td>\n",
              "      <td>4</td>\n",
              "      <td>2</td>\n",
              "      <td>2</td>\n",
              "      <td>11</td>\n",
              "      <td>68</td>\n",
              "    </tr>\n",
              "  </tbody>\n",
              "</table>\n",
              "</div>"
            ],
            "text/plain": [
              "       draw_size  round_label  ...  p2_stats5_svgms  p2_stats5_svpt\n",
              "81324         32            5  ...               12              76\n",
              "81325         32            5  ...                9              65\n",
              "81326         32            5  ...               10              68\n",
              "81327         32            5  ...               13              82\n",
              "81328         32            5  ...               11              68\n",
              "\n",
              "[5 rows x 31 columns]"
            ]
          },
          "metadata": {
            "tags": []
          },
          "execution_count": 5
        }
      ]
    },
    {
      "cell_type": "code",
      "metadata": {
        "id": "FmAY5jvsYXKM",
        "colab_type": "code",
        "colab": {
          "base_uri": "https://localhost:8080/",
          "height": 102
        },
        "outputId": "0d6cd857-df5c-4e75-932c-7fe0f4f0d8e1"
      },
      "source": [
        "# one hot encode our labels for Keras\n",
        "label_encoder = OneHotEncoder(handle_unknown='ignore', sparse=False)\n",
        "labels_encoded = label_encoder.fit_transform(pd.DataFrame(labels))\n",
        "labels_encoded[:5]"
      ],
      "execution_count": 6,
      "outputs": [
        {
          "output_type": "execute_result",
          "data": {
            "text/plain": [
              "array([[0., 1.],\n",
              "       [1., 0.],\n",
              "       [0., 1.],\n",
              "       [1., 0.],\n",
              "       [0., 1.]])"
            ]
          },
          "metadata": {
            "tags": []
          },
          "execution_count": 6
        }
      ]
    },
    {
      "cell_type": "code",
      "metadata": {
        "id": "gg8Z0Sz_WbqZ",
        "colab_type": "code",
        "colab": {}
      },
      "source": [
        "# split into training and test set\n",
        "X_train, X_test, y_train_encoded, y_test_encoded = train_test_split(features, labels_encoded)\n",
        "y_test = label_encoder.inverse_transform(y_test_encoded)"
      ],
      "execution_count": 0,
      "outputs": []
    },
    {
      "cell_type": "code",
      "metadata": {
        "id": "7CBvO5xwcGnw",
        "colab_type": "code",
        "colab": {
          "base_uri": "https://localhost:8080/",
          "height": 34
        },
        "outputId": "85171773-99d8-427a-980a-8926b73f5fb2"
      },
      "source": [
        "X_train.shape"
      ],
      "execution_count": 8,
      "outputs": [
        {
          "output_type": "execute_result",
          "data": {
            "text/plain": [
              "(88858, 31)"
            ]
          },
          "metadata": {
            "tags": []
          },
          "execution_count": 8
        }
      ]
    },
    {
      "cell_type": "markdown",
      "metadata": {
        "id": "Y0vIecdvpHOx",
        "colab_type": "text"
      },
      "source": [
        "# Implement Neural Network\n",
        "\n",
        "\n"
      ]
    },
    {
      "cell_type": "code",
      "metadata": {
        "id": "9TDPA9XWoe0m",
        "colab_type": "code",
        "colab": {
          "base_uri": "https://localhost:8080/",
          "height": 425
        },
        "outputId": "b5eb490b-6136-41f4-a87c-2ccaf4873a45"
      },
      "source": [
        "from tensorflow.keras.models import Sequential \n",
        "from tensorflow.keras.layers import Dense, Activation, BatchNormalization\n",
        "from tensorflow.keras import regularizers\n",
        "import tensorflow.keras as K\n",
        "\n",
        "output_dim = nb_classes = 2\n",
        "model_lr = Sequential() \n",
        "model_lr.add(Dense(X_train.shape[1] * 2, \n",
        "                   input_shape=(X_train.shape[1], ),\n",
        "                   kernel_regularizer=regularizers.l2(0.01),\n",
        "                   kernel_initializer=K.initializers.glorot_uniform(seed=RSTATE))) \n",
        "model_lr.add(BatchNormalization())\n",
        "model_lr.add(Activation(\"relu\"))\n",
        "\n",
        "model_lr.add(Dense(X_train.shape[1] * 2, \n",
        "                   kernel_regularizer=regularizers.l2(0.01),\n",
        "                   kernel_initializer=K.initializers.glorot_uniform(seed=RSTATE))) \n",
        "model_lr.add(BatchNormalization())\n",
        "model_lr.add(Activation(\"relu\"))\n",
        "\n",
        "model_lr.add(Dense(output_dim, \n",
        "                   kernel_initializer=K.initializers.glorot_uniform(seed=RSTATE))) \n",
        "model_lr.add(Activation(\"softmax\"))\n",
        "batch_size = 129 \n",
        "epochs = 100\n",
        "\n",
        "model_lr.compile(optimizer='sgd', loss='binary_crossentropy', metrics=['accuracy']) \n",
        "\n",
        "model_json = model_lr.to_json()\n",
        "with open(f'{MODEL_BASENAME}.json', 'w') as file:\n",
        "  file.write(model_json)\n",
        "\n",
        "model_lr.summary()"
      ],
      "execution_count": 9,
      "outputs": [
        {
          "output_type": "stream",
          "text": [
            "Model: \"sequential\"\n",
            "_________________________________________________________________\n",
            "Layer (type)                 Output Shape              Param #   \n",
            "=================================================================\n",
            "dense (Dense)                (None, 62)                1984      \n",
            "_________________________________________________________________\n",
            "batch_normalization (BatchNo (None, 62)                248       \n",
            "_________________________________________________________________\n",
            "activation (Activation)      (None, 62)                0         \n",
            "_________________________________________________________________\n",
            "dense_1 (Dense)              (None, 62)                3906      \n",
            "_________________________________________________________________\n",
            "batch_normalization_1 (Batch (None, 62)                248       \n",
            "_________________________________________________________________\n",
            "activation_1 (Activation)    (None, 62)                0         \n",
            "_________________________________________________________________\n",
            "dense_2 (Dense)              (None, 2)                 126       \n",
            "_________________________________________________________________\n",
            "activation_2 (Activation)    (None, 2)                 0         \n",
            "=================================================================\n",
            "Total params: 6,512\n",
            "Trainable params: 6,264\n",
            "Non-trainable params: 248\n",
            "_________________________________________________________________\n"
          ],
          "name": "stdout"
        }
      ]
    },
    {
      "cell_type": "code",
      "metadata": {
        "id": "VT7DyAeqXg4c",
        "colab_type": "code",
        "colab": {
          "base_uri": "https://localhost:8080/",
          "height": 1000
        },
        "outputId": "6703669a-5f21-49b0-abf5-9b04db0a7d5d"
      },
      "source": [
        "from tensorflow.keras.callbacks import EarlyStopping, ModelCheckpoint, ReduceLROnPlateau\n",
        "\n",
        "callbacks = [EarlyStopping(monitor='val_loss', patience=10, restore_best_weights=True, verbose=1),\n",
        "             ModelCheckpoint(filepath=f'{MODEL_BASENAME}.h5', monitor='val_loss', save_best_only=True),\n",
        "             ReduceLROnPlateau(monitor='val_loss', factor=0.4,patience=2, min_lr=0.00001, mode='auto')]\n",
        "\n",
        "\n",
        "history = model_lr.fit(X_train, y_train_encoded, \n",
        "                       batch_size=batch_size, \n",
        "                       epochs=epochs,\n",
        "                       verbose=1, \n",
        "                       validation_split=0.2,\n",
        "                       callbacks=callbacks) \n",
        "\n",
        "# evalute our model\n",
        "score = model_lr.evaluate(X_test, y_test_encoded, verbose=0) \n",
        "print('Test score:', score[0]) \n",
        "print('Test accuracy:', score[1])"
      ],
      "execution_count": 10,
      "outputs": [
        {
          "output_type": "stream",
          "text": [
            "WARNING:tensorflow:Falling back from v2 loop because of error: Failed to find data adapter that can handle input: <class 'pandas.core.frame.DataFrame'>, <class 'NoneType'>\n"
          ],
          "name": "stdout"
        },
        {
          "output_type": "stream",
          "text": [
            "WARNING:tensorflow:Falling back from v2 loop because of error: Failed to find data adapter that can handle input: <class 'pandas.core.frame.DataFrame'>, <class 'NoneType'>\n"
          ],
          "name": "stderr"
        },
        {
          "output_type": "stream",
          "text": [
            "Train on 71086 samples, validate on 17772 samples\n",
            "Epoch 1/100\n",
            "71086/71086 [==============================] - 6s 78us/sample - loss: 1.5772 - accuracy: 0.6389 - val_loss: 1.5073 - val_accuracy: 0.6199\n",
            "Epoch 2/100\n",
            "71086/71086 [==============================] - 4s 56us/sample - loss: 1.3809 - accuracy: 0.6456 - val_loss: 1.3216 - val_accuracy: 0.6294\n",
            "Epoch 3/100\n",
            "71086/71086 [==============================] - 4s 51us/sample - loss: 1.2295 - accuracy: 0.6478 - val_loss: 1.1661 - val_accuracy: 0.6513\n",
            "Epoch 4/100\n",
            "71086/71086 [==============================] - 4s 57us/sample - loss: 1.1089 - accuracy: 0.6498 - val_loss: 1.0799 - val_accuracy: 0.6296\n",
            "Epoch 5/100\n",
            "71086/71086 [==============================] - 4s 56us/sample - loss: 1.0126 - accuracy: 0.6504 - val_loss: 0.9994 - val_accuracy: 0.6205\n",
            "Epoch 6/100\n",
            "71086/71086 [==============================] - 4s 59us/sample - loss: 0.9350 - accuracy: 0.6512 - val_loss: 0.9069 - val_accuracy: 0.6484\n",
            "Epoch 7/100\n",
            "71086/71086 [==============================] - 5s 64us/sample - loss: 0.8733 - accuracy: 0.6520 - val_loss: 0.8583 - val_accuracy: 0.6361\n",
            "Epoch 8/100\n",
            "71086/71086 [==============================] - 5s 66us/sample - loss: 0.8225 - accuracy: 0.6521 - val_loss: 0.8053 - val_accuracy: 0.6457\n",
            "Epoch 9/100\n",
            "71086/71086 [==============================] - 4s 59us/sample - loss: 0.7835 - accuracy: 0.6520 - val_loss: 0.8035 - val_accuracy: 0.6053\n",
            "Epoch 10/100\n",
            "71086/71086 [==============================] - 4s 52us/sample - loss: 0.7522 - accuracy: 0.6524 - val_loss: 0.7647 - val_accuracy: 0.6148\n",
            "Epoch 11/100\n",
            "71086/71086 [==============================] - 4s 53us/sample - loss: 0.7257 - accuracy: 0.6537 - val_loss: 0.7286 - val_accuracy: 0.6314\n",
            "Epoch 12/100\n",
            "71086/71086 [==============================] - 4s 56us/sample - loss: 0.7061 - accuracy: 0.6527 - val_loss: 0.7130 - val_accuracy: 0.6435\n",
            "Epoch 13/100\n",
            "71086/71086 [==============================] - 4s 53us/sample - loss: 0.6895 - accuracy: 0.6529 - val_loss: 0.7138 - val_accuracy: 0.6061\n",
            "Epoch 14/100\n",
            "71086/71086 [==============================] - 6s 91us/sample - loss: 0.6763 - accuracy: 0.6547 - val_loss: 0.7047 - val_accuracy: 0.6274\n",
            "Epoch 15/100\n",
            "71086/71086 [==============================] - 4s 55us/sample - loss: 0.6665 - accuracy: 0.6526 - val_loss: 0.7646 - val_accuracy: 0.5960\n",
            "Epoch 16/100\n",
            "71086/71086 [==============================] - 4s 53us/sample - loss: 0.6582 - accuracy: 0.6543 - val_loss: 0.7059 - val_accuracy: 0.6166\n",
            "Epoch 17/100\n",
            "71086/71086 [==============================] - 4s 58us/sample - loss: 0.6504 - accuracy: 0.6553 - val_loss: 0.6680 - val_accuracy: 0.6283\n",
            "Epoch 18/100\n",
            "71086/71086 [==============================] - 4s 53us/sample - loss: 0.6477 - accuracy: 0.6562 - val_loss: 0.7037 - val_accuracy: 0.6034\n",
            "Epoch 19/100\n",
            "71086/71086 [==============================] - 4s 54us/sample - loss: 0.6452 - accuracy: 0.6552 - val_loss: 0.6487 - val_accuracy: 0.6497\n",
            "Epoch 20/100\n",
            "71086/71086 [==============================] - 4s 50us/sample - loss: 0.6434 - accuracy: 0.6556 - val_loss: 0.6773 - val_accuracy: 0.6201\n",
            "Epoch 21/100\n",
            "71086/71086 [==============================] - 3s 49us/sample - loss: 0.6417 - accuracy: 0.6540 - val_loss: 0.7026 - val_accuracy: 0.6260\n",
            "Epoch 22/100\n",
            "71086/71086 [==============================] - 4s 53us/sample - loss: 0.6389 - accuracy: 0.6565 - val_loss: 0.6467 - val_accuracy: 0.6488\n",
            "Epoch 23/100\n",
            "71086/71086 [==============================] - 4s 51us/sample - loss: 0.6380 - accuracy: 0.6559 - val_loss: 0.6520 - val_accuracy: 0.6416\n",
            "Epoch 24/100\n",
            "71086/71086 [==============================] - 4s 51us/sample - loss: 0.6371 - accuracy: 0.6567 - val_loss: 0.6515 - val_accuracy: 0.6319\n",
            "Epoch 25/100\n",
            "71086/71086 [==============================] - 4s 53us/sample - loss: 0.6358 - accuracy: 0.6575 - val_loss: 0.6586 - val_accuracy: 0.6323\n",
            "Epoch 26/100\n",
            "71086/71086 [==============================] - 4s 61us/sample - loss: 0.6351 - accuracy: 0.6558 - val_loss: 0.6373 - val_accuracy: 0.6525\n",
            "Epoch 27/100\n",
            "71086/71086 [==============================] - 4s 58us/sample - loss: 0.6352 - accuracy: 0.6577 - val_loss: 0.6392 - val_accuracy: 0.6500\n",
            "Epoch 28/100\n",
            "71086/71086 [==============================] - 4s 57us/sample - loss: 0.6346 - accuracy: 0.6575 - val_loss: 0.6503 - val_accuracy: 0.6330\n",
            "Epoch 29/100\n",
            "71086/71086 [==============================] - 4s 59us/sample - loss: 0.6339 - accuracy: 0.6576 - val_loss: 0.6369 - val_accuracy: 0.6515\n",
            "Epoch 30/100\n",
            "71086/71086 [==============================] - 4s 56us/sample - loss: 0.6336 - accuracy: 0.6571 - val_loss: 0.6356 - val_accuracy: 0.6490\n",
            "Epoch 31/100\n",
            "71086/71086 [==============================] - 4s 55us/sample - loss: 0.6335 - accuracy: 0.6585 - val_loss: 0.6366 - val_accuracy: 0.6495\n",
            "Epoch 32/100\n",
            "71086/71086 [==============================] - 4s 60us/sample - loss: 0.6338 - accuracy: 0.6586 - val_loss: 0.6356 - val_accuracy: 0.6526\n",
            "Epoch 33/100\n",
            "71086/71086 [==============================] - 4s 55us/sample - loss: 0.6332 - accuracy: 0.6589 - val_loss: 0.6352 - val_accuracy: 0.6524\n",
            "Epoch 34/100\n",
            "71086/71086 [==============================] - 4s 53us/sample - loss: 0.6334 - accuracy: 0.6567 - val_loss: 0.6352 - val_accuracy: 0.6525\n",
            "Epoch 35/100\n",
            "71086/71086 [==============================] - 4s 52us/sample - loss: 0.6334 - accuracy: 0.6589 - val_loss: 0.6347 - val_accuracy: 0.6528\n",
            "Epoch 36/100\n",
            "71086/71086 [==============================] - 3s 49us/sample - loss: 0.6333 - accuracy: 0.6571 - val_loss: 0.6350 - val_accuracy: 0.6510\n",
            "Epoch 37/100\n",
            "71086/71086 [==============================] - 4s 50us/sample - loss: 0.6333 - accuracy: 0.6572 - val_loss: 0.6348 - val_accuracy: 0.6509\n",
            "Epoch 38/100\n",
            "71086/71086 [==============================] - 3s 49us/sample - loss: 0.6333 - accuracy: 0.6579 - val_loss: 0.6349 - val_accuracy: 0.6510\n",
            "Epoch 39/100\n",
            "71086/71086 [==============================] - 4s 57us/sample - loss: 0.6332 - accuracy: 0.6574 - val_loss: 0.6346 - val_accuracy: 0.6524\n",
            "Epoch 40/100\n",
            "71086/71086 [==============================] - 4s 52us/sample - loss: 0.6329 - accuracy: 0.6575 - val_loss: 0.6347 - val_accuracy: 0.6528\n",
            "Epoch 41/100\n",
            "71086/71086 [==============================] - 4s 50us/sample - loss: 0.6329 - accuracy: 0.6573 - val_loss: 0.6349 - val_accuracy: 0.6518\n",
            "Epoch 42/100\n",
            "71086/71086 [==============================] - 4s 52us/sample - loss: 0.6326 - accuracy: 0.6585 - val_loss: 0.6345 - val_accuracy: 0.6524\n",
            "Epoch 43/100\n",
            "71086/71086 [==============================] - 4s 50us/sample - loss: 0.6329 - accuracy: 0.6576 - val_loss: 0.6347 - val_accuracy: 0.6518\n",
            "Epoch 44/100\n",
            "71086/71086 [==============================] - 4s 50us/sample - loss: 0.6329 - accuracy: 0.6579 - val_loss: 0.6347 - val_accuracy: 0.6514\n",
            "Epoch 45/100\n",
            "71086/71086 [==============================] - 4s 50us/sample - loss: 0.6330 - accuracy: 0.6580 - val_loss: 0.6347 - val_accuracy: 0.6512\n",
            "Epoch 46/100\n",
            "71086/71086 [==============================] - 4s 50us/sample - loss: 0.6331 - accuracy: 0.6575 - val_loss: 0.6347 - val_accuracy: 0.6511\n",
            "Epoch 47/100\n",
            "71086/71086 [==============================] - 4s 50us/sample - loss: 0.6333 - accuracy: 0.6582 - val_loss: 0.6346 - val_accuracy: 0.6520\n",
            "Epoch 48/100\n",
            "71086/71086 [==============================] - 4s 49us/sample - loss: 0.6327 - accuracy: 0.6585 - val_loss: 0.6347 - val_accuracy: 0.6517\n",
            "Epoch 49/100\n",
            "71086/71086 [==============================] - 4s 52us/sample - loss: 0.6330 - accuracy: 0.6582 - val_loss: 0.6345 - val_accuracy: 0.6523\n",
            "Epoch 50/100\n",
            "71086/71086 [==============================] - 3s 49us/sample - loss: 0.6333 - accuracy: 0.6575 - val_loss: 0.6348 - val_accuracy: 0.6522\n",
            "Epoch 51/100\n",
            "71086/71086 [==============================] - 3s 49us/sample - loss: 0.6324 - accuracy: 0.6591 - val_loss: 0.6346 - val_accuracy: 0.6520\n",
            "Epoch 52/100\n",
            "71086/71086 [==============================] - 3s 49us/sample - loss: 0.6328 - accuracy: 0.6582 - val_loss: 0.6348 - val_accuracy: 0.6514\n",
            "Epoch 53/100\n",
            "71086/71086 [==============================] - 4s 49us/sample - loss: 0.6331 - accuracy: 0.6584 - val_loss: 0.6346 - val_accuracy: 0.6515\n",
            "Epoch 54/100\n",
            "71086/71086 [==============================] - 4s 50us/sample - loss: 0.6331 - accuracy: 0.6581 - val_loss: 0.6347 - val_accuracy: 0.6523\n",
            "Epoch 55/100\n",
            "71086/71086 [==============================] - 3s 49us/sample - loss: 0.6332 - accuracy: 0.6579 - val_loss: 0.6347 - val_accuracy: 0.6521\n",
            "Epoch 56/100\n",
            "71086/71086 [==============================] - 4s 53us/sample - loss: 0.6327 - accuracy: 0.6593 - val_loss: 0.6345 - val_accuracy: 0.6514\n",
            "Epoch 57/100\n",
            "71086/71086 [==============================] - 4s 50us/sample - loss: 0.6325 - accuracy: 0.6578 - val_loss: 0.6347 - val_accuracy: 0.6523\n",
            "Epoch 58/100\n",
            "71086/71086 [==============================] - 3s 49us/sample - loss: 0.6330 - accuracy: 0.6577 - val_loss: 0.6346 - val_accuracy: 0.6521\n",
            "Epoch 59/100\n",
            "71086/71086 [==============================] - 3s 48us/sample - loss: 0.6329 - accuracy: 0.6576 - val_loss: 0.6345 - val_accuracy: 0.6520\n",
            "Epoch 60/100\n",
            "71086/71086 [==============================] - 4s 52us/sample - loss: 0.6331 - accuracy: 0.6571 - val_loss: 0.6344 - val_accuracy: 0.6515\n",
            "Epoch 61/100\n",
            "71086/71086 [==============================] - 4s 50us/sample - loss: 0.6330 - accuracy: 0.6578 - val_loss: 0.6344 - val_accuracy: 0.6518\n",
            "Epoch 62/100\n",
            "71086/71086 [==============================] - 3s 48us/sample - loss: 0.6326 - accuracy: 0.6592 - val_loss: 0.6346 - val_accuracy: 0.6525\n",
            "Epoch 63/100\n",
            "71086/71086 [==============================] - 3s 48us/sample - loss: 0.6326 - accuracy: 0.6579 - val_loss: 0.6346 - val_accuracy: 0.6515\n",
            "Epoch 64/100\n",
            "71086/71086 [==============================] - 3s 48us/sample - loss: 0.6327 - accuracy: 0.6591 - val_loss: 0.6347 - val_accuracy: 0.6519\n",
            "Epoch 65/100\n",
            "71086/71086 [==============================] - 3s 49us/sample - loss: 0.6329 - accuracy: 0.6577 - val_loss: 0.6346 - val_accuracy: 0.6513\n",
            "Epoch 66/100\n",
            "71086/71086 [==============================] - 3s 49us/sample - loss: 0.6330 - accuracy: 0.6581 - val_loss: 0.6345 - val_accuracy: 0.6515\n",
            "Epoch 67/100\n",
            "71086/71086 [==============================] - 3s 48us/sample - loss: 0.6327 - accuracy: 0.6580 - val_loss: 0.6345 - val_accuracy: 0.6515\n",
            "Epoch 68/100\n",
            "71086/71086 [==============================] - 4s 49us/sample - loss: 0.6325 - accuracy: 0.6579 - val_loss: 0.6347 - val_accuracy: 0.6522\n",
            "Epoch 69/100\n",
            "71086/71086 [==============================] - 3s 49us/sample - loss: 0.6332 - accuracy: 0.6597 - val_loss: 0.6345 - val_accuracy: 0.6516\n",
            "Epoch 70/100\n",
            "71086/71086 [==============================] - 3s 48us/sample - loss: 0.6326 - accuracy: 0.6583 - val_loss: 0.6346 - val_accuracy: 0.6523\n",
            "Epoch 71/100\n",
            "70692/71086 [============================>.] - ETA: 0s - loss: 0.6326 - accuracy: 0.6582Restoring model weights from the end of the best epoch.\n",
            "71086/71086 [==============================] - 4s 50us/sample - loss: 0.6326 - accuracy: 0.6581 - val_loss: 0.6347 - val_accuracy: 0.6519\n",
            "Epoch 00071: early stopping\n",
            "WARNING:tensorflow:Falling back from v2 loop because of error: Failed to find data adapter that can handle input: <class 'pandas.core.frame.DataFrame'>, <class 'NoneType'>\n"
          ],
          "name": "stdout"
        },
        {
          "output_type": "stream",
          "text": [
            "WARNING:tensorflow:Falling back from v2 loop because of error: Failed to find data adapter that can handle input: <class 'pandas.core.frame.DataFrame'>, <class 'NoneType'>\n"
          ],
          "name": "stderr"
        },
        {
          "output_type": "stream",
          "text": [
            "Test score: 0.6349330007828706\n",
            "Test accuracy: 0.6556381\n"
          ],
          "name": "stdout"
        }
      ]
    },
    {
      "cell_type": "code",
      "metadata": {
        "id": "8wxNtsNf9JEZ",
        "colab_type": "code",
        "colab": {
          "base_uri": "https://localhost:8080/",
          "height": 34
        },
        "outputId": "47d14ce9-f9ac-4f47-cedd-d99c05893926"
      },
      "source": [
        "history.history.keys()"
      ],
      "execution_count": 11,
      "outputs": [
        {
          "output_type": "execute_result",
          "data": {
            "text/plain": [
              "dict_keys(['loss', 'accuracy', 'val_loss', 'val_accuracy', 'lr'])"
            ]
          },
          "metadata": {
            "tags": []
          },
          "execution_count": 11
        }
      ]
    },
    {
      "cell_type": "code",
      "metadata": {
        "id": "Qzd3WsxNe6K2",
        "colab_type": "code",
        "colab": {
          "base_uri": "https://localhost:8080/",
          "height": 355
        },
        "outputId": "0a599612-e827-4c5a-a6e0-4bde81a13f99"
      },
      "source": [
        "f, a = plt.subplots(1, 2, figsize=(20, 5))\n",
        "\n",
        "# Plot training & validation accuracy values\n",
        "a[0].plot(history.history['accuracy'])\n",
        "a[0].plot(history.history['val_accuracy'])\n",
        "a[0].set_title('Model accuracy')\n",
        "a[0].set_ylabel('Accuracy')\n",
        "a[0].set_xlabel('Epoch')\n",
        "a[0].legend(['Train', 'Test'], loc='upper left')\n",
        "# plt.show()\n",
        "\n",
        "# Plot training & validation loss values\n",
        "a[1].plot(history.history['loss'])\n",
        "a[1].plot(history.history['val_loss'])\n",
        "a[1].set_title('Model loss')\n",
        "a[1].set_ylabel('Loss')\n",
        "a[1].set_xlabel('Epoch')\n",
        "a[1].legend(['Train', 'Test'], loc='upper left')\n",
        "plt.show()"
      ],
      "execution_count": 12,
      "outputs": [
        {
          "output_type": "display_data",
          "data": {
            "image/png": "[encoded data removed]",
            "text/plain": [
              "<Figure size 1440x360 with 2 Axes>"
            ]
          },
          "metadata": {
            "tags": []
          }
        }
      ]
    },
    {
      "cell_type": "code",
      "metadata": {
        "id": "PwiUcorMeVzL",
        "colab_type": "code",
        "colab": {
          "base_uri": "https://localhost:8080/",
          "height": 51
        },
        "outputId": "25f560cf-d092-4e3d-93ac-c96eddda253b"
      },
      "source": [
        "# use our model to predict\n",
        "y_predict_encoded = model_lr.predict(X_test)\n"
      ],
      "execution_count": 13,
      "outputs": [
        {
          "output_type": "stream",
          "text": [
            "WARNING:tensorflow:Falling back from v2 loop because of error: Failed to find data adapter that can handle input: <class 'pandas.core.frame.DataFrame'>, <class 'NoneType'>\n"
          ],
          "name": "stdout"
        },
        {
          "output_type": "stream",
          "text": [
            "WARNING:tensorflow:Falling back from v2 loop because of error: Failed to find data adapter that can handle input: <class 'pandas.core.frame.DataFrame'>, <class 'NoneType'>\n"
          ],
          "name": "stderr"
        }
      ]
    },
    {
      "cell_type": "code",
      "metadata": {
        "id": "aUovPTvV2FLj",
        "colab_type": "code",
        "colab": {
          "base_uri": "https://localhost:8080/",
          "height": 357
        },
        "outputId": "a65c8c7e-e60b-4a48-a1cc-97917eb54a2d"
      },
      "source": [
        "y_predict_encoded[:20]"
      ],
      "execution_count": 14,
      "outputs": [
        {
          "output_type": "execute_result",
          "data": {
            "text/plain": [
              "array([[0.28719345, 0.7128065 ],\n",
              "       [0.32500425, 0.6749957 ],\n",
              "       [0.71521324, 0.28478673],\n",
              "       [0.24844684, 0.7515532 ],\n",
              "       [0.6575711 , 0.3424289 ],\n",
              "       [0.23907134, 0.76092863],\n",
              "       [0.5218361 , 0.47816387],\n",
              "       [0.5465313 , 0.45346868],\n",
              "       [0.35315096, 0.6468491 ],\n",
              "       [0.36309168, 0.63690835],\n",
              "       [0.3536161 , 0.6463839 ],\n",
              "       [0.85593796, 0.144062  ],\n",
              "       [0.892762  , 0.10723797],\n",
              "       [0.5924863 , 0.40751368],\n",
              "       [0.44061962, 0.55938035],\n",
              "       [0.6949933 , 0.30500674],\n",
              "       [0.40073732, 0.5992627 ],\n",
              "       [0.46658254, 0.53341746],\n",
              "       [0.6095119 , 0.3904881 ],\n",
              "       [0.25384033, 0.74615973]], dtype=float32)"
            ]
          },
          "metadata": {
            "tags": []
          },
          "execution_count": 14
        }
      ]
    },
    {
      "cell_type": "code",
      "metadata": {
        "id": "XUiTZZpi4Ald",
        "colab_type": "code",
        "colab": {
          "base_uri": "https://localhost:8080/",
          "height": 34
        },
        "outputId": "657e4f6d-5018-4ff0-dd69-ecc819f87485"
      },
      "source": [
        "y_predict = [row.idxmax() for index, row in pd.DataFrame(y_predict_encoded).iterrows()]\n",
        "y_predict[:20]"
      ],
      "execution_count": 15,
      "outputs": [
        {
          "output_type": "execute_result",
          "data": {
            "text/plain": [
              "[1, 1, 0, 1, 0, 1, 0, 0, 1, 1, 1, 0, 0, 0, 1, 0, 1, 1, 0, 1]"
            ]
          },
          "metadata": {
            "tags": []
          },
          "execution_count": 15
        }
      ]
    },
    {
      "cell_type": "code",
      "metadata": {
        "id": "QH4bAbT3vbl7",
        "colab_type": "code",
        "colab": {}
      },
      "source": [
        ""
      ],
      "execution_count": 0,
      "outputs": []
    },
    {
      "cell_type": "code",
      "metadata": {
        "id": "EVDcfQh0PqdN",
        "colab_type": "code",
        "colab": {}
      },
      "source": [
        "\n",
        "mw = mu.ModelWrapper(model_lr, MODEL_NAME, FEATURE_FILE, START_YEAR, END_YEAR, \n",
        "                  X_train = X_train, \n",
        "                  y_train = label_encoder.inverse_transform(y_train_encoded), \n",
        "                  X_test = X_test, y_test = y_test, model_name = MODEL_NAME)\n",
        "mw.y_predict = y_predict"
      ],
      "execution_count": 0,
      "outputs": []
    },
    {
      "cell_type": "code",
      "metadata": {
        "id": "JB0Ir21ZSKXg",
        "colab_type": "code",
        "colab": {
          "base_uri": "https://localhost:8080/",
          "height": 546
        },
        "outputId": "58f0fbcd-997d-4e8d-e1e1-a8d107c485bd"
      },
      "source": [
        "mw.analyze()"
      ],
      "execution_count": 17,
      "outputs": [
        {
          "output_type": "stream",
          "text": [
            "INFO:numexpr.utils:NumExpr defaulting to 4 threads.\n"
          ],
          "name": "stderr"
        },
        {
          "output_type": "stream",
          "text": [
            "Model Score: 0.6556380823767725\n",
            "\n",
            "ROC/AUC Score: 0.6557052038170413\n",
            "              precision    recall  f1-score   support\n",
            "\n",
            "        Loss       0.65      0.66      0.66     14690\n",
            "         Win       0.66      0.65      0.65     14930\n",
            "\n",
            "    accuracy                           0.66     29620\n",
            "   macro avg       0.66      0.66      0.66     29620\n",
            "weighted avg       0.66      0.66      0.66     29620\n",
            "\n",
            "      Loss   Win\n",
            "Loss  9754  4936\n",
            "Win   5264  9666\n"
          ],
          "name": "stdout"
        },
        {
          "output_type": "display_data",
          "data": {
            "image/png": "[encoded data removed]",
            "text/plain": [
              "<Figure size 432x288 with 2 Axes>"
            ]
          },
          "metadata": {
            "tags": []
          }
        }
      ]
    },
    {
      "cell_type": "code",
      "metadata": {
        "id": "xejzcGQjSP30",
        "colab_type": "code",
        "colab": {
          "base_uri": "https://localhost:8080/",
          "height": 51
        },
        "outputId": "38b1f584-3cd9-492b-9c6c-c66b418b45d1"
      },
      "source": [
        "mw.save(save_model = False)"
      ],
      "execution_count": 18,
      "outputs": [
        {
          "output_type": "stream",
          "text": [
            "INFO:util.model_util:Reading report: drive/My Drive/Springboard/capstone2/reports/summary.csv\n"
          ],
          "name": "stderr"
        },
        {
          "output_type": "stream",
          "text": [
            "Saving report: drive/My Drive/Springboard/capstone2/reports/summary.csv\n"
          ],
          "name": "stdout"
        }
      ]
    },
    {
      "cell_type": "code",
      "metadata": {
        "id": "pKhNh63iSQwR",
        "colab_type": "code",
        "colab": {
          "base_uri": "https://localhost:8080/",
          "height": 34
        },
        "outputId": "4a99460e-ca66-4f9b-e04e-bc0c18064b18"
      },
      "source": [
        "print(f'Last Finished: {datetime.now().strftime(\"%Y-%m-%d %H:%M\")}')"
      ],
      "execution_count": 19,
      "outputs": [
        {
          "output_type": "stream",
          "text": [
            "Last Finished: 2019-11-01 23:54\n"
          ],
          "name": "stdout"
        }
      ]
    },
    {
      "cell_type": "code",
      "metadata": {
        "id": "3Ezpq4BlUaZr",
        "colab_type": "code",
        "colab": {}
      },
      "source": [
        ""
      ],
      "execution_count": 0,
      "outputs": []
    }
  ]
}