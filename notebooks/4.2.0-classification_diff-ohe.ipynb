{
 "cells": [
  {
   "cell_type": "markdown",
   "metadata": {},
   "source": [
    "# ATP Tennis Data - Player Diff Stats + One Hot Encoding (All Categorical Data)\n",
    "\n",
    "\n",
    "In our previous notebook, we saw that using raw player data gave us the best accuracy in Gradient Boosting. When we used diff data, we actually saw a performance decrease in our models.\n",
    "\n",
    "The following columns were created:\n",
    "\n",
    "* p1_ht_diff\n",
    "* p1_rank_diff\n",
    "* p1_seed_diff\n",
    "* p1_age_diff\n",
    "\n",
    "I'm hoping that by establishing relationships between features, this will provide our models with more information to better predict results\n",
    "\n",
    "\n",
    "### Best results using raw player data\n",
    "\n",
    "```\n",
    "Model Score: 0.6833220796758946\n",
    "\n",
    "ROC/AUC Score: 0.6833051847604916\n",
    "              precision    recall  f1-score   support\n",
    "\n",
    "        Loss       0.68      0.68      0.68      7381\n",
    "         Win       0.68      0.69      0.69      7429\n",
    "\n",
    "    accuracy                           0.68     14810\n",
    "   macro avg       0.68      0.68      0.68     14810\n",
    "weighted avg       0.68      0.68      0.68     14810\n",
    "```\n",
    "\n",
    "# Summary of Results\n",
    "\n",
    "Add diff data actually brought down accuracy for most of our model, except for Logistic Regression. \n",
    "\n",
    "```\n",
    "Model Score: 0.6602970965563808\n",
    "\n",
    "ROC/AUC Score: 0.6603173821876497\n",
    "              precision    recall  f1-score   support\n",
    "\n",
    "        Loss       0.66      0.67      0.66      7381\n",
    "         Win       0.66      0.65      0.66      7429\n",
    "\n",
    "    accuracy                           0.66     14810\n",
    "   macro avg       0.66      0.66      0.66     14810\n",
    "weighted avg       0.66      0.66      0.66     14810\n",
    "```\n",
    "\n"
   ]
  },
  {
   "cell_type": "code",
   "execution_count": 1,
   "metadata": {},
   "outputs": [],
   "source": [
    "import pandas as pd\n",
    "import numpy as np\n",
    "import matplotlib.pyplot as plt\n",
    "import seaborn as sns\n",
    "from sklearn.neighbors import KNeighborsClassifier\n",
    "from sklearn.tree import DecisionTreeClassifier\n",
    "from sklearn.model_selection import train_test_split\n",
    "from sklearn.linear_model import LogisticRegression\n",
    "from sklearn.metrics import classification_report, confusion_matrix\n",
    "from sklearn.ensemble import RandomForestClassifier, GradientBoostingClassifier, AdaBoostClassifier\n",
    "from sklearn.decomposition import PCA\n",
    "from datetime import datetime\n",
    "import pickle\n",
    "import json\n",
    "import os\n",
    "import sys\n",
    "module_path = os.path.abspath(os.path.join('..'))\n",
    "if module_path not in sys.path:\n",
    "    sys.path.append(module_path)\n",
    "\n",
    "from util import jupyter_util as ju\n",
    "from util.model_util import ModelWrapper, RSTATE, N_JOBS, MAX_ITER, LABEL_COL\n",
    "\n",
    "%matplotlib inline\n",
    "sns.set()\n",
    "\n",
    "\n",
    "# date\n",
    "DATE_FORMAT = '%Y-%m-%d'\n",
    "DATE = datetime.now().strftime(DATE_FORMAT)\n",
    "\n",
    "DESCRIPTION = \"diff-ohe\"\n",
    "\n",
    "# sometimes I run these notebooks via command line. Environment variable is set so we know whether we are in DEBUG mode or not\n",
    "# if you want to manually run this in DEBUG mode, change default value to True\n",
    "DEBUG = bool(os.environ.get(\"IPYNB_DEBUG\", False))\n",
    "\n",
    "if DEBUG:\n",
    "    ModelWrapper.REPORT_FILE = '../reports/summary-test.csv'\n",
    "    FEATURE_FILE = f'../datasets/atp_matches_1985-2019_features_test-{DESCRIPTION}.csv'\n",
    "    DESCRIPTION = f\"{DESCRIPTION}-test\"\n",
    "else:\n",
    "    # update this\n",
    "    FEATURE_FILE = f'../datasets/atp_matches_1985-2019_features-{DESCRIPTION}.csv'\n",
    "\n",
    "START_YEAR = 1998\n",
    "END_YEAR = 2018\n",
    "\n",
    "\n"
   ]
  },
  {
   "cell_type": "code",
   "execution_count": 2,
   "metadata": {},
   "outputs": [],
   "source": [
    "X_train, X_test, y_train, y_test = ju.get_data(FEATURE_FILE, LABEL_COL, START_YEAR, END_YEAR)"
   ]
  },
  {
   "cell_type": "code",
   "execution_count": 3,
   "metadata": {},
   "outputs": [
    {
     "data": {
      "text/plain": [
       "Index(['draw_size', 'round_label', 'tourney_level_label', 'tourney_month',\n",
       "       'tourney_year', 'age_diff', 'ht_diff', 'seed_diff', 'rank_diff',\n",
       "       'p1_hand_l',\n",
       "       ...\n",
       "       'p2_200436', 'p2_200484', 'p2_200514', 'p2_200611', 'p2_200615',\n",
       "       'p2_202130', 'p2_202358', 'p2_202385', 'best_of_3', 'best_of_5'],\n",
       "      dtype='object', length=742)"
      ]
     },
     "execution_count": 3,
     "metadata": {},
     "output_type": "execute_result"
    }
   ],
   "source": [
    "X_test.columns"
   ]
  },
  {
   "cell_type": "markdown",
   "metadata": {},
   "source": [
    "# Logistic Regression"
   ]
  },
  {
   "cell_type": "code",
   "execution_count": 4,
   "metadata": {},
   "outputs": [
    {
     "name": "stdout",
     "output_type": "stream",
     "text": [
      "[LibLinear]"
     ]
    },
    {
     "name": "stderr",
     "output_type": "stream",
     "text": [
      "/Users/vinceluk/anaconda3/envs/capstone2/lib/python3.7/site-packages/sklearn/linear_model/logistic.py:432: FutureWarning: Default solver will be changed to 'lbfgs' in 0.22. Specify a solver to silence this warning.\n",
      "  FutureWarning)\n",
      "/Users/vinceluk/anaconda3/envs/capstone2/lib/python3.7/site-packages/sklearn/linear_model/logistic.py:1544: UserWarning: 'n_jobs' > 1 does not have any effect when 'solver' is set to 'liblinear'. Got 'n_jobs' = 4.\n",
      "  \" = {}.\".format(effective_n_jobs(self.n_jobs)))\n"
     ]
    }
   ],
   "source": [
    "\n",
    "# train our model\n",
    "\n",
    "lr = ModelWrapper(LogisticRegression(n_jobs = N_JOBS, verbose = 1, random_state = RSTATE),\n",
    "                  description = DESCRIPTION, \n",
    "                 data_file = FEATURE_FILE,\n",
    "                  start_year = START_YEAR,\n",
    "                  end_year = END_YEAR,\n",
    "                   X_train = X_train,\n",
    "                   y_train = y_train,\n",
    "                   X_test = X_test,\n",
    "                   y_test = y_test).fit()\n",
    "y_predict_lr = lr.predict()"
   ]
  },
  {
   "cell_type": "code",
   "execution_count": 5,
   "metadata": {},
   "outputs": [
    {
     "name": "stdout",
     "output_type": "stream",
     "text": [
      "Model Score: 0.6201232032854209\n",
      "\n",
      "ROC/AUC Score: 0.6217104151886761\n",
      "              precision    recall  f1-score   support\n",
      "\n",
      "        Loss       0.59      0.66      0.63       234\n",
      "         Win       0.65      0.58      0.61       253\n",
      "\n",
      "    accuracy                           0.62       487\n",
      "   macro avg       0.62      0.62      0.62       487\n",
      "weighted avg       0.62      0.62      0.62       487\n",
      "\n",
      "      Loss  Win\n",
      "Loss   155   79\n",
      "Win    106  147\n"
     ]
    },
    {
     "data": {
      "image/png": "[encoded data removed]",
      "text/plain": [
       "<Figure size 432x288 with 2 Axes>"
      ]
     },
     "metadata": {
      "needs_background": "light"
     },
     "output_type": "display_data"
    }
   ],
   "source": [
    "lr.analyze()"
   ]
  },
  {
   "cell_type": "code",
   "execution_count": 6,
   "metadata": {},
   "outputs": [],
   "source": [
    "# ju.plot_2d(X_test, y_predict_lr)"
   ]
  },
  {
   "cell_type": "code",
   "execution_count": 7,
   "metadata": {},
   "outputs": [
    {
     "name": "stdout",
     "output_type": "stream",
     "text": [
      "Saving report: ../reports/summary-test.csv\n"
     ]
    }
   ],
   "source": [
    "lr.save()"
   ]
  },
  {
   "cell_type": "markdown",
   "metadata": {},
   "source": [
    "# KNN"
   ]
  },
  {
   "cell_type": "code",
   "execution_count": 8,
   "metadata": {},
   "outputs": [],
   "source": [
    "\n",
    "# train our model\n",
    "\n",
    "knn = ModelWrapper(KNeighborsClassifier(n_jobs = N_JOBS),\n",
    "                  description = DESCRIPTION, \n",
    "                 data_file = FEATURE_FILE,\n",
    "                  start_year = START_YEAR,\n",
    "                  end_year = END_YEAR,\n",
    "                   X_train = X_train,\n",
    "                   y_train = y_train,\n",
    "                   X_test = X_test,\n",
    "                   y_test = y_test).fit()\n",
    "y_predict_knn = knn.predict()"
   ]
  },
  {
   "cell_type": "code",
   "execution_count": 9,
   "metadata": {},
   "outputs": [
    {
     "name": "stdout",
     "output_type": "stream",
     "text": [
      "Model Score: 0.5893223819301848\n",
      "\n",
      "ROC/AUC Score: 0.5893381980338502\n",
      "              precision    recall  f1-score   support\n",
      "\n",
      "        Loss       0.57      0.59      0.58       234\n",
      "         Win       0.61      0.59      0.60       253\n",
      "\n",
      "    accuracy                           0.59       487\n",
      "   macro avg       0.59      0.59      0.59       487\n",
      "weighted avg       0.59      0.59      0.59       487\n",
      "\n",
      "      Loss  Win\n",
      "Loss   138   96\n",
      "Win    104  149\n"
     ]
    },
    {
     "data": {
      "image/png": "[encoded data removed]",
      "text/plain": [
       "<Figure size 432x288 with 2 Axes>"
      ]
     },
     "metadata": {
      "needs_background": "light"
     },
     "output_type": "display_data"
    }
   ],
   "source": [
    "knn.analyze()"
   ]
  },
  {
   "cell_type": "code",
   "execution_count": 10,
   "metadata": {},
   "outputs": [],
   "source": [
    "# ju.plot_2d(X_test, y_predict_knn)"
   ]
  },
  {
   "cell_type": "code",
   "execution_count": 11,
   "metadata": {},
   "outputs": [
    {
     "name": "stdout",
     "output_type": "stream",
     "text": [
      "Saving report: ../reports/summary-test.csv\n"
     ]
    }
   ],
   "source": [
    "knn.save()"
   ]
  },
  {
   "cell_type": "markdown",
   "metadata": {},
   "source": [
    "# Decision Tree"
   ]
  },
  {
   "cell_type": "code",
   "execution_count": 12,
   "metadata": {},
   "outputs": [],
   "source": [
    "\n",
    "# train our model\n",
    "\n",
    "dt = ModelWrapper(DecisionTreeClassifier(random_state = RSTATE),\n",
    "                  description = DESCRIPTION, \n",
    "                 data_file = FEATURE_FILE,\n",
    "                  start_year = START_YEAR,\n",
    "                  end_year = END_YEAR,\n",
    "                   X_train = X_train,\n",
    "                   y_train = y_train,\n",
    "                   X_test = X_test,\n",
    "                   y_test = y_test).fit()\n",
    "y_predict_dt = dt.predict()"
   ]
  },
  {
   "cell_type": "code",
   "execution_count": 13,
   "metadata": {},
   "outputs": [
    {
     "name": "stdout",
     "output_type": "stream",
     "text": [
      "Model Score: 0.5995893223819302\n",
      "\n",
      "ROC/AUC Score: 0.600021958717611\n",
      "              precision    recall  f1-score   support\n",
      "\n",
      "        Loss       0.58      0.61      0.59       234\n",
      "         Win       0.62      0.59      0.60       253\n",
      "\n",
      "    accuracy                           0.60       487\n",
      "   macro avg       0.60      0.60      0.60       487\n",
      "weighted avg       0.60      0.60      0.60       487\n",
      "\n",
      "      Loss  Win\n",
      "Loss   143   91\n",
      "Win    104  149\n"
     ]
    },
    {
     "data": {
      "image/png": "[encoded data removed]",
      "text/plain": [
       "<Figure size 432x288 with 2 Axes>"
      ]
     },
     "metadata": {
      "needs_background": "light"
     },
     "output_type": "display_data"
    }
   ],
   "source": [
    "dt.analyze()"
   ]
  },
  {
   "cell_type": "code",
   "execution_count": 14,
   "metadata": {},
   "outputs": [],
   "source": [
    "# ju.plot_2d(X_test, y_predict_dt)"
   ]
  },
  {
   "cell_type": "code",
   "execution_count": 15,
   "metadata": {},
   "outputs": [
    {
     "name": "stdout",
     "output_type": "stream",
     "text": [
      "Saving report: ../reports/summary-test.csv\n"
     ]
    }
   ],
   "source": [
    "dt.save()"
   ]
  },
  {
   "cell_type": "markdown",
   "metadata": {},
   "source": [
    "# Random Forest Classifier"
   ]
  },
  {
   "cell_type": "code",
   "execution_count": 16,
   "metadata": {},
   "outputs": [
    {
     "name": "stderr",
     "output_type": "stream",
     "text": [
      "/Users/vinceluk/anaconda3/envs/capstone2/lib/python3.7/site-packages/sklearn/ensemble/forest.py:245: FutureWarning: The default value of n_estimators will change from 10 in version 0.20 to 100 in 0.22.\n",
      "  \"10 in version 0.20 to 100 in 0.22.\", FutureWarning)\n",
      "[Parallel(n_jobs=1)]: Using backend SequentialBackend with 1 concurrent workers.\n",
      "[Parallel(n_jobs=1)]: Done  10 out of  10 | elapsed:    0.0s finished\n",
      "[Parallel(n_jobs=1)]: Using backend SequentialBackend with 1 concurrent workers.\n",
      "[Parallel(n_jobs=1)]: Done  10 out of  10 | elapsed:    0.0s finished\n"
     ]
    }
   ],
   "source": [
    "\n",
    "# train our model\n",
    "\n",
    "rf = ModelWrapper(RandomForestClassifier(random_state=RSTATE, verbose=1),\n",
    "                  description = DESCRIPTION, \n",
    "                 data_file = FEATURE_FILE,\n",
    "                  start_year = START_YEAR,\n",
    "                  end_year = END_YEAR,\n",
    "                   X_train = X_train,\n",
    "                   y_train = y_train,\n",
    "                   X_test = X_test,\n",
    "                   y_test = y_test).fit()\n",
    "y_predict_rf = rf.predict()"
   ]
  },
  {
   "cell_type": "code",
   "execution_count": 17,
   "metadata": {},
   "outputs": [
    {
     "name": "stdout",
     "output_type": "stream",
     "text": [
      "Model Score: 0.5564681724845996\n",
      "\n",
      "ROC/AUC Score: 0.5610874632613764\n",
      "              precision    recall  f1-score   support\n",
      "\n",
      "        Loss       0.53      0.68      0.60       234\n",
      "         Win       0.60      0.44      0.51       253\n",
      "\n",
      "    accuracy                           0.56       487\n",
      "   macro avg       0.56      0.56      0.55       487\n",
      "weighted avg       0.57      0.56      0.55       487\n",
      "\n",
      "      Loss  Win\n",
      "Loss   159   75\n",
      "Win    141  112\n"
     ]
    },
    {
     "data": {
      "image/png": "[encoded data removed]",
      "text/plain": [
       "<Figure size 432x288 with 2 Axes>"
      ]
     },
     "metadata": {
      "needs_background": "light"
     },
     "output_type": "display_data"
    }
   ],
   "source": [
    "rf.analyze()"
   ]
  },
  {
   "cell_type": "code",
   "execution_count": 18,
   "metadata": {},
   "outputs": [],
   "source": [
    "# ju.plot_2d(X_test, y_predict_rf)"
   ]
  },
  {
   "cell_type": "code",
   "execution_count": 19,
   "metadata": {},
   "outputs": [
    {
     "name": "stdout",
     "output_type": "stream",
     "text": [
      "Saving report: ../reports/summary-test.csv\n"
     ]
    }
   ],
   "source": [
    "rf.save()"
   ]
  },
  {
   "cell_type": "markdown",
   "metadata": {},
   "source": [
    "# Gradient Boosting"
   ]
  },
  {
   "cell_type": "code",
   "execution_count": 20,
   "metadata": {},
   "outputs": [
    {
     "name": "stdout",
     "output_type": "stream",
     "text": [
      "      Iter       Train Loss   Remaining Time \n",
      "         1           1.3572            1.67s\n",
      "         2           1.3357            1.74s\n",
      "         3           1.3171            1.79s\n",
      "         4           1.3018            1.81s\n",
      "         5           1.2885            1.81s\n",
      "         6           1.2766            1.79s\n",
      "         7           1.2667            1.74s\n",
      "         8           1.2566            1.72s\n",
      "         9           1.2484            1.74s\n",
      "        10           1.2413            1.74s\n"
     ]
    }
   ],
   "source": [
    "\n",
    "# train our model\n",
    "\n",
    "gb = ModelWrapper(GradientBoostingClassifier(random_state=RSTATE, verbose=1, n_iter_no_change = 4),\n",
    "                  description = DESCRIPTION, \n",
    "                 data_file = FEATURE_FILE,\n",
    "                  start_year = START_YEAR,\n",
    "                  end_year = END_YEAR,\n",
    "                   X_train = X_train,\n",
    "                   y_train = y_train,\n",
    "                   X_test = X_test,\n",
    "                   y_test = y_test).fit()\n",
    "y_predict_gb = gb.predict()"
   ]
  },
  {
   "cell_type": "code",
   "execution_count": 21,
   "metadata": {},
   "outputs": [
    {
     "name": "stdout",
     "output_type": "stream",
     "text": [
      "Model Score: 0.6098562628336756\n",
      "\n",
      "ROC/AUC Score: 0.608459173676565\n",
      "              precision    recall  f1-score   support\n",
      "\n",
      "        Loss       0.60      0.57      0.59       234\n",
      "         Win       0.62      0.64      0.63       253\n",
      "\n",
      "    accuracy                           0.61       487\n",
      "   macro avg       0.61      0.61      0.61       487\n",
      "weighted avg       0.61      0.61      0.61       487\n",
      "\n",
      "      Loss  Win\n",
      "Loss   134  100\n",
      "Win     90  163\n"
     ]
    },
    {
     "data": {
      "image/png": "[encoded data removed]",
      "text/plain": [
       "<Figure size 432x288 with 2 Axes>"
      ]
     },
     "metadata": {
      "needs_background": "light"
     },
     "output_type": "display_data"
    }
   ],
   "source": [
    "gb.analyze()"
   ]
  },
  {
   "cell_type": "code",
   "execution_count": 22,
   "metadata": {},
   "outputs": [],
   "source": [
    "# ju.plot_2d(X_test, y_predict_gb)"
   ]
  },
  {
   "cell_type": "code",
   "execution_count": 23,
   "metadata": {},
   "outputs": [
    {
     "name": "stdout",
     "output_type": "stream",
     "text": [
      "Saving report: ../reports/summary-test.csv\n"
     ]
    }
   ],
   "source": [
    "gb.save()"
   ]
  },
  {
   "cell_type": "markdown",
   "metadata": {},
   "source": [
    "# AdaBoost"
   ]
  },
  {
   "cell_type": "code",
   "execution_count": 24,
   "metadata": {},
   "outputs": [],
   "source": [
    "ab = ModelWrapper(AdaBoostClassifier(random_state=RSTATE),\n",
    "                  description = DESCRIPTION, \n",
    "                 data_file = FEATURE_FILE,\n",
    "                  start_year = START_YEAR,\n",
    "                  end_year = END_YEAR,\n",
    "                   X_train = X_train,\n",
    "                   y_train = y_train,\n",
    "                   X_test = X_test,\n",
    "                   y_test = y_test).fit()\n",
    "y_predict_ab = ab.predict()"
   ]
  },
  {
   "cell_type": "code",
   "execution_count": 25,
   "metadata": {},
   "outputs": [
    {
     "name": "stdout",
     "output_type": "stream",
     "text": [
      "Model Score: 0.6057494866529775\n",
      "\n",
      "ROC/AUC Score: 0.6064322151278674\n",
      "              precision    recall  f1-score   support\n",
      "\n",
      "        Loss       0.58      0.62      0.60       234\n",
      "         Win       0.63      0.59      0.61       253\n",
      "\n",
      "    accuracy                           0.61       487\n",
      "   macro avg       0.61      0.61      0.61       487\n",
      "weighted avg       0.61      0.61      0.61       487\n",
      "\n",
      "      Loss  Win\n",
      "Loss   146   88\n",
      "Win    104  149\n"
     ]
    },
    {
     "data": {
      "image/png": "[encoded data removed]",
      "text/plain": [
       "<Figure size 432x288 with 2 Axes>"
      ]
     },
     "metadata": {
      "needs_background": "light"
     },
     "output_type": "display_data"
    }
   ],
   "source": [
    "ab.analyze()"
   ]
  },
  {
   "cell_type": "code",
   "execution_count": 26,
   "metadata": {},
   "outputs": [],
   "source": [
    "# ju.plot_2d(X_test, y_predict_ab)"
   ]
  },
  {
   "cell_type": "code",
   "execution_count": 27,
   "metadata": {},
   "outputs": [
    {
     "name": "stdout",
     "output_type": "stream",
     "text": [
      "Saving report: ../reports/summary-test.csv\n"
     ]
    }
   ],
   "source": [
    "ab.save()"
   ]
  },
  {
   "cell_type": "markdown",
   "metadata": {},
   "source": [
    "# Results\n",
    "\n",
    "* Decision Tree is still our best model\n",
    "* no significant improvement for Adaboost\n",
    "* We did see significant improvement for KNN when we used this dataset\n",
    "* Gradient Boosting, Logistic Regression, Random Forest all did worse with this dataset"
   ]
  },
  {
   "cell_type": "code",
   "execution_count": 28,
   "metadata": {},
   "outputs": [
    {
     "data": {
      "text/html": [
       "<div>\n",
       "<style scoped>\n",
       "    .dataframe tbody tr th:only-of-type {\n",
       "        vertical-align: middle;\n",
       "    }\n",
       "\n",
       "    .dataframe tbody tr th {\n",
       "        vertical-align: top;\n",
       "    }\n",
       "\n",
       "    .dataframe thead th {\n",
       "        text-align: right;\n",
       "    }\n",
       "</style>\n",
       "<table border=\"1\" class=\"dataframe\">\n",
       "  <thead>\n",
       "    <tr style=\"text-align: right;\">\n",
       "      <th></th>\n",
       "      <th>model_name</th>\n",
       "      <th>description</th>\n",
       "      <th>data_file</th>\n",
       "      <th>start_year</th>\n",
       "      <th>end_year</th>\n",
       "      <th>accuracy</th>\n",
       "      <th>roc_auc_score</th>\n",
       "      <th>confusion_matrix</th>\n",
       "      <th>classification_report</th>\n",
       "      <th>model_file</th>\n",
       "      <th>predict_time_min</th>\n",
       "      <th>fit_time_min</th>\n",
       "      <th>total_time_min</th>\n",
       "      <th>data_filter_file</th>\n",
       "    </tr>\n",
       "  </thead>\n",
       "  <tbody>\n",
       "    <tr>\n",
       "      <th>7</th>\n",
       "      <td>KNeighborsClassifier</td>\n",
       "      <td>diff-ohe-test</td>\n",
       "      <td>../datasets/atp_matches_1985-2019_features_tes...</td>\n",
       "      <td>1998</td>\n",
       "      <td>2018</td>\n",
       "      <td>0.589322</td>\n",
       "      <td>0.589338</td>\n",
       "      <td>{\"0\": {\"0\": 138, \"1\": 104}, \"1\": {\"0\": 96, \"1\"...</td>\n",
       "      <td>{\"Loss\": {\"precision\": 0.5702479338842975, \"re...</td>\n",
       "      <td>../models/kneighborsclassifier-1998-2018-diff-...</td>\n",
       "      <td>0.0</td>\n",
       "      <td>0.0</td>\n",
       "      <td>0.0</td>\n",
       "      <td>NaN</td>\n",
       "    </tr>\n",
       "    <tr>\n",
       "      <th>8</th>\n",
       "      <td>DecisionTreeClassifier</td>\n",
       "      <td>diff-ohe-test</td>\n",
       "      <td>../datasets/atp_matches_1985-2019_features_tes...</td>\n",
       "      <td>1998</td>\n",
       "      <td>2018</td>\n",
       "      <td>0.599589</td>\n",
       "      <td>0.600022</td>\n",
       "      <td>{\"0\": {\"0\": 143, \"1\": 104}, \"1\": {\"0\": 91, \"1\"...</td>\n",
       "      <td>{\"Loss\": {\"precision\": 0.5789473684210527, \"re...</td>\n",
       "      <td>../models/decisiontreeclassifier-1998-2018-dif...</td>\n",
       "      <td>0.0</td>\n",
       "      <td>0.0</td>\n",
       "      <td>0.0</td>\n",
       "      <td>NaN</td>\n",
       "    </tr>\n",
       "    <tr>\n",
       "      <th>9</th>\n",
       "      <td>RandomForestClassifier</td>\n",
       "      <td>diff-ohe-test</td>\n",
       "      <td>../datasets/atp_matches_1985-2019_features_tes...</td>\n",
       "      <td>1998</td>\n",
       "      <td>2018</td>\n",
       "      <td>0.556468</td>\n",
       "      <td>0.561087</td>\n",
       "      <td>{\"0\": {\"0\": 159, \"1\": 141}, \"1\": {\"0\": 75, \"1\"...</td>\n",
       "      <td>{\"Loss\": {\"precision\": 0.53, \"recall\": 0.67948...</td>\n",
       "      <td>../models/randomforestclassifier-1998-2018-dif...</td>\n",
       "      <td>0.0</td>\n",
       "      <td>0.0</td>\n",
       "      <td>0.0</td>\n",
       "      <td>NaN</td>\n",
       "    </tr>\n",
       "    <tr>\n",
       "      <th>10</th>\n",
       "      <td>GradientBoostingClassifier</td>\n",
       "      <td>diff-ohe-test</td>\n",
       "      <td>../datasets/atp_matches_1985-2019_features_tes...</td>\n",
       "      <td>1998</td>\n",
       "      <td>2018</td>\n",
       "      <td>0.609856</td>\n",
       "      <td>0.608459</td>\n",
       "      <td>{\"0\": {\"0\": 134, \"1\": 90}, \"1\": {\"0\": 100, \"1\"...</td>\n",
       "      <td>{\"Loss\": {\"precision\": 0.5982142857142857, \"re...</td>\n",
       "      <td>../models/gradientboostingclassifier-1998-2018...</td>\n",
       "      <td>0.0</td>\n",
       "      <td>0.0</td>\n",
       "      <td>0.0</td>\n",
       "      <td>NaN</td>\n",
       "    </tr>\n",
       "    <tr>\n",
       "      <th>11</th>\n",
       "      <td>AdaBoostClassifier</td>\n",
       "      <td>diff-ohe-test</td>\n",
       "      <td>../datasets/atp_matches_1985-2019_features_tes...</td>\n",
       "      <td>1998</td>\n",
       "      <td>2018</td>\n",
       "      <td>0.605749</td>\n",
       "      <td>0.606432</td>\n",
       "      <td>{\"0\": {\"0\": 146, \"1\": 104}, \"1\": {\"0\": 88, \"1\"...</td>\n",
       "      <td>{\"Loss\": {\"precision\": 0.584, \"recall\": 0.6239...</td>\n",
       "      <td>../models/adaboostclassifier-1998-2018-diff-oh...</td>\n",
       "      <td>0.0</td>\n",
       "      <td>0.0</td>\n",
       "      <td>0.0</td>\n",
       "      <td>NaN</td>\n",
       "    </tr>\n",
       "  </tbody>\n",
       "</table>\n",
       "</div>"
      ],
      "text/plain": [
       "                    model_name    description  \\\n",
       "7         KNeighborsClassifier  diff-ohe-test   \n",
       "8       DecisionTreeClassifier  diff-ohe-test   \n",
       "9       RandomForestClassifier  diff-ohe-test   \n",
       "10  GradientBoostingClassifier  diff-ohe-test   \n",
       "11          AdaBoostClassifier  diff-ohe-test   \n",
       "\n",
       "                                            data_file  start_year  end_year  \\\n",
       "7   ../datasets/atp_matches_1985-2019_features_tes...        1998      2018   \n",
       "8   ../datasets/atp_matches_1985-2019_features_tes...        1998      2018   \n",
       "9   ../datasets/atp_matches_1985-2019_features_tes...        1998      2018   \n",
       "10  ../datasets/atp_matches_1985-2019_features_tes...        1998      2018   \n",
       "11  ../datasets/atp_matches_1985-2019_features_tes...        1998      2018   \n",
       "\n",
       "    accuracy  roc_auc_score  \\\n",
       "7   0.589322       0.589338   \n",
       "8   0.599589       0.600022   \n",
       "9   0.556468       0.561087   \n",
       "10  0.609856       0.608459   \n",
       "11  0.605749       0.606432   \n",
       "\n",
       "                                     confusion_matrix  \\\n",
       "7   {\"0\": {\"0\": 138, \"1\": 104}, \"1\": {\"0\": 96, \"1\"...   \n",
       "8   {\"0\": {\"0\": 143, \"1\": 104}, \"1\": {\"0\": 91, \"1\"...   \n",
       "9   {\"0\": {\"0\": 159, \"1\": 141}, \"1\": {\"0\": 75, \"1\"...   \n",
       "10  {\"0\": {\"0\": 134, \"1\": 90}, \"1\": {\"0\": 100, \"1\"...   \n",
       "11  {\"0\": {\"0\": 146, \"1\": 104}, \"1\": {\"0\": 88, \"1\"...   \n",
       "\n",
       "                                classification_report  \\\n",
       "7   {\"Loss\": {\"precision\": 0.5702479338842975, \"re...   \n",
       "8   {\"Loss\": {\"precision\": 0.5789473684210527, \"re...   \n",
       "9   {\"Loss\": {\"precision\": 0.53, \"recall\": 0.67948...   \n",
       "10  {\"Loss\": {\"precision\": 0.5982142857142857, \"re...   \n",
       "11  {\"Loss\": {\"precision\": 0.584, \"recall\": 0.6239...   \n",
       "\n",
       "                                           model_file  predict_time_min  \\\n",
       "7   ../models/kneighborsclassifier-1998-2018-diff-...               0.0   \n",
       "8   ../models/decisiontreeclassifier-1998-2018-dif...               0.0   \n",
       "9   ../models/randomforestclassifier-1998-2018-dif...               0.0   \n",
       "10  ../models/gradientboostingclassifier-1998-2018...               0.0   \n",
       "11  ../models/adaboostclassifier-1998-2018-diff-oh...               0.0   \n",
       "\n",
       "    fit_time_min  total_time_min  data_filter_file  \n",
       "7            0.0             0.0               NaN  \n",
       "8            0.0             0.0               NaN  \n",
       "9            0.0             0.0               NaN  \n",
       "10           0.0             0.0               NaN  \n",
       "11           0.0             0.0               NaN  "
      ]
     },
     "execution_count": 28,
     "metadata": {},
     "output_type": "execute_result"
    }
   ],
   "source": [
    "report = pd.read_csv(ModelWrapper.REPORT_FILE)\n",
    "report.tail(5)"
   ]
  },
  {
   "cell_type": "code",
   "execution_count": 29,
   "metadata": {},
   "outputs": [
    {
     "data": {
      "image/png": "[encoded data removed]",
      "text/plain": [
       "<Figure size 1440x720 with 1 Axes>"
      ]
     },
     "metadata": {
      "needs_background": "light"
     },
     "output_type": "display_data"
    }
   ],
   "source": [
    "f, a = plt.subplots(1, 1, figsize=(20, 10))\n",
    "\n",
    "descs = report.description.unique()\n",
    "\n",
    "for desc in descs:\n",
    "    report_desc = report[report.description == desc]\n",
    "    if desc == DESCRIPTION:\n",
    "        sns.lineplot(x=\"model_name\", y=\"accuracy\", data=report_desc, label=desc, linewidth=4)\n",
    "    else:\n",
    "        sns.lineplot(x=\"model_name\", y=\"accuracy\", data=report_desc, label=desc, linewidth=0.75)\n",
    "\n",
    "a.axhline(0.65, ls='--', color='r')\n",
    "a.set_title(f\"Model Accuracy\")\n",
    "_ = a.legend(loc=\"lower left\")"
   ]
  },
  {
   "cell_type": "code",
   "execution_count": null,
   "metadata": {},
   "outputs": [],
   "source": []
  },
  {
   "cell_type": "code",
   "execution_count": null,
   "metadata": {},
   "outputs": [],
   "source": []
  },
  {
   "cell_type": "code",
   "execution_count": 30,
   "metadata": {},
   "outputs": [
    {
     "name": "stdout",
     "output_type": "stream",
     "text": [
      "Last Finished: 2019-10-24 00:48\n"
     ]
    }
   ],
   "source": [
    "print(f'Last Finished: {datetime.now().strftime(\"%Y-%m-%d %H:%M\")}')"
   ]
  },
  {
   "cell_type": "code",
   "execution_count": 31,
   "metadata": {},
   "outputs": [
    {
     "name": "stdout",
     "output_type": "stream",
     "text": [
      "Best Model: LogisticRegression\n"
     ]
    }
   ],
   "source": [
    "best_model = report.loc[report[report.description == DESCRIPTION].accuracy.idxmax()].model_name\n",
    "print(f'Best Model: {best_model}')\n",
    "current_report = report[(report.model_name == 'GradientBoostingClassifier') &\n",
    "                                  (report.description == DESCRIPTION)]\n",
    "mw = ModelWrapper.get_model_wrapper_from_report(current_report)\n",
    "\n"
   ]
  },
  {
   "cell_type": "code",
   "execution_count": null,
   "metadata": {},
   "outputs": [],
   "source": []
  }
 ],
 "metadata": {
  "kernelspec": {
   "display_name": "Python 3",
   "language": "python",
   "name": "python3"
  },
  "language_info": {
   "codemirror_mode": {
    "name": "ipython",
    "version": 3
   },
   "file_extension": ".py",
   "mimetype": "text/x-python",
   "name": "python",
   "nbconvert_exporter": "python",
   "pygments_lexer": "ipython3",
   "version": "3.7.3"
  }
 },
 "nbformat": 4,
 "nbformat_minor": 4
}
