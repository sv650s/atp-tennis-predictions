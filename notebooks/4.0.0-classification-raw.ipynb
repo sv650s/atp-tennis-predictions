{
 "cells": [
  {
   "cell_type": "markdown",
   "metadata": {},
   "source": [
    "# ATP Tennis Data - Player Diff Stats\n",
    "\n",
    "\n",
    "In our feature engineering notebooks, we created a dataset for match where we left categorical columns un-encoded. We will run this dataset through various classification models and see how the models perform. I suspect tree based models (especially ensemble models) will perform the best as our data is non-linear\n",
    "\n",
    "NOTE: since we are not one hot encoding our categories.. this is probably an invalid test. We are purely just getting a quick baseline since this dataset is small\n",
    "\n",
    "\n",
    "# Summary of Results\n",
    "\n",
    "* Our best results came from Gradient Boosting with the results below. \n",
    "* Only Logistic Regression and Gradient Boosting performed better than our baseline\n",
    "*  Decision Tree, KNN, and AdaBoost all did below our baseline\n",
    "\n",
    "```\n",
    "Model Score: 0.6826468602295747\n",
    "\n",
    "ROC/AUC Score: 0.682614201415636\n",
    "              precision    recall  f1-score   support\n",
    "\n",
    "        Loss       0.68      0.67      0.68      7381\n",
    "         Win       0.68      0.69      0.69      7429\n",
    "\n",
    "    accuracy                           0.68     14810\n",
    "   macro avg       0.68      0.68      0.68     14810\n",
    "weighted avg       0.68      0.68      0.68     14810\n",
    "```\n",
    "\n",
    "\n"
   ]
  },
  {
   "cell_type": "code",
   "execution_count": 1,
   "metadata": {},
   "outputs": [],
   "source": [
    "import pandas as pd\n",
    "import numpy as np\n",
    "import matplotlib.pyplot as plt\n",
    "import seaborn as sns\n",
    "from sklearn.neighbors import KNeighborsClassifier\n",
    "from sklearn.tree import DecisionTreeClassifier\n",
    "from sklearn.model_selection import train_test_split\n",
    "from sklearn.linear_model import LogisticRegression\n",
    "from sklearn.metrics import classification_report, confusion_matrix\n",
    "from sklearn.ensemble import RandomForestClassifier, GradientBoostingClassifier, AdaBoostClassifier\n",
    "from sklearn.decomposition import PCA\n",
    "from datetime import datetime\n",
    "import pickle\n",
    "import json\n",
    "import os\n",
    "import sys\n",
    "module_path = os.path.abspath(os.path.join('..'))\n",
    "if module_path not in sys.path:\n",
    "    sys.path.append(module_path)\n",
    "\n",
    "from util import jupyter_util as ju\n",
    "from util.model_util import ModelWrapper\n",
    "\n",
    "%matplotlib inline\n",
    "sns.set()\n",
    "\n",
    "\n",
    "# date\n",
    "DATE_FORMAT = '%Y-%m-%d %H:%m'\n",
    "DATE = datetime.now().strftime(DATE_FORMAT)\n",
    "\n",
    "DESCRIPTION = \"raw\"\n",
    "\n",
    "\n",
    "# sometimes I run these notebooks via command line. Environment variable is set so we know whether we are in DEBUG mode or not\n",
    "# if you want to manually run this in DEBUG mode, change default value to True\n",
    "DEBUG = bool(os.environ.get(\"IPYNB_DEBUG\", False))\n",
    "\n",
    "if DEBUG:\n",
    "    DESCRIPTION = f\"{DESCRIPTION}-test\"\n",
    "    FEATURE_FILE = '../datasets/atp_matches_1985-2019_features_test.csv'\n",
    "    ModelWrapper.REPORT_FILE = '../reports/summary-test.csv'\n",
    "else:\n",
    "    FEATURE_FILE = '../datasets/atp_matches_1985-2019_features.csv'\n",
    "\n",
    "\n",
    "\n",
    "\n",
    "START_YEAR = 1998\n",
    "END_YEAR = 2018\n",
    "\n",
    "LABEL_COL = 'p1_winner'\n",
    "\n",
    "# random seed\n",
    "RSTATE = 1\n",
    "N_JOBS = 4\n",
    "MAX_ITER = 100\n",
    "\n"
   ]
  },
  {
   "cell_type": "code",
   "execution_count": 2,
   "metadata": {},
   "outputs": [],
   "source": [
    "X_train, X_test, y_train, y_test = ju.get_data(FEATURE_FILE, LABEL_COL, START_YEAR, END_YEAR)"
   ]
  },
  {
   "cell_type": "markdown",
   "metadata": {},
   "source": [
    "# Get our baseline\n",
    "\n",
    "If we really don't know anything about tennis, then a reasonable way of predicting wins/losses would be by player rank. If we look at our dataset, the accuracy of using this method for prediction would be the baseline accuracy for our model:\n",
    "\n",
    "If player 1 rank < player 2 rank, then label == 1 (win)\n",
    "If player 2 rank < player 1 rank, then label == 0 (loss)\n",
    "Sum these two numbers and divide by total samples would give us the baseline accuracy\n"
   ]
  },
  {
   "cell_type": "code",
   "execution_count": 3,
   "metadata": {},
   "outputs": [
    {
     "name": "stdout",
     "output_type": "stream",
     "text": [
      "Our baseline accuracy should be: 0.6565833896016205\n"
     ]
    }
   ],
   "source": [
    "tests = pd.concat([X_test, y_test], axis=1)\n",
    "p1_wins = tests[(tests.p1_rank < tests.p2_rank) & (tests.p1_winner == 1)]\n",
    "p2_losses = tests[(tests.p2_rank < tests.p1_rank) & (tests.p1_winner == 0)]\n",
    "baseline_accuracy = (len(p1_wins) + len(p2_losses))/ len(tests)\n",
    "print(f'Our baseline accuracy should be: {baseline_accuracy}')"
   ]
  },
  {
   "cell_type": "markdown",
   "metadata": {},
   "source": [
    "# Logistic Regression"
   ]
  },
  {
   "cell_type": "code",
   "execution_count": 4,
   "metadata": {},
   "outputs": [
    {
     "name": "stdout",
     "output_type": "stream",
     "text": [
      "[LibLinear]"
     ]
    },
    {
     "name": "stderr",
     "output_type": "stream",
     "text": [
      "/Users/vinceluk/anaconda3/envs/capstone2/lib/python3.7/site-packages/sklearn/linear_model/logistic.py:432: FutureWarning: Default solver will be changed to 'lbfgs' in 0.22. Specify a solver to silence this warning.\n",
      "  FutureWarning)\n",
      "/Users/vinceluk/anaconda3/envs/capstone2/lib/python3.7/site-packages/sklearn/linear_model/logistic.py:1544: UserWarning: 'n_jobs' > 1 does not have any effect when 'solver' is set to 'liblinear'. Got 'n_jobs' = 4.\n",
      "  \" = {}.\".format(effective_n_jobs(self.n_jobs)))\n"
     ]
    }
   ],
   "source": [
    "\n",
    "# train our model\n",
    "\n",
    "lr = ModelWrapper(LogisticRegression(n_jobs = N_JOBS, verbose = 1, random_state = RSTATE),\n",
    "                  description = DESCRIPTION, \n",
    "                 data_file = FEATURE_FILE,\n",
    "                  start_year = START_YEAR,\n",
    "                  end_year = END_YEAR,\n",
    "                   X_train = X_train,\n",
    "                   y_train = y_train,\n",
    "                   X_test = X_test,\n",
    "                   y_test = y_test).fit()\n",
    "y_predict_lr = lr.predict()"
   ]
  },
  {
   "cell_type": "code",
   "execution_count": 5,
   "metadata": {},
   "outputs": [
    {
     "name": "stdout",
     "output_type": "stream",
     "text": [
      "Model Score: 0.6541525995948684\n",
      "\n",
      "ROC/AUC Score: 0.6541607842322668\n",
      "              precision    recall  f1-score   support\n",
      "\n",
      "        Loss       0.65      0.66      0.65      7381\n",
      "         Win       0.66      0.65      0.65      7429\n",
      "\n",
      "    accuracy                           0.65     14810\n",
      "   macro avg       0.65      0.65      0.65     14810\n",
      "weighted avg       0.65      0.65      0.65     14810\n",
      "\n",
      "      Loss   Win\n",
      "Loss  4847  2534\n",
      "Win   2588  4841\n"
     ]
    },
    {
     "data": {
      "image/png": "[encoded data removed]",
      "text/plain": [
       "<Figure size 432x288 with 2 Axes>"
      ]
     },
     "metadata": {
      "needs_background": "light"
     },
     "output_type": "display_data"
    }
   ],
   "source": [
    "lr.analyze()"
   ]
  },
  {
   "cell_type": "code",
   "execution_count": 6,
   "metadata": {},
   "outputs": [],
   "source": [
    "# ju.plot_2d(X_test, y_predict_lr)"
   ]
  },
  {
   "cell_type": "code",
   "execution_count": 7,
   "metadata": {},
   "outputs": [
    {
     "name": "stdout",
     "output_type": "stream",
     "text": [
      "Saving report: ../reports/summary.csv\n"
     ]
    },
    {
     "name": "stderr",
     "output_type": "stream",
     "text": [
      "/Users/vinceluk/anaconda3/envs/capstone2/lib/python3.7/site-packages/pandas/core/frame.py:7138: FutureWarning: Sorting because non-concatenation axis is not aligned. A future version\n",
      "of pandas will change to not sort by default.\n",
      "\n",
      "To accept the future behavior, pass 'sort=False'.\n",
      "\n",
      "To retain the current behavior and silence the warning, pass 'sort=True'.\n",
      "\n",
      "  sort=sort,\n"
     ]
    }
   ],
   "source": [
    "lr.save()"
   ]
  },
  {
   "cell_type": "markdown",
   "metadata": {},
   "source": [
    "# KNN"
   ]
  },
  {
   "cell_type": "code",
   "execution_count": 8,
   "metadata": {},
   "outputs": [],
   "source": [
    "\n",
    "# train our model\n",
    "\n",
    "knn = ModelWrapper(KNeighborsClassifier(n_jobs = N_JOBS),\n",
    "                  description = DESCRIPTION, \n",
    "                 data_file = FEATURE_FILE,\n",
    "                  start_year = START_YEAR,\n",
    "                  end_year = END_YEAR,\n",
    "                   X_train = X_train,\n",
    "                   y_train = y_train,\n",
    "                   X_test = X_test,\n",
    "                   y_test = y_test).fit()\n",
    "y_predict_knn = knn.predict()"
   ]
  },
  {
   "cell_type": "code",
   "execution_count": 9,
   "metadata": {},
   "outputs": [
    {
     "name": "stdout",
     "output_type": "stream",
     "text": [
      "Model Score: 0.5858879135719108\n",
      "\n",
      "ROC/AUC Score: 0.5858772170249587\n",
      "              precision    recall  f1-score   support\n",
      "\n",
      "        Loss       0.58      0.58      0.58      7381\n",
      "         Win       0.59      0.59      0.59      7429\n",
      "\n",
      "    accuracy                           0.59     14810\n",
      "   macro avg       0.59      0.59      0.59     14810\n",
      "weighted avg       0.59      0.59      0.59     14810\n",
      "\n",
      "      Loss   Win\n",
      "Loss  4300  3081\n",
      "Win   3052  4377\n"
     ]
    },
    {
     "data": {
      "image/png": "[encoded data removed]",
      "text/plain": [
       "<Figure size 432x288 with 2 Axes>"
      ]
     },
     "metadata": {
      "needs_background": "light"
     },
     "output_type": "display_data"
    }
   ],
   "source": [
    "knn.analyze()"
   ]
  },
  {
   "cell_type": "code",
   "execution_count": 10,
   "metadata": {},
   "outputs": [],
   "source": [
    "# ju.plot_2d(X_test, y_predict_knn)"
   ]
  },
  {
   "cell_type": "code",
   "execution_count": 11,
   "metadata": {},
   "outputs": [
    {
     "name": "stdout",
     "output_type": "stream",
     "text": [
      "Saving report: ../reports/summary.csv\n"
     ]
    },
    {
     "name": "stderr",
     "output_type": "stream",
     "text": [
      "/Users/vinceluk/anaconda3/envs/capstone2/lib/python3.7/site-packages/pandas/core/frame.py:7138: FutureWarning: Sorting because non-concatenation axis is not aligned. A future version\n",
      "of pandas will change to not sort by default.\n",
      "\n",
      "To accept the future behavior, pass 'sort=False'.\n",
      "\n",
      "To retain the current behavior and silence the warning, pass 'sort=True'.\n",
      "\n",
      "  sort=sort,\n"
     ]
    }
   ],
   "source": [
    "knn.save()"
   ]
  },
  {
   "cell_type": "markdown",
   "metadata": {},
   "source": [
    "# Decision Tree"
   ]
  },
  {
   "cell_type": "code",
   "execution_count": 12,
   "metadata": {},
   "outputs": [],
   "source": [
    "\n",
    "# train our model\n",
    "\n",
    "dt = ModelWrapper(DecisionTreeClassifier(random_state = RSTATE),\n",
    "                  description = DESCRIPTION, \n",
    "                 data_file = FEATURE_FILE,\n",
    "                  start_year = START_YEAR,\n",
    "                  end_year = END_YEAR,\n",
    "                   X_train = X_train,\n",
    "                   y_train = y_train,\n",
    "                   X_test = X_test,\n",
    "                   y_test = y_test).fit()\n",
    "y_predict_dt = dt.predict()"
   ]
  },
  {
   "cell_type": "code",
   "execution_count": 13,
   "metadata": {},
   "outputs": [
    {
     "name": "stdout",
     "output_type": "stream",
     "text": [
      "Model Score: 0.5964888588791357\n",
      "\n",
      "ROC/AUC Score: 0.59646536186334\n",
      "              precision    recall  f1-score   support\n",
      "\n",
      "        Loss       0.60      0.59      0.59      7381\n",
      "         Win       0.60      0.60      0.60      7429\n",
      "\n",
      "    accuracy                           0.60     14810\n",
      "   macro avg       0.60      0.60      0.60     14810\n",
      "weighted avg       0.60      0.60      0.60     14810\n",
      "\n",
      "      Loss   Win\n",
      "Loss  4349  3032\n",
      "Win   2944  4485\n"
     ]
    },
    {
     "data": {
      "image/png": "[encoded data removed]",
      "text/plain": [
       "<Figure size 432x288 with 2 Axes>"
      ]
     },
     "metadata": {
      "needs_background": "light"
     },
     "output_type": "display_data"
    }
   ],
   "source": [
    "dt.analyze()"
   ]
  },
  {
   "cell_type": "code",
   "execution_count": 14,
   "metadata": {},
   "outputs": [],
   "source": [
    "# ju.plot_2d(X_test, y_predict_dt)"
   ]
  },
  {
   "cell_type": "code",
   "execution_count": 15,
   "metadata": {},
   "outputs": [
    {
     "name": "stdout",
     "output_type": "stream",
     "text": [
      "Saving report: ../reports/summary.csv\n"
     ]
    },
    {
     "name": "stderr",
     "output_type": "stream",
     "text": [
      "/Users/vinceluk/anaconda3/envs/capstone2/lib/python3.7/site-packages/pandas/core/frame.py:7138: FutureWarning: Sorting because non-concatenation axis is not aligned. A future version\n",
      "of pandas will change to not sort by default.\n",
      "\n",
      "To accept the future behavior, pass 'sort=False'.\n",
      "\n",
      "To retain the current behavior and silence the warning, pass 'sort=True'.\n",
      "\n",
      "  sort=sort,\n"
     ]
    }
   ],
   "source": [
    "dt.save()"
   ]
  },
  {
   "cell_type": "markdown",
   "metadata": {},
   "source": [
    "# Random Forest Classifier"
   ]
  },
  {
   "cell_type": "code",
   "execution_count": 16,
   "metadata": {},
   "outputs": [
    {
     "name": "stderr",
     "output_type": "stream",
     "text": [
      "/Users/vinceluk/anaconda3/envs/capstone2/lib/python3.7/site-packages/sklearn/ensemble/forest.py:245: FutureWarning: The default value of n_estimators will change from 10 in version 0.20 to 100 in 0.22.\n",
      "  \"10 in version 0.20 to 100 in 0.22.\", FutureWarning)\n",
      "[Parallel(n_jobs=1)]: Using backend SequentialBackend with 1 concurrent workers.\n",
      "[Parallel(n_jobs=1)]: Done  10 out of  10 | elapsed:    0.6s finished\n",
      "[Parallel(n_jobs=1)]: Using backend SequentialBackend with 1 concurrent workers.\n",
      "[Parallel(n_jobs=1)]: Done  10 out of  10 | elapsed:    0.0s finished\n"
     ]
    }
   ],
   "source": [
    "\n",
    "# train our model\n",
    "\n",
    "rf = ModelWrapper(RandomForestClassifier(random_state=RSTATE, verbose=1),\n",
    "                  description = DESCRIPTION, \n",
    "                 data_file = FEATURE_FILE,\n",
    "                  start_year = START_YEAR,\n",
    "                  end_year = END_YEAR,\n",
    "                   X_train = X_train,\n",
    "                   y_train = y_train,\n",
    "                   X_test = X_test,\n",
    "                   y_test = y_test).fit()\n",
    "y_predict_rf = rf.predict()"
   ]
  },
  {
   "cell_type": "code",
   "execution_count": 17,
   "metadata": {},
   "outputs": [
    {
     "name": "stdout",
     "output_type": "stream",
     "text": [
      "Model Score: 0.6401080351114112\n",
      "\n",
      "ROC/AUC Score: 0.6403384182526982\n",
      "              precision    recall  f1-score   support\n",
      "\n",
      "        Loss       0.62      0.71      0.66      7381\n",
      "         Win       0.67      0.57      0.61      7429\n",
      "\n",
      "    accuracy                           0.64     14810\n",
      "   macro avg       0.64      0.64      0.64     14810\n",
      "weighted avg       0.64      0.64      0.64     14810\n",
      "\n",
      "      Loss   Win\n",
      "Loss  5251  2130\n",
      "Win   3200  4229\n"
     ]
    },
    {
     "data": {
      "image/png": "[encoded data removed]",
      "text/plain": [
       "<Figure size 432x288 with 2 Axes>"
      ]
     },
     "metadata": {
      "needs_background": "light"
     },
     "output_type": "display_data"
    }
   ],
   "source": [
    "rf.analyze()"
   ]
  },
  {
   "cell_type": "code",
   "execution_count": 18,
   "metadata": {},
   "outputs": [],
   "source": [
    "# ju.plot_2d(X_test, y_predict_rf)"
   ]
  },
  {
   "cell_type": "code",
   "execution_count": 19,
   "metadata": {},
   "outputs": [
    {
     "name": "stdout",
     "output_type": "stream",
     "text": [
      "Saving report: ../reports/summary.csv\n"
     ]
    },
    {
     "name": "stderr",
     "output_type": "stream",
     "text": [
      "/Users/vinceluk/anaconda3/envs/capstone2/lib/python3.7/site-packages/pandas/core/frame.py:7138: FutureWarning: Sorting because non-concatenation axis is not aligned. A future version\n",
      "of pandas will change to not sort by default.\n",
      "\n",
      "To accept the future behavior, pass 'sort=False'.\n",
      "\n",
      "To retain the current behavior and silence the warning, pass 'sort=True'.\n",
      "\n",
      "  sort=sort,\n"
     ]
    }
   ],
   "source": [
    "rf.save()"
   ]
  },
  {
   "cell_type": "markdown",
   "metadata": {},
   "source": [
    "# Gradient Boosting"
   ]
  },
  {
   "cell_type": "code",
   "execution_count": 20,
   "metadata": {},
   "outputs": [
    {
     "name": "stdout",
     "output_type": "stream",
     "text": [
      "      Iter       Train Loss   Remaining Time \n",
      "         1           1.3670            3.84s\n",
      "         2           1.3505            3.77s\n",
      "         3           1.3357            3.76s\n",
      "         4           1.3238            3.74s\n",
      "         5           1.3131            3.68s\n",
      "         6           1.3044            3.67s\n",
      "         7           1.2958            3.62s\n",
      "         8           1.2890            3.63s\n",
      "         9           1.2825            3.60s\n",
      "        10           1.2771            3.58s\n",
      "        20           1.2378            3.05s\n",
      "        30           1.2038            2.59s\n",
      "        40           1.1870            2.16s\n",
      "        50           1.1781            1.73s\n",
      "        60           1.1702            1.36s\n",
      "        70           1.1619            1.00s\n",
      "        80           1.1562            0.66s\n",
      "        90           1.1526            0.33s\n",
      "       100           1.1465            0.00s\n"
     ]
    }
   ],
   "source": [
    "\n",
    "# train our model\n",
    "\n",
    "gb = ModelWrapper(GradientBoostingClassifier(random_state=RSTATE, verbose=1, n_iter_no_change = 4),\n",
    "                  description = DESCRIPTION, \n",
    "                 data_file = FEATURE_FILE,\n",
    "                  start_year = START_YEAR,\n",
    "                  end_year = END_YEAR,\n",
    "                   X_train = X_train,\n",
    "                   y_train = y_train,\n",
    "                   X_test = X_test,\n",
    "                   y_test = y_test).fit()\n",
    "y_predict_gb = gb.predict()"
   ]
  },
  {
   "cell_type": "code",
   "execution_count": 21,
   "metadata": {},
   "outputs": [
    {
     "name": "stdout",
     "output_type": "stream",
     "text": [
      "Model Score: 0.6826468602295747\n",
      "\n",
      "ROC/AUC Score: 0.682614201415636\n",
      "              precision    recall  f1-score   support\n",
      "\n",
      "        Loss       0.68      0.67      0.68      7381\n",
      "         Win       0.68      0.69      0.69      7429\n",
      "\n",
      "    accuracy                           0.68     14810\n",
      "   macro avg       0.68      0.68      0.68     14810\n",
      "weighted avg       0.68      0.68      0.68     14810\n",
      "\n",
      "      Loss   Win\n",
      "Loss  4964  2417\n",
      "Win   2283  5146\n"
     ]
    },
    {
     "data": {
      "image/png": "[encoded data removed]",
      "text/plain": [
       "<Figure size 432x288 with 2 Axes>"
      ]
     },
     "metadata": {
      "needs_background": "light"
     },
     "output_type": "display_data"
    }
   ],
   "source": [
    "gb.analyze()"
   ]
  },
  {
   "cell_type": "code",
   "execution_count": 22,
   "metadata": {},
   "outputs": [],
   "source": [
    "# ju.plot_2d(X_test, y_predict_gb)"
   ]
  },
  {
   "cell_type": "code",
   "execution_count": 23,
   "metadata": {},
   "outputs": [
    {
     "name": "stdout",
     "output_type": "stream",
     "text": [
      "Saving report: ../reports/summary.csv\n"
     ]
    },
    {
     "name": "stderr",
     "output_type": "stream",
     "text": [
      "/Users/vinceluk/anaconda3/envs/capstone2/lib/python3.7/site-packages/pandas/core/frame.py:7138: FutureWarning: Sorting because non-concatenation axis is not aligned. A future version\n",
      "of pandas will change to not sort by default.\n",
      "\n",
      "To accept the future behavior, pass 'sort=False'.\n",
      "\n",
      "To retain the current behavior and silence the warning, pass 'sort=True'.\n",
      "\n",
      "  sort=sort,\n"
     ]
    }
   ],
   "source": [
    "gb.save()"
   ]
  },
  {
   "cell_type": "markdown",
   "metadata": {},
   "source": [
    "# AdaBoost"
   ]
  },
  {
   "cell_type": "code",
   "execution_count": 24,
   "metadata": {},
   "outputs": [],
   "source": [
    "ab = ModelWrapper(AdaBoostClassifier(random_state=RSTATE),\n",
    "                  description = DESCRIPTION, \n",
    "                 data_file = FEATURE_FILE,\n",
    "                  start_year = START_YEAR,\n",
    "                  end_year = END_YEAR,\n",
    "                   X_train = X_train,\n",
    "                   y_train = y_train,\n",
    "                   X_test = X_test,\n",
    "                   y_test = y_test).fit()\n",
    "y_predict_ab = ab.predict()"
   ]
  },
  {
   "cell_type": "code",
   "execution_count": 25,
   "metadata": {},
   "outputs": [
    {
     "name": "stdout",
     "output_type": "stream",
     "text": [
      "Model Score: 0.6652937204591493\n",
      "\n",
      "ROC/AUC Score: 0.6652575966906623\n",
      "              precision    recall  f1-score   support\n",
      "\n",
      "        Loss       0.67      0.65      0.66      7381\n",
      "         Win       0.66      0.68      0.67      7429\n",
      "\n",
      "    accuracy                           0.67     14810\n",
      "   macro avg       0.67      0.67      0.67     14810\n",
      "weighted avg       0.67      0.67      0.67     14810\n",
      "\n",
      "      Loss   Win\n",
      "Loss  4828  2553\n",
      "Win   2404  5025\n"
     ]
    },
    {
     "data": {
      "image/png": "[encoded data removed]",
      "text/plain": [
       "<Figure size 432x288 with 2 Axes>"
      ]
     },
     "metadata": {
      "needs_background": "light"
     },
     "output_type": "display_data"
    }
   ],
   "source": [
    "ab.analyze()"
   ]
  },
  {
   "cell_type": "code",
   "execution_count": 26,
   "metadata": {},
   "outputs": [],
   "source": [
    "# ju.plot_2d(X_test, y_predict_ab)"
   ]
  },
  {
   "cell_type": "code",
   "execution_count": 27,
   "metadata": {},
   "outputs": [
    {
     "name": "stdout",
     "output_type": "stream",
     "text": [
      "Saving report: ../reports/summary.csv\n"
     ]
    },
    {
     "name": "stderr",
     "output_type": "stream",
     "text": [
      "/Users/vinceluk/anaconda3/envs/capstone2/lib/python3.7/site-packages/pandas/core/frame.py:7138: FutureWarning: Sorting because non-concatenation axis is not aligned. A future version\n",
      "of pandas will change to not sort by default.\n",
      "\n",
      "To accept the future behavior, pass 'sort=False'.\n",
      "\n",
      "To retain the current behavior and silence the warning, pass 'sort=True'.\n",
      "\n",
      "  sort=sort,\n"
     ]
    }
   ],
   "source": [
    "ab.save()"
   ]
  },
  {
   "cell_type": "markdown",
   "metadata": {},
   "source": [
    "# Summary\n",
    "\n",
    "Decision Tree Classifier did the best with a 92% accuracy score while KNN did the worst at about 60% (below our null hypothesis)"
   ]
  },
  {
   "cell_type": "code",
   "execution_count": 28,
   "metadata": {},
   "outputs": [
    {
     "data": {
      "text/html": [
       "<div>\n",
       "<style scoped>\n",
       "    .dataframe tbody tr th:only-of-type {\n",
       "        vertical-align: middle;\n",
       "    }\n",
       "\n",
       "    .dataframe tbody tr th {\n",
       "        vertical-align: top;\n",
       "    }\n",
       "\n",
       "    .dataframe thead th {\n",
       "        text-align: right;\n",
       "    }\n",
       "</style>\n",
       "<table border=\"1\" class=\"dataframe\">\n",
       "  <thead>\n",
       "    <tr style=\"text-align: right;\">\n",
       "      <th></th>\n",
       "      <th>accuracy</th>\n",
       "      <th>classification_report</th>\n",
       "      <th>confusion_matrix</th>\n",
       "      <th>data_file</th>\n",
       "      <th>data_filter_file</th>\n",
       "      <th>description</th>\n",
       "      <th>end_year</th>\n",
       "      <th>fit_time_min</th>\n",
       "      <th>model_file</th>\n",
       "      <th>model_name</th>\n",
       "      <th>predict_time_min</th>\n",
       "      <th>roc_auc_score</th>\n",
       "      <th>start_year</th>\n",
       "      <th>total_time_min</th>\n",
       "    </tr>\n",
       "  </thead>\n",
       "  <tbody>\n",
       "    <tr>\n",
       "      <th>0</th>\n",
       "      <td>0.654153</td>\n",
       "      <td>{\"Loss\": {\"precision\": 0.6519166106254203, \"re...</td>\n",
       "      <td>{\"0\": {\"0\": 4847, \"1\": 2588}, \"1\": {\"0\": 2534,...</td>\n",
       "      <td>../datasets/atp_matches_1985-2019_features.csv</td>\n",
       "      <td>NaN</td>\n",
       "      <td>raw</td>\n",
       "      <td>2018</td>\n",
       "      <td>0.0</td>\n",
       "      <td>../models/logisticregression-1998-2018-raw.pkl</td>\n",
       "      <td>LogisticRegression</td>\n",
       "      <td>0.0</td>\n",
       "      <td>0.654161</td>\n",
       "      <td>1998</td>\n",
       "      <td>0.0</td>\n",
       "    </tr>\n",
       "    <tr>\n",
       "      <th>1</th>\n",
       "      <td>0.585888</td>\n",
       "      <td>{\"Loss\": {\"precision\": 0.5848748639825898, \"re...</td>\n",
       "      <td>{\"0\": {\"0\": 4300, \"1\": 3052}, \"1\": {\"0\": 3081,...</td>\n",
       "      <td>../datasets/atp_matches_1985-2019_features.csv</td>\n",
       "      <td>NaN</td>\n",
       "      <td>raw</td>\n",
       "      <td>2018</td>\n",
       "      <td>0.0</td>\n",
       "      <td>../models/kneighborsclassifier-1998-2018-raw.pkl</td>\n",
       "      <td>KNeighborsClassifier</td>\n",
       "      <td>0.0</td>\n",
       "      <td>0.585877</td>\n",
       "      <td>1998</td>\n",
       "      <td>0.0</td>\n",
       "    </tr>\n",
       "    <tr>\n",
       "      <th>2</th>\n",
       "      <td>0.596489</td>\n",
       "      <td>{\"Loss\": {\"precision\": 0.5963252433840669, \"re...</td>\n",
       "      <td>{\"0\": {\"0\": 4349, \"1\": 2944}, \"1\": {\"0\": 3032,...</td>\n",
       "      <td>../datasets/atp_matches_1985-2019_features.csv</td>\n",
       "      <td>NaN</td>\n",
       "      <td>raw</td>\n",
       "      <td>2018</td>\n",
       "      <td>0.0</td>\n",
       "      <td>../models/decisiontreeclassifier-1998-2018-raw...</td>\n",
       "      <td>DecisionTreeClassifier</td>\n",
       "      <td>0.0</td>\n",
       "      <td>0.596465</td>\n",
       "      <td>1998</td>\n",
       "      <td>0.0</td>\n",
       "    </tr>\n",
       "    <tr>\n",
       "      <th>3</th>\n",
       "      <td>0.640108</td>\n",
       "      <td>{\"Loss\": {\"precision\": 0.6213465862028162, \"re...</td>\n",
       "      <td>{\"0\": {\"0\": 5251, \"1\": 3200}, \"1\": {\"0\": 2130,...</td>\n",
       "      <td>../datasets/atp_matches_1985-2019_features.csv</td>\n",
       "      <td>NaN</td>\n",
       "      <td>raw</td>\n",
       "      <td>2018</td>\n",
       "      <td>0.0</td>\n",
       "      <td>../models/randomforestclassifier-1998-2018-raw...</td>\n",
       "      <td>RandomForestClassifier</td>\n",
       "      <td>0.0</td>\n",
       "      <td>0.640338</td>\n",
       "      <td>1998</td>\n",
       "      <td>0.0</td>\n",
       "    </tr>\n",
       "    <tr>\n",
       "      <th>4</th>\n",
       "      <td>0.682647</td>\n",
       "      <td>{\"Loss\": {\"precision\": 0.684973092314061, \"rec...</td>\n",
       "      <td>{\"0\": {\"0\": 4964, \"1\": 2283}, \"1\": {\"0\": 2417,...</td>\n",
       "      <td>../datasets/atp_matches_1985-2019_features.csv</td>\n",
       "      <td>NaN</td>\n",
       "      <td>raw</td>\n",
       "      <td>2018</td>\n",
       "      <td>0.0</td>\n",
       "      <td>../models/gradientboostingclassifier-1998-2018...</td>\n",
       "      <td>GradientBoostingClassifier</td>\n",
       "      <td>0.0</td>\n",
       "      <td>0.682614</td>\n",
       "      <td>1998</td>\n",
       "      <td>0.0</td>\n",
       "    </tr>\n",
       "    <tr>\n",
       "      <th>5</th>\n",
       "      <td>0.665294</td>\n",
       "      <td>{\"Loss\": {\"precision\": 0.6675884955752213, \"re...</td>\n",
       "      <td>{\"0\": {\"0\": 4828, \"1\": 2404}, \"1\": {\"0\": 2553,...</td>\n",
       "      <td>../datasets/atp_matches_1985-2019_features.csv</td>\n",
       "      <td>NaN</td>\n",
       "      <td>raw</td>\n",
       "      <td>2018</td>\n",
       "      <td>0.0</td>\n",
       "      <td>../models/adaboostclassifier-1998-2018-raw.pkl</td>\n",
       "      <td>AdaBoostClassifier</td>\n",
       "      <td>0.0</td>\n",
       "      <td>0.665258</td>\n",
       "      <td>1998</td>\n",
       "      <td>0.0</td>\n",
       "    </tr>\n",
       "    <tr>\n",
       "      <th>127</th>\n",
       "      <td>0.654153</td>\n",
       "      <td>{\"Loss\": {\"precision\": 0.6519166106254203, \"re...</td>\n",
       "      <td>{\"0\": {\"0\": 4847, \"1\": 2588}, \"1\": {\"0\": 2534,...</td>\n",
       "      <td>../datasets/atp_matches_1985-2019_features.csv</td>\n",
       "      <td>NaN</td>\n",
       "      <td>raw</td>\n",
       "      <td>2018</td>\n",
       "      <td>0.0</td>\n",
       "      <td>../models/logisticregression-1998-2018-raw.pkl</td>\n",
       "      <td>LogisticRegression</td>\n",
       "      <td>0.0</td>\n",
       "      <td>0.654161</td>\n",
       "      <td>1998</td>\n",
       "      <td>0.0</td>\n",
       "    </tr>\n",
       "    <tr>\n",
       "      <th>128</th>\n",
       "      <td>0.585888</td>\n",
       "      <td>{\"Loss\": {\"precision\": 0.5848748639825898, \"re...</td>\n",
       "      <td>{\"0\": {\"0\": 4300, \"1\": 3052}, \"1\": {\"0\": 3081,...</td>\n",
       "      <td>../datasets/atp_matches_1985-2019_features.csv</td>\n",
       "      <td>NaN</td>\n",
       "      <td>raw</td>\n",
       "      <td>2018</td>\n",
       "      <td>0.0</td>\n",
       "      <td>../models/kneighborsclassifier-1998-2018-raw.pkl</td>\n",
       "      <td>KNeighborsClassifier</td>\n",
       "      <td>0.0</td>\n",
       "      <td>0.585877</td>\n",
       "      <td>1998</td>\n",
       "      <td>0.0</td>\n",
       "    </tr>\n",
       "    <tr>\n",
       "      <th>129</th>\n",
       "      <td>0.596489</td>\n",
       "      <td>{\"Loss\": {\"precision\": 0.5963252433840669, \"re...</td>\n",
       "      <td>{\"0\": {\"0\": 4349, \"1\": 2944}, \"1\": {\"0\": 3032,...</td>\n",
       "      <td>../datasets/atp_matches_1985-2019_features.csv</td>\n",
       "      <td>NaN</td>\n",
       "      <td>raw</td>\n",
       "      <td>2018</td>\n",
       "      <td>0.0</td>\n",
       "      <td>../models/decisiontreeclassifier-1998-2018-raw...</td>\n",
       "      <td>DecisionTreeClassifier</td>\n",
       "      <td>0.0</td>\n",
       "      <td>0.596465</td>\n",
       "      <td>1998</td>\n",
       "      <td>0.0</td>\n",
       "    </tr>\n",
       "    <tr>\n",
       "      <th>130</th>\n",
       "      <td>0.640108</td>\n",
       "      <td>{\"Loss\": {\"precision\": 0.6213465862028162, \"re...</td>\n",
       "      <td>{\"0\": {\"0\": 5251, \"1\": 3200}, \"1\": {\"0\": 2130,...</td>\n",
       "      <td>../datasets/atp_matches_1985-2019_features.csv</td>\n",
       "      <td>NaN</td>\n",
       "      <td>raw</td>\n",
       "      <td>2018</td>\n",
       "      <td>0.0</td>\n",
       "      <td>../models/randomforestclassifier-1998-2018-raw...</td>\n",
       "      <td>RandomForestClassifier</td>\n",
       "      <td>0.0</td>\n",
       "      <td>0.640338</td>\n",
       "      <td>1998</td>\n",
       "      <td>0.0</td>\n",
       "    </tr>\n",
       "    <tr>\n",
       "      <th>131</th>\n",
       "      <td>0.682647</td>\n",
       "      <td>{\"Loss\": {\"precision\": 0.684973092314061, \"rec...</td>\n",
       "      <td>{\"0\": {\"0\": 4964, \"1\": 2283}, \"1\": {\"0\": 2417,...</td>\n",
       "      <td>../datasets/atp_matches_1985-2019_features.csv</td>\n",
       "      <td>NaN</td>\n",
       "      <td>raw</td>\n",
       "      <td>2018</td>\n",
       "      <td>0.0</td>\n",
       "      <td>../models/gradientboostingclassifier-1998-2018...</td>\n",
       "      <td>GradientBoostingClassifier</td>\n",
       "      <td>0.0</td>\n",
       "      <td>0.682614</td>\n",
       "      <td>1998</td>\n",
       "      <td>0.0</td>\n",
       "    </tr>\n",
       "    <tr>\n",
       "      <th>132</th>\n",
       "      <td>0.665294</td>\n",
       "      <td>{\"Loss\": {\"precision\": 0.6675884955752213, \"re...</td>\n",
       "      <td>{\"0\": {\"0\": 4828, \"1\": 2404}, \"1\": {\"0\": 2553,...</td>\n",
       "      <td>../datasets/atp_matches_1985-2019_features.csv</td>\n",
       "      <td>NaN</td>\n",
       "      <td>raw</td>\n",
       "      <td>2018</td>\n",
       "      <td>0.0</td>\n",
       "      <td>../models/adaboostclassifier-1998-2018-raw.pkl</td>\n",
       "      <td>AdaBoostClassifier</td>\n",
       "      <td>0.0</td>\n",
       "      <td>0.665258</td>\n",
       "      <td>1998</td>\n",
       "      <td>0.0</td>\n",
       "    </tr>\n",
       "  </tbody>\n",
       "</table>\n",
       "</div>"
      ],
      "text/plain": [
       "     accuracy                              classification_report  \\\n",
       "0    0.654153  {\"Loss\": {\"precision\": 0.6519166106254203, \"re...   \n",
       "1    0.585888  {\"Loss\": {\"precision\": 0.5848748639825898, \"re...   \n",
       "2    0.596489  {\"Loss\": {\"precision\": 0.5963252433840669, \"re...   \n",
       "3    0.640108  {\"Loss\": {\"precision\": 0.6213465862028162, \"re...   \n",
       "4    0.682647  {\"Loss\": {\"precision\": 0.684973092314061, \"rec...   \n",
       "5    0.665294  {\"Loss\": {\"precision\": 0.6675884955752213, \"re...   \n",
       "127  0.654153  {\"Loss\": {\"precision\": 0.6519166106254203, \"re...   \n",
       "128  0.585888  {\"Loss\": {\"precision\": 0.5848748639825898, \"re...   \n",
       "129  0.596489  {\"Loss\": {\"precision\": 0.5963252433840669, \"re...   \n",
       "130  0.640108  {\"Loss\": {\"precision\": 0.6213465862028162, \"re...   \n",
       "131  0.682647  {\"Loss\": {\"precision\": 0.684973092314061, \"rec...   \n",
       "132  0.665294  {\"Loss\": {\"precision\": 0.6675884955752213, \"re...   \n",
       "\n",
       "                                      confusion_matrix  \\\n",
       "0    {\"0\": {\"0\": 4847, \"1\": 2588}, \"1\": {\"0\": 2534,...   \n",
       "1    {\"0\": {\"0\": 4300, \"1\": 3052}, \"1\": {\"0\": 3081,...   \n",
       "2    {\"0\": {\"0\": 4349, \"1\": 2944}, \"1\": {\"0\": 3032,...   \n",
       "3    {\"0\": {\"0\": 5251, \"1\": 3200}, \"1\": {\"0\": 2130,...   \n",
       "4    {\"0\": {\"0\": 4964, \"1\": 2283}, \"1\": {\"0\": 2417,...   \n",
       "5    {\"0\": {\"0\": 4828, \"1\": 2404}, \"1\": {\"0\": 2553,...   \n",
       "127  {\"0\": {\"0\": 4847, \"1\": 2588}, \"1\": {\"0\": 2534,...   \n",
       "128  {\"0\": {\"0\": 4300, \"1\": 3052}, \"1\": {\"0\": 3081,...   \n",
       "129  {\"0\": {\"0\": 4349, \"1\": 2944}, \"1\": {\"0\": 3032,...   \n",
       "130  {\"0\": {\"0\": 5251, \"1\": 3200}, \"1\": {\"0\": 2130,...   \n",
       "131  {\"0\": {\"0\": 4964, \"1\": 2283}, \"1\": {\"0\": 2417,...   \n",
       "132  {\"0\": {\"0\": 4828, \"1\": 2404}, \"1\": {\"0\": 2553,...   \n",
       "\n",
       "                                          data_file  data_filter_file  \\\n",
       "0    ../datasets/atp_matches_1985-2019_features.csv               NaN   \n",
       "1    ../datasets/atp_matches_1985-2019_features.csv               NaN   \n",
       "2    ../datasets/atp_matches_1985-2019_features.csv               NaN   \n",
       "3    ../datasets/atp_matches_1985-2019_features.csv               NaN   \n",
       "4    ../datasets/atp_matches_1985-2019_features.csv               NaN   \n",
       "5    ../datasets/atp_matches_1985-2019_features.csv               NaN   \n",
       "127  ../datasets/atp_matches_1985-2019_features.csv               NaN   \n",
       "128  ../datasets/atp_matches_1985-2019_features.csv               NaN   \n",
       "129  ../datasets/atp_matches_1985-2019_features.csv               NaN   \n",
       "130  ../datasets/atp_matches_1985-2019_features.csv               NaN   \n",
       "131  ../datasets/atp_matches_1985-2019_features.csv               NaN   \n",
       "132  ../datasets/atp_matches_1985-2019_features.csv               NaN   \n",
       "\n",
       "    description  end_year  fit_time_min  \\\n",
       "0           raw      2018           0.0   \n",
       "1           raw      2018           0.0   \n",
       "2           raw      2018           0.0   \n",
       "3           raw      2018           0.0   \n",
       "4           raw      2018           0.0   \n",
       "5           raw      2018           0.0   \n",
       "127         raw      2018           0.0   \n",
       "128         raw      2018           0.0   \n",
       "129         raw      2018           0.0   \n",
       "130         raw      2018           0.0   \n",
       "131         raw      2018           0.0   \n",
       "132         raw      2018           0.0   \n",
       "\n",
       "                                            model_file  \\\n",
       "0       ../models/logisticregression-1998-2018-raw.pkl   \n",
       "1     ../models/kneighborsclassifier-1998-2018-raw.pkl   \n",
       "2    ../models/decisiontreeclassifier-1998-2018-raw...   \n",
       "3    ../models/randomforestclassifier-1998-2018-raw...   \n",
       "4    ../models/gradientboostingclassifier-1998-2018...   \n",
       "5       ../models/adaboostclassifier-1998-2018-raw.pkl   \n",
       "127     ../models/logisticregression-1998-2018-raw.pkl   \n",
       "128   ../models/kneighborsclassifier-1998-2018-raw.pkl   \n",
       "129  ../models/decisiontreeclassifier-1998-2018-raw...   \n",
       "130  ../models/randomforestclassifier-1998-2018-raw...   \n",
       "131  ../models/gradientboostingclassifier-1998-2018...   \n",
       "132     ../models/adaboostclassifier-1998-2018-raw.pkl   \n",
       "\n",
       "                     model_name  predict_time_min  roc_auc_score  start_year  \\\n",
       "0            LogisticRegression               0.0       0.654161        1998   \n",
       "1          KNeighborsClassifier               0.0       0.585877        1998   \n",
       "2        DecisionTreeClassifier               0.0       0.596465        1998   \n",
       "3        RandomForestClassifier               0.0       0.640338        1998   \n",
       "4    GradientBoostingClassifier               0.0       0.682614        1998   \n",
       "5            AdaBoostClassifier               0.0       0.665258        1998   \n",
       "127          LogisticRegression               0.0       0.654161        1998   \n",
       "128        KNeighborsClassifier               0.0       0.585877        1998   \n",
       "129      DecisionTreeClassifier               0.0       0.596465        1998   \n",
       "130      RandomForestClassifier               0.0       0.640338        1998   \n",
       "131  GradientBoostingClassifier               0.0       0.682614        1998   \n",
       "132          AdaBoostClassifier               0.0       0.665258        1998   \n",
       "\n",
       "     total_time_min  \n",
       "0               0.0  \n",
       "1               0.0  \n",
       "2               0.0  \n",
       "3               0.0  \n",
       "4               0.0  \n",
       "5               0.0  \n",
       "127             0.0  \n",
       "128             0.0  \n",
       "129             0.0  \n",
       "130             0.0  \n",
       "131             0.0  \n",
       "132             0.0  "
      ]
     },
     "execution_count": 28,
     "metadata": {},
     "output_type": "execute_result"
    }
   ],
   "source": [
    "report = pd.read_csv(ab.report_file)\n",
    "report = report[report.description == DESCRIPTION]\n",
    "report"
   ]
  },
  {
   "cell_type": "code",
   "execution_count": 29,
   "metadata": {},
   "outputs": [
    {
     "data": {
      "text/plain": [
       "Text(0.5, 1.0, 'Model Accuracy - Data: raw')"
      ]
     },
     "execution_count": 29,
     "metadata": {},
     "output_type": "execute_result"
    },
    {
     "data": {
      "image/png": "[encoded data removed]",
      "text/plain": [
       "<Figure size 1440x360 with 1 Axes>"
      ]
     },
     "metadata": {
      "needs_background": "light"
     },
     "output_type": "display_data"
    }
   ],
   "source": [
    "f, a = plt.subplots(1, 1, figsize=(20, 5))\n",
    "sns.lineplot(x=\"model_name\", y=\"accuracy\", data=report, label=\"model accuracy\")\n",
    "a.axhline(baseline_accuracy, ls='--', color='r')\n",
    "a.set_title(f\"Model Accuracy - Data: {DESCRIPTION}\")"
   ]
  },
  {
   "cell_type": "code",
   "execution_count": 30,
   "metadata": {},
   "outputs": [
    {
     "name": "stdout",
     "output_type": "stream",
     "text": [
      "Last Finished: 2019-10-23 23:10\n"
     ]
    }
   ],
   "source": [
    "print(f'Last Finished: {datetime.now().strftime(DATE_FORMAT)}')"
   ]
  },
  {
   "cell_type": "code",
   "execution_count": null,
   "metadata": {},
   "outputs": [],
   "source": []
  }
 ],
 "metadata": {
  "kernelspec": {
   "display_name": "Python 3",
   "language": "python",
   "name": "python3"
  },
  "language_info": {
   "codemirror_mode": {
    "name": "ipython",
    "version": 3
   },
   "file_extension": ".py",
   "mimetype": "text/x-python",
   "name": "python",
   "nbconvert_exporter": "python",
   "pygments_lexer": "ipython3",
   "version": "3.7.3"
  }
 },
 "nbformat": 4,
 "nbformat_minor": 4
}
