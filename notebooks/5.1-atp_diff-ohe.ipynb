{
 "cells": [
  {
   "cell_type": "markdown",
   "metadata": {},
   "source": [
    "# ATP Tennis Data - Player Diff Stats + One Hot Encoding (All Categorical Data)\n",
    "\n",
    "\n",
    "In our previous [notebook](https://github.com/sv650s/sb-capstone2/blob/master/notebooks/5.1-atp_diff-ohe_player.ipynb), we saw that Decision Tree is still the best algorithm when we used the data set where we used player diff stats but we one hot encoded player id\n",
    "\n",
    "In this notebook, we will run the same algorithms but we will one hot encode all categorical data - ie, tournament id, surface\n",
    "\n",
    "### Results from Decision Tree Classifier with player diff dataset:\n",
    "\n",
    "```\n",
    "Model Score: 0.924307900067522\n",
    "\n",
    "              precision    recall  f1-score   support\n",
    "\n",
    "        Loss       0.92      0.93      0.92      7416\n",
    "         Win       0.93      0.92      0.92      7394\n",
    "\n",
    "    accuracy                           0.92     14810\n",
    "   macro avg       0.92      0.92      0.92     14810\n",
    "weighted avg       0.92      0.92      0.92     14810\n",
    "```\n",
    "\n",
    "# Summary of Results\n",
    "\n",
    "\n",
    "Decision Tree is still our best model at around .5 percent to 93% accuracy. Although difference not sure if it's statistically significant yet\n",
    "\n",
    "\n",
    "```\n",
    "Model Score: 0.9307224848075625\n",
    "\n",
    "              precision    recall  f1-score   support\n",
    "\n",
    "        Loss       0.93      0.94      0.93      7416\n",
    "         Win       0.93      0.93      0.93      7394\n",
    "\n",
    "    accuracy                           0.93     14810\n",
    "   macro avg       0.93      0.93      0.93     14810\n",
    "weighted avg       0.93      0.93      0.93     14810\n",
    "```\n",
    "\n",
    "\n",
    "* No improvements for Adaboost\n",
    "* Logistic Regression, Grandient Boosting and Random Forest did worse with OHE categorical features\n",
    "* Significant improvement for KNN\n",
    "\n"
   ]
  },
  {
   "cell_type": "code",
   "execution_count": 1,
   "metadata": {},
   "outputs": [],
   "source": [
    "import pandas as pd\n",
    "import numpy as np\n",
    "import matplotlib.pyplot as plt\n",
    "import seaborn as sns\n",
    "from sklearn.neighbors import KNeighborsClassifier\n",
    "from sklearn.tree import DecisionTreeClassifier\n",
    "from sklearn.model_selection import train_test_split\n",
    "from sklearn.linear_model import LogisticRegression\n",
    "from sklearn.metrics import classification_report, confusion_matrix\n",
    "from sklearn.ensemble import RandomForestClassifier, GradientBoostingClassifier, AdaBoostClassifier\n",
    "from sklearn.decomposition import PCA\n",
    "from datetime import datetime\n",
    "import pickle\n",
    "import json\n",
    "import os\n",
    "import sys\n",
    "module_path = os.path.abspath(os.path.join('..'))\n",
    "if module_path not in sys.path:\n",
    "    sys.path.append(module_path)\n",
    "\n",
    "from util import jupyter_util as ju\n",
    "from util.model_util import ModelWrapper\n",
    "\n",
    "%matplotlib inline\n",
    "sns.set()\n",
    "\n",
    "\n",
    "# date\n",
    "DATE_FORMAT = '%Y-%m-%d'\n",
    "DATE = datetime.now().strftime(DATE_FORMAT)\n",
    "\n",
    "DESCRIPTION = \"diff-ohe\"\n",
    "\n",
    "\n",
    "# update this\n",
    "FEATURE_FILE = f'../datasets/atp_matches_1985-2019_features-{DESCRIPTION}.csv'\n",
    "\n",
    "START_YEAR = 1998\n",
    "END_YEAR = 2018\n",
    "\n",
    "LABEL_COL = 'p1_winner'\n",
    "\n",
    "# random seed\n",
    "RSTATE = 1\n",
    "N_JOBS = 4\n",
    "MAX_ITER = 100\n",
    "\n"
   ]
  },
  {
   "cell_type": "code",
   "execution_count": 2,
   "metadata": {},
   "outputs": [],
   "source": [
    "X_train, X_test, y_train, y_test = ju.get_data(FEATURE_FILE, LABEL_COL, START_YEAR, END_YEAR)"
   ]
  },
  {
   "cell_type": "markdown",
   "metadata": {},
   "source": [
    "# Logistic Regression"
   ]
  },
  {
   "cell_type": "code",
   "execution_count": 3,
   "metadata": {},
   "outputs": [
    {
     "name": "stderr",
     "output_type": "stream",
     "text": [
      "//anaconda3/envs/capstone2/lib/python3.7/site-packages/sklearn/linear_model/logistic.py:432: FutureWarning: Default solver will be changed to 'lbfgs' in 0.22. Specify a solver to silence this warning.\n",
      "  FutureWarning)\n",
      "//anaconda3/envs/capstone2/lib/python3.7/site-packages/sklearn/linear_model/logistic.py:1544: UserWarning: 'n_jobs' > 1 does not have any effect when 'solver' is set to 'liblinear'. Got 'n_jobs' = 4.\n",
      "  \" = {}.\".format(effective_n_jobs(self.n_jobs)))\n"
     ]
    },
    {
     "name": "stdout",
     "output_type": "stream",
     "text": [
      "[LibLinear]"
     ]
    }
   ],
   "source": [
    "\n",
    "# train our model\n",
    "\n",
    "lr = ModelWrapper(LogisticRegression(n_jobs = N_JOBS, verbose = 1, random_state = RSTATE),\n",
    "                  description = DESCRIPTION, \n",
    "                 data_file = FEATURE_FILE,\n",
    "                  start_year = START_YEAR,\n",
    "                  end_year = END_YEAR,\n",
    "                   X_train = X_train,\n",
    "                   y_train = y_train,\n",
    "                   X_test = X_test,\n",
    "                   y_test = y_test).fit()\n",
    "y_predict_lr = lr.predict()"
   ]
  },
  {
   "cell_type": "code",
   "execution_count": 4,
   "metadata": {},
   "outputs": [
    {
     "name": "stdout",
     "output_type": "stream",
     "text": [
      "Model Score: 0.6724510465901418\n",
      "\n",
      "              precision    recall  f1-score   support\n",
      "\n",
      "        Loss       0.68      0.66      0.67      7453\n",
      "         Win       0.67      0.68      0.67      7357\n",
      "\n",
      "    accuracy                           0.67     14810\n",
      "   macro avg       0.67      0.67      0.67     14810\n",
      "weighted avg       0.67      0.67      0.67     14810\n",
      "\n",
      "      Loss   Win\n",
      "Loss  4940  2513\n",
      "Win   2338  5019\n"
     ]
    },
    {
     "data": {
      "image/png": "[encoded data removed]",
      "text/plain": [
       "<Figure size 432x288 with 2 Axes>"
      ]
     },
     "metadata": {
      "needs_background": "light"
     },
     "output_type": "display_data"
    }
   ],
   "source": [
    "lr.analyze()"
   ]
  },
  {
   "cell_type": "code",
   "execution_count": 5,
   "metadata": {},
   "outputs": [],
   "source": [
    "# ju.plot_2d(X_test, y_predict_lr)"
   ]
  },
  {
   "cell_type": "code",
   "execution_count": 6,
   "metadata": {},
   "outputs": [],
   "source": [
    "lr.save()"
   ]
  },
  {
   "cell_type": "markdown",
   "metadata": {},
   "source": [
    "# KNN"
   ]
  },
  {
   "cell_type": "code",
   "execution_count": 7,
   "metadata": {},
   "outputs": [],
   "source": [
    "\n",
    "# train our model\n",
    "\n",
    "knn = ModelWrapper(KNeighborsClassifier(n_jobs = N_JOBS),\n",
    "                  description = DESCRIPTION, \n",
    "                 data_file = FEATURE_FILE,\n",
    "                  start_year = START_YEAR,\n",
    "                  end_year = END_YEAR,\n",
    "                   X_train = X_train,\n",
    "                   y_train = y_train,\n",
    "                   X_test = X_test,\n",
    "                   y_test = y_test).fit()\n",
    "y_predict_knn = knn.predict()"
   ]
  },
  {
   "cell_type": "code",
   "execution_count": 8,
   "metadata": {},
   "outputs": [
    {
     "name": "stdout",
     "output_type": "stream",
     "text": [
      "Model Score: 0.8399054692775152\n",
      "\n",
      "              precision    recall  f1-score   support\n",
      "\n",
      "        Loss       0.83      0.85      0.84      7453\n",
      "         Win       0.85      0.83      0.84      7357\n",
      "\n",
      "    accuracy                           0.84     14810\n",
      "   macro avg       0.84      0.84      0.84     14810\n",
      "weighted avg       0.84      0.84      0.84     14810\n",
      "\n",
      "      Loss   Win\n",
      "Loss  6345  1108\n",
      "Win   1263  6094\n"
     ]
    },
    {
     "data": {
      "image/png": "[encoded data removed]",
      "text/plain": [
       "<Figure size 432x288 with 2 Axes>"
      ]
     },
     "metadata": {
      "needs_background": "light"
     },
     "output_type": "display_data"
    }
   ],
   "source": [
    "knn.analyze()"
   ]
  },
  {
   "cell_type": "code",
   "execution_count": 9,
   "metadata": {},
   "outputs": [],
   "source": [
    "# ju.plot_2d(X_test, y_predict_knn)"
   ]
  },
  {
   "cell_type": "code",
   "execution_count": 10,
   "metadata": {},
   "outputs": [],
   "source": [
    "knn.save()"
   ]
  },
  {
   "cell_type": "markdown",
   "metadata": {},
   "source": [
    "# Decision Tree"
   ]
  },
  {
   "cell_type": "code",
   "execution_count": 11,
   "metadata": {},
   "outputs": [],
   "source": [
    "\n",
    "# train our model\n",
    "\n",
    "dt = ModelWrapper(DecisionTreeClassifier(random_state = RSTATE),\n",
    "                  description = DESCRIPTION, \n",
    "                 data_file = FEATURE_FILE,\n",
    "                  start_year = START_YEAR,\n",
    "                  end_year = END_YEAR,\n",
    "                   X_train = X_train,\n",
    "                   y_train = y_train,\n",
    "                   X_test = X_test,\n",
    "                   y_test = y_test).fit()\n",
    "y_predict_dt = dt.predict()"
   ]
  },
  {
   "cell_type": "code",
   "execution_count": 12,
   "metadata": {},
   "outputs": [
    {
     "name": "stdout",
     "output_type": "stream",
     "text": [
      "Model Score: 0.925793382849426\n",
      "\n",
      "              precision    recall  f1-score   support\n",
      "\n",
      "        Loss       0.92      0.93      0.93      7453\n",
      "         Win       0.93      0.92      0.92      7357\n",
      "\n",
      "    accuracy                           0.93     14810\n",
      "   macro avg       0.93      0.93      0.93     14810\n",
      "weighted avg       0.93      0.93      0.93     14810\n",
      "\n",
      "      Loss   Win\n",
      "Loss  6940   513\n",
      "Win    586  6771\n"
     ]
    },
    {
     "data": {
      "image/png": "[encoded data removed]",
      "text/plain": [
       "<Figure size 432x288 with 2 Axes>"
      ]
     },
     "metadata": {
      "needs_background": "light"
     },
     "output_type": "display_data"
    }
   ],
   "source": [
    "dt.analyze()"
   ]
  },
  {
   "cell_type": "code",
   "execution_count": 13,
   "metadata": {},
   "outputs": [],
   "source": [
    "# ju.plot_2d(X_test, y_predict_dt)"
   ]
  },
  {
   "cell_type": "code",
   "execution_count": 14,
   "metadata": {},
   "outputs": [],
   "source": [
    "dt.save()"
   ]
  },
  {
   "cell_type": "markdown",
   "metadata": {},
   "source": [
    "# Random Forest Classifier"
   ]
  },
  {
   "cell_type": "code",
   "execution_count": 15,
   "metadata": {},
   "outputs": [
    {
     "name": "stderr",
     "output_type": "stream",
     "text": [
      "//anaconda3/envs/capstone2/lib/python3.7/site-packages/sklearn/ensemble/forest.py:245: FutureWarning: The default value of n_estimators will change from 10 in version 0.20 to 100 in 0.22.\n",
      "  \"10 in version 0.20 to 100 in 0.22.\", FutureWarning)\n",
      "[Parallel(n_jobs=1)]: Using backend SequentialBackend with 1 concurrent workers.\n",
      "[Parallel(n_jobs=1)]: Done  10 out of  10 | elapsed:    7.8s finished\n",
      "[Parallel(n_jobs=1)]: Using backend SequentialBackend with 1 concurrent workers.\n",
      "[Parallel(n_jobs=1)]: Done  10 out of  10 | elapsed:    0.1s finished\n"
     ]
    }
   ],
   "source": [
    "\n",
    "# train our model\n",
    "\n",
    "rf = ModelWrapper(RandomForestClassifier(random_state=RSTATE, verbose=1),\n",
    "                  description = DESCRIPTION, \n",
    "                 data_file = FEATURE_FILE,\n",
    "                  start_year = START_YEAR,\n",
    "                  end_year = END_YEAR,\n",
    "                   X_train = X_train,\n",
    "                   y_train = y_train,\n",
    "                   X_test = X_test,\n",
    "                   y_test = y_test).fit()\n",
    "y_predict_rf = rf.predict()"
   ]
  },
  {
   "cell_type": "code",
   "execution_count": 16,
   "metadata": {},
   "outputs": [
    {
     "name": "stdout",
     "output_type": "stream",
     "text": [
      "Model Score: 0.8039837947332883\n",
      "\n",
      "              precision    recall  f1-score   support\n",
      "\n",
      "        Loss       0.79      0.84      0.81      7453\n",
      "         Win       0.83      0.77      0.80      7357\n",
      "\n",
      "    accuracy                           0.80     14810\n",
      "   macro avg       0.81      0.80      0.80     14810\n",
      "weighted avg       0.81      0.80      0.80     14810\n",
      "\n",
      "      Loss   Win\n",
      "Loss  6256  1197\n",
      "Win   1706  5651\n"
     ]
    },
    {
     "data": {
      "image/png": "[encoded data removed]",
      "text/plain": [
       "<Figure size 432x288 with 2 Axes>"
      ]
     },
     "metadata": {
      "needs_background": "light"
     },
     "output_type": "display_data"
    }
   ],
   "source": [
    "rf.analyze()"
   ]
  },
  {
   "cell_type": "code",
   "execution_count": 17,
   "metadata": {},
   "outputs": [],
   "source": [
    "# ju.plot_2d(X_test, y_predict_rf)"
   ]
  },
  {
   "cell_type": "code",
   "execution_count": 18,
   "metadata": {},
   "outputs": [],
   "source": [
    "rf.save()"
   ]
  },
  {
   "cell_type": "markdown",
   "metadata": {},
   "source": [
    "# Gradient Boosting"
   ]
  },
  {
   "cell_type": "code",
   "execution_count": 19,
   "metadata": {},
   "outputs": [
    {
     "name": "stdout",
     "output_type": "stream",
     "text": [
      "      Iter       Train Loss   Remaining Time \n",
      "         1           1.3157            9.50m\n",
      "         2           1.2579            9.31m\n",
      "         3           1.2102            9.20m\n",
      "         4           1.1722            9.12m\n",
      "         5           1.1405            9.22m\n",
      "         6           1.1058            9.17m\n",
      "         7           1.0785            9.16m\n",
      "         8           1.0558            8.99m\n",
      "         9           1.0321            8.84m\n",
      "        10           1.0159            8.71m\n",
      "        20           0.8899            7.87m\n",
      "        30           0.8228            6.78m\n",
      "        40           0.7862            5.80m\n",
      "        50           0.7597            4.79m\n",
      "        60           0.7419            3.82m\n",
      "        70           0.7280            2.83m\n",
      "        80           0.7033            1.89m\n",
      "        90           0.6871           56.39s\n",
      "       100           0.6785            0.00s\n"
     ]
    }
   ],
   "source": [
    "\n",
    "# train our model\n",
    "\n",
    "gb = ModelWrapper(GradientBoostingClassifier(random_state=RSTATE, verbose=1, n_iter_no_change = 4),\n",
    "                  description = DESCRIPTION, \n",
    "                 data_file = FEATURE_FILE,\n",
    "                  start_year = START_YEAR,\n",
    "                  end_year = END_YEAR,\n",
    "                   X_train = X_train,\n",
    "                   y_train = y_train,\n",
    "                   X_test = X_test,\n",
    "                   y_test = y_test).fit()\n",
    "y_predict_gb = gb.predict()"
   ]
  },
  {
   "cell_type": "code",
   "execution_count": 20,
   "metadata": {},
   "outputs": [
    {
     "name": "stdout",
     "output_type": "stream",
     "text": [
      "Model Score: 0.8552329507089804\n",
      "\n",
      "              precision    recall  f1-score   support\n",
      "\n",
      "        Loss       0.84      0.88      0.86      7453\n",
      "         Win       0.87      0.83      0.85      7357\n",
      "\n",
      "    accuracy                           0.86     14810\n",
      "   macro avg       0.86      0.86      0.86     14810\n",
      "weighted avg       0.86      0.86      0.86     14810\n",
      "\n",
      "      Loss   Win\n",
      "Loss  6558   895\n",
      "Win   1249  6108\n"
     ]
    },
    {
     "data": {
      "image/png": "[encoded data removed]",
      "text/plain": [
       "<Figure size 432x288 with 2 Axes>"
      ]
     },
     "metadata": {
      "needs_background": "light"
     },
     "output_type": "display_data"
    }
   ],
   "source": [
    "gb.analyze()"
   ]
  },
  {
   "cell_type": "code",
   "execution_count": 21,
   "metadata": {},
   "outputs": [],
   "source": [
    "# ju.plot_2d(X_test, y_predict_gb)"
   ]
  },
  {
   "cell_type": "code",
   "execution_count": 22,
   "metadata": {},
   "outputs": [],
   "source": [
    "gb.save()"
   ]
  },
  {
   "cell_type": "markdown",
   "metadata": {},
   "source": [
    "# AdaBoost"
   ]
  },
  {
   "cell_type": "code",
   "execution_count": 23,
   "metadata": {},
   "outputs": [],
   "source": [
    "ab = ModelWrapper(AdaBoostClassifier(random_state=RSTATE),\n",
    "                  description = DESCRIPTION, \n",
    "                 data_file = FEATURE_FILE,\n",
    "                  start_year = START_YEAR,\n",
    "                  end_year = END_YEAR,\n",
    "                   X_train = X_train,\n",
    "                   y_train = y_train,\n",
    "                   X_test = X_test,\n",
    "                   y_test = y_test).fit()\n",
    "y_predict_ab = ab.predict()"
   ]
  },
  {
   "cell_type": "code",
   "execution_count": 24,
   "metadata": {},
   "outputs": [
    {
     "name": "stdout",
     "output_type": "stream",
     "text": [
      "Model Score: 0.7492910195813639\n",
      "\n",
      "              precision    recall  f1-score   support\n",
      "\n",
      "        Loss       0.74      0.78      0.76      7453\n",
      "         Win       0.77      0.71      0.74      7357\n",
      "\n",
      "    accuracy                           0.75     14810\n",
      "   macro avg       0.75      0.75      0.75     14810\n",
      "weighted avg       0.75      0.75      0.75     14810\n",
      "\n",
      "      Loss   Win\n",
      "Loss  5847  1606\n",
      "Win   2107  5250\n"
     ]
    },
    {
     "data": {
      "image/png": "[encoded data removed]",
      "text/plain": [
       "<Figure size 432x288 with 2 Axes>"
      ]
     },
     "metadata": {
      "needs_background": "light"
     },
     "output_type": "display_data"
    }
   ],
   "source": [
    "ab.analyze()"
   ]
  },
  {
   "cell_type": "code",
   "execution_count": 25,
   "metadata": {},
   "outputs": [],
   "source": [
    "# ju.plot_2d(X_test, y_predict_ab)"
   ]
  },
  {
   "cell_type": "code",
   "execution_count": 26,
   "metadata": {},
   "outputs": [],
   "source": [
    "ab.save()"
   ]
  },
  {
   "cell_type": "markdown",
   "metadata": {},
   "source": [
    "# Results\n",
    "\n",
    "* Decision Tree is still our best model\n",
    "* no significant improvement for Adaboost\n",
    "* We did see significant improvement for KNN when we used this dataset\n",
    "* Gradient Boosting, Logistic Regression, Random Forest all did worse with this dataset"
   ]
  },
  {
   "cell_type": "code",
   "execution_count": 27,
   "metadata": {},
   "outputs": [
    {
     "data": {
      "text/html": [
       "<div>\n",
       "<style scoped>\n",
       "    .dataframe tbody tr th:only-of-type {\n",
       "        vertical-align: middle;\n",
       "    }\n",
       "\n",
       "    .dataframe tbody tr th {\n",
       "        vertical-align: top;\n",
       "    }\n",
       "\n",
       "    .dataframe thead th {\n",
       "        text-align: right;\n",
       "    }\n",
       "</style>\n",
       "<table border=\"1\" class=\"dataframe\">\n",
       "  <thead>\n",
       "    <tr style=\"text-align: right;\">\n",
       "      <th></th>\n",
       "      <th>model_name</th>\n",
       "      <th>description</th>\n",
       "      <th>data_file</th>\n",
       "      <th>start_year</th>\n",
       "      <th>accuracy</th>\n",
       "      <th>confusion_matrix</th>\n",
       "      <th>classification_report</th>\n",
       "      <th>model_file</th>\n",
       "      <th>predict_time_min</th>\n",
       "      <th>fit_time_min</th>\n",
       "    </tr>\n",
       "  </thead>\n",
       "  <tbody>\n",
       "    <tr>\n",
       "      <td>7</td>\n",
       "      <td>KNeighborsClassifier</td>\n",
       "      <td>diff-ohe</td>\n",
       "      <td>../datasets/atp_matches_1985-2019_features-dif...</td>\n",
       "      <td>1998</td>\n",
       "      <td>0.839905</td>\n",
       "      <td>{\"0\": {\"0\": 6345, \"1\": 1263}, \"1\": {\"0\": 1108,...</td>\n",
       "      <td>{\"Loss\": {\"precision\": 0.8339905362776026, \"re...</td>\n",
       "      <td>../models/kneighborsclassifier-1998-2018-diff-...</td>\n",
       "      <td>0.0</td>\n",
       "      <td>0.0</td>\n",
       "    </tr>\n",
       "    <tr>\n",
       "      <td>8</td>\n",
       "      <td>DecisionTreeClassifier</td>\n",
       "      <td>diff-ohe</td>\n",
       "      <td>../datasets/atp_matches_1985-2019_features-dif...</td>\n",
       "      <td>1998</td>\n",
       "      <td>0.925793</td>\n",
       "      <td>{\"0\": {\"0\": 6940, \"1\": 586}, \"1\": {\"0\": 513, \"...</td>\n",
       "      <td>{\"Loss\": {\"precision\": 0.9221365931437683, \"re...</td>\n",
       "      <td>../models/decisiontreeclassifier-1998-2018-dif...</td>\n",
       "      <td>0.0</td>\n",
       "      <td>0.0</td>\n",
       "    </tr>\n",
       "    <tr>\n",
       "      <td>9</td>\n",
       "      <td>RandomForestClassifier</td>\n",
       "      <td>diff-ohe</td>\n",
       "      <td>../datasets/atp_matches_1985-2019_features-dif...</td>\n",
       "      <td>1998</td>\n",
       "      <td>0.803984</td>\n",
       "      <td>{\"0\": {\"0\": 6256, \"1\": 1706}, \"1\": {\"0\": 1197,...</td>\n",
       "      <td>{\"Loss\": {\"precision\": 0.7857322280833962, \"re...</td>\n",
       "      <td>../models/randomforestclassifier-1998-2018-dif...</td>\n",
       "      <td>0.0</td>\n",
       "      <td>0.0</td>\n",
       "    </tr>\n",
       "    <tr>\n",
       "      <td>10</td>\n",
       "      <td>GradientBoostingClassifier</td>\n",
       "      <td>diff-ohe</td>\n",
       "      <td>../datasets/atp_matches_1985-2019_features-dif...</td>\n",
       "      <td>1998</td>\n",
       "      <td>0.855233</td>\n",
       "      <td>{\"0\": {\"0\": 6558, \"1\": 1249}, \"1\": {\"0\": 895, ...</td>\n",
       "      <td>{\"Loss\": {\"precision\": 0.840015370821058, \"rec...</td>\n",
       "      <td>../models/gradientboostingclassifier-1998-2018...</td>\n",
       "      <td>0.0</td>\n",
       "      <td>9.0</td>\n",
       "    </tr>\n",
       "    <tr>\n",
       "      <td>11</td>\n",
       "      <td>AdaBoostClassifier</td>\n",
       "      <td>diff-ohe</td>\n",
       "      <td>../datasets/atp_matches_1985-2019_features-dif...</td>\n",
       "      <td>1998</td>\n",
       "      <td>0.749291</td>\n",
       "      <td>{\"0\": {\"0\": 5847, \"1\": 2107}, \"1\": {\"0\": 1606,...</td>\n",
       "      <td>{\"Loss\": {\"precision\": 0.735101835554438, \"rec...</td>\n",
       "      <td>../models/adaboostclassifier-1998-2018-diff-oh...</td>\n",
       "      <td>0.0</td>\n",
       "      <td>1.0</td>\n",
       "    </tr>\n",
       "  </tbody>\n",
       "</table>\n",
       "</div>"
      ],
      "text/plain": [
       "                    model_name description  \\\n",
       "7         KNeighborsClassifier    diff-ohe   \n",
       "8       DecisionTreeClassifier    diff-ohe   \n",
       "9       RandomForestClassifier    diff-ohe   \n",
       "10  GradientBoostingClassifier    diff-ohe   \n",
       "11          AdaBoostClassifier    diff-ohe   \n",
       "\n",
       "                                            data_file  start_year  accuracy  \\\n",
       "7   ../datasets/atp_matches_1985-2019_features-dif...        1998  0.839905   \n",
       "8   ../datasets/atp_matches_1985-2019_features-dif...        1998  0.925793   \n",
       "9   ../datasets/atp_matches_1985-2019_features-dif...        1998  0.803984   \n",
       "10  ../datasets/atp_matches_1985-2019_features-dif...        1998  0.855233   \n",
       "11  ../datasets/atp_matches_1985-2019_features-dif...        1998  0.749291   \n",
       "\n",
       "                                     confusion_matrix  \\\n",
       "7   {\"0\": {\"0\": 6345, \"1\": 1263}, \"1\": {\"0\": 1108,...   \n",
       "8   {\"0\": {\"0\": 6940, \"1\": 586}, \"1\": {\"0\": 513, \"...   \n",
       "9   {\"0\": {\"0\": 6256, \"1\": 1706}, \"1\": {\"0\": 1197,...   \n",
       "10  {\"0\": {\"0\": 6558, \"1\": 1249}, \"1\": {\"0\": 895, ...   \n",
       "11  {\"0\": {\"0\": 5847, \"1\": 2107}, \"1\": {\"0\": 1606,...   \n",
       "\n",
       "                                classification_report  \\\n",
       "7   {\"Loss\": {\"precision\": 0.8339905362776026, \"re...   \n",
       "8   {\"Loss\": {\"precision\": 0.9221365931437683, \"re...   \n",
       "9   {\"Loss\": {\"precision\": 0.7857322280833962, \"re...   \n",
       "10  {\"Loss\": {\"precision\": 0.840015370821058, \"rec...   \n",
       "11  {\"Loss\": {\"precision\": 0.735101835554438, \"rec...   \n",
       "\n",
       "                                           model_file  predict_time_min  \\\n",
       "7   ../models/kneighborsclassifier-1998-2018-diff-...               0.0   \n",
       "8   ../models/decisiontreeclassifier-1998-2018-dif...               0.0   \n",
       "9   ../models/randomforestclassifier-1998-2018-dif...               0.0   \n",
       "10  ../models/gradientboostingclassifier-1998-2018...               0.0   \n",
       "11  ../models/adaboostclassifier-1998-2018-diff-oh...               0.0   \n",
       "\n",
       "    fit_time_min  \n",
       "7            0.0  \n",
       "8            0.0  \n",
       "9            0.0  \n",
       "10           9.0  \n",
       "11           1.0  "
      ]
     },
     "execution_count": 27,
     "metadata": {},
     "output_type": "execute_result"
    }
   ],
   "source": [
    "report = pd.read_csv(ab.report_file)\n",
    "report.tail(5)"
   ]
  },
  {
   "cell_type": "code",
   "execution_count": 30,
   "metadata": {},
   "outputs": [
    {
     "data": {
      "text/plain": [
       "Text(0.5, 1.0, 'Model Accuracy')"
      ]
     },
     "execution_count": 30,
     "metadata": {},
     "output_type": "execute_result"
    },
    {
     "data": {
      "image/png": "[encoded data removed]",
      "text/plain": [
       "<Figure size 1440x360 with 1 Axes>"
      ]
     },
     "metadata": {
      "needs_background": "light"
     },
     "output_type": "display_data"
    }
   ],
   "source": [
    "f, a = plt.subplots(1, 1, figsize=(20, 5))\n",
    "\n",
    "descs = report.description.unique()\n",
    "\n",
    "for desc in descs:\n",
    "    report_desc = report[report.description == desc]\n",
    "    sns.lineplot(x=\"model_name\", y=\"accuracy\", data=report_desc, label=desc)\n",
    "\n",
    "a.axhline(0.65, ls='--', color='r')\n",
    "a.set_title(f\"Model Accuracy\")"
   ]
  },
  {
   "cell_type": "code",
   "execution_count": null,
   "metadata": {},
   "outputs": [],
   "source": []
  },
  {
   "cell_type": "code",
   "execution_count": null,
   "metadata": {},
   "outputs": [],
   "source": []
  }
 ],
 "metadata": {
  "kernelspec": {
   "display_name": "Python 3",
   "language": "python",
   "name": "python3"
  },
  "language_info": {
   "codemirror_mode": {
    "name": "ipython",
    "version": 3
   },
   "file_extension": ".py",
   "mimetype": "text/x-python",
   "name": "python",
   "nbconvert_exporter": "python",
   "pygments_lexer": "ipython3",
   "version": "3.7.3"
  }
 },
 "nbformat": 4,
 "nbformat_minor": 4
}
