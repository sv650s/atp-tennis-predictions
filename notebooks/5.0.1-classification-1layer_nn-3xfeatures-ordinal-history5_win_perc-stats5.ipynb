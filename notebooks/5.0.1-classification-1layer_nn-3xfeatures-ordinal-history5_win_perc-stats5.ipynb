{
  "nbformat": 4,
  "nbformat_minor": 0,
  "metadata": {
    "colab": {
      "name": "5.0.1-classification-1layer_nn-3xfeatures-ordinal-history5_win_perc-stats5.ipynb",
      "provenance": [],
      "collapsed_sections": [],
      "machine_shape": "hm",
      "include_colab_link": true
    },
    "kernelspec": {
      "name": "python3",
      "display_name": "Python 3"
    },
    "accelerator": "GPU"
  },
  "cells": [
    {
      "cell_type": "markdown",
      "metadata": {
        "id": "view-in-github",
        "colab_type": "text"
      },
      "source": [
        "<a href=\"https://colab.research.google.com/github/sv650s/atp-tennis-predictions/blob/dataset2/notebooks/5.0.1-classification-1layer_nn-3xfeatures-ordinal-history5_win_perc-stats5.ipynb\" target=\"_parent\"><img src=\"https://colab.research.google.com/assets/colab-badge.svg\" alt=\"Open In Colab\"/></a>"
      ]
    },
    {
      "cell_type": "markdown",
      "metadata": {
        "id": "maNMeGSioSdx",
        "colab_type": "text"
      },
      "source": [
        "# ATP Tennis Data - NN Using One Hot Encoding\n",
        "\n",
        "In this notebook, I we will run our data through a 1 layer NN where number of hidden units is 3x number of features\n",
        "\n",
        "Columns that will be used in this notebook are:\n",
        "* raw ordinal features -ie, p1/p2_rank, p1/p2_height\n",
        "* history win percentage for each player for the last 5 maches\n",
        "* raw player stats from last 5 maches\n",
        "\n",
        "We will compare the results of the NN with the Gradient Boosting model\n",
        "\n",
        "```\n",
        "Model Score: 0.6829169480081027\n",
        "\n",
        "ROC/AUC Score: 0.6829166839061929\n",
        "              precision    recall  f1-score   support\n",
        "\n",
        "        Loss       0.68      0.68      0.68     14815\n",
        "         Win       0.68      0.68      0.68     14805\n",
        "\n",
        "    accuracy                           0.68     29620\n",
        "   macro avg       0.68      0.68      0.68     29620\n",
        "weighted avg       0.68      0.68      0.68     29620\n",
        "```\n",
        "\n",
        "# Results\n"
      ]
    },
    {
      "cell_type": "code",
      "metadata": {
        "id": "KAcNYkLbn46s",
        "colab_type": "code",
        "outputId": "01ed61f7-02a1-40ad-891c-ba85fa6145cc",
        "colab": {
          "base_uri": "https://localhost:8080/",
          "height": 122
        }
      },
      "source": [
        "from google.colab import drive\n",
        "drive.mount('/content/drive')\n"
      ],
      "execution_count": 1,
      "outputs": [
        {
          "output_type": "stream",
          "text": [
            "Go to this URL in a browser: https://accounts.google.com/o/oauth2/auth?client_id=947318989803-6bn6qk8qdgf4n4g3pfee6491hc0brc4i.apps.googleusercontent.com&redirect_uri=urn%3Aietf%3Awg%3Aoauth%3A2.0%3Aoob&scope=email%20https%3A%2F%2Fwww.googleapis.com%2Fauth%2Fdocs.test%20https%3A%2F%2Fwww.googleapis.com%2Fauth%2Fdrive%20https%3A%2F%2Fwww.googleapis.com%2Fauth%2Fdrive.photos.readonly%20https%3A%2F%2Fwww.googleapis.com%2Fauth%2Fpeopleapi.readonly&response_type=code\n",
            "\n",
            "Enter your authorization code:\n",
            "··········\n",
            "Mounted at /content/drive\n"
          ],
          "name": "stdout"
        }
      ]
    },
    {
      "cell_type": "code",
      "metadata": {
        "id": "A56-84YeuRCZ",
        "colab_type": "code",
        "outputId": "279cfc26-dad0-450b-9f8b-c30bbb8a9715",
        "colab": {
          "base_uri": "https://localhost:8080/",
          "height": 51
        }
      },
      "source": [
        "%tensorflow_version 2.x\n",
        "\n",
        "\n",
        "import tensorflow as tf\n",
        "# checl to make sure we are using GPU here\n",
        "tf.test.gpu_device_name()"
      ],
      "execution_count": 2,
      "outputs": [
        {
          "output_type": "stream",
          "text": [
            "TensorFlow 2.x selected.\n"
          ],
          "name": "stdout"
        },
        {
          "output_type": "execute_result",
          "data": {
            "text/plain": [
              "'/device:GPU:0'"
            ]
          },
          "metadata": {
            "tags": []
          },
          "execution_count": 2
        }
      ]
    },
    {
      "cell_type": "code",
      "metadata": {
        "id": "Q6FhTGhHo8RT",
        "colab_type": "code",
        "outputId": "45dc9c25-ea39-43ad-d1bd-69e71152c59d",
        "colab": {
          "base_uri": "https://localhost:8080/",
          "height": 51
        }
      },
      "source": [
        "import sys\n",
        "import pandas as pd\n",
        "import numpy as np\n",
        "from datetime import datetime\n",
        "import pickle\n",
        "import json\n",
        "import sys\n",
        "import matplotlib.pyplot as plt\n",
        "import seaborn as sns\n",
        "import logging\n",
        "\n",
        "from sklearn.model_selection import train_test_split\n",
        "from sklearn.metrics import classification_report, confusion_matrix, accuracy_score\n",
        "from sklearn.preprocessing import OneHotEncoder\n",
        "\n",
        "from keras.models import Sequential\n",
        "from keras.layers import Dense, Activation, Dropout\n",
        "from keras.layers.normalization import BatchNormalization\n",
        "from keras.callbacks import EarlyStopping, ReduceLROnPlateau, ModelCheckpoint\n",
        "from keras.optimizers import SGD\n",
        "\n",
        "# add our google drive directory to path so we can load custom modules\n",
        "DRIVE_DIR = \"drive/My Drive/Springboard/capstone2\"\n",
        "sys.path.append(DRIVE_DIR)\n",
        "import util.model_util as mu\n",
        "from util.model_util import LABEL_COL, RSTATE\n",
        "\n",
        "\n",
        "logging.basicConfig(level=logging.INFO)\n",
        "%matplotlib inline\n",
        "sns.set()\n",
        "\n",
        "tf.test.gpu_device_name()"
      ],
      "execution_count": 3,
      "outputs": [
        {
          "output_type": "stream",
          "text": [
            "Using TensorFlow backend.\n"
          ],
          "name": "stderr"
        },
        {
          "output_type": "execute_result",
          "data": {
            "text/plain": [
              "'/device:GPU:0'"
            ]
          },
          "metadata": {
            "tags": []
          },
          "execution_count": 3
        }
      ]
    },
    {
      "cell_type": "code",
      "metadata": {
        "id": "sO579yKwn46J",
        "colab_type": "code",
        "colab": {}
      },
      "source": [
        "DATASET_DIR = f'{DRIVE_DIR}/datasets'\n",
        "MODEL_DIR = f'{DRIVE_DIR}/models'\n",
        "REPORT_DIR = f'{DRIVE_DIR}/reports'\n",
        "\n",
        "START_YEAR = 1998\n",
        "END_YEAR = 2018\n",
        "\n",
        "DEBUG = False\n",
        "MODEL_NAME = 'nn_1layer-3xfeatures-ordinal-history5_win_perc-stats5'\n",
        "\n",
        "\n",
        "if DEBUG:\n",
        "  FEATURE_FILE = f'{DATASET_DIR}/atp_matches_1985-2019_features_test-raw_diff-ohe-history-matchup-stats.csv'\n",
        "  MODEL_NAME = f'{MODEL_NAME}-test'\n",
        "  mu.ModelWrapper.REPORT_FILE = f'{DRIVE_DIR}/reports/summary-test.csv'\n",
        "  mu.ModelWrapper.MODEL_DIR = f'{DRIVE_DIR}/models'\n",
        "else:\n",
        "  FEATURE_FILE = f'{DATASET_DIR}/atp_matches_1985-2019_features-raw_diff-ohe-history-matchup-stats.csv'\n",
        "  mu.ModelWrapper.REPORT_FILE = f'{DRIVE_DIR}/reports/summary.csv'\n",
        "  mu.ModelWrapper.MODEL_DIR = f'{DRIVE_DIR}/models'\n"
      ],
      "execution_count": 0,
      "outputs": []
    },
    {
      "cell_type": "code",
      "metadata": {
        "id": "zRGm73EhWkPA",
        "colab_type": "code",
        "outputId": "1a2bbc7f-dac5-4cd1-f0bc-8e6b2736f677",
        "colab": {
          "base_uri": "https://localhost:8080/",
          "height": 462
        }
      },
      "source": [
        "filters = [\"util.model_util.BaseOrdinalFilter\", \"util.model_util.History5WinPercentageFilter\", \"util.model_util.Stats5RawFilter\"]\n",
        "MODEL_BASENAME = f'{MODEL_DIR}/{MODEL_NAME}'\n",
        "\n",
        "\n",
        "features, labels = mu.ModelWrapper.get_data(FEATURE_FILE, LABEL_COL, START_YEAR, END_YEAR, column_filters = filters,\n",
        "                                                split_train_test = False)\n",
        "print(features.shape)\n",
        "print(labels.head())\n",
        "features.head()"
      ],
      "execution_count": 5,
      "outputs": [
        {
          "output_type": "stream",
          "text": [
            "INFO:util.model_util:Adding filter: util.model_util.BaseOrdinalFilter\n",
            "INFO:util.model_util:Adding filter: util.model_util.History5WinPercentageFilter\n",
            "INFO:util.model_util:Adding filter: util.model_util.Stats5RawFilter\n",
            "INFO:util.model_util:loading drive/My Drive/Springboard/capstone2/datasets/atp_matches_1985-2019_features-raw_diff-ohe-history-matchup-stats.csv\n",
            "INFO:util.model_util:Shape before filtering: (118478, 5464)\n",
            "INFO:util.model_util:Shape after filtering: (118478, 31)\n",
            "INFO:util.model_util:Final Features shape: (118478, 31)\n"
          ],
          "name": "stderr"
        },
        {
          "output_type": "stream",
          "text": [
            "(118478, 31)\n",
            "81324    1\n",
            "81325    0\n",
            "81326    1\n",
            "81327    0\n",
            "81328    1\n",
            "Name: p1_winner, dtype: int64\n"
          ],
          "name": "stdout"
        },
        {
          "output_type": "execute_result",
          "data": {
            "text/html": [
              "<div>\n",
              "<style scoped>\n",
              "    .dataframe tbody tr th:only-of-type {\n",
              "        vertical-align: middle;\n",
              "    }\n",
              "\n",
              "    .dataframe tbody tr th {\n",
              "        vertical-align: top;\n",
              "    }\n",
              "\n",
              "    .dataframe thead th {\n",
              "        text-align: right;\n",
              "    }\n",
              "</style>\n",
              "<table border=\"1\" class=\"dataframe\">\n",
              "  <thead>\n",
              "    <tr style=\"text-align: right;\">\n",
              "      <th></th>\n",
              "      <th>draw_size</th>\n",
              "      <th>round_label</th>\n",
              "      <th>tourney_level_label</th>\n",
              "      <th>tourney_month</th>\n",
              "      <th>tourney_year</th>\n",
              "      <th>p1_age</th>\n",
              "      <th>p1_ht</th>\n",
              "      <th>p1_rank</th>\n",
              "      <th>p2_age</th>\n",
              "      <th>p2_ht</th>\n",
              "      <th>p2_rank</th>\n",
              "      <th>p1_history5_win_percentage</th>\n",
              "      <th>p2_history5_win_percentage</th>\n",
              "      <th>p1_stats5_1stin</th>\n",
              "      <th>p1_stats5_1stwon</th>\n",
              "      <th>p1_stats5_2ndwon</th>\n",
              "      <th>p1_stats5_ace</th>\n",
              "      <th>p1_stats5_bpfaced</th>\n",
              "      <th>p1_stats5_bpsaved</th>\n",
              "      <th>p1_stats5_df</th>\n",
              "      <th>p1_stats5_svgms</th>\n",
              "      <th>p1_stats5_svpt</th>\n",
              "      <th>p2_stats5_1stin</th>\n",
              "      <th>p2_stats5_1stwon</th>\n",
              "      <th>p2_stats5_2ndwon</th>\n",
              "      <th>p2_stats5_ace</th>\n",
              "      <th>p2_stats5_bpfaced</th>\n",
              "      <th>p2_stats5_bpsaved</th>\n",
              "      <th>p2_stats5_df</th>\n",
              "      <th>p2_stats5_svgms</th>\n",
              "      <th>p2_stats5_svpt</th>\n",
              "    </tr>\n",
              "  </thead>\n",
              "  <tbody>\n",
              "    <tr>\n",
              "      <th>81324</th>\n",
              "      <td>32</td>\n",
              "      <td>5</td>\n",
              "      <td>4</td>\n",
              "      <td>1</td>\n",
              "      <td>1998</td>\n",
              "      <td>25.79</td>\n",
              "      <td>183.0</td>\n",
              "      <td>4</td>\n",
              "      <td>26.61</td>\n",
              "      <td>188.0</td>\n",
              "      <td>74</td>\n",
              "      <td>0.6</td>\n",
              "      <td>0.4</td>\n",
              "      <td>36</td>\n",
              "      <td>26</td>\n",
              "      <td>14</td>\n",
              "      <td>6</td>\n",
              "      <td>6</td>\n",
              "      <td>4</td>\n",
              "      <td>2</td>\n",
              "      <td>9</td>\n",
              "      <td>65</td>\n",
              "      <td>45</td>\n",
              "      <td>31</td>\n",
              "      <td>16</td>\n",
              "      <td>4</td>\n",
              "      <td>7</td>\n",
              "      <td>4</td>\n",
              "      <td>2</td>\n",
              "      <td>12</td>\n",
              "      <td>76</td>\n",
              "    </tr>\n",
              "    <tr>\n",
              "      <th>81325</th>\n",
              "      <td>32</td>\n",
              "      <td>5</td>\n",
              "      <td>4</td>\n",
              "      <td>1</td>\n",
              "      <td>1998</td>\n",
              "      <td>26.61</td>\n",
              "      <td>188.0</td>\n",
              "      <td>74</td>\n",
              "      <td>25.79</td>\n",
              "      <td>183.0</td>\n",
              "      <td>4</td>\n",
              "      <td>0.4</td>\n",
              "      <td>0.6</td>\n",
              "      <td>45</td>\n",
              "      <td>31</td>\n",
              "      <td>16</td>\n",
              "      <td>4</td>\n",
              "      <td>7</td>\n",
              "      <td>4</td>\n",
              "      <td>2</td>\n",
              "      <td>12</td>\n",
              "      <td>76</td>\n",
              "      <td>36</td>\n",
              "      <td>26</td>\n",
              "      <td>14</td>\n",
              "      <td>6</td>\n",
              "      <td>6</td>\n",
              "      <td>4</td>\n",
              "      <td>2</td>\n",
              "      <td>9</td>\n",
              "      <td>65</td>\n",
              "    </tr>\n",
              "    <tr>\n",
              "      <th>81326</th>\n",
              "      <td>32</td>\n",
              "      <td>5</td>\n",
              "      <td>4</td>\n",
              "      <td>1</td>\n",
              "      <td>1998</td>\n",
              "      <td>27.76</td>\n",
              "      <td>185.0</td>\n",
              "      <td>79</td>\n",
              "      <td>22.85</td>\n",
              "      <td>175.0</td>\n",
              "      <td>87</td>\n",
              "      <td>0.4</td>\n",
              "      <td>0.4</td>\n",
              "      <td>43</td>\n",
              "      <td>33</td>\n",
              "      <td>20</td>\n",
              "      <td>8</td>\n",
              "      <td>6</td>\n",
              "      <td>3</td>\n",
              "      <td>3</td>\n",
              "      <td>13</td>\n",
              "      <td>82</td>\n",
              "      <td>46</td>\n",
              "      <td>26</td>\n",
              "      <td>10</td>\n",
              "      <td>0</td>\n",
              "      <td>8</td>\n",
              "      <td>3</td>\n",
              "      <td>3</td>\n",
              "      <td>10</td>\n",
              "      <td>68</td>\n",
              "    </tr>\n",
              "    <tr>\n",
              "      <th>81327</th>\n",
              "      <td>32</td>\n",
              "      <td>5</td>\n",
              "      <td>4</td>\n",
              "      <td>1</td>\n",
              "      <td>1998</td>\n",
              "      <td>22.85</td>\n",
              "      <td>175.0</td>\n",
              "      <td>87</td>\n",
              "      <td>27.76</td>\n",
              "      <td>185.0</td>\n",
              "      <td>79</td>\n",
              "      <td>0.4</td>\n",
              "      <td>0.4</td>\n",
              "      <td>46</td>\n",
              "      <td>26</td>\n",
              "      <td>10</td>\n",
              "      <td>0</td>\n",
              "      <td>8</td>\n",
              "      <td>3</td>\n",
              "      <td>3</td>\n",
              "      <td>10</td>\n",
              "      <td>68</td>\n",
              "      <td>43</td>\n",
              "      <td>33</td>\n",
              "      <td>20</td>\n",
              "      <td>8</td>\n",
              "      <td>6</td>\n",
              "      <td>3</td>\n",
              "      <td>3</td>\n",
              "      <td>13</td>\n",
              "      <td>82</td>\n",
              "    </tr>\n",
              "    <tr>\n",
              "      <th>81328</th>\n",
              "      <td>32</td>\n",
              "      <td>5</td>\n",
              "      <td>4</td>\n",
              "      <td>1</td>\n",
              "      <td>1998</td>\n",
              "      <td>21.76</td>\n",
              "      <td>185.0</td>\n",
              "      <td>93</td>\n",
              "      <td>23.08</td>\n",
              "      <td>185.0</td>\n",
              "      <td>71</td>\n",
              "      <td>0.4</td>\n",
              "      <td>0.2</td>\n",
              "      <td>38</td>\n",
              "      <td>27</td>\n",
              "      <td>13</td>\n",
              "      <td>5</td>\n",
              "      <td>7</td>\n",
              "      <td>5</td>\n",
              "      <td>1</td>\n",
              "      <td>9</td>\n",
              "      <td>64</td>\n",
              "      <td>39</td>\n",
              "      <td>31</td>\n",
              "      <td>11</td>\n",
              "      <td>9</td>\n",
              "      <td>4</td>\n",
              "      <td>2</td>\n",
              "      <td>2</td>\n",
              "      <td>11</td>\n",
              "      <td>68</td>\n",
              "    </tr>\n",
              "  </tbody>\n",
              "</table>\n",
              "</div>"
            ],
            "text/plain": [
              "       draw_size  round_label  ...  p2_stats5_svgms  p2_stats5_svpt\n",
              "81324         32            5  ...               12              76\n",
              "81325         32            5  ...                9              65\n",
              "81326         32            5  ...               10              68\n",
              "81327         32            5  ...               13              82\n",
              "81328         32            5  ...               11              68\n",
              "\n",
              "[5 rows x 31 columns]"
            ]
          },
          "metadata": {
            "tags": []
          },
          "execution_count": 5
        }
      ]
    },
    {
      "cell_type": "code",
      "metadata": {
        "id": "FmAY5jvsYXKM",
        "colab_type": "code",
        "outputId": "d85248c9-b199-47bc-a692-31f8ab3d9c98",
        "colab": {
          "base_uri": "https://localhost:8080/",
          "height": 102
        }
      },
      "source": [
        "# one hot encode our labels for Keras\n",
        "label_encoder = OneHotEncoder(handle_unknown='ignore', sparse=False)\n",
        "labels_encoded = label_encoder.fit_transform(pd.DataFrame(labels))\n",
        "labels_encoded[:5]"
      ],
      "execution_count": 6,
      "outputs": [
        {
          "output_type": "execute_result",
          "data": {
            "text/plain": [
              "array([[0., 1.],\n",
              "       [1., 0.],\n",
              "       [0., 1.],\n",
              "       [1., 0.],\n",
              "       [0., 1.]])"
            ]
          },
          "metadata": {
            "tags": []
          },
          "execution_count": 6
        }
      ]
    },
    {
      "cell_type": "code",
      "metadata": {
        "id": "gg8Z0Sz_WbqZ",
        "colab_type": "code",
        "colab": {}
      },
      "source": [
        "# split into training and test set\n",
        "X_train, X_test, y_train_encoded, y_test_encoded = train_test_split(features, labels_encoded)\n",
        "y_test = label_encoder.inverse_transform(y_test_encoded)"
      ],
      "execution_count": 0,
      "outputs": []
    },
    {
      "cell_type": "code",
      "metadata": {
        "id": "7CBvO5xwcGnw",
        "colab_type": "code",
        "outputId": "22d98277-0562-4fef-fcad-48e7ed93ec85",
        "colab": {
          "base_uri": "https://localhost:8080/",
          "height": 34
        }
      },
      "source": [
        "X_train.shape"
      ],
      "execution_count": 8,
      "outputs": [
        {
          "output_type": "execute_result",
          "data": {
            "text/plain": [
              "(88858, 31)"
            ]
          },
          "metadata": {
            "tags": []
          },
          "execution_count": 8
        }
      ]
    },
    {
      "cell_type": "markdown",
      "metadata": {
        "id": "Y0vIecdvpHOx",
        "colab_type": "text"
      },
      "source": [
        "# Implement Neural Network\n",
        "\n"
      ]
    },
    {
      "cell_type": "code",
      "metadata": {
        "id": "9TDPA9XWoe0m",
        "colab_type": "code",
        "outputId": "eab2de73-28a5-433b-810c-0565f0c54545",
        "colab": {
          "base_uri": "https://localhost:8080/",
          "height": 323
        }
      },
      "source": [
        "from tensorflow.keras.models import Sequential \n",
        "from tensorflow.keras.layers import Dense, Activation, BatchNormalization\n",
        "from tensorflow.keras import regularizers\n",
        "import tensorflow.keras as K\n",
        "\n",
        "RSTATE = 1\n",
        "\n",
        "output_dim = nb_classes = 2\n",
        "model_lr = Sequential() \n",
        "model_lr.add(Dense(X_train.shape[1] * 2, \n",
        "                   input_shape=(X_train.shape[1], ),\n",
        "                   kernel_regularizer=regularizers.l2(0.01),\n",
        "                   kernel_initializer=K.initializers.glorot_uniform(seed=RSTATE))) \n",
        "model_lr.add(BatchNormalization())\n",
        "model_lr.add(Activation(\"relu\"))\n",
        "\n",
        "\n",
        "model_lr.add(Dense(output_dim, \n",
        "                   kernel_initializer=K.initializers.glorot_uniform(seed=RSTATE))) \n",
        "model_lr.add(Activation(\"softmax\"))\n",
        "batch_size = 129 \n",
        "epochs = 100\n",
        "\n",
        "model_lr.compile(optimizer='sgd', loss='binary_crossentropy', metrics=['accuracy']) \n",
        "\n",
        "model_json = model_lr.to_json()\n",
        "with open(f'{MODEL_BASENAME}.json', 'w') as file:\n",
        "  file.write(model_json)\n",
        "\n",
        "model_lr.summary()"
      ],
      "execution_count": 9,
      "outputs": [
        {
          "output_type": "stream",
          "text": [
            "Model: \"sequential\"\n",
            "_________________________________________________________________\n",
            "Layer (type)                 Output Shape              Param #   \n",
            "=================================================================\n",
            "dense (Dense)                (None, 62)                1984      \n",
            "_________________________________________________________________\n",
            "batch_normalization (BatchNo (None, 62)                248       \n",
            "_________________________________________________________________\n",
            "activation (Activation)      (None, 62)                0         \n",
            "_________________________________________________________________\n",
            "dense_1 (Dense)              (None, 2)                 126       \n",
            "_________________________________________________________________\n",
            "activation_1 (Activation)    (None, 2)                 0         \n",
            "=================================================================\n",
            "Total params: 2,358\n",
            "Trainable params: 2,234\n",
            "Non-trainable params: 124\n",
            "_________________________________________________________________\n"
          ],
          "name": "stdout"
        }
      ]
    },
    {
      "cell_type": "code",
      "metadata": {
        "id": "VT7DyAeqXg4c",
        "colab_type": "code",
        "outputId": "6c1d27c2-97fc-42b2-d23e-0e2b607f9faf",
        "colab": {
          "base_uri": "https://localhost:8080/",
          "height": 1000
        }
      },
      "source": [
        "from tensorflow.keras.callbacks import EarlyStopping, ModelCheckpoint, ReduceLROnPlateau\n",
        "\n",
        "callbacks = [EarlyStopping(monitor='val_loss', patience=10, restore_best_weights=True, verbose=1),\n",
        "             ModelCheckpoint(filepath=f'{MODEL_BASENAME}.h5', monitor='val_loss', save_best_only=True),\n",
        "             ReduceLROnPlateau(monitor='val_loss', factor=0.4,patience=2, min_lr=0.00001, mode='auto')]\n",
        "\n",
        "\n",
        "history = model_lr.fit(X_train, y_train_encoded, \n",
        "                       batch_size=batch_size, \n",
        "                       epochs=epochs,\n",
        "                       verbose=1, \n",
        "                       validation_split=0.2,\n",
        "                       callbacks=callbacks) \n",
        "\n",
        "# evalute our model\n",
        "score = model_lr.evaluate(X_test, y_test_encoded, verbose=0) \n",
        "print('Test score:', score[0]) \n",
        "print('Test accuracy:', score[1])"
      ],
      "execution_count": 10,
      "outputs": [
        {
          "output_type": "stream",
          "text": [
            "WARNING:tensorflow:Falling back from v2 loop because of error: Failed to find data adapter that can handle input: <class 'pandas.core.frame.DataFrame'>, <class 'NoneType'>\n"
          ],
          "name": "stdout"
        },
        {
          "output_type": "stream",
          "text": [
            "WARNING:tensorflow:Falling back from v2 loop because of error: Failed to find data adapter that can handle input: <class 'pandas.core.frame.DataFrame'>, <class 'NoneType'>\n"
          ],
          "name": "stderr"
        },
        {
          "output_type": "stream",
          "text": [
            "Train on 71086 samples, validate on 17772 samples\n",
            "Epoch 1/100\n",
            "71086/71086 [==============================] - 4s 62us/sample - loss: 1.0122 - accuracy: 0.6372 - val_loss: 0.9656 - val_accuracy: 0.6426\n",
            "Epoch 2/100\n",
            "71086/71086 [==============================] - 3s 39us/sample - loss: 0.9262 - accuracy: 0.6482 - val_loss: 0.9116 - val_accuracy: 0.6293\n",
            "Epoch 3/100\n",
            "71086/71086 [==============================] - 3s 39us/sample - loss: 0.8665 - accuracy: 0.6481 - val_loss: 0.8775 - val_accuracy: 0.6244\n",
            "Epoch 4/100\n",
            "71086/71086 [==============================] - 3s 39us/sample - loss: 0.8185 - accuracy: 0.6492 - val_loss: 0.8087 - val_accuracy: 0.6370\n",
            "Epoch 5/100\n",
            "71086/71086 [==============================] - 3s 38us/sample - loss: 0.7799 - accuracy: 0.6490 - val_loss: 0.7779 - val_accuracy: 0.6270\n",
            "Epoch 6/100\n",
            "71086/71086 [==============================] - 3s 38us/sample - loss: 0.7491 - accuracy: 0.6494 - val_loss: 0.7656 - val_accuracy: 0.6301\n",
            "Epoch 7/100\n",
            "71086/71086 [==============================] - 3s 39us/sample - loss: 0.7245 - accuracy: 0.6505 - val_loss: 0.7338 - val_accuracy: 0.6312\n",
            "Epoch 8/100\n",
            "71086/71086 [==============================] - 3s 38us/sample - loss: 0.7043 - accuracy: 0.6513 - val_loss: 0.7764 - val_accuracy: 0.5770\n",
            "Epoch 9/100\n",
            "71086/71086 [==============================] - 3s 38us/sample - loss: 0.6885 - accuracy: 0.6509 - val_loss: 0.8129 - val_accuracy: 0.5603\n",
            "Epoch 10/100\n",
            "71086/71086 [==============================] - 3s 38us/sample - loss: 0.6783 - accuracy: 0.6530 - val_loss: 0.6864 - val_accuracy: 0.6357\n",
            "Epoch 11/100\n",
            "71086/71086 [==============================] - 3s 38us/sample - loss: 0.6733 - accuracy: 0.6518 - val_loss: 0.6755 - val_accuracy: 0.6506\n",
            "Epoch 12/100\n",
            "71086/71086 [==============================] - 3s 37us/sample - loss: 0.6693 - accuracy: 0.6527 - val_loss: 0.6769 - val_accuracy: 0.6372\n",
            "Epoch 13/100\n",
            "71086/71086 [==============================] - 3s 38us/sample - loss: 0.6654 - accuracy: 0.6532 - val_loss: 0.6728 - val_accuracy: 0.6482\n",
            "Epoch 14/100\n",
            "71086/71086 [==============================] - 3s 42us/sample - loss: 0.6622 - accuracy: 0.6514 - val_loss: 0.7237 - val_accuracy: 0.5776\n",
            "Epoch 15/100\n",
            "71086/71086 [==============================] - 3s 43us/sample - loss: 0.6589 - accuracy: 0.6532 - val_loss: 0.6682 - val_accuracy: 0.6433\n",
            "Epoch 16/100\n",
            "71086/71086 [==============================] - 3s 43us/sample - loss: 0.6549 - accuracy: 0.6520 - val_loss: 0.6645 - val_accuracy: 0.6327\n",
            "Epoch 17/100\n",
            "71086/71086 [==============================] - 3s 41us/sample - loss: 0.6528 - accuracy: 0.6531 - val_loss: 0.6588 - val_accuracy: 0.6396\n",
            "Epoch 18/100\n",
            "71086/71086 [==============================] - 3s 38us/sample - loss: 0.6505 - accuracy: 0.6534 - val_loss: 0.8972 - val_accuracy: 0.5380\n",
            "Epoch 19/100\n",
            "71086/71086 [==============================] - 3s 39us/sample - loss: 0.6479 - accuracy: 0.6528 - val_loss: 0.6766 - val_accuracy: 0.6320\n",
            "Epoch 20/100\n",
            "71086/71086 [==============================] - 3s 40us/sample - loss: 0.6457 - accuracy: 0.6522 - val_loss: 0.6472 - val_accuracy: 0.6501\n",
            "Epoch 21/100\n",
            "71086/71086 [==============================] - 3s 37us/sample - loss: 0.6440 - accuracy: 0.6540 - val_loss: 0.6711 - val_accuracy: 0.6312\n",
            "Epoch 22/100\n",
            "71086/71086 [==============================] - 3s 38us/sample - loss: 0.6438 - accuracy: 0.6534 - val_loss: 0.6508 - val_accuracy: 0.6455\n",
            "Epoch 23/100\n",
            "71086/71086 [==============================] - 3s 42us/sample - loss: 0.6429 - accuracy: 0.6546 - val_loss: 0.6426 - val_accuracy: 0.6505\n",
            "Epoch 24/100\n",
            "71086/71086 [==============================] - 3s 38us/sample - loss: 0.6426 - accuracy: 0.6543 - val_loss: 0.6425 - val_accuracy: 0.6511\n",
            "Epoch 25/100\n",
            "71086/71086 [==============================] - 3s 38us/sample - loss: 0.6427 - accuracy: 0.6523 - val_loss: 0.6433 - val_accuracy: 0.6518\n",
            "Epoch 26/100\n",
            "71086/71086 [==============================] - 3s 39us/sample - loss: 0.6414 - accuracy: 0.6543 - val_loss: 0.6425 - val_accuracy: 0.6480\n",
            "Epoch 27/100\n",
            "71086/71086 [==============================] - 3s 39us/sample - loss: 0.6410 - accuracy: 0.6539 - val_loss: 0.6416 - val_accuracy: 0.6520\n",
            "Epoch 28/100\n",
            "71086/71086 [==============================] - 3s 38us/sample - loss: 0.6415 - accuracy: 0.6534 - val_loss: 0.6408 - val_accuracy: 0.6518\n",
            "Epoch 29/100\n",
            "71086/71086 [==============================] - 3s 40us/sample - loss: 0.6415 - accuracy: 0.6522 - val_loss: 0.6418 - val_accuracy: 0.6528\n",
            "Epoch 30/100\n",
            "71086/71086 [==============================] - 3s 40us/sample - loss: 0.6408 - accuracy: 0.6544 - val_loss: 0.6406 - val_accuracy: 0.6525\n",
            "Epoch 31/100\n",
            "71086/71086 [==============================] - 3s 38us/sample - loss: 0.6408 - accuracy: 0.6544 - val_loss: 0.6410 - val_accuracy: 0.6507\n",
            "Epoch 32/100\n",
            "71086/71086 [==============================] - 3s 38us/sample - loss: 0.6403 - accuracy: 0.6536 - val_loss: 0.6410 - val_accuracy: 0.6513\n",
            "Epoch 33/100\n",
            "71086/71086 [==============================] - 3s 41us/sample - loss: 0.6409 - accuracy: 0.6551 - val_loss: 0.6406 - val_accuracy: 0.6518\n",
            "Epoch 34/100\n",
            "71086/71086 [==============================] - 3s 39us/sample - loss: 0.6406 - accuracy: 0.6535 - val_loss: 0.6404 - val_accuracy: 0.6523\n",
            "Epoch 35/100\n",
            "71086/71086 [==============================] - 3s 40us/sample - loss: 0.6407 - accuracy: 0.6538 - val_loss: 0.6405 - val_accuracy: 0.6529\n",
            "Epoch 36/100\n",
            "71086/71086 [==============================] - 3s 38us/sample - loss: 0.6406 - accuracy: 0.6544 - val_loss: 0.6403 - val_accuracy: 0.6523\n",
            "Epoch 37/100\n",
            "71086/71086 [==============================] - 3s 38us/sample - loss: 0.6400 - accuracy: 0.6542 - val_loss: 0.6401 - val_accuracy: 0.6521\n",
            "Epoch 38/100\n",
            "71086/71086 [==============================] - 3s 38us/sample - loss: 0.6403 - accuracy: 0.6538 - val_loss: 0.6405 - val_accuracy: 0.6520\n",
            "Epoch 39/100\n",
            "71086/71086 [==============================] - 3s 38us/sample - loss: 0.6397 - accuracy: 0.6547 - val_loss: 0.6402 - val_accuracy: 0.6518\n",
            "Epoch 40/100\n",
            "71086/71086 [==============================] - 3s 38us/sample - loss: 0.6396 - accuracy: 0.6550 - val_loss: 0.6400 - val_accuracy: 0.6519\n",
            "Epoch 41/100\n",
            "71086/71086 [==============================] - 3s 38us/sample - loss: 0.6403 - accuracy: 0.6536 - val_loss: 0.6403 - val_accuracy: 0.6516\n",
            "Epoch 42/100\n",
            "71086/71086 [==============================] - 3s 37us/sample - loss: 0.6404 - accuracy: 0.6542 - val_loss: 0.6402 - val_accuracy: 0.6515\n",
            "Epoch 43/100\n",
            "71086/71086 [==============================] - 3s 38us/sample - loss: 0.6406 - accuracy: 0.6540 - val_loss: 0.6401 - val_accuracy: 0.6518\n",
            "Epoch 44/100\n",
            "71086/71086 [==============================] - 3s 38us/sample - loss: 0.6405 - accuracy: 0.6546 - val_loss: 0.6401 - val_accuracy: 0.6515\n",
            "Epoch 45/100\n",
            "71086/71086 [==============================] - 3s 38us/sample - loss: 0.6402 - accuracy: 0.6551 - val_loss: 0.6400 - val_accuracy: 0.6518\n",
            "Epoch 46/100\n",
            "71086/71086 [==============================] - 3s 38us/sample - loss: 0.6398 - accuracy: 0.6548 - val_loss: 0.6401 - val_accuracy: 0.6520\n",
            "Epoch 47/100\n",
            "71086/71086 [==============================] - 3s 38us/sample - loss: 0.6408 - accuracy: 0.6536 - val_loss: 0.6401 - val_accuracy: 0.6515\n",
            "Epoch 48/100\n",
            "71086/71086 [==============================] - 3s 39us/sample - loss: 0.6403 - accuracy: 0.6538 - val_loss: 0.6401 - val_accuracy: 0.6511\n",
            "Epoch 49/100\n",
            "71086/71086 [==============================] - 3s 39us/sample - loss: 0.6399 - accuracy: 0.6539 - val_loss: 0.6402 - val_accuracy: 0.6512\n",
            "Epoch 50/100\n",
            "69918/71086 [============================>.] - ETA: 0s - loss: 0.6402 - accuracy: 0.6555Restoring model weights from the end of the best epoch.\n",
            "71086/71086 [==============================] - 3s 38us/sample - loss: 0.6404 - accuracy: 0.6555 - val_loss: 0.6401 - val_accuracy: 0.6512\n",
            "Epoch 00050: early stopping\n",
            "WARNING:tensorflow:Falling back from v2 loop because of error: Failed to find data adapter that can handle input: <class 'pandas.core.frame.DataFrame'>, <class 'NoneType'>\n"
          ],
          "name": "stdout"
        },
        {
          "output_type": "stream",
          "text": [
            "WARNING:tensorflow:Falling back from v2 loop because of error: Failed to find data adapter that can handle input: <class 'pandas.core.frame.DataFrame'>, <class 'NoneType'>\n"
          ],
          "name": "stderr"
        },
        {
          "output_type": "stream",
          "text": [
            "Test score: 0.6407198731034772\n",
            "Test accuracy: 0.653815\n"
          ],
          "name": "stdout"
        }
      ]
    },
    {
      "cell_type": "code",
      "metadata": {
        "id": "8wxNtsNf9JEZ",
        "colab_type": "code",
        "outputId": "848e895b-dc26-45a6-b1ec-a581a61c154a",
        "colab": {
          "base_uri": "https://localhost:8080/",
          "height": 34
        }
      },
      "source": [
        "history.history.keys()"
      ],
      "execution_count": 11,
      "outputs": [
        {
          "output_type": "execute_result",
          "data": {
            "text/plain": [
              "dict_keys(['loss', 'accuracy', 'val_loss', 'val_accuracy', 'lr'])"
            ]
          },
          "metadata": {
            "tags": []
          },
          "execution_count": 11
        }
      ]
    },
    {
      "cell_type": "code",
      "metadata": {
        "id": "Qzd3WsxNe6K2",
        "colab_type": "code",
        "outputId": "150ec6ad-cc80-4bc9-fe3b-6383f092c720",
        "colab": {
          "base_uri": "https://localhost:8080/",
          "height": 355
        }
      },
      "source": [
        "f, a = plt.subplots(1, 2, figsize=(20, 5))\n",
        "\n",
        "# Plot training & validation accuracy values\n",
        "a[0].plot(history.history['accuracy'])\n",
        "a[0].plot(history.history['val_accuracy'])\n",
        "a[0].set_title('Model accuracy')\n",
        "a[0].set_ylabel('Accuracy')\n",
        "a[0].set_xlabel('Epoch')\n",
        "a[0].legend(['Train', 'Test'], loc='upper left')\n",
        "# plt.show()\n",
        "\n",
        "# Plot training & validation loss values\n",
        "a[1].plot(history.history['loss'])\n",
        "a[1].plot(history.history['val_loss'])\n",
        "a[1].set_title('Model loss')\n",
        "a[1].set_ylabel('Loss')\n",
        "a[1].set_xlabel('Epoch')\n",
        "a[1].legend(['Train', 'Test'], loc='upper left')\n",
        "plt.show()"
      ],
      "execution_count": 12,
      "outputs": [
        {
          "output_type": "display_data",
          "data": {
            "image/png": "[encoded data removed]",
            "text/plain": [
              "<Figure size 1440x360 with 2 Axes>"
            ]
          },
          "metadata": {
            "tags": []
          }
        }
      ]
    },
    {
      "cell_type": "code",
      "metadata": {
        "id": "PwiUcorMeVzL",
        "colab_type": "code",
        "outputId": "81896554-1850-46e3-cb69-6239274dbfa5",
        "colab": {
          "base_uri": "https://localhost:8080/",
          "height": 51
        }
      },
      "source": [
        "# use our model to predict\n",
        "y_predict_encoded = model_lr.predict(X_test)\n"
      ],
      "execution_count": 13,
      "outputs": [
        {
          "output_type": "stream",
          "text": [
            "WARNING:tensorflow:Falling back from v2 loop because of error: Failed to find data adapter that can handle input: <class 'pandas.core.frame.DataFrame'>, <class 'NoneType'>\n"
          ],
          "name": "stdout"
        },
        {
          "output_type": "stream",
          "text": [
            "WARNING:tensorflow:Falling back from v2 loop because of error: Failed to find data adapter that can handle input: <class 'pandas.core.frame.DataFrame'>, <class 'NoneType'>\n"
          ],
          "name": "stderr"
        }
      ]
    },
    {
      "cell_type": "code",
      "metadata": {
        "id": "aUovPTvV2FLj",
        "colab_type": "code",
        "outputId": "8d71d750-f063-486d-9cae-328880e3e627",
        "colab": {
          "base_uri": "https://localhost:8080/",
          "height": 357
        }
      },
      "source": [
        "y_predict_encoded[:20]"
      ],
      "execution_count": 14,
      "outputs": [
        {
          "output_type": "execute_result",
          "data": {
            "text/plain": [
              "array([[0.16519675, 0.8348032 ],\n",
              "       [0.27127987, 0.7287201 ],\n",
              "       [0.48276538, 0.5172346 ],\n",
              "       [0.7620422 , 0.2379578 ],\n",
              "       [0.49705637, 0.50294363],\n",
              "       [0.371991  , 0.628009  ],\n",
              "       [0.55545855, 0.4445415 ],\n",
              "       [0.24796061, 0.7520394 ],\n",
              "       [0.69959897, 0.300401  ],\n",
              "       [0.7571123 , 0.24288763],\n",
              "       [0.57419527, 0.42580473],\n",
              "       [0.22460724, 0.7753927 ],\n",
              "       [0.5348276 , 0.46517238],\n",
              "       [0.6302256 , 0.36977443],\n",
              "       [0.8034236 , 0.19657642],\n",
              "       [0.14709137, 0.8529086 ],\n",
              "       [0.4629873 , 0.5370127 ],\n",
              "       [0.64997286, 0.3500271 ],\n",
              "       [0.32009107, 0.679909  ],\n",
              "       [0.7623494 , 0.23765054]], dtype=float32)"
            ]
          },
          "metadata": {
            "tags": []
          },
          "execution_count": 14
        }
      ]
    },
    {
      "cell_type": "code",
      "metadata": {
        "id": "XUiTZZpi4Ald",
        "colab_type": "code",
        "outputId": "d0af1924-32b0-4f27-94c7-54bdbbfcf2db",
        "colab": {
          "base_uri": "https://localhost:8080/",
          "height": 34
        }
      },
      "source": [
        "y_predict = [row.idxmax() for index, row in pd.DataFrame(y_predict_encoded).iterrows()]\n",
        "y_predict[:20]"
      ],
      "execution_count": 15,
      "outputs": [
        {
          "output_type": "execute_result",
          "data": {
            "text/plain": [
              "[1, 1, 1, 0, 1, 1, 0, 1, 0, 0, 0, 1, 0, 0, 0, 1, 1, 0, 1, 0]"
            ]
          },
          "metadata": {
            "tags": []
          },
          "execution_count": 15
        }
      ]
    },
    {
      "cell_type": "code",
      "metadata": {
        "id": "QH4bAbT3vbl7",
        "colab_type": "code",
        "colab": {}
      },
      "source": [
        ""
      ],
      "execution_count": 0,
      "outputs": []
    },
    {
      "cell_type": "code",
      "metadata": {
        "id": "EVDcfQh0PqdN",
        "colab_type": "code",
        "colab": {}
      },
      "source": [
        "\n",
        "mw = mu.ModelWrapper(model_lr, MODEL_NAME, FEATURE_FILE, START_YEAR, END_YEAR, \n",
        "                  X_train = X_train, \n",
        "                  y_train = label_encoder.inverse_transform(y_train_encoded), \n",
        "                  X_test = X_test, y_test = y_test, model_name = MODEL_NAME)\n",
        "mw.y_predict = y_predict"
      ],
      "execution_count": 0,
      "outputs": []
    },
    {
      "cell_type": "code",
      "metadata": {
        "id": "JB0Ir21ZSKXg",
        "colab_type": "code",
        "outputId": "819e1105-0cc8-4ae6-f492-fc68c28c0f92",
        "colab": {
          "base_uri": "https://localhost:8080/",
          "height": 546
        }
      },
      "source": [
        "mw.analyze()"
      ],
      "execution_count": 17,
      "outputs": [
        {
          "output_type": "stream",
          "text": [
            "INFO:numexpr.utils:NumExpr defaulting to 4 threads.\n"
          ],
          "name": "stderr"
        },
        {
          "output_type": "stream",
          "text": [
            "Model Score: 0.6538149898717083\n",
            "\n",
            "ROC/AUC Score: 0.6538324885612544\n",
            "              precision    recall  f1-score   support\n",
            "\n",
            "        Loss       0.66      0.65      0.65     14876\n",
            "         Win       0.65      0.66      0.65     14744\n",
            "\n",
            "    accuracy                           0.65     29620\n",
            "   macro avg       0.65      0.65      0.65     29620\n",
            "weighted avg       0.65      0.65      0.65     29620\n",
            "\n",
            "      Loss   Win\n",
            "Loss  9668  5208\n",
            "Win   5046  9698\n"
          ],
          "name": "stdout"
        },
        {
          "output_type": "display_data",
          "data": {
            "image/png": "[encoded data removed]",
            "text/plain": [
              "<Figure size 432x288 with 2 Axes>"
            ]
          },
          "metadata": {
            "tags": []
          }
        }
      ]
    },
    {
      "cell_type": "code",
      "metadata": {
        "id": "xejzcGQjSP30",
        "colab_type": "code",
        "outputId": "7cf1d559-310f-428f-ea42-c4240079dedc",
        "colab": {
          "base_uri": "https://localhost:8080/",
          "height": 51
        }
      },
      "source": [
        "mw.save(save_model = False)"
      ],
      "execution_count": 18,
      "outputs": [
        {
          "output_type": "stream",
          "text": [
            "INFO:util.model_util:Reading report: drive/My Drive/Springboard/capstone2/reports/summary.csv\n"
          ],
          "name": "stderr"
        },
        {
          "output_type": "stream",
          "text": [
            "Saving report: drive/My Drive/Springboard/capstone2/reports/summary.csv\n"
          ],
          "name": "stdout"
        }
      ]
    },
    {
      "cell_type": "code",
      "metadata": {
        "id": "pKhNh63iSQwR",
        "colab_type": "code",
        "outputId": "4332a956-fb64-4020-fc1e-baba63e84e96",
        "colab": {
          "base_uri": "https://localhost:8080/",
          "height": 34
        }
      },
      "source": [
        "print(f'Last Finished: {datetime.now().strftime(\"%Y-%m-%d %H:%M\")}')"
      ],
      "execution_count": 19,
      "outputs": [
        {
          "output_type": "stream",
          "text": [
            "Last Finished: 2019-11-01 23:54\n"
          ],
          "name": "stdout"
        }
      ]
    },
    {
      "cell_type": "code",
      "metadata": {
        "id": "3Ezpq4BlUaZr",
        "colab_type": "code",
        "colab": {}
      },
      "source": [
        ""
      ],
      "execution_count": 0,
      "outputs": []
    }
  ]
}