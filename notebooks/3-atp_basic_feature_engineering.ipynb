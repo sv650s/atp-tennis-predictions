{
 "cells": [
  {
   "cell_type": "markdown",
   "metadata": {},
   "source": [
    "# ATP Tennis Data - Feature Engineering\n",
    "\n",
    "In previous notebook, we pre-processed the ATP match data by:\n",
    "* dropping columns with little data\n",
    "* cleaning string columns\n",
    "* imputing any data that we can reasonably impute\n",
    "\n",
    "For this notebook, we will use the data saved from pre-processing and start doing some basic feature engineering so we can start feeding our data to our models to see how we do. My goal is to start training models and see how they do as soon as possible, so we will We will do the following:\n",
    "* one hot encode any categorical data - ie, tournament surface, round, winner_ioc, loser_ioc\n",
    "* extra month from the tournament date\n",
    "* label each row with 0 as losing and 1 as winning\n",
    "* remove any remaining columns that we\n",
    "\n",
    "In a future notebook, I plan on implementing more advanced feature engineering with:\n",
    "* look up matchup history for players\n",
    "* match-up stats for pervious matchups\n",
    "* add match player record leading up to the match for each player\n",
    "* look up player stats leading up to match for each player"
   ]
  },
  {
   "cell_type": "code",
   "execution_count": 2,
   "metadata": {},
   "outputs": [],
   "source": [
    "import pandas as pd\n",
    "import numpy as np\n",
    "import matplotlib.pyplot as plt\n",
    "import seaborn as sns\n",
    "\n",
    "%matplotlib inline\n",
    "sns.set()"
   ]
  },
  {
   "cell_type": "code",
   "execution_count": null,
   "metadata": {},
   "outputs": [],
   "source": []
  }
 ],
 "metadata": {
  "kernelspec": {
   "display_name": "Python 3",
   "language": "python",
   "name": "python3"
  },
  "language_info": {
   "codemirror_mode": {
    "name": "ipython",
    "version": 3
   },
   "file_extension": ".py",
   "mimetype": "text/x-python",
   "name": "python",
   "nbconvert_exporter": "python",
   "pygments_lexer": "ipython3",
   "version": "3.7.3"
  }
 },
 "nbformat": 4,
 "nbformat_minor": 4
}
