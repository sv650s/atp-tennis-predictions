{
  "nbformat": 4,
  "nbformat_minor": 0,
  "metadata": {
    "colab": {
      "name": "6-atp_neural_network.ipynb",
      "provenance": [],
      "machine_shape": "hm",
      "include_colab_link": true
    },
    "kernelspec": {
      "name": "python3",
      "display_name": "Python 3"
    },
    "accelerator": "GPU"
  },
  "cells": [
    {
      "cell_type": "markdown",
      "metadata": {
        "id": "view-in-github",
        "colab_type": "text"
      },
      "source": [
        "<a href=\"https://colab.research.google.com/github/sv650s/sb-capstone2/blob/master/notebooks/6-atp_neural_network.ipynb\" target=\"_parent\"><img src=\"https://colab.research.google.com/assets/colab-badge.svg\" alt=\"Open In Colab\"/></a>"
      ]
    },
    {
      "cell_type": "markdown",
      "metadata": {
        "id": "maNMeGSioSdx",
        "colab_type": "text"
      },
      "source": [
        "# ATP Tennis Data - Logistic Regression Using One Hot Encoding"
      ]
    },
    {
      "cell_type": "code",
      "metadata": {
        "id": "jhOoSzRWnXwq",
        "colab_type": "code",
        "colab": {}
      },
      "source": [
        ""
      ],
      "execution_count": 0,
      "outputs": []
    },
    {
      "cell_type": "markdown",
      "metadata": {
        "id": "sAEXIZPWoQVp",
        "colab_type": "text"
      },
      "source": [
        ""
      ]
    },
    {
      "cell_type": "code",
      "metadata": {
        "id": "KAcNYkLbn46s",
        "colab_type": "code",
        "colab": {
          "base_uri": "https://localhost:8080/",
          "height": 34
        },
        "outputId": "d75a5847-c3b7-458b-9313-74e7d1f8fbe3"
      },
      "source": [
        "from google.colab import drive\n",
        "drive.mount('/gdrive')\n",
        "\n"
      ],
      "execution_count": 4,
      "outputs": [
        {
          "output_type": "stream",
          "text": [
            "Drive already mounted at /gdrive; to attempt to forcibly remount, call drive.mount(\"/gdrive\", force_remount=True).\n"
          ],
          "name": "stdout"
        }
      ]
    },
    {
      "cell_type": "code",
      "metadata": {
        "id": "Q6FhTGhHo8RT",
        "colab_type": "code",
        "colab": {
          "base_uri": "https://localhost:8080/",
          "height": 34
        },
        "outputId": "ecf9d0ac-e991-4dcd-ba52-e6fdcaa9c91c"
      },
      "source": [
        "import pandas as pd\n",
        "import numpy as np\n",
        "from datetime import datetime\n",
        "import pickle\n",
        "import json\n",
        "import sys\n",
        "import matplotlib.pyplot as plt\n",
        "import seaborn as sns\n",
        "\n",
        "from sklearn.model_selection import train_test_split\n",
        "from sklearn.metrics import classification_report, confusion_matrix\n",
        "from sklearn.preprocessing import OneHotEncoder\n",
        "\n",
        "from keras.models import Sequential\n",
        "from keras.layers import Dense, Activation, Dropout\n",
        "from keras.layers.normalization import BatchNormalization\n",
        "from keras.callbacks import EarlyStopping, ReduceLROnPlateau, ModelCheckpoint\n",
        "from keras.optimizers import SGD\n",
        "\n",
        "\n",
        "import tensorflow as tf\n",
        "\n",
        "\n",
        "%matplotlib inline\n",
        "sns.set()\n",
        "\n",
        "tf.test.gpu_device_name()"
      ],
      "execution_count": 5,
      "outputs": [
        {
          "output_type": "execute_result",
          "data": {
            "text/plain": [
              "'/device:GPU:0'"
            ]
          },
          "metadata": {
            "tags": []
          },
          "execution_count": 5
        }
      ]
    },
    {
      "cell_type": "code",
      "metadata": {
        "id": "sO579yKwn46J",
        "colab_type": "code",
        "colab": {}
      },
      "source": [
        "DRIVE_DIR = '/gdrive/My Drive/Springboard/capstone2'\n",
        "DATASET_DIR = f'{DRIVE_DIR}/datasets'\n",
        "MODEL_DIR = f'{DRIVE_DIR}/models'\n",
        "\n",
        "FEATURE_FILE_1985 = f'{DATASET_DIR}/atp_matches_1985-2019_features.csv'\n",
        "FEATURE_FILE_1998 = f'{DATASET_DIR}/atp_matches_1998-2019_features.csv'\n",
        "\n",
        "\n",
        "FEATURE_FILE_1985_DIFF = f'{DATASET_DIR}/atp_matches_1985-2019_features-diff.csv'\n",
        "FEATURE_FILE_1998_DIFF = f'{DATASET_DIR}/atp_matches_1998-2019_features-diff.csv'\n",
        "\n",
        "FEATURE_FILE_1985_DIFF_OHE = f'{DATASET_DIR}/atp_matches_1985-2019_features-diff-ohe.csv'\n",
        "FEATURE_FILE_1998_DIFF_OHE = f'{DATASET_DIR}/atp_matches_1998-2019_features-diff-ohe.csv'\n",
        "\n",
        "LABEL_COL = 'p1_winner'\n",
        "\n",
        "sys.path.append(DRIVE_DIR)\n"
      ],
      "execution_count": 0,
      "outputs": []
    },
    {
      "cell_type": "code",
      "metadata": {
        "id": "zRGm73EhWkPA",
        "colab_type": "code",
        "colab": {
          "base_uri": "https://localhost:8080/",
          "height": 224
        },
        "outputId": "2c812511-3ea7-4ac0-a324-f93cbab7da21"
      },
      "source": [
        "features_1998_orig = pd.read_csv(FEATURE_FILE_1998)\n",
        "features_1998_orig.head()"
      ],
      "execution_count": 86,
      "outputs": [
        {
          "output_type": "execute_result",
          "data": {
            "text/html": [
              "<div>\n",
              "<style scoped>\n",
              "    .dataframe tbody tr th:only-of-type {\n",
              "        vertical-align: middle;\n",
              "    }\n",
              "\n",
              "    .dataframe tbody tr th {\n",
              "        vertical-align: top;\n",
              "    }\n",
              "\n",
              "    .dataframe thead th {\n",
              "        text-align: right;\n",
              "    }\n",
              "</style>\n",
              "<table border=\"1\" class=\"dataframe\">\n",
              "  <thead>\n",
              "    <tr style=\"text-align: right;\">\n",
              "      <th></th>\n",
              "      <th>draw_size</th>\n",
              "      <th>p1</th>\n",
              "      <th>p1_age</th>\n",
              "      <th>p1_hand</th>\n",
              "      <th>p1_ht</th>\n",
              "      <th>p1_ioc</th>\n",
              "      <th>p1_rank</th>\n",
              "      <th>p1_seed</th>\n",
              "      <th>p1_winner</th>\n",
              "      <th>p2</th>\n",
              "      <th>p2_age</th>\n",
              "      <th>p2_hand</th>\n",
              "      <th>p2_ht</th>\n",
              "      <th>p2_ioc</th>\n",
              "      <th>p2_rank</th>\n",
              "      <th>p2_seed</th>\n",
              "      <th>round_label</th>\n",
              "      <th>surface_label</th>\n",
              "      <th>tourney_id_label</th>\n",
              "      <th>tourney_level_label</th>\n",
              "      <th>tourney_month</th>\n",
              "      <th>tourney_year</th>\n",
              "    </tr>\n",
              "  </thead>\n",
              "  <tbody>\n",
              "    <tr>\n",
              "      <th>0</th>\n",
              "      <td>32</td>\n",
              "      <td>102035</td>\n",
              "      <td>25.79</td>\n",
              "      <td>1</td>\n",
              "      <td>183.0</td>\n",
              "      <td>70</td>\n",
              "      <td>4</td>\n",
              "      <td>1</td>\n",
              "      <td>1</td>\n",
              "      <td>101917</td>\n",
              "      <td>26.61</td>\n",
              "      <td>1</td>\n",
              "      <td>188.0</td>\n",
              "      <td>64</td>\n",
              "      <td>74</td>\n",
              "      <td>19</td>\n",
              "      <td>5</td>\n",
              "      <td>3</td>\n",
              "      <td>62</td>\n",
              "      <td>4</td>\n",
              "      <td>1</td>\n",
              "      <td>1998</td>\n",
              "    </tr>\n",
              "    <tr>\n",
              "      <th>1</th>\n",
              "      <td>32</td>\n",
              "      <td>101727</td>\n",
              "      <td>27.76</td>\n",
              "      <td>1</td>\n",
              "      <td>185.0</td>\n",
              "      <td>3</td>\n",
              "      <td>79</td>\n",
              "      <td>24</td>\n",
              "      <td>1</td>\n",
              "      <td>102548</td>\n",
              "      <td>22.85</td>\n",
              "      <td>1</td>\n",
              "      <td>175.0</td>\n",
              "      <td>17</td>\n",
              "      <td>87</td>\n",
              "      <td>25</td>\n",
              "      <td>5</td>\n",
              "      <td>3</td>\n",
              "      <td>62</td>\n",
              "      <td>4</td>\n",
              "      <td>1</td>\n",
              "      <td>1998</td>\n",
              "    </tr>\n",
              "    <tr>\n",
              "      <th>2</th>\n",
              "      <td>32</td>\n",
              "      <td>102491</td>\n",
              "      <td>23.08</td>\n",
              "      <td>1</td>\n",
              "      <td>185.0</td>\n",
              "      <td>32</td>\n",
              "      <td>71</td>\n",
              "      <td>18</td>\n",
              "      <td>0</td>\n",
              "      <td>102765</td>\n",
              "      <td>21.76</td>\n",
              "      <td>1</td>\n",
              "      <td>185.0</td>\n",
              "      <td>29</td>\n",
              "      <td>93</td>\n",
              "      <td>27</td>\n",
              "      <td>5</td>\n",
              "      <td>3</td>\n",
              "      <td>62</td>\n",
              "      <td>4</td>\n",
              "      <td>1</td>\n",
              "      <td>1998</td>\n",
              "    </tr>\n",
              "    <tr>\n",
              "      <th>3</th>\n",
              "      <td>32</td>\n",
              "      <td>101647</td>\n",
              "      <td>28.25</td>\n",
              "      <td>1</td>\n",
              "      <td>175.0</td>\n",
              "      <td>83</td>\n",
              "      <td>76</td>\n",
              "      <td>21</td>\n",
              "      <td>0</td>\n",
              "      <td>102563</td>\n",
              "      <td>22.79</td>\n",
              "      <td>1</td>\n",
              "      <td>180.0</td>\n",
              "      <td>70</td>\n",
              "      <td>39</td>\n",
              "      <td>7</td>\n",
              "      <td>5</td>\n",
              "      <td>3</td>\n",
              "      <td>62</td>\n",
              "      <td>4</td>\n",
              "      <td>1</td>\n",
              "      <td>1998</td>\n",
              "    </tr>\n",
              "    <tr>\n",
              "      <th>4</th>\n",
              "      <td>32</td>\n",
              "      <td>102104</td>\n",
              "      <td>25.37</td>\n",
              "      <td>1</td>\n",
              "      <td>188.0</td>\n",
              "      <td>54</td>\n",
              "      <td>65</td>\n",
              "      <td>16</td>\n",
              "      <td>0</td>\n",
              "      <td>102796</td>\n",
              "      <td>21.60</td>\n",
              "      <td>1</td>\n",
              "      <td>188.0</td>\n",
              "      <td>70</td>\n",
              "      <td>22</td>\n",
              "      <td>4</td>\n",
              "      <td>5</td>\n",
              "      <td>3</td>\n",
              "      <td>62</td>\n",
              "      <td>4</td>\n",
              "      <td>1</td>\n",
              "      <td>1998</td>\n",
              "    </tr>\n",
              "  </tbody>\n",
              "</table>\n",
              "</div>"
            ],
            "text/plain": [
              "   draw_size      p1  p1_age  ...  tourney_level_label  tourney_month  tourney_year\n",
              "0         32  102035   25.79  ...                    4              1          1998\n",
              "1         32  101727   27.76  ...                    4              1          1998\n",
              "2         32  102491   23.08  ...                    4              1          1998\n",
              "3         32  101647   28.25  ...                    4              1          1998\n",
              "4         32  102104   25.37  ...                    4              1          1998\n",
              "\n",
              "[5 rows x 22 columns]"
            ]
          },
          "metadata": {
            "tags": []
          },
          "execution_count": 86
        }
      ]
    },
    {
      "cell_type": "code",
      "metadata": {
        "id": "FmAY5jvsYXKM",
        "colab_type": "code",
        "colab": {
          "base_uri": "https://localhost:8080/",
          "height": 224
        },
        "outputId": "0addeed2-07b1-4aff-e199-80fe78ad3169"
      },
      "source": [
        "features_1998 = features_1998_orig\n",
        "# extra our label column\n",
        "labels_1998 = features_1998[LABEL_COL]\n",
        "# one hot encode our labels for Keras\n",
        "label_encoder = OneHotEncoder(handle_unknown='ignore', sparse=False)\n",
        "labels_1998_encoded = label_encoder.fit_transform(features_1998[[LABEL_COL]])\n",
        "# drop this from our features\n",
        "features_1998 = features_1998.drop([LABEL_COL], axis=1)\n",
        "\n",
        "features_1998.head()"
      ],
      "execution_count": 87,
      "outputs": [
        {
          "output_type": "execute_result",
          "data": {
            "text/html": [
              "<div>\n",
              "<style scoped>\n",
              "    .dataframe tbody tr th:only-of-type {\n",
              "        vertical-align: middle;\n",
              "    }\n",
              "\n",
              "    .dataframe tbody tr th {\n",
              "        vertical-align: top;\n",
              "    }\n",
              "\n",
              "    .dataframe thead th {\n",
              "        text-align: right;\n",
              "    }\n",
              "</style>\n",
              "<table border=\"1\" class=\"dataframe\">\n",
              "  <thead>\n",
              "    <tr style=\"text-align: right;\">\n",
              "      <th></th>\n",
              "      <th>draw_size</th>\n",
              "      <th>p1</th>\n",
              "      <th>p1_age</th>\n",
              "      <th>p1_hand</th>\n",
              "      <th>p1_ht</th>\n",
              "      <th>p1_ioc</th>\n",
              "      <th>p1_rank</th>\n",
              "      <th>p1_seed</th>\n",
              "      <th>p2</th>\n",
              "      <th>p2_age</th>\n",
              "      <th>p2_hand</th>\n",
              "      <th>p2_ht</th>\n",
              "      <th>p2_ioc</th>\n",
              "      <th>p2_rank</th>\n",
              "      <th>p2_seed</th>\n",
              "      <th>round_label</th>\n",
              "      <th>surface_label</th>\n",
              "      <th>tourney_id_label</th>\n",
              "      <th>tourney_level_label</th>\n",
              "      <th>tourney_month</th>\n",
              "      <th>tourney_year</th>\n",
              "    </tr>\n",
              "  </thead>\n",
              "  <tbody>\n",
              "    <tr>\n",
              "      <th>0</th>\n",
              "      <td>32</td>\n",
              "      <td>102035</td>\n",
              "      <td>25.79</td>\n",
              "      <td>1</td>\n",
              "      <td>183.0</td>\n",
              "      <td>70</td>\n",
              "      <td>4</td>\n",
              "      <td>1</td>\n",
              "      <td>101917</td>\n",
              "      <td>26.61</td>\n",
              "      <td>1</td>\n",
              "      <td>188.0</td>\n",
              "      <td>64</td>\n",
              "      <td>74</td>\n",
              "      <td>19</td>\n",
              "      <td>5</td>\n",
              "      <td>3</td>\n",
              "      <td>62</td>\n",
              "      <td>4</td>\n",
              "      <td>1</td>\n",
              "      <td>1998</td>\n",
              "    </tr>\n",
              "    <tr>\n",
              "      <th>1</th>\n",
              "      <td>32</td>\n",
              "      <td>101727</td>\n",
              "      <td>27.76</td>\n",
              "      <td>1</td>\n",
              "      <td>185.0</td>\n",
              "      <td>3</td>\n",
              "      <td>79</td>\n",
              "      <td>24</td>\n",
              "      <td>102548</td>\n",
              "      <td>22.85</td>\n",
              "      <td>1</td>\n",
              "      <td>175.0</td>\n",
              "      <td>17</td>\n",
              "      <td>87</td>\n",
              "      <td>25</td>\n",
              "      <td>5</td>\n",
              "      <td>3</td>\n",
              "      <td>62</td>\n",
              "      <td>4</td>\n",
              "      <td>1</td>\n",
              "      <td>1998</td>\n",
              "    </tr>\n",
              "    <tr>\n",
              "      <th>2</th>\n",
              "      <td>32</td>\n",
              "      <td>102491</td>\n",
              "      <td>23.08</td>\n",
              "      <td>1</td>\n",
              "      <td>185.0</td>\n",
              "      <td>32</td>\n",
              "      <td>71</td>\n",
              "      <td>18</td>\n",
              "      <td>102765</td>\n",
              "      <td>21.76</td>\n",
              "      <td>1</td>\n",
              "      <td>185.0</td>\n",
              "      <td>29</td>\n",
              "      <td>93</td>\n",
              "      <td>27</td>\n",
              "      <td>5</td>\n",
              "      <td>3</td>\n",
              "      <td>62</td>\n",
              "      <td>4</td>\n",
              "      <td>1</td>\n",
              "      <td>1998</td>\n",
              "    </tr>\n",
              "    <tr>\n",
              "      <th>3</th>\n",
              "      <td>32</td>\n",
              "      <td>101647</td>\n",
              "      <td>28.25</td>\n",
              "      <td>1</td>\n",
              "      <td>175.0</td>\n",
              "      <td>83</td>\n",
              "      <td>76</td>\n",
              "      <td>21</td>\n",
              "      <td>102563</td>\n",
              "      <td>22.79</td>\n",
              "      <td>1</td>\n",
              "      <td>180.0</td>\n",
              "      <td>70</td>\n",
              "      <td>39</td>\n",
              "      <td>7</td>\n",
              "      <td>5</td>\n",
              "      <td>3</td>\n",
              "      <td>62</td>\n",
              "      <td>4</td>\n",
              "      <td>1</td>\n",
              "      <td>1998</td>\n",
              "    </tr>\n",
              "    <tr>\n",
              "      <th>4</th>\n",
              "      <td>32</td>\n",
              "      <td>102104</td>\n",
              "      <td>25.37</td>\n",
              "      <td>1</td>\n",
              "      <td>188.0</td>\n",
              "      <td>54</td>\n",
              "      <td>65</td>\n",
              "      <td>16</td>\n",
              "      <td>102796</td>\n",
              "      <td>21.60</td>\n",
              "      <td>1</td>\n",
              "      <td>188.0</td>\n",
              "      <td>70</td>\n",
              "      <td>22</td>\n",
              "      <td>4</td>\n",
              "      <td>5</td>\n",
              "      <td>3</td>\n",
              "      <td>62</td>\n",
              "      <td>4</td>\n",
              "      <td>1</td>\n",
              "      <td>1998</td>\n",
              "    </tr>\n",
              "  </tbody>\n",
              "</table>\n",
              "</div>"
            ],
            "text/plain": [
              "   draw_size      p1  p1_age  ...  tourney_level_label  tourney_month  tourney_year\n",
              "0         32  102035   25.79  ...                    4              1          1998\n",
              "1         32  101727   27.76  ...                    4              1          1998\n",
              "2         32  102491   23.08  ...                    4              1          1998\n",
              "3         32  101647   28.25  ...                    4              1          1998\n",
              "4         32  102104   25.37  ...                    4              1          1998\n",
              "\n",
              "[5 rows x 21 columns]"
            ]
          },
          "metadata": {
            "tags": []
          },
          "execution_count": 87
        }
      ]
    },
    {
      "cell_type": "code",
      "metadata": {
        "id": "xMp9rvK94pHh",
        "colab_type": "code",
        "colab": {
          "base_uri": "https://localhost:8080/",
          "height": 102
        },
        "outputId": "e174db60-8181-4bf6-c80c-2a40f1b7658c"
      },
      "source": [
        "labels_1998_encoded[:5]"
      ],
      "execution_count": 88,
      "outputs": [
        {
          "output_type": "execute_result",
          "data": {
            "text/plain": [
              "array([[0., 1.],\n",
              "       [0., 1.],\n",
              "       [1., 0.],\n",
              "       [1., 0.],\n",
              "       [1., 0.]])"
            ]
          },
          "metadata": {
            "tags": []
          },
          "execution_count": 88
        }
      ]
    },
    {
      "cell_type": "code",
      "metadata": {
        "id": "gg8Z0Sz_WbqZ",
        "colab_type": "code",
        "colab": {}
      },
      "source": [
        "# split into training and test set\n",
        "X_train_1998, X_test_1998, y_train_1998_encoded, y_test_1998_encoded = train_test_split(features_1998, labels_1998_encoded)\n",
        "y_test_1998 = label_encoder.inverse_transform(y_test_1998_encoded)"
      ],
      "execution_count": 0,
      "outputs": []
    },
    {
      "cell_type": "code",
      "metadata": {
        "id": "7CBvO5xwcGnw",
        "colab_type": "code",
        "colab": {
          "base_uri": "https://localhost:8080/",
          "height": 34
        },
        "outputId": "d672ebeb-70cd-4ee9-b46c-2c4b8acbd43b"
      },
      "source": [
        "X_train_1998.shape"
      ],
      "execution_count": 43,
      "outputs": [
        {
          "output_type": "execute_result",
          "data": {
            "text/plain": [
              "(43401, 21)"
            ]
          },
          "metadata": {
            "tags": []
          },
          "execution_count": 43
        }
      ]
    },
    {
      "cell_type": "markdown",
      "metadata": {
        "id": "Y0vIecdvpHOx",
        "colab_type": "text"
      },
      "source": [
        "# Implement Neural Network\n",
        "\n",
        "LR is just a 1 layer dense network with softmax\n",
        "\n",
        "We should get similar results as our [logistic regression notebook](https://github.com/sv650s/sb-capstone2/blob/master/notebooks/4-atp_logistic_regression.ipynb)\n",
        "\n",
        "Baseline of our model is 65% accruacy\n",
        "\n"
      ]
    },
    {
      "cell_type": "code",
      "metadata": {
        "id": "9TDPA9XWoe0m",
        "colab_type": "code",
        "colab": {
          "base_uri": "https://localhost:8080/",
          "height": 323
        },
        "outputId": "b8642195-d164-4a58-bdb3-312f447181d4"
      },
      "source": [
        "from keras.models import Sequential \n",
        "from keras.layers import Dense, Activation \n",
        "from keras import regularizers\n",
        "import keras as K\n",
        "\n",
        "\n",
        "output_dim = nb_classes = 2\n",
        "model_lr_1998 = Sequential() \n",
        "model_lr_1998.add(Dense(X_train_1998.shape[1] * 10, \n",
        "                   input_shape=(X_train_1998.shape[1], ), \n",
        "                   activation='relu', \n",
        "                   kernel_initializer=K.initializers.glorot_uniform(seed=1), \n",
        "                   kernel_regularizer=regularizers.l2(0.01))) \n",
        "model_lr_1998.add(Dropout(0.2))\n",
        "model_lr_1998.add(Dense(X_train_1998.shape[1] * 10, \n",
        "                   activation='relu', \n",
        "                   kernel_initializer=K.initializers.glorot_uniform(seed=1), \n",
        "                   kernel_regularizer=regularizers.l2(0.01))) \n",
        "model_lr_1998.add(Dropout(0.2))\n",
        "model_lr_1998.add(Dense(output_dim, \n",
        "                   activation='softmax', \n",
        "                   kernel_initializer=K.initializers.glorot_uniform(seed=1))) \n",
        "# model_lr_1998.add(Dropout(0.2))\n",
        "# model_lr_1998.add(output_dim, \n",
        "#                    activation='relu', \n",
        "#                    kernel_initializer='random_uniform')) \n",
        "batch_size = 32 \n",
        "epochs = 100\n",
        "\n",
        "model_lr_1998.compile(optimizer='sgd', loss='binary_crossentropy', metrics=['accuracy']) \n",
        "model_lr_1998.summary()"
      ],
      "execution_count": 100,
      "outputs": [
        {
          "output_type": "stream",
          "text": [
            "Model: \"sequential_22\"\n",
            "_________________________________________________________________\n",
            "Layer (type)                 Output Shape              Param #   \n",
            "=================================================================\n",
            "dense_27 (Dense)             (None, 210)               4620      \n",
            "_________________________________________________________________\n",
            "dropout_12 (Dropout)         (None, 210)               0         \n",
            "_________________________________________________________________\n",
            "dense_28 (Dense)             (None, 210)               44310     \n",
            "_________________________________________________________________\n",
            "dropout_13 (Dropout)         (None, 210)               0         \n",
            "_________________________________________________________________\n",
            "dense_29 (Dense)             (None, 2)                 422       \n",
            "=================================================================\n",
            "Total params: 49,352\n",
            "Trainable params: 49,352\n",
            "Non-trainable params: 0\n",
            "_________________________________________________________________\n"
          ],
          "name": "stdout"
        }
      ]
    },
    {
      "cell_type": "code",
      "metadata": {
        "id": "VT7DyAeqXg4c",
        "colab_type": "code",
        "colab": {
          "base_uri": "https://localhost:8080/",
          "height": 1000
        },
        "outputId": "646258d3-614e-4939-bb46-4fdba0368794"
      },
      "source": [
        "callbacks = [EarlyStopping(monitor='val_loss', patience=4, restore_best_weights=True, verbose=1),\n",
        "             ModelCheckpoint(filepath=f'{MODEL_DIR}/lr.h5', monitor='val_loss', save_best_only=True),\n",
        "             ReduceLROnPlateau(monitor='val_loss', factor=0.4,patience=2, min_lr=0.00001, mode='auto')]\n",
        "\n",
        "\n",
        "history_1998 = model_lr_1998.fit(X_train_1998, y_train_1998_encoded, \n",
        "                       batch_size=batch_size, \n",
        "                       epochs=epochs,\n",
        "                       verbose=1, \n",
        "                       validation_split=0.1,\n",
        "                       callbacks=callbacks) \n",
        "\n",
        "# evalute our model\n",
        "score_1998 = model_lr_1998.evaluate(X_test_1998, y_test_1998_encoded, verbose=0) \n",
        "print('Test score:', score_1998[0]) \n",
        "print('Test accuracy:', score_1998[1])"
      ],
      "execution_count": 101,
      "outputs": [
        {
          "output_type": "stream",
          "text": [
            "Train on 39060 samples, validate on 4341 samples\n",
            "Epoch 1/100\n",
            "39060/39060 [==============================] - 6s 151us/step - loss: 9.9996 - acc: 0.5004 - val_loss: 9.5796 - val_acc: 0.4987\n",
            "Epoch 2/100\n",
            "39060/39060 [==============================] - 5s 132us/step - loss: 9.2273 - acc: 0.5006 - val_loss: 8.9829 - val_acc: 0.4987\n",
            "Epoch 3/100\n",
            "39060/39060 [==============================] - 5s 131us/step - loss: 8.7551 - acc: 0.5006 - val_loss: 8.6168 - val_acc: 0.4987\n",
            "Epoch 4/100\n",
            "39060/39060 [==============================] - 5s 132us/step - loss: 8.4653 - acc: 0.5006 - val_loss: 8.3921 - val_acc: 0.4987\n",
            "Epoch 5/100\n",
            "39060/39060 [==============================] - 5s 131us/step - loss: 8.2875 - acc: 0.5006 - val_loss: 8.2543 - val_acc: 0.4987\n",
            "Epoch 6/100\n",
            "39060/39060 [==============================] - 5s 132us/step - loss: 8.1785 - acc: 0.5006 - val_loss: 8.1697 - val_acc: 0.4987\n",
            "Epoch 7/100\n",
            "39060/39060 [==============================] - 5s 130us/step - loss: 8.1115 - acc: 0.5006 - val_loss: 8.1178 - val_acc: 0.4987\n",
            "Epoch 8/100\n",
            "39060/39060 [==============================] - 5s 132us/step - loss: 8.0705 - acc: 0.5006 - val_loss: 8.0860 - val_acc: 0.4987\n",
            "Epoch 9/100\n",
            "39060/39060 [==============================] - 5s 130us/step - loss: 8.0453 - acc: 0.5006 - val_loss: 8.0665 - val_acc: 0.4987\n",
            "Epoch 10/100\n",
            "39060/39060 [==============================] - 5s 131us/step - loss: 8.0298 - acc: 0.5006 - val_loss: 8.0545 - val_acc: 0.4987\n",
            "Epoch 11/100\n",
            "39060/39060 [==============================] - 5s 131us/step - loss: 8.0203 - acc: 0.5006 - val_loss: 8.0471 - val_acc: 0.4987\n",
            "Epoch 12/100\n",
            "39060/39060 [==============================] - 5s 130us/step - loss: 8.0145 - acc: 0.5006 - val_loss: 8.0426 - val_acc: 0.4987\n",
            "Epoch 13/100\n",
            "39060/39060 [==============================] - 5s 131us/step - loss: 8.0109 - acc: 0.5006 - val_loss: 8.0398 - val_acc: 0.4987\n",
            "Epoch 14/100\n",
            "39060/39060 [==============================] - 5s 131us/step - loss: 8.0087 - acc: 0.5006 - val_loss: 8.0381 - val_acc: 0.4987\n",
            "Epoch 15/100\n",
            "39060/39060 [==============================] - 5s 130us/step - loss: 8.0074 - acc: 0.5006 - val_loss: 8.0371 - val_acc: 0.4987\n",
            "Epoch 16/100\n",
            "39060/39060 [==============================] - 5s 132us/step - loss: 8.0066 - acc: 0.5006 - val_loss: 8.0364 - val_acc: 0.4987\n",
            "Epoch 17/100\n",
            "39060/39060 [==============================] - 5s 128us/step - loss: 8.0061 - acc: 0.5006 - val_loss: 8.0361 - val_acc: 0.4987\n",
            "Epoch 18/100\n",
            "39060/39060 [==============================] - 5s 131us/step - loss: 8.0845 - acc: 0.4969 - val_loss: 8.0128 - val_acc: 0.5013\n",
            "Epoch 19/100\n",
            "39060/39060 [==============================] - 5s 131us/step - loss: 8.0392 - acc: 0.4994 - val_loss: 8.0059 - val_acc: 0.5013\n",
            "Epoch 20/100\n",
            "39060/39060 [==============================] - 5s 130us/step - loss: 8.0337 - acc: 0.4994 - val_loss: 8.0016 - val_acc: 0.5013\n",
            "Epoch 21/100\n",
            "39060/39060 [==============================] - 5s 131us/step - loss: 8.0303 - acc: 0.4994 - val_loss: 7.9990 - val_acc: 0.5013\n",
            "Epoch 22/100\n",
            "39060/39060 [==============================] - 5s 131us/step - loss: 8.0283 - acc: 0.4994 - val_loss: 7.9974 - val_acc: 0.5013\n",
            "Epoch 23/100\n",
            "39060/39060 [==============================] - 5s 130us/step - loss: 8.0270 - acc: 0.4994 - val_loss: 7.9964 - val_acc: 0.5013\n",
            "Epoch 24/100\n",
            "39060/39060 [==============================] - 5s 132us/step - loss: 8.0262 - acc: 0.4994 - val_loss: 7.9958 - val_acc: 0.5013\n",
            "Epoch 25/100\n",
            "39060/39060 [==============================] - 5s 130us/step - loss: 8.0257 - acc: 0.4994 - val_loss: 7.9954 - val_acc: 0.5013\n",
            "Epoch 26/100\n",
            "39060/39060 [==============================] - 5s 130us/step - loss: 8.0254 - acc: 0.4994 - val_loss: 7.9952 - val_acc: 0.5013\n",
            "Epoch 27/100\n",
            "39060/39060 [==============================] - 5s 130us/step - loss: 8.0253 - acc: 0.4994 - val_loss: 7.9950 - val_acc: 0.5013\n",
            "Epoch 28/100\n",
            "39060/39060 [==============================] - 5s 131us/step - loss: 8.1120 - acc: 0.4970 - val_loss: 8.0785 - val_acc: 0.4987\n",
            "Epoch 29/100\n",
            "39060/39060 [==============================] - 5s 131us/step - loss: 8.0393 - acc: 0.5006 - val_loss: 8.0618 - val_acc: 0.4987\n",
            "Epoch 30/100\n",
            "39060/39060 [==============================] - 5s 130us/step - loss: 8.0293 - acc: 0.5006 - val_loss: 8.0571 - val_acc: 0.4987\n",
            "Epoch 31/100\n",
            "39060/39060 [==============================] - 5s 130us/step - loss: 8.0250 - acc: 0.5006 - val_loss: 8.0533 - val_acc: 0.4987\n",
            "Restoring model weights from the end of the best epoch\n",
            "Epoch 00031: early stopping\n",
            "Test score: 8.046921213684906\n",
            "Test accuracy: 0.4980299993108317\n"
          ],
          "name": "stdout"
        }
      ]
    },
    {
      "cell_type": "code",
      "metadata": {
        "id": "Qzd3WsxNe6K2",
        "colab_type": "code",
        "colab": {
          "base_uri": "https://localhost:8080/",
          "height": 585
        },
        "outputId": "a84f1dd5-c21b-458d-dcdc-c83d40e4d020"
      },
      "source": [
        "# Plot training & validation accuracy values\n",
        "plt.plot(history_1998.history['acc'])\n",
        "plt.plot(history_1998.history['val_acc'])\n",
        "plt.title('Model accuracy')\n",
        "plt.ylabel('Accuracy')\n",
        "plt.xlabel('Epoch')\n",
        "plt.legend(['Train', 'Test'], loc='upper left')\n",
        "plt.show()\n",
        "\n",
        "# Plot training & validation loss values\n",
        "plt.plot(history_1998.history['loss'])\n",
        "plt.plot(history_1998.history['val_loss'])\n",
        "plt.title('Model loss')\n",
        "plt.ylabel('Loss')\n",
        "plt.xlabel('Epoch')\n",
        "plt.legend(['Train', 'Test'], loc='upper left')\n",
        "plt.show()"
      ],
      "execution_count": 93,
      "outputs": [
        {
          "output_type": "display_data",
          "data": {
            "image/png": "[encoded data removed]",
            "text/plain": [
              "<Figure size 432x288 with 1 Axes>"
            ]
          },
          "metadata": {
            "tags": []
          }
        },
        {
          "output_type": "display_data",
          "data": {
            "image/png": "[encoded data removed]",
            "text/plain": [
              "<Figure size 432x288 with 1 Axes>"
            ]
          },
          "metadata": {
            "tags": []
          }
        }
      ]
    },
    {
      "cell_type": "code",
      "metadata": {
        "id": "PwiUcorMeVzL",
        "colab_type": "code",
        "colab": {}
      },
      "source": [
        "# use our model to predict\n",
        "y_predict_1998_encoded = model_lr_1998.predict(X_test_1998)\n",
        "# y_predict_1998 = label_encoder.inverse_transform(y_predict_1998_encoded)"
      ],
      "execution_count": 0,
      "outputs": []
    },
    {
      "cell_type": "code",
      "metadata": {
        "id": "aUovPTvV2FLj",
        "colab_type": "code",
        "colab": {
          "base_uri": "https://localhost:8080/",
          "height": 357
        },
        "outputId": "7af8fad6-1eb6-4b7a-faf9-8553ed5224ec"
      },
      "source": [
        "y_predict_1998_encoded[:20]"
      ],
      "execution_count": 92,
      "outputs": [
        {
          "output_type": "execute_result",
          "data": {
            "text/plain": [
              "array([[1., 1.],\n",
              "       [1., 1.],\n",
              "       [1., 1.],\n",
              "       [1., 1.],\n",
              "       [1., 1.],\n",
              "       [1., 1.],\n",
              "       [1., 1.],\n",
              "       [1., 1.],\n",
              "       [1., 1.],\n",
              "       [1., 1.],\n",
              "       [1., 1.],\n",
              "       [1., 1.],\n",
              "       [1., 1.],\n",
              "       [1., 1.],\n",
              "       [1., 1.],\n",
              "       [1., 1.],\n",
              "       [1., 1.],\n",
              "       [1., 1.],\n",
              "       [1., 1.],\n",
              "       [1., 1.]], dtype=float32)"
            ]
          },
          "metadata": {
            "tags": []
          },
          "execution_count": 92
        }
      ]
    },
    {
      "cell_type": "code",
      "metadata": {
        "id": "XUiTZZpi4Ald",
        "colab_type": "code",
        "colab": {
          "base_uri": "https://localhost:8080/",
          "height": 34
        },
        "outputId": "fd7edd00-45f7-4ae0-aba7-978b648904c8"
      },
      "source": [
        "y_predict_1998 = [row.idxmax() for index, row in pd.DataFrame(y_predict_1998_encoded).iterrows()]\n",
        "y_predict_1998[:20]"
      ],
      "execution_count": 84,
      "outputs": [
        {
          "output_type": "execute_result",
          "data": {
            "text/plain": [
              "[0, 0, 0, 0, 0, 0, 0, 0, 0, 0, 0, 0, 0, 0, 0, 0, 0, 0, 0, 0]"
            ]
          },
          "metadata": {
            "tags": []
          },
          "execution_count": 84
        }
      ]
    },
    {
      "cell_type": "code",
      "metadata": {
        "id": "wAzX2tPYtmAw",
        "colab_type": "code",
        "colab": {
          "base_uri": "https://localhost:8080/",
          "height": 224
        },
        "outputId": "617e5d6d-c780-4942-8750-6aedf9c9d83a"
      },
      "source": [
        "print(classification_report(y_test_1998, y_predict_1998, target_names=[\"loss\", \"win\"]))"
      ],
      "execution_count": 85,
      "outputs": [
        {
          "output_type": "stream",
          "text": [
            "              precision    recall  f1-score   support\n",
            "\n",
            "        loss       0.50      1.00      0.66      7201\n",
            "         win       0.00      0.00      0.00      7266\n",
            "\n",
            "    accuracy                           0.50     14467\n",
            "   macro avg       0.25      0.50      0.33     14467\n",
            "weighted avg       0.25      0.50      0.33     14467\n",
            "\n"
          ],
          "name": "stdout"
        },
        {
          "output_type": "stream",
          "text": [
            "/usr/local/lib/python3.6/dist-packages/sklearn/metrics/classification.py:1437: UndefinedMetricWarning: Precision and F-score are ill-defined and being set to 0.0 in labels with no predicted samples.\n",
            "  'precision', 'predicted', average, warn_for)\n"
          ],
          "name": "stderr"
        }
      ]
    },
    {
      "cell_type": "code",
      "metadata": {
        "id": "tkj6-3KbjuPf",
        "colab_type": "code",
        "colab": {
          "base_uri": "https://localhost:8080/",
          "height": 51
        },
        "outputId": "7c58fa6e-a4c4-45e5-8ae9-ce9c56916ba3"
      },
      "source": [
        "confusion_matrix(y_test_1998, y_predict_1998)"
      ],
      "execution_count": 63,
      "outputs": [
        {
          "output_type": "execute_result",
          "data": {
            "text/plain": [
              "array([[   0, 7277],\n",
              "       [   0, 7190]])"
            ]
          },
          "metadata": {
            "tags": []
          },
          "execution_count": 63
        }
      ]
    },
    {
      "cell_type": "markdown",
      "metadata": {
        "id": "CUlFb8vMr_u6",
        "colab_type": "text"
      },
      "source": [
        "# Logistic Regression with 1985 to 2019 Dataset"
      ]
    },
    {
      "cell_type": "code",
      "metadata": {
        "id": "ck5EeuYKong3",
        "colab_type": "code",
        "colab": {}
      },
      "source": [
        "features_1985_diff_ohe_orig = pd.read_csv(FEATURE_FILE_1985_DIFF_OHE)\n",
        "\n"
      ],
      "execution_count": 0,
      "outputs": []
    },
    {
      "cell_type": "code",
      "metadata": {
        "id": "BDUX6WTEqcTv",
        "colab_type": "code",
        "colab": {}
      },
      "source": [
        "\n",
        "features_1985_diff_ohe = features_1985_diff_ohe_orig\n",
        "# extra our label column\n",
        "labels_1985 = features_1985_diff_ohe[LABEL_COL]\n",
        "# one hot encode our labels for Keras\n",
        "label_encoder = OneHotEncoder(handle_unknown='ignore', sparse=False)\n",
        "labels_1985_encoded = label_encoder.fit_transform(features_1985_diff_ohe[[LABEL_COL]])\n",
        "# drop this from our features\n",
        "features_1985_diff_ohe = features_1985_diff_ohe.drop([LABEL_COL], axis=1)\n",
        "\n",
        "# split into training and test set\n",
        "X_train_1985, X_test_1985, y_train_1985_encoded, y_test_1985_encoded = train_test_split(features_1985_diff_ohe, labels_1985_encoded)\n",
        "y_1985_test = label_encoder.inverse_transform(y_train_encoded)"
      ],
      "execution_count": 0,
      "outputs": []
    },
    {
      "cell_type": "code",
      "metadata": {
        "id": "IkH0gUPsj8N8",
        "colab_type": "code",
        "colab": {
          "base_uri": "https://localhost:8080/",
          "height": 436
        },
        "outputId": "fd07f2c9-0df1-4c13-aac0-c9fa05ef6114"
      },
      "source": [
        "output_dim = nb_classes = 2\n",
        "model_lr_1985 = Sequential() \n",
        "model_lr_1985.add(Dense(output_dim, \n",
        "                   input_dim=X_train.shape[1], \n",
        "                   activation='softmax', \n",
        "                   kernel_initializer='random_uniform', \n",
        "                   kernel_regularizer=regularizers.l2(0.01))) \n",
        "model_lr_1985.add(Dropout(0.2))\n",
        "batch_size = 128 \n",
        "epochs = 100\n",
        "\n",
        "model_lr_1985.compile(optimizer='sgd', loss='categorical_crossentropy', metrics=['accuracy']) \n",
        "model_lr_1985.summary()\n",
        "\n",
        "callbacks = [EarlyStopping(monitor='val_loss', patience=4, restore_best_weights=True),\n",
        "             ModelCheckpoint(filepath=f'{MODEL_DIR}/lr.h5', monitor='val_loss', save_best_only=True),\n",
        "             ReduceLROnPlateau(monitor='val_loss', \n",
        "                              factor=0.4,\n",
        "                              patience=2, \n",
        "                              min_lr=0.00001,\n",
        "                             mode='auto')]\n",
        "\n",
        "\n",
        "history_1985 = model_lr_1985.fit(X_train_1985, y_train_1985, \n",
        "                       batch_size=batch_size, \n",
        "                       epochs=epochs,\n",
        "                       verbose=1, \n",
        "                       validation_split=0.1,\n",
        "                       callbacks=callbacks) \n",
        "score_1985 = model_lr_1985.evaluate(X_test_1985, y_test_1985, verbose=0) \n",
        "print('Test score:', score[0]) \n",
        "print('Test accuracy:', score[1])"
      ],
      "execution_count": 84,
      "outputs": [
        {
          "output_type": "stream",
          "text": [
            "Model: \"sequential_14\"\n",
            "_________________________________________________________________\n",
            "Layer (type)                 Output Shape              Param #   \n",
            "=================================================================\n",
            "dense_14 (Dense)             (None, 2)                 10504     \n",
            "_________________________________________________________________\n",
            "dropout_5 (Dropout)          (None, 2)                 0         \n",
            "=================================================================\n",
            "Total params: 10,504\n",
            "Trainable params: 10,504\n",
            "Non-trainable params: 0\n",
            "_________________________________________________________________\n"
          ],
          "name": "stdout"
        },
        {
          "output_type": "error",
          "ename": "NameError",
          "evalue": "ignored",
          "traceback": [
            "\u001b[0;31m---------------------------------------------------------------------------\u001b[0m",
            "\u001b[0;31mNameError\u001b[0m                                 Traceback (most recent call last)",
            "\u001b[0;32m<ipython-input-84-946e3546d1ea>\u001b[0m in \u001b[0;36m<module>\u001b[0;34m()\u001b[0m\n\u001b[1;32m     22\u001b[0m \u001b[0;34m\u001b[0m\u001b[0m\n\u001b[1;32m     23\u001b[0m \u001b[0;34m\u001b[0m\u001b[0m\n\u001b[0;32m---> 24\u001b[0;31m history_1985 = model_lr_1985.fit(X_train_1985, y_train_1985, \n\u001b[0m\u001b[1;32m     25\u001b[0m                        \u001b[0mbatch_size\u001b[0m\u001b[0;34m=\u001b[0m\u001b[0mbatch_size\u001b[0m\u001b[0;34m,\u001b[0m\u001b[0;34m\u001b[0m\u001b[0;34m\u001b[0m\u001b[0m\n\u001b[1;32m     26\u001b[0m                        \u001b[0mepochs\u001b[0m\u001b[0;34m=\u001b[0m\u001b[0mepochs\u001b[0m\u001b[0;34m,\u001b[0m\u001b[0;34m\u001b[0m\u001b[0;34m\u001b[0m\u001b[0m\n",
            "\u001b[0;31mNameError\u001b[0m: name 'X_train_1985' is not defined"
          ]
        }
      ]
    },
    {
      "cell_type": "code",
      "metadata": {
        "id": "nsfwXGUOqVhk",
        "colab_type": "code",
        "colab": {}
      },
      "source": [
        ""
      ],
      "execution_count": 0,
      "outputs": []
    }
  ]
}