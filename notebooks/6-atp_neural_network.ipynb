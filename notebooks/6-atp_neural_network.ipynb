{
  "nbformat": 4,
  "nbformat_minor": 0,
  "metadata": {
    "colab": {
      "name": "6-atp_neural_network.ipynb",
      "provenance": [],
      "machine_shape": "hm",
      "include_colab_link": true
    },
    "kernelspec": {
      "name": "python3",
      "display_name": "Python 3"
    },
    "accelerator": "GPU"
  },
  "cells": [
    {
      "cell_type": "markdown",
      "metadata": {
        "id": "view-in-github",
        "colab_type": "text"
      },
      "source": [
        "<a href=\"https://colab.research.google.com/github/sv650s/sb-capstone2/blob/master/notebooks/6-atp_neural_network.ipynb\" target=\"_parent\"><img src=\"https://colab.research.google.com/assets/colab-badge.svg\" alt=\"Open In Colab\"/></a>"
      ]
    },
    {
      "cell_type": "markdown",
      "metadata": {
        "id": "maNMeGSioSdx",
        "colab_type": "text"
      },
      "source": [
        "# ATP Tennis Data - Logistic Regression Using One Hot Encoding"
      ]
    },
    {
      "cell_type": "code",
      "metadata": {
        "id": "jhOoSzRWnXwq",
        "colab_type": "code",
        "colab": {}
      },
      "source": [
        ""
      ],
      "execution_count": 0,
      "outputs": []
    },
    {
      "cell_type": "markdown",
      "metadata": {
        "id": "sAEXIZPWoQVp",
        "colab_type": "text"
      },
      "source": [
        ""
      ]
    },
    {
      "cell_type": "code",
      "metadata": {
        "id": "KAcNYkLbn46s",
        "colab_type": "code",
        "colab": {
          "base_uri": "https://localhost:8080/",
          "height": 34
        },
        "outputId": "6e4dbea4-7f88-4aba-df57-2789c9731be7"
      },
      "source": [
        "from google.colab import drive\n",
        "drive.mount('/gdrive')\n",
        "\n"
      ],
      "execution_count": 1,
      "outputs": [
        {
          "output_type": "stream",
          "text": [
            "Drive already mounted at /gdrive; to attempt to forcibly remount, call drive.mount(\"/gdrive\", force_remount=True).\n"
          ],
          "name": "stdout"
        }
      ]
    },
    {
      "cell_type": "code",
      "metadata": {
        "id": "Q6FhTGhHo8RT",
        "colab_type": "code",
        "colab": {
          "base_uri": "https://localhost:8080/",
          "height": 51
        },
        "outputId": "94da18f6-cce5-4e4c-da74-24757d2f8c00"
      },
      "source": [
        "import pandas as pd\n",
        "import numpy as np\n",
        "from datetime import datetime\n",
        "import pickle\n",
        "import json\n",
        "import sys\n",
        "import matplotlib.pyplot as plt\n",
        "import seaborn as sns\n",
        "\n",
        "from sklearn.model_selection import train_test_split\n",
        "from sklearn.metrics import classification_report, confusion_matrix\n",
        "from sklearn.preprocessing import OneHotEncoder\n",
        "\n",
        "from keras.models import Sequential\n",
        "from keras.layers import Dense, Activation, Dropout\n",
        "from keras.layers.normalization import BatchNormalization\n",
        "from keras.callbacks import EarlyStopping, ReduceLROnPlateau, ModelCheckpoint\n",
        "from keras.optimizers import SGD\n",
        "\n",
        "\n",
        "import tensorflow as tf\n",
        "\n",
        "\n",
        "%matplotlib inline\n",
        "sns.set()\n",
        "\n",
        "tf.test.gpu_device_name()"
      ],
      "execution_count": 2,
      "outputs": [
        {
          "output_type": "stream",
          "text": [
            "Using TensorFlow backend.\n"
          ],
          "name": "stderr"
        },
        {
          "output_type": "execute_result",
          "data": {
            "text/plain": [
              "'/device:GPU:0'"
            ]
          },
          "metadata": {
            "tags": []
          },
          "execution_count": 2
        }
      ]
    },
    {
      "cell_type": "code",
      "metadata": {
        "id": "sO579yKwn46J",
        "colab_type": "code",
        "colab": {}
      },
      "source": [
        "DRIVE_DIR = '/gdrive/My Drive/Springboard/capstone2'\n",
        "DATASET_DIR = f'{DRIVE_DIR}/datasets'\n",
        "MODEL_DIR = f'{DRIVE_DIR}/models'\n",
        "\n",
        "FEATURE_FILE_1985 = f'{DATASET_DIR}/atp_matches_1985-2019_features.csv'\n",
        "FEATURE_FILE_1998 = f'{DATASET_DIR}/atp_matches_1998-2019_features.csv'\n",
        "\n",
        "\n",
        "FEATURE_FILE_1985_DIFF = f'{DATASET_DIR}/atp_matches_1985-2019_features-diff.csv'\n",
        "FEATURE_FILE_1998_DIFF = f'{DATASET_DIR}/atp_matches_1998-2019_features-diff.csv'\n",
        "\n",
        "FEATURE_FILE_1985_DIFF_OHE = f'{DATASET_DIR}/atp_matches_1985-2019_features-diff-ohe.csv'\n",
        "FEATURE_FILE_1998_DIFF_OHE = f'{DATASET_DIR}/atp_matches_1998-2019_features-diff-ohe.csv'\n",
        "\n",
        "LABEL_COL = 'p1_winner'\n",
        "\n",
        "sys.path.append(DRIVE_DIR)\n"
      ],
      "execution_count": 0,
      "outputs": []
    },
    {
      "cell_type": "code",
      "metadata": {
        "id": "zRGm73EhWkPA",
        "colab_type": "code",
        "colab": {
          "base_uri": "https://localhost:8080/",
          "height": 224
        },
        "outputId": "6e2069c6-5bf8-40ba-a0f2-c26076f201a3"
      },
      "source": [
        "features_orig = pd.read_csv(FEATURE_FILE_1998)\n",
        "features_orig.head()"
      ],
      "execution_count": 4,
      "outputs": [
        {
          "output_type": "execute_result",
          "data": {
            "text/html": [
              "<div>\n",
              "<style scoped>\n",
              "    .dataframe tbody tr th:only-of-type {\n",
              "        vertical-align: middle;\n",
              "    }\n",
              "\n",
              "    .dataframe tbody tr th {\n",
              "        vertical-align: top;\n",
              "    }\n",
              "\n",
              "    .dataframe thead th {\n",
              "        text-align: right;\n",
              "    }\n",
              "</style>\n",
              "<table border=\"1\" class=\"dataframe\">\n",
              "  <thead>\n",
              "    <tr style=\"text-align: right;\">\n",
              "      <th></th>\n",
              "      <th>draw_size</th>\n",
              "      <th>p1</th>\n",
              "      <th>p1_age</th>\n",
              "      <th>p1_hand</th>\n",
              "      <th>p1_ht</th>\n",
              "      <th>p1_ioc</th>\n",
              "      <th>p1_rank</th>\n",
              "      <th>p1_seed</th>\n",
              "      <th>p1_winner</th>\n",
              "      <th>p2</th>\n",
              "      <th>p2_age</th>\n",
              "      <th>p2_hand</th>\n",
              "      <th>p2_ht</th>\n",
              "      <th>p2_ioc</th>\n",
              "      <th>p2_rank</th>\n",
              "      <th>p2_seed</th>\n",
              "      <th>round_label</th>\n",
              "      <th>surface_label</th>\n",
              "      <th>tourney_id_label</th>\n",
              "      <th>tourney_level_label</th>\n",
              "      <th>tourney_month</th>\n",
              "      <th>tourney_year</th>\n",
              "    </tr>\n",
              "  </thead>\n",
              "  <tbody>\n",
              "    <tr>\n",
              "      <th>0</th>\n",
              "      <td>32</td>\n",
              "      <td>102035</td>\n",
              "      <td>25.79</td>\n",
              "      <td>1</td>\n",
              "      <td>183.0</td>\n",
              "      <td>70</td>\n",
              "      <td>4</td>\n",
              "      <td>1</td>\n",
              "      <td>1</td>\n",
              "      <td>101917</td>\n",
              "      <td>26.61</td>\n",
              "      <td>1</td>\n",
              "      <td>188.0</td>\n",
              "      <td>64</td>\n",
              "      <td>74</td>\n",
              "      <td>19</td>\n",
              "      <td>5</td>\n",
              "      <td>3</td>\n",
              "      <td>62</td>\n",
              "      <td>4</td>\n",
              "      <td>1</td>\n",
              "      <td>1998</td>\n",
              "    </tr>\n",
              "    <tr>\n",
              "      <th>1</th>\n",
              "      <td>32</td>\n",
              "      <td>101727</td>\n",
              "      <td>27.76</td>\n",
              "      <td>1</td>\n",
              "      <td>185.0</td>\n",
              "      <td>3</td>\n",
              "      <td>79</td>\n",
              "      <td>24</td>\n",
              "      <td>1</td>\n",
              "      <td>102548</td>\n",
              "      <td>22.85</td>\n",
              "      <td>1</td>\n",
              "      <td>175.0</td>\n",
              "      <td>17</td>\n",
              "      <td>87</td>\n",
              "      <td>25</td>\n",
              "      <td>5</td>\n",
              "      <td>3</td>\n",
              "      <td>62</td>\n",
              "      <td>4</td>\n",
              "      <td>1</td>\n",
              "      <td>1998</td>\n",
              "    </tr>\n",
              "    <tr>\n",
              "      <th>2</th>\n",
              "      <td>32</td>\n",
              "      <td>102491</td>\n",
              "      <td>23.08</td>\n",
              "      <td>1</td>\n",
              "      <td>185.0</td>\n",
              "      <td>32</td>\n",
              "      <td>71</td>\n",
              "      <td>18</td>\n",
              "      <td>0</td>\n",
              "      <td>102765</td>\n",
              "      <td>21.76</td>\n",
              "      <td>1</td>\n",
              "      <td>185.0</td>\n",
              "      <td>29</td>\n",
              "      <td>93</td>\n",
              "      <td>27</td>\n",
              "      <td>5</td>\n",
              "      <td>3</td>\n",
              "      <td>62</td>\n",
              "      <td>4</td>\n",
              "      <td>1</td>\n",
              "      <td>1998</td>\n",
              "    </tr>\n",
              "    <tr>\n",
              "      <th>3</th>\n",
              "      <td>32</td>\n",
              "      <td>101647</td>\n",
              "      <td>28.25</td>\n",
              "      <td>1</td>\n",
              "      <td>175.0</td>\n",
              "      <td>83</td>\n",
              "      <td>76</td>\n",
              "      <td>21</td>\n",
              "      <td>0</td>\n",
              "      <td>102563</td>\n",
              "      <td>22.79</td>\n",
              "      <td>1</td>\n",
              "      <td>180.0</td>\n",
              "      <td>70</td>\n",
              "      <td>39</td>\n",
              "      <td>7</td>\n",
              "      <td>5</td>\n",
              "      <td>3</td>\n",
              "      <td>62</td>\n",
              "      <td>4</td>\n",
              "      <td>1</td>\n",
              "      <td>1998</td>\n",
              "    </tr>\n",
              "    <tr>\n",
              "      <th>4</th>\n",
              "      <td>32</td>\n",
              "      <td>102104</td>\n",
              "      <td>25.37</td>\n",
              "      <td>1</td>\n",
              "      <td>188.0</td>\n",
              "      <td>54</td>\n",
              "      <td>65</td>\n",
              "      <td>16</td>\n",
              "      <td>0</td>\n",
              "      <td>102796</td>\n",
              "      <td>21.60</td>\n",
              "      <td>1</td>\n",
              "      <td>188.0</td>\n",
              "      <td>70</td>\n",
              "      <td>22</td>\n",
              "      <td>4</td>\n",
              "      <td>5</td>\n",
              "      <td>3</td>\n",
              "      <td>62</td>\n",
              "      <td>4</td>\n",
              "      <td>1</td>\n",
              "      <td>1998</td>\n",
              "    </tr>\n",
              "  </tbody>\n",
              "</table>\n",
              "</div>"
            ],
            "text/plain": [
              "   draw_size      p1  p1_age  ...  tourney_level_label  tourney_month  tourney_year\n",
              "0         32  102035   25.79  ...                    4              1          1998\n",
              "1         32  101727   27.76  ...                    4              1          1998\n",
              "2         32  102491   23.08  ...                    4              1          1998\n",
              "3         32  101647   28.25  ...                    4              1          1998\n",
              "4         32  102104   25.37  ...                    4              1          1998\n",
              "\n",
              "[5 rows x 22 columns]"
            ]
          },
          "metadata": {
            "tags": []
          },
          "execution_count": 4
        }
      ]
    },
    {
      "cell_type": "code",
      "metadata": {
        "id": "FmAY5jvsYXKM",
        "colab_type": "code",
        "colab": {
          "base_uri": "https://localhost:8080/",
          "height": 224
        },
        "outputId": "90f35111-96bb-4d2c-85db-a53be1e97b62"
      },
      "source": [
        "features = features_orig\n",
        "# extra our label column\n",
        "labels = features[LABEL_COL]\n",
        "# one hot encode our labels for Keras\n",
        "label_encoder = OneHotEncoder(handle_unknown='ignore', sparse=False)\n",
        "labels_encoded = label_encoder.fit_transform(features[[LABEL_COL]])\n",
        "# drop this from our features\n",
        "features = features.drop([LABEL_COL], axis=1)\n",
        "\n",
        "features.head()"
      ],
      "execution_count": 8,
      "outputs": [
        {
          "output_type": "execute_result",
          "data": {
            "text/html": [
              "<div>\n",
              "<style scoped>\n",
              "    .dataframe tbody tr th:only-of-type {\n",
              "        vertical-align: middle;\n",
              "    }\n",
              "\n",
              "    .dataframe tbody tr th {\n",
              "        vertical-align: top;\n",
              "    }\n",
              "\n",
              "    .dataframe thead th {\n",
              "        text-align: right;\n",
              "    }\n",
              "</style>\n",
              "<table border=\"1\" class=\"dataframe\">\n",
              "  <thead>\n",
              "    <tr style=\"text-align: right;\">\n",
              "      <th></th>\n",
              "      <th>draw_size</th>\n",
              "      <th>p1</th>\n",
              "      <th>p1_age</th>\n",
              "      <th>p1_hand</th>\n",
              "      <th>p1_ht</th>\n",
              "      <th>p1_ioc</th>\n",
              "      <th>p1_rank</th>\n",
              "      <th>p1_seed</th>\n",
              "      <th>p2</th>\n",
              "      <th>p2_age</th>\n",
              "      <th>p2_hand</th>\n",
              "      <th>p2_ht</th>\n",
              "      <th>p2_ioc</th>\n",
              "      <th>p2_rank</th>\n",
              "      <th>p2_seed</th>\n",
              "      <th>round_label</th>\n",
              "      <th>surface_label</th>\n",
              "      <th>tourney_id_label</th>\n",
              "      <th>tourney_level_label</th>\n",
              "      <th>tourney_month</th>\n",
              "      <th>tourney_year</th>\n",
              "    </tr>\n",
              "  </thead>\n",
              "  <tbody>\n",
              "    <tr>\n",
              "      <th>0</th>\n",
              "      <td>32</td>\n",
              "      <td>102035</td>\n",
              "      <td>25.79</td>\n",
              "      <td>1</td>\n",
              "      <td>183.0</td>\n",
              "      <td>70</td>\n",
              "      <td>4</td>\n",
              "      <td>1</td>\n",
              "      <td>101917</td>\n",
              "      <td>26.61</td>\n",
              "      <td>1</td>\n",
              "      <td>188.0</td>\n",
              "      <td>64</td>\n",
              "      <td>74</td>\n",
              "      <td>19</td>\n",
              "      <td>5</td>\n",
              "      <td>3</td>\n",
              "      <td>62</td>\n",
              "      <td>4</td>\n",
              "      <td>1</td>\n",
              "      <td>1998</td>\n",
              "    </tr>\n",
              "    <tr>\n",
              "      <th>1</th>\n",
              "      <td>32</td>\n",
              "      <td>101727</td>\n",
              "      <td>27.76</td>\n",
              "      <td>1</td>\n",
              "      <td>185.0</td>\n",
              "      <td>3</td>\n",
              "      <td>79</td>\n",
              "      <td>24</td>\n",
              "      <td>102548</td>\n",
              "      <td>22.85</td>\n",
              "      <td>1</td>\n",
              "      <td>175.0</td>\n",
              "      <td>17</td>\n",
              "      <td>87</td>\n",
              "      <td>25</td>\n",
              "      <td>5</td>\n",
              "      <td>3</td>\n",
              "      <td>62</td>\n",
              "      <td>4</td>\n",
              "      <td>1</td>\n",
              "      <td>1998</td>\n",
              "    </tr>\n",
              "    <tr>\n",
              "      <th>2</th>\n",
              "      <td>32</td>\n",
              "      <td>102491</td>\n",
              "      <td>23.08</td>\n",
              "      <td>1</td>\n",
              "      <td>185.0</td>\n",
              "      <td>32</td>\n",
              "      <td>71</td>\n",
              "      <td>18</td>\n",
              "      <td>102765</td>\n",
              "      <td>21.76</td>\n",
              "      <td>1</td>\n",
              "      <td>185.0</td>\n",
              "      <td>29</td>\n",
              "      <td>93</td>\n",
              "      <td>27</td>\n",
              "      <td>5</td>\n",
              "      <td>3</td>\n",
              "      <td>62</td>\n",
              "      <td>4</td>\n",
              "      <td>1</td>\n",
              "      <td>1998</td>\n",
              "    </tr>\n",
              "    <tr>\n",
              "      <th>3</th>\n",
              "      <td>32</td>\n",
              "      <td>101647</td>\n",
              "      <td>28.25</td>\n",
              "      <td>1</td>\n",
              "      <td>175.0</td>\n",
              "      <td>83</td>\n",
              "      <td>76</td>\n",
              "      <td>21</td>\n",
              "      <td>102563</td>\n",
              "      <td>22.79</td>\n",
              "      <td>1</td>\n",
              "      <td>180.0</td>\n",
              "      <td>70</td>\n",
              "      <td>39</td>\n",
              "      <td>7</td>\n",
              "      <td>5</td>\n",
              "      <td>3</td>\n",
              "      <td>62</td>\n",
              "      <td>4</td>\n",
              "      <td>1</td>\n",
              "      <td>1998</td>\n",
              "    </tr>\n",
              "    <tr>\n",
              "      <th>4</th>\n",
              "      <td>32</td>\n",
              "      <td>102104</td>\n",
              "      <td>25.37</td>\n",
              "      <td>1</td>\n",
              "      <td>188.0</td>\n",
              "      <td>54</td>\n",
              "      <td>65</td>\n",
              "      <td>16</td>\n",
              "      <td>102796</td>\n",
              "      <td>21.60</td>\n",
              "      <td>1</td>\n",
              "      <td>188.0</td>\n",
              "      <td>70</td>\n",
              "      <td>22</td>\n",
              "      <td>4</td>\n",
              "      <td>5</td>\n",
              "      <td>3</td>\n",
              "      <td>62</td>\n",
              "      <td>4</td>\n",
              "      <td>1</td>\n",
              "      <td>1998</td>\n",
              "    </tr>\n",
              "  </tbody>\n",
              "</table>\n",
              "</div>"
            ],
            "text/plain": [
              "   draw_size      p1  p1_age  ...  tourney_level_label  tourney_month  tourney_year\n",
              "0         32  102035   25.79  ...                    4              1          1998\n",
              "1         32  101727   27.76  ...                    4              1          1998\n",
              "2         32  102491   23.08  ...                    4              1          1998\n",
              "3         32  101647   28.25  ...                    4              1          1998\n",
              "4         32  102104   25.37  ...                    4              1          1998\n",
              "\n",
              "[5 rows x 21 columns]"
            ]
          },
          "metadata": {
            "tags": []
          },
          "execution_count": 8
        }
      ]
    },
    {
      "cell_type": "code",
      "metadata": {
        "id": "xMp9rvK94pHh",
        "colab_type": "code",
        "colab": {
          "base_uri": "https://localhost:8080/",
          "height": 102
        },
        "outputId": "8f1d8ece-dbf7-4466-f19b-016a872fbe83"
      },
      "source": [
        "labels_encoded[:5]"
      ],
      "execution_count": 11,
      "outputs": [
        {
          "output_type": "execute_result",
          "data": {
            "text/plain": [
              "array([[0., 1.],\n",
              "       [0., 1.],\n",
              "       [1., 0.],\n",
              "       [1., 0.],\n",
              "       [1., 0.]])"
            ]
          },
          "metadata": {
            "tags": []
          },
          "execution_count": 11
        }
      ]
    },
    {
      "cell_type": "code",
      "metadata": {
        "id": "gg8Z0Sz_WbqZ",
        "colab_type": "code",
        "colab": {}
      },
      "source": [
        "# split into training and test set\n",
        "X_train, X_test, y_train_encoded, y_test_encoded = train_test_split(features, labels_encoded)\n",
        "y_test = label_encoder.inverse_transform(y_test_encoded)"
      ],
      "execution_count": 0,
      "outputs": []
    },
    {
      "cell_type": "code",
      "metadata": {
        "id": "7CBvO5xwcGnw",
        "colab_type": "code",
        "colab": {
          "base_uri": "https://localhost:8080/",
          "height": 34
        },
        "outputId": "9102760a-dc09-446b-a251-b5e2122d4794"
      },
      "source": [
        "X_train.shape"
      ],
      "execution_count": 13,
      "outputs": [
        {
          "output_type": "execute_result",
          "data": {
            "text/plain": [
              "(43401, 21)"
            ]
          },
          "metadata": {
            "tags": []
          },
          "execution_count": 13
        }
      ]
    },
    {
      "cell_type": "markdown",
      "metadata": {
        "id": "Y0vIecdvpHOx",
        "colab_type": "text"
      },
      "source": [
        "# Implement Neural Network\n",
        "\n",
        "LR is just a 1 layer dense network with softmax\n",
        "\n",
        "We should get similar results as our [logistic regression notebook](https://github.com/sv650s/sb-capstone2/blob/master/notebooks/4-atp_logistic_regression.ipynb)\n",
        "\n",
        "Baseline of our model is 65% accruacy\n",
        "\n"
      ]
    },
    {
      "cell_type": "code",
      "metadata": {
        "id": "9TDPA9XWoe0m",
        "colab_type": "code",
        "colab": {
          "base_uri": "https://localhost:8080/",
          "height": 649
        },
        "outputId": "9866e6a2-1d4e-4906-8002-8f645cbc1cc9"
      },
      "source": [
        "from keras.models import Sequential \n",
        "from keras.layers import Dense, Activation \n",
        "from keras import regularizers\n",
        "import keras as K\n",
        "\n",
        "\n",
        "output_dim = nb_classes = 2\n",
        "model_lr = Sequential() \n",
        "model_lr.add(Dense(X_train.shape[1] * 10, \n",
        "                   input_shape=(X_train.shape[1], ), \n",
        "                   activation='relu', \n",
        "                   kernel_initializer=K.initializers.glorot_uniform(seed=1), \n",
        "                   kernel_regularizer=regularizers.l2(0.01))) \n",
        "model_lr.add(Dropout(0.2))\n",
        "model_lr.add(Dense(X_train.shape[1] * 10, \n",
        "                   activation='relu', \n",
        "                   kernel_initializer=K.initializers.glorot_uniform(seed=1), \n",
        "                   kernel_regularizer=regularizers.l2(0.01))) \n",
        "model_lr.add(Dropout(0.2))\n",
        "model_lr.add(Dense(output_dim, \n",
        "                   activation='softmax', \n",
        "                   kernel_initializer=K.initializers.glorot_uniform(seed=1))) \n",
        "batch_size = 32 \n",
        "epochs = 100\n",
        "\n",
        "model_lr.compile(optimizer='sgd', loss='binary_crossentropy', metrics=['accuracy']) \n",
        "model_lr.summary()"
      ],
      "execution_count": 14,
      "outputs": [
        {
          "output_type": "stream",
          "text": [
            "WARNING:tensorflow:From /usr/local/lib/python3.6/dist-packages/keras/backend/tensorflow_backend.py:66: The name tf.get_default_graph is deprecated. Please use tf.compat.v1.get_default_graph instead.\n",
            "\n",
            "WARNING:tensorflow:From /usr/local/lib/python3.6/dist-packages/keras/backend/tensorflow_backend.py:541: The name tf.placeholder is deprecated. Please use tf.compat.v1.placeholder instead.\n",
            "\n",
            "WARNING:tensorflow:From /usr/local/lib/python3.6/dist-packages/keras/backend/tensorflow_backend.py:4432: The name tf.random_uniform is deprecated. Please use tf.random.uniform instead.\n",
            "\n",
            "WARNING:tensorflow:From /usr/local/lib/python3.6/dist-packages/keras/backend/tensorflow_backend.py:148: The name tf.placeholder_with_default is deprecated. Please use tf.compat.v1.placeholder_with_default instead.\n",
            "\n",
            "WARNING:tensorflow:From /usr/local/lib/python3.6/dist-packages/keras/backend/tensorflow_backend.py:3733: calling dropout (from tensorflow.python.ops.nn_ops) with keep_prob is deprecated and will be removed in a future version.\n",
            "Instructions for updating:\n",
            "Please use `rate` instead of `keep_prob`. Rate should be set to `rate = 1 - keep_prob`.\n",
            "WARNING:tensorflow:From /usr/local/lib/python3.6/dist-packages/keras/optimizers.py:793: The name tf.train.Optimizer is deprecated. Please use tf.compat.v1.train.Optimizer instead.\n",
            "\n",
            "WARNING:tensorflow:From /usr/local/lib/python3.6/dist-packages/keras/backend/tensorflow_backend.py:3657: The name tf.log is deprecated. Please use tf.math.log instead.\n",
            "\n",
            "WARNING:tensorflow:From /usr/local/lib/python3.6/dist-packages/tensorflow/python/ops/nn_impl.py:180: add_dispatch_support.<locals>.wrapper (from tensorflow.python.ops.array_ops) is deprecated and will be removed in a future version.\n",
            "Instructions for updating:\n",
            "Use tf.where in 2.0, which has the same broadcast rule as np.where\n",
            "Model: \"sequential_1\"\n",
            "_________________________________________________________________\n",
            "Layer (type)                 Output Shape              Param #   \n",
            "=================================================================\n",
            "dense_1 (Dense)              (None, 210)               4620      \n",
            "_________________________________________________________________\n",
            "dropout_1 (Dropout)          (None, 210)               0         \n",
            "_________________________________________________________________\n",
            "dense_2 (Dense)              (None, 210)               44310     \n",
            "_________________________________________________________________\n",
            "dropout_2 (Dropout)          (None, 210)               0         \n",
            "_________________________________________________________________\n",
            "dense_3 (Dense)              (None, 2)                 422       \n",
            "=================================================================\n",
            "Total params: 49,352\n",
            "Trainable params: 49,352\n",
            "Non-trainable params: 0\n",
            "_________________________________________________________________\n"
          ],
          "name": "stdout"
        }
      ]
    },
    {
      "cell_type": "code",
      "metadata": {
        "id": "VT7DyAeqXg4c",
        "colab_type": "code",
        "colab": {
          "base_uri": "https://localhost:8080/",
          "height": 1000
        },
        "outputId": "93dd7e13-52c7-4e5f-b87f-a152f277dc9f"
      },
      "source": [
        "callbacks = [EarlyStopping(monitor='val_loss', patience=4, restore_best_weights=True, verbose=1),\n",
        "             ModelCheckpoint(filepath=f'{MODEL_DIR}/lr.h5', monitor='val_loss', save_best_only=True),\n",
        "             ReduceLROnPlateau(monitor='val_loss', factor=0.4,patience=2, min_lr=0.00001, mode='auto')]\n",
        "\n",
        "\n",
        "history = model_lr.fit(X_train, y_train_encoded, \n",
        "                       batch_size=batch_size, \n",
        "                       epochs=epochs,\n",
        "                       verbose=1, \n",
        "                       validation_split=0.2,\n",
        "                       callbacks=callbacks) \n",
        "\n",
        "# evalute our model\n",
        "score = model_lr.evaluate(X_test, y_test_encoded, verbose=0) \n",
        "print('Test score:', score[0]) \n",
        "print('Test accuracy:', score[1])"
      ],
      "execution_count": 17,
      "outputs": [
        {
          "output_type": "stream",
          "text": [
            "Train on 34720 samples, validate on 8681 samples\n",
            "Epoch 1/100\n",
            "34720/34720 [==============================] - 5s 133us/step - loss: 8.1241 - acc: 0.5014 - val_loss: 8.2962 - val_acc: 0.4890\n",
            "Epoch 2/100\n",
            "34720/34720 [==============================] - 5s 132us/step - loss: 8.0779 - acc: 0.5014 - val_loss: 8.2593 - val_acc: 0.4890\n",
            "Epoch 3/100\n",
            "34720/34720 [==============================] - 5s 133us/step - loss: 8.0480 - acc: 0.5014 - val_loss: 8.2354 - val_acc: 0.4890\n",
            "Epoch 4/100\n",
            "34720/34720 [==============================] - 5s 132us/step - loss: 8.0286 - acc: 0.5014 - val_loss: 8.2199 - val_acc: 0.4890\n",
            "Epoch 5/100\n",
            "34720/34720 [==============================] - 5s 133us/step - loss: 8.0161 - acc: 0.5014 - val_loss: 8.2099 - val_acc: 0.4890\n",
            "Epoch 6/100\n",
            "34720/34720 [==============================] - 5s 133us/step - loss: 8.0079 - acc: 0.5014 - val_loss: 8.2034 - val_acc: 0.4890\n",
            "Epoch 7/100\n",
            "34720/34720 [==============================] - 5s 133us/step - loss: 8.0027 - acc: 0.5014 - val_loss: 8.1992 - val_acc: 0.4890\n",
            "Epoch 8/100\n",
            "34720/34720 [==============================] - 5s 132us/step - loss: 7.9992 - acc: 0.5014 - val_loss: 8.1965 - val_acc: 0.4890\n",
            "Epoch 9/100\n",
            "34720/34720 [==============================] - 5s 133us/step - loss: 7.9970 - acc: 0.5014 - val_loss: 8.1947 - val_acc: 0.4890\n",
            "Epoch 10/100\n",
            "34720/34720 [==============================] - 5s 132us/step - loss: 7.9956 - acc: 0.5014 - val_loss: 8.1936 - val_acc: 0.4890\n",
            "Epoch 11/100\n",
            "34720/34720 [==============================] - 5s 131us/step - loss: 7.9947 - acc: 0.5014 - val_loss: 8.1928 - val_acc: 0.4890\n",
            "Epoch 12/100\n",
            "34720/34720 [==============================] - 5s 132us/step - loss: 7.9941 - acc: 0.5014 - val_loss: 8.1924 - val_acc: 0.4890\n",
            "Epoch 13/100\n",
            "34720/34720 [==============================] - 5s 131us/step - loss: 7.9937 - acc: 0.5014 - val_loss: 8.1920 - val_acc: 0.4890\n",
            "Epoch 14/100\n",
            "34720/34720 [==============================] - 5s 132us/step - loss: 7.9934 - acc: 0.5014 - val_loss: 8.1918 - val_acc: 0.4890\n",
            "Epoch 15/100\n",
            "34720/34720 [==============================] - 5s 132us/step - loss: 7.9933 - acc: 0.5014 - val_loss: 8.1917 - val_acc: 0.4890\n",
            "Epoch 16/100\n",
            "34720/34720 [==============================] - 5s 131us/step - loss: 7.9932 - acc: 0.5014 - val_loss: 8.1916 - val_acc: 0.4890\n",
            "Epoch 17/100\n",
            "34720/34720 [==============================] - 5s 131us/step - loss: 7.9931 - acc: 0.5014 - val_loss: 8.1916 - val_acc: 0.4890\n",
            "Epoch 18/100\n",
            "34720/34720 [==============================] - 5s 132us/step - loss: 7.9930 - acc: 0.5014 - val_loss: 8.1915 - val_acc: 0.4890\n",
            "Epoch 19/100\n",
            "34720/34720 [==============================] - 5s 131us/step - loss: 7.9930 - acc: 0.5014 - val_loss: 8.1915 - val_acc: 0.4890\n",
            "Epoch 20/100\n",
            "34720/34720 [==============================] - 5s 132us/step - loss: 7.9930 - acc: 0.5014 - val_loss: 8.1915 - val_acc: 0.4890\n",
            "Epoch 21/100\n",
            "34720/34720 [==============================] - 5s 131us/step - loss: 7.9930 - acc: 0.5014 - val_loss: 8.1915 - val_acc: 0.4890\n",
            "Epoch 22/100\n",
            "34720/34720 [==============================] - 5s 132us/step - loss: 7.9930 - acc: 0.5014 - val_loss: 8.1915 - val_acc: 0.4890\n",
            "Epoch 23/100\n",
            "34720/34720 [==============================] - 5s 131us/step - loss: 7.9930 - acc: 0.5014 - val_loss: 8.1915 - val_acc: 0.4890\n",
            "Epoch 24/100\n",
            "34720/34720 [==============================] - 5s 132us/step - loss: 7.9930 - acc: 0.5014 - val_loss: 8.1915 - val_acc: 0.4890\n",
            "Epoch 25/100\n",
            "34720/34720 [==============================] - 5s 132us/step - loss: 7.9930 - acc: 0.5014 - val_loss: 8.1915 - val_acc: 0.4890\n",
            "Epoch 26/100\n",
            "34720/34720 [==============================] - 5s 132us/step - loss: 7.9930 - acc: 0.5014 - val_loss: 8.1915 - val_acc: 0.4890\n",
            "Epoch 27/100\n",
            "34720/34720 [==============================] - 5s 131us/step - loss: 7.9930 - acc: 0.5014 - val_loss: 8.1915 - val_acc: 0.4890\n",
            "Epoch 28/100\n",
            "34720/34720 [==============================] - 5s 131us/step - loss: 7.9930 - acc: 0.5014 - val_loss: 8.1915 - val_acc: 0.4890\n",
            "Epoch 29/100\n",
            "34720/34720 [==============================] - 5s 132us/step - loss: 7.9930 - acc: 0.5014 - val_loss: 8.1915 - val_acc: 0.4890\n",
            "Epoch 30/100\n",
            "34720/34720 [==============================] - 5s 132us/step - loss: 7.9930 - acc: 0.5014 - val_loss: 8.1915 - val_acc: 0.4890\n",
            "Epoch 31/100\n",
            "34720/34720 [==============================] - 5s 133us/step - loss: 7.9930 - acc: 0.5014 - val_loss: 8.1915 - val_acc: 0.4890\n",
            "Epoch 32/100\n",
            "34720/34720 [==============================] - 5s 132us/step - loss: 7.9930 - acc: 0.5014 - val_loss: 8.1915 - val_acc: 0.4890\n",
            "Epoch 33/100\n",
            "34720/34720 [==============================] - 5s 131us/step - loss: 7.9930 - acc: 0.5014 - val_loss: 8.1915 - val_acc: 0.4890\n",
            "Restoring model weights from the end of the best epoch\n",
            "Epoch 00033: early stopping\n",
            "Test score: 8.014589440215307\n",
            "Test accuracy: 0.5000345614176956\n"
          ],
          "name": "stdout"
        }
      ]
    },
    {
      "cell_type": "code",
      "metadata": {
        "id": "Qzd3WsxNe6K2",
        "colab_type": "code",
        "colab": {
          "base_uri": "https://localhost:8080/",
          "height": 585
        },
        "outputId": "27eed76d-264f-471e-f4cb-dfd2d6353590"
      },
      "source": [
        "# Plot training & validation accuracy values\n",
        "plt.plot(history.history['acc'])\n",
        "plt.plot(history.history['val_acc'])\n",
        "plt.title('Model accuracy')\n",
        "plt.ylabel('Accuracy')\n",
        "plt.xlabel('Epoch')\n",
        "plt.legend(['Train', 'Test'], loc='upper left')\n",
        "plt.show()\n",
        "\n",
        "# Plot training & validation loss values\n",
        "plt.plot(history.history['loss'])\n",
        "plt.plot(history.history['val_loss'])\n",
        "plt.title('Model loss')\n",
        "plt.ylabel('Loss')\n",
        "plt.xlabel('Epoch')\n",
        "plt.legend(['Train', 'Test'], loc='upper left')\n",
        "plt.show()"
      ],
      "execution_count": 18,
      "outputs": [
        {
          "output_type": "display_data",
          "data": {
            "image/png": "[encoded data removed]",
            "text/plain": [
              "<Figure size 432x288 with 1 Axes>"
            ]
          },
          "metadata": {
            "tags": []
          }
        },
        {
          "output_type": "display_data",
          "data": {
            "image/png": "[encoded data removed]",
            "text/plain": [
              "<Figure size 432x288 with 1 Axes>"
            ]
          },
          "metadata": {
            "tags": []
          }
        }
      ]
    },
    {
      "cell_type": "code",
      "metadata": {
        "id": "PwiUcorMeVzL",
        "colab_type": "code",
        "colab": {}
      },
      "source": [
        "# use our model to predict\n",
        "y_predict_encoded = model_lr.predict(X_test)\n"
      ],
      "execution_count": 0,
      "outputs": []
    },
    {
      "cell_type": "code",
      "metadata": {
        "id": "aUovPTvV2FLj",
        "colab_type": "code",
        "colab": {
          "base_uri": "https://localhost:8080/",
          "height": 357
        },
        "outputId": "fdb92fd3-4a20-4c9b-b439-d7c8e0f67c91"
      },
      "source": [
        "y_predict_encoded[:20]"
      ],
      "execution_count": 21,
      "outputs": [
        {
          "output_type": "execute_result",
          "data": {
            "text/plain": [
              "array([[0., 1.],\n",
              "       [0., 1.],\n",
              "       [0., 1.],\n",
              "       [0., 1.],\n",
              "       [0., 1.],\n",
              "       [0., 1.],\n",
              "       [0., 1.],\n",
              "       [0., 1.],\n",
              "       [0., 1.],\n",
              "       [0., 1.],\n",
              "       [0., 1.],\n",
              "       [0., 1.],\n",
              "       [0., 1.],\n",
              "       [0., 1.],\n",
              "       [0., 1.],\n",
              "       [0., 1.],\n",
              "       [0., 1.],\n",
              "       [0., 1.],\n",
              "       [0., 1.],\n",
              "       [0., 1.]], dtype=float32)"
            ]
          },
          "metadata": {
            "tags": []
          },
          "execution_count": 21
        }
      ]
    },
    {
      "cell_type": "code",
      "metadata": {
        "id": "XUiTZZpi4Ald",
        "colab_type": "code",
        "colab": {
          "base_uri": "https://localhost:8080/",
          "height": 34
        },
        "outputId": "ef9c4b0e-ef41-4fd7-b5dd-14dd29fd2013"
      },
      "source": [
        "y_predict = [row.idxmax() for index, row in pd.DataFrame(y_predict_encoded).iterrows()]\n",
        "y_predict[:20]"
      ],
      "execution_count": 23,
      "outputs": [
        {
          "output_type": "execute_result",
          "data": {
            "text/plain": [
              "[1, 1, 1, 1, 1, 1, 1, 1, 1, 1, 1, 1, 1, 1, 1, 1, 1, 1, 1, 1]"
            ]
          },
          "metadata": {
            "tags": []
          },
          "execution_count": 23
        }
      ]
    },
    {
      "cell_type": "code",
      "metadata": {
        "id": "wAzX2tPYtmAw",
        "colab_type": "code",
        "colab": {
          "base_uri": "https://localhost:8080/",
          "height": 224
        },
        "outputId": "897bbf5f-967d-4519-8a77-243d890289fb"
      },
      "source": [
        "print(classification_report(y_test, y_predict, target_names=[\"loss\", \"win\"]))"
      ],
      "execution_count": 24,
      "outputs": [
        {
          "output_type": "stream",
          "text": [
            "              precision    recall  f1-score   support\n",
            "\n",
            "        loss       0.00      0.00      0.00      7233\n",
            "         win       0.50      1.00      0.67      7234\n",
            "\n",
            "    accuracy                           0.50     14467\n",
            "   macro avg       0.25      0.50      0.33     14467\n",
            "weighted avg       0.25      0.50      0.33     14467\n",
            "\n"
          ],
          "name": "stdout"
        },
        {
          "output_type": "stream",
          "text": [
            "/usr/local/lib/python3.6/dist-packages/sklearn/metrics/classification.py:1437: UndefinedMetricWarning: Precision and F-score are ill-defined and being set to 0.0 in labels with no predicted samples.\n",
            "  'precision', 'predicted', average, warn_for)\n"
          ],
          "name": "stderr"
        }
      ]
    },
    {
      "cell_type": "code",
      "metadata": {
        "id": "tkj6-3KbjuPf",
        "colab_type": "code",
        "colab": {
          "base_uri": "https://localhost:8080/",
          "height": 51
        },
        "outputId": "ac6361f5-1b77-42d5-a9e5-ca28b1d58cc4"
      },
      "source": [
        "confusion_matrix(y_test, y_predict)"
      ],
      "execution_count": 25,
      "outputs": [
        {
          "output_type": "execute_result",
          "data": {
            "text/plain": [
              "array([[   0, 7233],\n",
              "       [   0, 7234]])"
            ]
          },
          "metadata": {
            "tags": []
          },
          "execution_count": 25
        }
      ]
    },
    {
      "cell_type": "code",
      "metadata": {
        "id": "nsfwXGUOqVhk",
        "colab_type": "code",
        "colab": {}
      },
      "source": [
        ""
      ],
      "execution_count": 0,
      "outputs": []
    }
  ]
}