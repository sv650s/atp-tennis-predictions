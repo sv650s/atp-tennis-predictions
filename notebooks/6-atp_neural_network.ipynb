{
  "nbformat": 4,
  "nbformat_minor": 0,
  "metadata": {
    "colab": {
      "name": "6-atp_neural_network.ipynb",
      "provenance": [],
      "machine_shape": "hm",
      "include_colab_link": true
    },
    "kernelspec": {
      "name": "python3",
      "display_name": "Python 3"
    },
    "accelerator": "GPU"
  },
  "cells": [
    {
      "cell_type": "markdown",
      "metadata": {
        "id": "view-in-github",
        "colab_type": "text"
      },
      "source": [
        "<a href=\"https://colab.research.google.com/github/sv650s/sb-capstone2/blob/master/notebooks/6-atp_neural_network.ipynb\" target=\"_parent\"><img src=\"https://colab.research.google.com/assets/colab-badge.svg\" alt=\"Open In Colab\"/></a>"
      ]
    },
    {
      "cell_type": "markdown",
      "metadata": {
        "id": "maNMeGSioSdx",
        "colab_type": "text"
      },
      "source": [
        "# ATP Tennis Data - Logistic Regression Using One Hot Encoding"
      ]
    },
    {
      "cell_type": "code",
      "metadata": {
        "id": "jhOoSzRWnXwq",
        "colab_type": "code",
        "colab": {}
      },
      "source": [
        ""
      ],
      "execution_count": 0,
      "outputs": []
    },
    {
      "cell_type": "markdown",
      "metadata": {
        "id": "sAEXIZPWoQVp",
        "colab_type": "text"
      },
      "source": [
        ""
      ]
    },
    {
      "cell_type": "code",
      "metadata": {
        "id": "KAcNYkLbn46s",
        "colab_type": "code",
        "outputId": "6c6afec0-13cd-41f0-bf49-425691a021df",
        "colab": {
          "base_uri": "https://localhost:8080/",
          "height": 122
        }
      },
      "source": [
        "from google.colab import drive\n",
        "drive.mount('/gdrive')\n",
        "\n"
      ],
      "execution_count": 1,
      "outputs": [
        {
          "output_type": "stream",
          "text": [
            "Go to this URL in a browser: https://accounts.google.com/o/oauth2/auth?client_id=947318989803-6bn6qk8qdgf4n4g3pfee6491hc0brc4i.apps.googleusercontent.com&redirect_uri=urn%3Aietf%3Awg%3Aoauth%3A2.0%3Aoob&scope=email%20https%3A%2F%2Fwww.googleapis.com%2Fauth%2Fdocs.test%20https%3A%2F%2Fwww.googleapis.com%2Fauth%2Fdrive%20https%3A%2F%2Fwww.googleapis.com%2Fauth%2Fdrive.photos.readonly%20https%3A%2F%2Fwww.googleapis.com%2Fauth%2Fpeopleapi.readonly&response_type=code\n",
            "\n",
            "Enter your authorization code:\n",
            "··········\n",
            "Mounted at /gdrive\n"
          ],
          "name": "stdout"
        }
      ]
    },
    {
      "cell_type": "code",
      "metadata": {
        "id": "Q6FhTGhHo8RT",
        "colab_type": "code",
        "outputId": "850362d5-b2ff-4065-96e1-183bf4e88492",
        "colab": {
          "base_uri": "https://localhost:8080/",
          "height": 51
        }
      },
      "source": [
        "import pandas as pd\n",
        "import numpy as np\n",
        "from datetime import datetime\n",
        "import pickle\n",
        "import json\n",
        "import sys\n",
        "import matplotlib.pyplot as plt\n",
        "import seaborn as sns\n",
        "\n",
        "from sklearn.model_selection import train_test_split\n",
        "from sklearn.metrics import classification_report, confusion_matrix\n",
        "from sklearn.preprocessing import OneHotEncoder\n",
        "\n",
        "from keras.models import Sequential\n",
        "from keras.layers import Dense, Activation, Dropout\n",
        "from keras.layers.normalization import BatchNormalization\n",
        "from keras.callbacks import EarlyStopping, ReduceLROnPlateau, ModelCheckpoint\n",
        "from keras.optimizers import SGD\n",
        "\n",
        "\n",
        "import tensorflow as tf\n",
        "\n",
        "\n",
        "%matplotlib inline\n",
        "sns.set()\n",
        "\n",
        "tf.test.gpu_device_name()"
      ],
      "execution_count": 2,
      "outputs": [
        {
          "output_type": "stream",
          "text": [
            "Using TensorFlow backend.\n"
          ],
          "name": "stderr"
        },
        {
          "output_type": "execute_result",
          "data": {
            "text/plain": [
              "'/device:GPU:0'"
            ]
          },
          "metadata": {
            "tags": []
          },
          "execution_count": 2
        }
      ]
    },
    {
      "cell_type": "code",
      "metadata": {
        "id": "sO579yKwn46J",
        "colab_type": "code",
        "colab": {}
      },
      "source": [
        "DRIVE_DIR = '/gdrive/My Drive/Springboard/capstone2'\n",
        "DATASET_DIR = f'{DRIVE_DIR}/datasets'\n",
        "MODEL_DIR = f'{DRIVE_DIR}/models'\n",
        "\n",
        "FEATURE_FILE_1985 = f'{DATASET_DIR}/atp_matches_1985-2019_features.csv'\n",
        "FEATURE_FILE_1998 = f'{DATASET_DIR}/atp_matches_1998-2019_features.csv'\n",
        "\n",
        "\n",
        "FEATURE_FILE_1985_DIFF = f'{DATASET_DIR}/atp_matches_1985-2019_features-diff.csv'\n",
        "FEATURE_FILE_1998_DIFF = f'{DATASET_DIR}/atp_matches_1998-2019_features-diff.csv'\n",
        "\n",
        "FEATURE_FILE_1985_DIFF_OHE = f'{DATASET_DIR}/atp_matches_1985-2019_features-diff-ohe.csv'\n",
        "FEATURE_FILE_1998_DIFF_OHE = f'{DATASET_DIR}/atp_matches_1998-2019_features-diff-ohe.csv'\n",
        "\n",
        "LABEL_COL = 'p1_winner'\n",
        "\n",
        "sys.path.append(DRIVE_DIR)\n"
      ],
      "execution_count": 0,
      "outputs": []
    },
    {
      "cell_type": "code",
      "metadata": {
        "id": "zRGm73EhWkPA",
        "colab_type": "code",
        "outputId": "c61f052c-3cce-47bc-8ef0-f83aad0e783c",
        "colab": {
          "base_uri": "https://localhost:8080/",
          "height": 241
        }
      },
      "source": [
        "features_orig = pd.read_csv(FEATURE_FILE_1998_DIFF)\n",
        "print(features_orig.shape)\n",
        "features_orig.head()"
      ],
      "execution_count": 5,
      "outputs": [
        {
          "output_type": "stream",
          "text": [
            "(57868, 18)\n"
          ],
          "name": "stdout"
        },
        {
          "output_type": "execute_result",
          "data": {
            "text/html": [
              "<div>\n",
              "<style scoped>\n",
              "    .dataframe tbody tr th:only-of-type {\n",
              "        vertical-align: middle;\n",
              "    }\n",
              "\n",
              "    .dataframe tbody tr th {\n",
              "        vertical-align: top;\n",
              "    }\n",
              "\n",
              "    .dataframe thead th {\n",
              "        text-align: right;\n",
              "    }\n",
              "</style>\n",
              "<table border=\"1\" class=\"dataframe\">\n",
              "  <thead>\n",
              "    <tr style=\"text-align: right;\">\n",
              "      <th></th>\n",
              "      <th>age_diff</th>\n",
              "      <th>draw_size</th>\n",
              "      <th>ht_diff</th>\n",
              "      <th>p1</th>\n",
              "      <th>p1_hand</th>\n",
              "      <th>p1_ioc</th>\n",
              "      <th>p1_winner</th>\n",
              "      <th>p2</th>\n",
              "      <th>p2_hand</th>\n",
              "      <th>p2_ioc</th>\n",
              "      <th>rank_diff</th>\n",
              "      <th>round_label</th>\n",
              "      <th>seed_diff</th>\n",
              "      <th>surface_label</th>\n",
              "      <th>tourney_id_label</th>\n",
              "      <th>tourney_level_label</th>\n",
              "      <th>tourney_month</th>\n",
              "      <th>tourney_year</th>\n",
              "    </tr>\n",
              "  </thead>\n",
              "  <tbody>\n",
              "    <tr>\n",
              "      <th>0</th>\n",
              "      <td>0.82</td>\n",
              "      <td>32.0</td>\n",
              "      <td>5.0</td>\n",
              "      <td>101917.0</td>\n",
              "      <td>1.0</td>\n",
              "      <td>64.0</td>\n",
              "      <td>0.0</td>\n",
              "      <td>102035.0</td>\n",
              "      <td>1.0</td>\n",
              "      <td>70.0</td>\n",
              "      <td>70.0</td>\n",
              "      <td>5.0</td>\n",
              "      <td>18.00</td>\n",
              "      <td>3.0</td>\n",
              "      <td>62.0</td>\n",
              "      <td>4.0</td>\n",
              "      <td>1.0</td>\n",
              "      <td>1998.0</td>\n",
              "    </tr>\n",
              "    <tr>\n",
              "      <th>1</th>\n",
              "      <td>-4.91</td>\n",
              "      <td>32.0</td>\n",
              "      <td>-10.0</td>\n",
              "      <td>102548.0</td>\n",
              "      <td>1.0</td>\n",
              "      <td>17.0</td>\n",
              "      <td>0.0</td>\n",
              "      <td>101727.0</td>\n",
              "      <td>1.0</td>\n",
              "      <td>3.0</td>\n",
              "      <td>8.0</td>\n",
              "      <td>5.0</td>\n",
              "      <td>1.00</td>\n",
              "      <td>3.0</td>\n",
              "      <td>62.0</td>\n",
              "      <td>4.0</td>\n",
              "      <td>1.0</td>\n",
              "      <td>1998.0</td>\n",
              "    </tr>\n",
              "    <tr>\n",
              "      <th>2</th>\n",
              "      <td>-1.32</td>\n",
              "      <td>32.0</td>\n",
              "      <td>0.0</td>\n",
              "      <td>102765.0</td>\n",
              "      <td>1.0</td>\n",
              "      <td>29.0</td>\n",
              "      <td>1.0</td>\n",
              "      <td>102491.0</td>\n",
              "      <td>1.0</td>\n",
              "      <td>32.0</td>\n",
              "      <td>22.0</td>\n",
              "      <td>5.0</td>\n",
              "      <td>3.92</td>\n",
              "      <td>3.0</td>\n",
              "      <td>62.0</td>\n",
              "      <td>4.0</td>\n",
              "      <td>1.0</td>\n",
              "      <td>1998.0</td>\n",
              "    </tr>\n",
              "    <tr>\n",
              "      <th>3</th>\n",
              "      <td>5.46</td>\n",
              "      <td>32.0</td>\n",
              "      <td>-5.0</td>\n",
              "      <td>101647.0</td>\n",
              "      <td>1.0</td>\n",
              "      <td>83.0</td>\n",
              "      <td>0.0</td>\n",
              "      <td>102563.0</td>\n",
              "      <td>1.0</td>\n",
              "      <td>70.0</td>\n",
              "      <td>37.0</td>\n",
              "      <td>5.0</td>\n",
              "      <td>14.00</td>\n",
              "      <td>3.0</td>\n",
              "      <td>62.0</td>\n",
              "      <td>4.0</td>\n",
              "      <td>1.0</td>\n",
              "      <td>1998.0</td>\n",
              "    </tr>\n",
              "    <tr>\n",
              "      <th>4</th>\n",
              "      <td>-3.77</td>\n",
              "      <td>32.0</td>\n",
              "      <td>0.0</td>\n",
              "      <td>102796.0</td>\n",
              "      <td>1.0</td>\n",
              "      <td>70.0</td>\n",
              "      <td>1.0</td>\n",
              "      <td>102104.0</td>\n",
              "      <td>1.0</td>\n",
              "      <td>54.0</td>\n",
              "      <td>-43.0</td>\n",
              "      <td>5.0</td>\n",
              "      <td>-21.37</td>\n",
              "      <td>3.0</td>\n",
              "      <td>62.0</td>\n",
              "      <td>4.0</td>\n",
              "      <td>1.0</td>\n",
              "      <td>1998.0</td>\n",
              "    </tr>\n",
              "  </tbody>\n",
              "</table>\n",
              "</div>"
            ],
            "text/plain": [
              "   age_diff  draw_size  ...  tourney_month  tourney_year\n",
              "0      0.82       32.0  ...            1.0        1998.0\n",
              "1     -4.91       32.0  ...            1.0        1998.0\n",
              "2     -1.32       32.0  ...            1.0        1998.0\n",
              "3      5.46       32.0  ...            1.0        1998.0\n",
              "4     -3.77       32.0  ...            1.0        1998.0\n",
              "\n",
              "[5 rows x 18 columns]"
            ]
          },
          "metadata": {
            "tags": []
          },
          "execution_count": 5
        }
      ]
    },
    {
      "cell_type": "code",
      "metadata": {
        "id": "FmAY5jvsYXKM",
        "colab_type": "code",
        "outputId": "79a86acd-1a7d-45d3-84f6-7a2c5949f782",
        "colab": {
          "base_uri": "https://localhost:8080/",
          "height": 204
        }
      },
      "source": [
        "features = features_orig\n",
        "# extra our label column\n",
        "labels = features[LABEL_COL]\n",
        "# one hot encode our labels for Keras\n",
        "label_encoder = OneHotEncoder(handle_unknown='ignore', sparse=False)\n",
        "labels_encoded = label_encoder.fit_transform(features[[LABEL_COL]])\n",
        "# drop this from our features\n",
        "features = features.drop([LABEL_COL], axis=1)\n",
        "\n",
        "features.head()"
      ],
      "execution_count": 6,
      "outputs": [
        {
          "output_type": "execute_result",
          "data": {
            "text/html": [
              "<div>\n",
              "<style scoped>\n",
              "    .dataframe tbody tr th:only-of-type {\n",
              "        vertical-align: middle;\n",
              "    }\n",
              "\n",
              "    .dataframe tbody tr th {\n",
              "        vertical-align: top;\n",
              "    }\n",
              "\n",
              "    .dataframe thead th {\n",
              "        text-align: right;\n",
              "    }\n",
              "</style>\n",
              "<table border=\"1\" class=\"dataframe\">\n",
              "  <thead>\n",
              "    <tr style=\"text-align: right;\">\n",
              "      <th></th>\n",
              "      <th>age_diff</th>\n",
              "      <th>draw_size</th>\n",
              "      <th>ht_diff</th>\n",
              "      <th>p1</th>\n",
              "      <th>p1_hand</th>\n",
              "      <th>p1_ioc</th>\n",
              "      <th>p2</th>\n",
              "      <th>p2_hand</th>\n",
              "      <th>p2_ioc</th>\n",
              "      <th>rank_diff</th>\n",
              "      <th>round_label</th>\n",
              "      <th>seed_diff</th>\n",
              "      <th>surface_label</th>\n",
              "      <th>tourney_id_label</th>\n",
              "      <th>tourney_level_label</th>\n",
              "      <th>tourney_month</th>\n",
              "      <th>tourney_year</th>\n",
              "    </tr>\n",
              "  </thead>\n",
              "  <tbody>\n",
              "    <tr>\n",
              "      <th>0</th>\n",
              "      <td>0.82</td>\n",
              "      <td>32.0</td>\n",
              "      <td>5.0</td>\n",
              "      <td>101917.0</td>\n",
              "      <td>1.0</td>\n",
              "      <td>64.0</td>\n",
              "      <td>102035.0</td>\n",
              "      <td>1.0</td>\n",
              "      <td>70.0</td>\n",
              "      <td>70.0</td>\n",
              "      <td>5.0</td>\n",
              "      <td>18.00</td>\n",
              "      <td>3.0</td>\n",
              "      <td>62.0</td>\n",
              "      <td>4.0</td>\n",
              "      <td>1.0</td>\n",
              "      <td>1998.0</td>\n",
              "    </tr>\n",
              "    <tr>\n",
              "      <th>1</th>\n",
              "      <td>-4.91</td>\n",
              "      <td>32.0</td>\n",
              "      <td>-10.0</td>\n",
              "      <td>102548.0</td>\n",
              "      <td>1.0</td>\n",
              "      <td>17.0</td>\n",
              "      <td>101727.0</td>\n",
              "      <td>1.0</td>\n",
              "      <td>3.0</td>\n",
              "      <td>8.0</td>\n",
              "      <td>5.0</td>\n",
              "      <td>1.00</td>\n",
              "      <td>3.0</td>\n",
              "      <td>62.0</td>\n",
              "      <td>4.0</td>\n",
              "      <td>1.0</td>\n",
              "      <td>1998.0</td>\n",
              "    </tr>\n",
              "    <tr>\n",
              "      <th>2</th>\n",
              "      <td>-1.32</td>\n",
              "      <td>32.0</td>\n",
              "      <td>0.0</td>\n",
              "      <td>102765.0</td>\n",
              "      <td>1.0</td>\n",
              "      <td>29.0</td>\n",
              "      <td>102491.0</td>\n",
              "      <td>1.0</td>\n",
              "      <td>32.0</td>\n",
              "      <td>22.0</td>\n",
              "      <td>5.0</td>\n",
              "      <td>3.92</td>\n",
              "      <td>3.0</td>\n",
              "      <td>62.0</td>\n",
              "      <td>4.0</td>\n",
              "      <td>1.0</td>\n",
              "      <td>1998.0</td>\n",
              "    </tr>\n",
              "    <tr>\n",
              "      <th>3</th>\n",
              "      <td>5.46</td>\n",
              "      <td>32.0</td>\n",
              "      <td>-5.0</td>\n",
              "      <td>101647.0</td>\n",
              "      <td>1.0</td>\n",
              "      <td>83.0</td>\n",
              "      <td>102563.0</td>\n",
              "      <td>1.0</td>\n",
              "      <td>70.0</td>\n",
              "      <td>37.0</td>\n",
              "      <td>5.0</td>\n",
              "      <td>14.00</td>\n",
              "      <td>3.0</td>\n",
              "      <td>62.0</td>\n",
              "      <td>4.0</td>\n",
              "      <td>1.0</td>\n",
              "      <td>1998.0</td>\n",
              "    </tr>\n",
              "    <tr>\n",
              "      <th>4</th>\n",
              "      <td>-3.77</td>\n",
              "      <td>32.0</td>\n",
              "      <td>0.0</td>\n",
              "      <td>102796.0</td>\n",
              "      <td>1.0</td>\n",
              "      <td>70.0</td>\n",
              "      <td>102104.0</td>\n",
              "      <td>1.0</td>\n",
              "      <td>54.0</td>\n",
              "      <td>-43.0</td>\n",
              "      <td>5.0</td>\n",
              "      <td>-21.37</td>\n",
              "      <td>3.0</td>\n",
              "      <td>62.0</td>\n",
              "      <td>4.0</td>\n",
              "      <td>1.0</td>\n",
              "      <td>1998.0</td>\n",
              "    </tr>\n",
              "  </tbody>\n",
              "</table>\n",
              "</div>"
            ],
            "text/plain": [
              "   age_diff  draw_size  ...  tourney_month  tourney_year\n",
              "0      0.82       32.0  ...            1.0        1998.0\n",
              "1     -4.91       32.0  ...            1.0        1998.0\n",
              "2     -1.32       32.0  ...            1.0        1998.0\n",
              "3      5.46       32.0  ...            1.0        1998.0\n",
              "4     -3.77       32.0  ...            1.0        1998.0\n",
              "\n",
              "[5 rows x 17 columns]"
            ]
          },
          "metadata": {
            "tags": []
          },
          "execution_count": 6
        }
      ]
    },
    {
      "cell_type": "code",
      "metadata": {
        "id": "xMp9rvK94pHh",
        "colab_type": "code",
        "outputId": "cba5004d-cd1f-4685-cb3c-24beafb6b7dc",
        "colab": {
          "base_uri": "https://localhost:8080/",
          "height": 102
        }
      },
      "source": [
        "labels_encoded[:5]"
      ],
      "execution_count": 7,
      "outputs": [
        {
          "output_type": "execute_result",
          "data": {
            "text/plain": [
              "array([[1., 0.],\n",
              "       [1., 0.],\n",
              "       [0., 1.],\n",
              "       [1., 0.],\n",
              "       [0., 1.]])"
            ]
          },
          "metadata": {
            "tags": []
          },
          "execution_count": 7
        }
      ]
    },
    {
      "cell_type": "code",
      "metadata": {
        "id": "gg8Z0Sz_WbqZ",
        "colab_type": "code",
        "colab": {}
      },
      "source": [
        "# split into training and test set\n",
        "X_train, X_test, y_train_encoded, y_test_encoded = train_test_split(features, labels_encoded)\n",
        "y_test = label_encoder.inverse_transform(y_test_encoded)"
      ],
      "execution_count": 0,
      "outputs": []
    },
    {
      "cell_type": "code",
      "metadata": {
        "id": "7CBvO5xwcGnw",
        "colab_type": "code",
        "outputId": "84da313e-2de2-4789-869e-c661018141bb",
        "colab": {
          "base_uri": "https://localhost:8080/",
          "height": 34
        }
      },
      "source": [
        "X_train.shape"
      ],
      "execution_count": 9,
      "outputs": [
        {
          "output_type": "execute_result",
          "data": {
            "text/plain": [
              "(43401, 17)"
            ]
          },
          "metadata": {
            "tags": []
          },
          "execution_count": 9
        }
      ]
    },
    {
      "cell_type": "markdown",
      "metadata": {
        "id": "Y0vIecdvpHOx",
        "colab_type": "text"
      },
      "source": [
        "# Implement Neural Network\n",
        "\n",
        "LR is just a 1 layer dense network with softmax\n",
        "\n",
        "We should get similar results as our [logistic regression notebook](https://github.com/sv650s/sb-capstone2/blob/master/notebooks/4-atp_logistic_regression.ipynb)\n",
        "\n",
        "Baseline of our model is 65% accruacy\n",
        "\n"
      ]
    },
    {
      "cell_type": "code",
      "metadata": {
        "id": "9TDPA9XWoe0m",
        "colab_type": "code",
        "outputId": "0124a0fe-b1fb-4e58-d9bd-6ca2c33b3595",
        "colab": {
          "base_uri": "https://localhost:8080/",
          "height": 425
        }
      },
      "source": [
        "from keras.models import Sequential \n",
        "from keras.layers import Dense, Activation, BatchNormalization\n",
        "from keras import regularizers\n",
        "import keras as K\n",
        "\n",
        "\n",
        "output_dim = nb_classes = 2\n",
        "model_lr = Sequential() \n",
        "model_lr.add(Dense(X_train.shape[1] * 3, \n",
        "                   input_shape=(X_train.shape[1], ),\n",
        "                   kernel_initializer=K.initializers.glorot_uniform(seed=1), \n",
        "                   kernel_regularizer=regularizers.l2(0.01))) \n",
        "model_lr.add(BatchNormalization())\n",
        "model_lr.add(Activation(\"relu\"))\n",
        "# model_lr.add(Dropout(0.2))\n",
        "\n",
        "model_lr.add(Dense(X_train.shape[1] * 3, \n",
        "                   kernel_initializer=K.initializers.glorot_uniform(seed=1), \n",
        "                   kernel_regularizer=regularizers.l2(0.01))) \n",
        "model_lr.add(BatchNormalization())\n",
        "model_lr.add(Activation(\"relu\"))\n",
        "# model_lr.add(Dropout(0.2))\n",
        "\n",
        "model_lr.add(Dense(output_dim, \n",
        "                  #  activation='softmax', \n",
        "                   kernel_initializer=K.initializers.glorot_uniform(seed=1))) \n",
        "model_lr.add(Activation(\"softmax\"))\n",
        "batch_size = 32 \n",
        "epochs = 100\n",
        "\n",
        "model_lr.compile(optimizer='sgd', loss='binary_crossentropy', metrics=['accuracy']) \n",
        "model_lr.summary()"
      ],
      "execution_count": 55,
      "outputs": [
        {
          "output_type": "stream",
          "text": [
            "Model: \"sequential_10\"\n",
            "_________________________________________________________________\n",
            "Layer (type)                 Output Shape              Param #   \n",
            "=================================================================\n",
            "dense_23 (Dense)             (None, 51)                918       \n",
            "_________________________________________________________________\n",
            "batch_normalization_15 (Batc (None, 51)                204       \n",
            "_________________________________________________________________\n",
            "activation_21 (Activation)   (None, 51)                0         \n",
            "_________________________________________________________________\n",
            "dense_24 (Dense)             (None, 51)                2652      \n",
            "_________________________________________________________________\n",
            "batch_normalization_16 (Batc (None, 51)                204       \n",
            "_________________________________________________________________\n",
            "activation_22 (Activation)   (None, 51)                0         \n",
            "_________________________________________________________________\n",
            "dense_25 (Dense)             (None, 2)                 104       \n",
            "_________________________________________________________________\n",
            "activation_23 (Activation)   (None, 2)                 0         \n",
            "=================================================================\n",
            "Total params: 4,082\n",
            "Trainable params: 3,878\n",
            "Non-trainable params: 204\n",
            "_________________________________________________________________\n"
          ],
          "name": "stdout"
        }
      ]
    },
    {
      "cell_type": "code",
      "metadata": {
        "id": "VT7DyAeqXg4c",
        "colab_type": "code",
        "outputId": "e3667633-3bd5-4d1a-bbc4-ba50ee5e9b3f",
        "colab": {
          "base_uri": "https://localhost:8080/",
          "height": 748
        }
      },
      "source": [
        "callbacks = [EarlyStopping(monitor='val_loss', patience=4, restore_best_weights=True, verbose=1),\n",
        "             ModelCheckpoint(filepath=f'{MODEL_DIR}/lr.h5', monitor='val_loss', save_best_only=True),\n",
        "             ReduceLROnPlateau(monitor='val_loss', factor=0.4,patience=2, min_lr=0.00001, mode='auto')]\n",
        "\n",
        "\n",
        "history = model_lr.fit(X_train, y_train_encoded, \n",
        "                       batch_size=batch_size, \n",
        "                       epochs=epochs,\n",
        "                       verbose=1, \n",
        "                       validation_split=0.2,\n",
        "                       callbacks=callbacks) \n",
        "\n",
        "# evalute our model\n",
        "score = model_lr.evaluate(X_test, y_test_encoded, verbose=0) \n",
        "print('Test score:', score[0]) \n",
        "print('Test accuracy:', score[1])"
      ],
      "execution_count": 56,
      "outputs": [
        {
          "output_type": "stream",
          "text": [
            "Train on 34720 samples, validate on 8681 samples\n",
            "Epoch 1/100\n",
            "34720/34720 [==============================] - 8s 241us/step - loss: 1.2995 - acc: 0.5882 - val_loss: 7.1282 - val_acc: 0.4982\n",
            "Epoch 2/100\n",
            "34720/34720 [==============================] - 7s 212us/step - loss: 1.0672 - acc: 0.6169 - val_loss: 1.9053 - val_acc: 0.4994\n",
            "Epoch 3/100\n",
            "34720/34720 [==============================] - 7s 213us/step - loss: 0.9260 - acc: 0.6158 - val_loss: 1.9715 - val_acc: 0.5007\n",
            "Epoch 4/100\n",
            "34720/34720 [==============================] - 7s 212us/step - loss: 0.8306 - acc: 0.6255 - val_loss: 1.0752 - val_acc: 0.4982\n",
            "Epoch 5/100\n",
            "34720/34720 [==============================] - 7s 213us/step - loss: 0.7708 - acc: 0.6282 - val_loss: 1.1820 - val_acc: 0.4983\n",
            "Epoch 6/100\n",
            "34720/34720 [==============================] - 7s 213us/step - loss: 0.7339 - acc: 0.6275 - val_loss: 0.9850 - val_acc: 0.5018\n",
            "Epoch 7/100\n",
            "34720/34720 [==============================] - 7s 214us/step - loss: 0.7082 - acc: 0.6279 - val_loss: 0.9110 - val_acc: 0.4990\n",
            "Epoch 8/100\n",
            "34720/34720 [==============================] - 7s 212us/step - loss: 0.6940 - acc: 0.6263 - val_loss: 1.2931 - val_acc: 0.4982\n",
            "Epoch 9/100\n",
            "34720/34720 [==============================] - 7s 214us/step - loss: 0.6815 - acc: 0.6325 - val_loss: 0.7345 - val_acc: 0.4960\n",
            "Epoch 10/100\n",
            "34720/34720 [==============================] - 7s 212us/step - loss: 0.6784 - acc: 0.6237 - val_loss: 0.9249 - val_acc: 0.4982\n",
            "Epoch 11/100\n",
            "34720/34720 [==============================] - 7s 212us/step - loss: 0.6740 - acc: 0.6254 - val_loss: 0.9695 - val_acc: 0.4982\n",
            "Epoch 12/100\n",
            "34720/34720 [==============================] - 7s 212us/step - loss: 0.6623 - acc: 0.6402 - val_loss: 0.7139 - val_acc: 0.4974\n",
            "Epoch 13/100\n",
            "34720/34720 [==============================] - 7s 214us/step - loss: 0.6604 - acc: 0.6386 - val_loss: 0.7244 - val_acc: 0.5042\n",
            "Epoch 14/100\n",
            "34720/34720 [==============================] - 7s 212us/step - loss: 0.6555 - acc: 0.6460 - val_loss: 0.8631 - val_acc: 0.5018\n",
            "Epoch 15/100\n",
            "34720/34720 [==============================] - 7s 212us/step - loss: 0.6479 - acc: 0.6515 - val_loss: 0.6994 - val_acc: 0.5775\n",
            "Epoch 16/100\n",
            "34720/34720 [==============================] - 7s 213us/step - loss: 0.6471 - acc: 0.6520 - val_loss: 0.7039 - val_acc: 0.5598\n",
            "Epoch 17/100\n",
            "34720/34720 [==============================] - 7s 212us/step - loss: 0.6468 - acc: 0.6524 - val_loss: 0.7350 - val_acc: 0.5080\n",
            "Epoch 18/100\n",
            "34720/34720 [==============================] - 7s 211us/step - loss: 0.6408 - acc: 0.6578 - val_loss: 0.7270 - val_acc: 0.5058\n",
            "Epoch 19/100\n",
            "34720/34720 [==============================] - 7s 211us/step - loss: 0.6367 - acc: 0.6626 - val_loss: 7.0495 - val_acc: 0.5018\n",
            "Restoring model weights from the end of the best epoch\n",
            "Epoch 00019: early stopping\n",
            "Test score: 0.7006015240828845\n",
            "Test accuracy: 0.5740651137091175\n"
          ],
          "name": "stdout"
        }
      ]
    },
    {
      "cell_type": "code",
      "metadata": {
        "id": "Qzd3WsxNe6K2",
        "colab_type": "code",
        "outputId": "918cbd2a-b707-4444-e322-e099555ce181",
        "colab": {
          "base_uri": "https://localhost:8080/",
          "height": 585
        }
      },
      "source": [
        "# Plot training & validation accuracy values\n",
        "plt.plot(history.history['acc'])\n",
        "plt.plot(history.history['val_acc'])\n",
        "plt.title('Model accuracy')\n",
        "plt.ylabel('Accuracy')\n",
        "plt.xlabel('Epoch')\n",
        "plt.legend(['Train', 'Test'], loc='upper left')\n",
        "plt.show()\n",
        "\n",
        "# Plot training & validation loss values\n",
        "plt.plot(history.history['loss'])\n",
        "plt.plot(history.history['val_loss'])\n",
        "plt.title('Model loss')\n",
        "plt.ylabel('Loss')\n",
        "plt.xlabel('Epoch')\n",
        "plt.legend(['Train', 'Test'], loc='upper left')\n",
        "plt.show()"
      ],
      "execution_count": 57,
      "outputs": [
        {
          "output_type": "display_data",
          "data": {
            "image/png": "[encoded data removed]",
            "text/plain": [
              "<Figure size 432x288 with 1 Axes>"
            ]
          },
          "metadata": {
            "tags": []
          }
        },
        {
          "output_type": "display_data",
          "data": {
            "image/png": "[encoded data removed]",
            "text/plain": [
              "<Figure size 432x288 with 1 Axes>"
            ]
          },
          "metadata": {
            "tags": []
          }
        }
      ]
    },
    {
      "cell_type": "code",
      "metadata": {
        "id": "PwiUcorMeVzL",
        "colab_type": "code",
        "colab": {}
      },
      "source": [
        "# use our model to predict\n",
        "y_predict_encoded = model_lr.predict(X_test)\n"
      ],
      "execution_count": 0,
      "outputs": []
    },
    {
      "cell_type": "code",
      "metadata": {
        "id": "aUovPTvV2FLj",
        "colab_type": "code",
        "outputId": "617b5045-af41-4360-c428-a8de179f89fc",
        "colab": {
          "base_uri": "https://localhost:8080/",
          "height": 357
        }
      },
      "source": [
        "y_predict_encoded[:20]"
      ],
      "execution_count": 59,
      "outputs": [
        {
          "output_type": "execute_result",
          "data": {
            "text/plain": [
              "array([[0.50206715, 0.49793285],\n",
              "       [0.47740915, 0.5225909 ],\n",
              "       [0.45008698, 0.549913  ],\n",
              "       [0.47617397, 0.523826  ],\n",
              "       [0.509882  , 0.49011803],\n",
              "       [0.48391002, 0.51609   ],\n",
              "       [0.4625229 , 0.53747714],\n",
              "       [0.5111273 , 0.48887268],\n",
              "       [0.51317006, 0.48683   ],\n",
              "       [0.54690593, 0.45309407],\n",
              "       [0.4770061 , 0.52299386],\n",
              "       [0.5367703 , 0.46322975],\n",
              "       [0.47757962, 0.52242035],\n",
              "       [0.53452903, 0.46547094],\n",
              "       [0.4921648 , 0.5078352 ],\n",
              "       [0.49258682, 0.50741315],\n",
              "       [0.4762506 , 0.5237495 ],\n",
              "       [0.4769118 , 0.5230882 ],\n",
              "       [0.4647784 , 0.53522164],\n",
              "       [0.5445101 , 0.45548987]], dtype=float32)"
            ]
          },
          "metadata": {
            "tags": []
          },
          "execution_count": 59
        }
      ]
    },
    {
      "cell_type": "code",
      "metadata": {
        "id": "XUiTZZpi4Ald",
        "colab_type": "code",
        "outputId": "147ed10e-2490-4037-eece-fd6d4e5fd28d",
        "colab": {
          "base_uri": "https://localhost:8080/",
          "height": 34
        }
      },
      "source": [
        "y_predict = [row.idxmax() for index, row in pd.DataFrame(y_predict_encoded).iterrows()]\n",
        "y_predict[:20]"
      ],
      "execution_count": 60,
      "outputs": [
        {
          "output_type": "execute_result",
          "data": {
            "text/plain": [
              "[0, 1, 1, 1, 0, 1, 1, 0, 0, 0, 1, 0, 1, 0, 1, 1, 1, 1, 1, 0]"
            ]
          },
          "metadata": {
            "tags": []
          },
          "execution_count": 60
        }
      ]
    },
    {
      "cell_type": "code",
      "metadata": {
        "id": "QH4bAbT3vbl7",
        "colab_type": "code",
        "colab": {}
      },
      "source": [
        ""
      ],
      "execution_count": 0,
      "outputs": []
    },
    {
      "cell_type": "code",
      "metadata": {
        "id": "wAzX2tPYtmAw",
        "colab_type": "code",
        "outputId": "29216c35-c2c4-440f-f7eb-253cae7990ce",
        "colab": {
          "base_uri": "https://localhost:8080/",
          "height": 170
        }
      },
      "source": [
        "print(classification_report(y_test, y_predict, target_names=[\"loss\", \"win\"]))"
      ],
      "execution_count": 61,
      "outputs": [
        {
          "output_type": "stream",
          "text": [
            "              precision    recall  f1-score   support\n",
            "\n",
            "        loss       0.57      0.61      0.59      7283\n",
            "         win       0.58      0.54      0.56      7184\n",
            "\n",
            "    accuracy                           0.57     14467\n",
            "   macro avg       0.57      0.57      0.57     14467\n",
            "weighted avg       0.57      0.57      0.57     14467\n",
            "\n"
          ],
          "name": "stdout"
        }
      ]
    },
    {
      "cell_type": "code",
      "metadata": {
        "id": "tkj6-3KbjuPf",
        "colab_type": "code",
        "outputId": "f67e5d02-20dc-4d89-96cb-fd28289526dd",
        "colab": {
          "base_uri": "https://localhost:8080/",
          "height": 325
        }
      },
      "source": [
        "cm = confusion_matrix(y_test, y_predict)\n",
        "print(cm)\n",
        "sns.heatmap(cm)"
      ],
      "execution_count": 62,
      "outputs": [
        {
          "output_type": "stream",
          "text": [
            "[[4418 2865]\n",
            " [3297 3887]]\n"
          ],
          "name": "stdout"
        },
        {
          "output_type": "execute_result",
          "data": {
            "text/plain": [
              "<matplotlib.axes._subplots.AxesSubplot at 0x7fa134bf9550>"
            ]
          },
          "metadata": {
            "tags": []
          },
          "execution_count": 62
        },
        {
          "output_type": "display_data",
          "data": {
            "image/png": "[encoded data removed]",
            "text/plain": [
              "<Figure size 432x288 with 2 Axes>"
            ]
          },
          "metadata": {
            "tags": []
          }
        }
      ]
    },
    {
      "cell_type": "code",
      "metadata": {
        "id": "nsfwXGUOqVhk",
        "colab_type": "code",
        "colab": {}
      },
      "source": [
        ""
      ],
      "execution_count": 0,
      "outputs": []
    }
  ]
}