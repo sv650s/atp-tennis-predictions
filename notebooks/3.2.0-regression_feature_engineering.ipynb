{
 "cells": [
  {
   "cell_type": "markdown",
   "metadata": {},
   "source": [
    "# Feature Generation For Regression\n",
    "\n",
    "In previous notebooks, we generated features using p1_winner as the label for classification (win/loss).\n",
    "\n",
    "While this column works for classification, it does not work as a good label for regression.\n",
    "\n",
    "In this notebook, we are going to add some columns to our existing data so that we can have labels to use for regression.\n",
    "\n",
    "Columns that we will create in this notebook:\n",
    "* minutes - how long a match lasts\n",
    "* p1/p2 sets won\n",
    "* p1/p2 games won\n",
    "* sets_diff = player 2 sets won differential = p1 sets won - p2 sets won\n",
    "* games_diff = player 2 games won differential = p1 games won - p2 games won\n",
    "\n",
    "To save time since some of the more extensive history datasets takes almost 12 hours to create - instead of taking original data and completely re-creating the dataset. We are going to create these columns based on the pre-processed file and concatenating them to our existing data files. \n",
    "\n",
    "We know that in our previous notebook, per-line in pre-processed file - the first entry winner is in player 1 position, and 2nd entry winner is in player 2 position. We will use this information to create the new columns"
   ]
  },
  {
   "cell_type": "code",
   "execution_count": 1,
   "metadata": {},
   "outputs": [],
   "source": [
    "import pandas as pd\n",
    "import numpy as np\n",
    "import matplotlib.pyplot as plt\n",
    "import seaborn as sns\n",
    "from sklearn.preprocessing import LabelEncoder\n",
    "import json\n",
    "import random\n",
    "import os\n",
    "import sys\n",
    "import re\n",
    "\n",
    "module_path = os.path.abspath(os.path.join('..'))\n",
    "if module_path not in sys.path:\n",
    "    sys.path.append(module_path)\n",
    "\n",
    "from util.model_util import RSTATE\n",
    "random.seed(RSTATE)\n",
    "\n",
    "import util.score_util as su\n",
    "\n",
    "\n",
    "%matplotlib inline\n",
    "sns.set()"
   ]
  },
  {
   "cell_type": "code",
   "execution_count": 2,
   "metadata": {},
   "outputs": [],
   "source": [
    "# Contants\n",
    "START_YEAR = 1985\n",
    "END_YEAR = 2019\n",
    "\n",
    "DATASET_DIR = '../datasets'\n",
    "MODEL_DIR = '../models'\n",
    "\n",
    "# sometimes I run these notebooks via command line. Environment variable is set so we know whether we are in DEBUG mode or not\n",
    "DEBUG = bool(os.environ.get(\"IPYNB_DEBUG\", False))\n",
    "\n",
    "if DEBUG:\n",
    "    PREPROCESSED_FILE = f'{DATASET_DIR}/test-preprocessed.csv'\n",
    "    FEATURE_FILE_RAW_DIFF_OHE = f'{DATASET_DIR}/atp_matches_{START_YEAR}-{END_YEAR}_features_test-raw_diff-ohe.csv'\n",
    "    FEATURE_FILE_RAW_DIFF_OHE_STATS = f'{DATASET_DIR}/atp_matches_{START_YEAR}-{END_YEAR}_features_test-raw_diff-ohe-history-matchup-stats.csv'\n",
    "else:\n",
    "    # this is the file we generated from our pre-processing notebook\n",
    "    PREPROCESSED_FILE = f'{DATASET_DIR}/atp_matches_{START_YEAR}-{END_YEAR}_preprocessed.csv'\n",
    "    FEATURE_FILE_RAW_DIFF_OHE = f'{DATASET_DIR}/atp_matches_{START_YEAR}-{END_YEAR}_features-raw_diff-ohe.csv'\n",
    "    FEATURE_FILE_RAW_DIFF_OHE_STATS = f'{DATASET_DIR}/atp_matches_{START_YEAR}-{END_YEAR}_features-raw_diff-ohe-history-matchup-stats.csv'\n",
    "\n",
    "# list of files to append this data to\n",
    "APPEND_FILE_LIST = [FEATURE_FILE_RAW_DIFF_OHE_STATS]"
   ]
  },
  {
   "cell_type": "code",
   "execution_count": 3,
   "metadata": {},
   "outputs": [],
   "source": [
    "# winner is p1 first then winner is p1\n",
    "pre = pd.read_csv(PREPROCESSED_FILE)"
   ]
  },
  {
   "cell_type": "code",
   "execution_count": 4,
   "metadata": {},
   "outputs": [
    {
     "name": "stdout",
     "output_type": "stream",
     "text": [
      "Processing index: 0\n",
      "Processing index: 10000\n",
      "Processing index: 20000\n",
      "Processing index: 30000\n",
      "Processing index: 40000\n",
      "Processing index: 50000\n",
      "Processing index: 60000\n",
      "Processing index: 70000\n",
      "Processing index: 80000\n",
      "Processing index: 90000\n",
      "<class 'pandas.core.frame.DataFrame'>\n",
      "RangeIndex: 199910 entries, 0 to 199909\n",
      "Data columns (total 7 columns):\n",
      "games_diff      199910 non-null int32\n",
      "minutes         199910 non-null int32\n",
      "p1_games_won    199910 non-null int32\n",
      "p1_sets_won     199910 non-null int32\n",
      "p2_games_won    199910 non-null int32\n",
      "p2_set_won      199910 non-null int32\n",
      "set_diff        199910 non-null int32\n",
      "dtypes: int32(7)\n",
      "memory usage: 5.3 MB\n"
     ]
    }
   ],
   "source": [
    "def get_lr_columns(index, row):\n",
    "    \"\"\"\n",
    "    Get score information from the row\n",
    "    \n",
    "    Information returned will be in dict format so you can append it to dataframe\n",
    "    \n",
    "    :param index - index of the current row (not used)\n",
    "    :param row - row series object\n",
    "    :return: player 1 as winner data (dict), player 1 as loser data (dict)\n",
    "    \"\"\"\n",
    "    winner_sets_won, winner_games_won, loser_sets_won, loser_games_won, set_diff, games_diff = su.process_scores(row.score)\n",
    "    d1 = {\n",
    "        \"minutes\": row.minutes,\n",
    "        \"p1_sets_won\": winner_sets_won,\n",
    "        \"p1_games_won\": winner_games_won,\n",
    "        \"p2_set_won\": loser_sets_won,\n",
    "        \"p2_games_won\": loser_games_won,\n",
    "        \"set_diff\": set_diff,\n",
    "        \"games_diff\": games_diff\n",
    "    }\n",
    "    d2 = {\n",
    "        \"minutes\": row.minutes,\n",
    "        \"p1_sets_won\": loser_sets_won,\n",
    "        \"p1_games_won\": loser_games_won,\n",
    "        \"p2_set_won\": winner_sets_won,\n",
    "        \"p2_games_won\": winner_games_won,\n",
    "        \"set_diff\": -1 * set_diff,\n",
    "        \"games_diff\": -1 * games_diff\n",
    "    }\n",
    "    return d1, d2\n",
    "\n",
    "\n",
    "\n",
    "df = pd.DataFrame()\n",
    "\n",
    "for idx, row in pre.iterrows():\n",
    "    if idx % 10000 == 0:\n",
    "        print(f'Processing index: {idx}')\n",
    "    \n",
    "    d1, d2 = get_lr_columns(idx, row)\n",
    "    df = df.append(d1, ignore_index=True)\n",
    "    df = df.append(d2, ignore_index=True)\n",
    "    \n",
    "# change all columns to int\n",
    "type_dict = { col: np.int32 for col in df.columns }\n",
    "df = df.astype(type_dict)\n",
    "\n",
    "df.info()"
   ]
  },
  {
   "cell_type": "code",
   "execution_count": 5,
   "metadata": {},
   "outputs": [
    {
     "name": "stdout",
     "output_type": "stream",
     "text": [
      "Saving file ../datasets/atp_matches_1985-2019_features-raw_diff-ohe-history-matchup-stats-lr.csv\n"
     ]
    }
   ],
   "source": [
    "\n",
    "for file in APPEND_FILE_LIST:\n",
    "    # check that dimenions are correct\n",
    "    features = pd.read_csv(file)\n",
    "    assert features.shape[0] == df.shape[0], \"shape mismatch\"\n",
    "\n",
    "    new_file = pd.concat([features, df], axis=1)\n",
    "    new_file = new_file.reindex(sorted(new_file.columns), axis=1)\n",
    "    new_file_name = file.replace(\".csv\", \"-lr.csv\")\n",
    "    \n",
    "    print(f'Saving file {new_file_name}')\n",
    "    new_file.to_csv(new_file_name, index=False)\n"
   ]
  }
 ],
 "metadata": {
  "kernelspec": {
   "display_name": "Python 3",
   "language": "python",
   "name": "python3"
  },
  "language_info": {
   "codemirror_mode": {
    "name": "ipython",
    "version": 3
   },
   "file_extension": ".py",
   "mimetype": "text/x-python",
   "name": "python",
   "nbconvert_exporter": "python",
   "pygments_lexer": "ipython3",
   "version": "3.7.3"
  }
 },
 "nbformat": 4,
 "nbformat_minor": 4
}
