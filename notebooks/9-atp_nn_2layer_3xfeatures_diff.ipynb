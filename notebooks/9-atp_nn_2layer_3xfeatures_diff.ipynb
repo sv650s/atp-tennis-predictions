{
  "nbformat": 4,
  "nbformat_minor": 0,
  "metadata": {
    "colab": {
      "name": "6-atp_neural_network.ipynb",
      "provenance": [],
      "machine_shape": "hm",
      "include_colab_link": true
    },
    "kernelspec": {
      "name": "python3",
      "display_name": "Python 3"
    },
    "accelerator": "GPU"
  },
  "cells": [
    {
      "cell_type": "markdown",
      "metadata": {
        "id": "view-in-github",
        "colab_type": "text"
      },
      "source": [
        "<a href=\"https://colab.research.google.com/github/sv650s/sb-capstone2/blob/master/notebooks/6-atp_neural_network.ipynb\" target=\"_parent\"><img src=\"https://colab.research.google.com/assets/colab-badge.svg\" alt=\"Open In Colab\"/></a>"
      ]
    },
    {
      "cell_type": "markdown",
      "metadata": {
        "id": "maNMeGSioSdx",
        "colab_type": "text"
      },
      "source": [
        "# ATP Tennis Data - NN Using Diff Data"
      ]
    },
    {
      "cell_type": "code",
      "metadata": {
        "id": "KAcNYkLbn46s",
        "colab_type": "code",
        "outputId": "6c6afec0-13cd-41f0-bf49-425691a021df",
        "colab": {
          "base_uri": "https://localhost:8080/",
          "height": 122
        }
      },
      "source": [
        "from google.colab import drive\n",
        "drive.mount('/gdrive')\n",
        "\n"
      ],
      "execution_count": 0,
      "outputs": [
        {
          "output_type": "stream",
          "text": [
            "Go to this URL in a browser: https://accounts.google.com/o/oauth2/auth?client_id=947318989803-6bn6qk8qdgf4n4g3pfee6491hc0brc4i.apps.googleusercontent.com&redirect_uri=urn%3Aietf%3Awg%3Aoauth%3A2.0%3Aoob&scope=email%20https%3A%2F%2Fwww.googleapis.com%2Fauth%2Fdocs.test%20https%3A%2F%2Fwww.googleapis.com%2Fauth%2Fdrive%20https%3A%2F%2Fwww.googleapis.com%2Fauth%2Fdrive.photos.readonly%20https%3A%2F%2Fwww.googleapis.com%2Fauth%2Fpeopleapi.readonly&response_type=code\n",
            "\n",
            "Enter your authorization code:\n",
            "··········\n",
            "Mounted at /gdrive\n"
          ],
          "name": "stdout"
        }
      ]
    },
    {
      "cell_type": "code",
      "metadata": {
        "id": "Q6FhTGhHo8RT",
        "colab_type": "code",
        "outputId": "850362d5-b2ff-4065-96e1-183bf4e88492",
        "colab": {
          "base_uri": "https://localhost:8080/",
          "height": 51
        }
      },
      "source": [
        "import pandas as pd\n",
        "import numpy as np\n",
        "from datetime import datetime\n",
        "import pickle\n",
        "import json\n",
        "import sys\n",
        "import matplotlib.pyplot as plt\n",
        "import seaborn as sns\n",
        "\n",
        "from sklearn.model_selection import train_test_split\n",
        "from sklearn.metrics import classification_report, confusion_matrix\n",
        "from sklearn.preprocessing import OneHotEncoder\n",
        "\n",
        "from keras.models import Sequential\n",
        "from keras.layers import Dense, Activation, Dropout\n",
        "from keras.layers.normalization import BatchNormalization\n",
        "from keras.callbacks import EarlyStopping, ReduceLROnPlateau, ModelCheckpoint\n",
        "from keras.optimizers import SGD\n",
        "\n",
        "\n",
        "import tensorflow as tf\n",
        "\n",
        "\n",
        "%matplotlib inline\n",
        "sns.set()\n",
        "\n",
        "tf.test.gpu_device_name()"
      ],
      "execution_count": 0,
      "outputs": [
        {
          "output_type": "stream",
          "text": [
            "Using TensorFlow backend.\n"
          ],
          "name": "stderr"
        },
        {
          "output_type": "execute_result",
          "data": {
            "text/plain": [
              "'/device:GPU:0'"
            ]
          },
          "metadata": {
            "tags": []
          },
          "execution_count": 2
        }
      ]
    },
    {
      "cell_type": "code",
      "metadata": {
        "id": "sO579yKwn46J",
        "colab_type": "code",
        "colab": {}
      },
      "source": [
        "DRIVE_DIR = '/gdrive/My Drive/Springboard/capstone2'\n",
        "DATASET_DIR = f'{DRIVE_DIR}/datasets'\n",
        "MODEL_DIR = f'{DRIVE_DIR}/models'\n",
        "\n",
        "FEATURE_FILE_1985 = f'{DATASET_DIR}/atp_matches_1985-2019_features.csv'\n",
        "FEATURE_FILE_1998 = f'{DATASET_DIR}/atp_matches_1998-2019_features.csv'\n",
        "\n",
        "\n",
        "FEATURE_FILE_1985_DIFF = f'{DATASET_DIR}/atp_matches_1985-2019_features-diff.csv'\n",
        "FEATURE_FILE_1998_DIFF = f'{DATASET_DIR}/atp_matches_1998-2019_features-diff.csv'\n",
        "\n",
        "FEATURE_FILE_1985_DIFF_OHE = f'{DATASET_DIR}/atp_matches_1985-2019_features-diff-ohe.csv'\n",
        "FEATURE_FILE_1998_DIFF_OHE = f'{DATASET_DIR}/atp_matches_1998-2019_features-diff-ohe.csv'\n",
        "\n",
        "LABEL_COL = 'p1_winner'\n",
        "\n",
        "sys.path.append(DRIVE_DIR)\n"
      ],
      "execution_count": 0,
      "outputs": []
    },
    {
      "cell_type": "code",
      "metadata": {
        "id": "zRGm73EhWkPA",
        "colab_type": "code",
        "outputId": "c61f052c-3cce-47bc-8ef0-f83aad0e783c",
        "colab": {
          "base_uri": "https://localhost:8080/",
          "height": 241
        }
      },
      "source": [
        "features_orig = pd.read_csv(FEATURE_FILE_1998_DIFF)\n",
        "print(features_orig.shape)\n",
        "features_orig.head()"
      ],
      "execution_count": 0,
      "outputs": [
        {
          "output_type": "stream",
          "text": [
            "(57868, 18)\n"
          ],
          "name": "stdout"
        },
        {
          "output_type": "execute_result",
          "data": {
            "text/html": [
              "<div>\n",
              "<style scoped>\n",
              "    .dataframe tbody tr th:only-of-type {\n",
              "        vertical-align: middle;\n",
              "    }\n",
              "\n",
              "    .dataframe tbody tr th {\n",
              "        vertical-align: top;\n",
              "    }\n",
              "\n",
              "    .dataframe thead th {\n",
              "        text-align: right;\n",
              "    }\n",
              "</style>\n",
              "<table border=\"1\" class=\"dataframe\">\n",
              "  <thead>\n",
              "    <tr style=\"text-align: right;\">\n",
              "      <th></th>\n",
              "      <th>age_diff</th>\n",
              "      <th>draw_size</th>\n",
              "      <th>ht_diff</th>\n",
              "      <th>p1</th>\n",
              "      <th>p1_hand</th>\n",
              "      <th>p1_ioc</th>\n",
              "      <th>p1_winner</th>\n",
              "      <th>p2</th>\n",
              "      <th>p2_hand</th>\n",
              "      <th>p2_ioc</th>\n",
              "      <th>rank_diff</th>\n",
              "      <th>round_label</th>\n",
              "      <th>seed_diff</th>\n",
              "      <th>surface_label</th>\n",
              "      <th>tourney_id_label</th>\n",
              "      <th>tourney_level_label</th>\n",
              "      <th>tourney_month</th>\n",
              "      <th>tourney_year</th>\n",
              "    </tr>\n",
              "  </thead>\n",
              "  <tbody>\n",
              "    <tr>\n",
              "      <th>0</th>\n",
              "      <td>0.82</td>\n",
              "      <td>32.0</td>\n",
              "      <td>5.0</td>\n",
              "      <td>101917.0</td>\n",
              "      <td>1.0</td>\n",
              "      <td>64.0</td>\n",
              "      <td>0.0</td>\n",
              "      <td>102035.0</td>\n",
              "      <td>1.0</td>\n",
              "      <td>70.0</td>\n",
              "      <td>70.0</td>\n",
              "      <td>5.0</td>\n",
              "      <td>18.00</td>\n",
              "      <td>3.0</td>\n",
              "      <td>62.0</td>\n",
              "      <td>4.0</td>\n",
              "      <td>1.0</td>\n",
              "      <td>1998.0</td>\n",
              "    </tr>\n",
              "    <tr>\n",
              "      <th>1</th>\n",
              "      <td>-4.91</td>\n",
              "      <td>32.0</td>\n",
              "      <td>-10.0</td>\n",
              "      <td>102548.0</td>\n",
              "      <td>1.0</td>\n",
              "      <td>17.0</td>\n",
              "      <td>0.0</td>\n",
              "      <td>101727.0</td>\n",
              "      <td>1.0</td>\n",
              "      <td>3.0</td>\n",
              "      <td>8.0</td>\n",
              "      <td>5.0</td>\n",
              "      <td>1.00</td>\n",
              "      <td>3.0</td>\n",
              "      <td>62.0</td>\n",
              "      <td>4.0</td>\n",
              "      <td>1.0</td>\n",
              "      <td>1998.0</td>\n",
              "    </tr>\n",
              "    <tr>\n",
              "      <th>2</th>\n",
              "      <td>-1.32</td>\n",
              "      <td>32.0</td>\n",
              "      <td>0.0</td>\n",
              "      <td>102765.0</td>\n",
              "      <td>1.0</td>\n",
              "      <td>29.0</td>\n",
              "      <td>1.0</td>\n",
              "      <td>102491.0</td>\n",
              "      <td>1.0</td>\n",
              "      <td>32.0</td>\n",
              "      <td>22.0</td>\n",
              "      <td>5.0</td>\n",
              "      <td>3.92</td>\n",
              "      <td>3.0</td>\n",
              "      <td>62.0</td>\n",
              "      <td>4.0</td>\n",
              "      <td>1.0</td>\n",
              "      <td>1998.0</td>\n",
              "    </tr>\n",
              "    <tr>\n",
              "      <th>3</th>\n",
              "      <td>5.46</td>\n",
              "      <td>32.0</td>\n",
              "      <td>-5.0</td>\n",
              "      <td>101647.0</td>\n",
              "      <td>1.0</td>\n",
              "      <td>83.0</td>\n",
              "      <td>0.0</td>\n",
              "      <td>102563.0</td>\n",
              "      <td>1.0</td>\n",
              "      <td>70.0</td>\n",
              "      <td>37.0</td>\n",
              "      <td>5.0</td>\n",
              "      <td>14.00</td>\n",
              "      <td>3.0</td>\n",
              "      <td>62.0</td>\n",
              "      <td>4.0</td>\n",
              "      <td>1.0</td>\n",
              "      <td>1998.0</td>\n",
              "    </tr>\n",
              "    <tr>\n",
              "      <th>4</th>\n",
              "      <td>-3.77</td>\n",
              "      <td>32.0</td>\n",
              "      <td>0.0</td>\n",
              "      <td>102796.0</td>\n",
              "      <td>1.0</td>\n",
              "      <td>70.0</td>\n",
              "      <td>1.0</td>\n",
              "      <td>102104.0</td>\n",
              "      <td>1.0</td>\n",
              "      <td>54.0</td>\n",
              "      <td>-43.0</td>\n",
              "      <td>5.0</td>\n",
              "      <td>-21.37</td>\n",
              "      <td>3.0</td>\n",
              "      <td>62.0</td>\n",
              "      <td>4.0</td>\n",
              "      <td>1.0</td>\n",
              "      <td>1998.0</td>\n",
              "    </tr>\n",
              "  </tbody>\n",
              "</table>\n",
              "</div>"
            ],
            "text/plain": [
              "   age_diff  draw_size  ...  tourney_month  tourney_year\n",
              "0      0.82       32.0  ...            1.0        1998.0\n",
              "1     -4.91       32.0  ...            1.0        1998.0\n",
              "2     -1.32       32.0  ...            1.0        1998.0\n",
              "3      5.46       32.0  ...            1.0        1998.0\n",
              "4     -3.77       32.0  ...            1.0        1998.0\n",
              "\n",
              "[5 rows x 18 columns]"
            ]
          },
          "metadata": {
            "tags": []
          },
          "execution_count": 5
        }
      ]
    },
    {
      "cell_type": "code",
      "metadata": {
        "id": "FmAY5jvsYXKM",
        "colab_type": "code",
        "outputId": "79a86acd-1a7d-45d3-84f6-7a2c5949f782",
        "colab": {
          "base_uri": "https://localhost:8080/",
          "height": 224
        }
      },
      "source": [
        "features = features_orig\n",
        "# extra our label column\n",
        "labels = features[LABEL_COL]\n",
        "# one hot encode our labels for Keras\n",
        "label_encoder = OneHotEncoder(handle_unknown='ignore', sparse=False)\n",
        "labels_encoded = label_encoder.fit_transform(features[[LABEL_COL]])\n",
        "# drop this from our features\n",
        "features = features.drop([LABEL_COL], axis=1)\n",
        "\n",
        "features.head()"
      ],
      "execution_count": 0,
      "outputs": [
        {
          "output_type": "execute_result",
          "data": {
            "text/html": [
              "<div>\n",
              "<style scoped>\n",
              "    .dataframe tbody tr th:only-of-type {\n",
              "        vertical-align: middle;\n",
              "    }\n",
              "\n",
              "    .dataframe tbody tr th {\n",
              "        vertical-align: top;\n",
              "    }\n",
              "\n",
              "    .dataframe thead th {\n",
              "        text-align: right;\n",
              "    }\n",
              "</style>\n",
              "<table border=\"1\" class=\"dataframe\">\n",
              "  <thead>\n",
              "    <tr style=\"text-align: right;\">\n",
              "      <th></th>\n",
              "      <th>age_diff</th>\n",
              "      <th>draw_size</th>\n",
              "      <th>ht_diff</th>\n",
              "      <th>p1</th>\n",
              "      <th>p1_hand</th>\n",
              "      <th>p1_ioc</th>\n",
              "      <th>p2</th>\n",
              "      <th>p2_hand</th>\n",
              "      <th>p2_ioc</th>\n",
              "      <th>rank_diff</th>\n",
              "      <th>round_label</th>\n",
              "      <th>seed_diff</th>\n",
              "      <th>surface_label</th>\n",
              "      <th>tourney_id_label</th>\n",
              "      <th>tourney_level_label</th>\n",
              "      <th>tourney_month</th>\n",
              "      <th>tourney_year</th>\n",
              "    </tr>\n",
              "  </thead>\n",
              "  <tbody>\n",
              "    <tr>\n",
              "      <th>0</th>\n",
              "      <td>0.82</td>\n",
              "      <td>32.0</td>\n",
              "      <td>5.0</td>\n",
              "      <td>101917.0</td>\n",
              "      <td>1.0</td>\n",
              "      <td>64.0</td>\n",
              "      <td>102035.0</td>\n",
              "      <td>1.0</td>\n",
              "      <td>70.0</td>\n",
              "      <td>70.0</td>\n",
              "      <td>5.0</td>\n",
              "      <td>18.00</td>\n",
              "      <td>3.0</td>\n",
              "      <td>62.0</td>\n",
              "      <td>4.0</td>\n",
              "      <td>1.0</td>\n",
              "      <td>1998.0</td>\n",
              "    </tr>\n",
              "    <tr>\n",
              "      <th>1</th>\n",
              "      <td>-4.91</td>\n",
              "      <td>32.0</td>\n",
              "      <td>-10.0</td>\n",
              "      <td>102548.0</td>\n",
              "      <td>1.0</td>\n",
              "      <td>17.0</td>\n",
              "      <td>101727.0</td>\n",
              "      <td>1.0</td>\n",
              "      <td>3.0</td>\n",
              "      <td>8.0</td>\n",
              "      <td>5.0</td>\n",
              "      <td>1.00</td>\n",
              "      <td>3.0</td>\n",
              "      <td>62.0</td>\n",
              "      <td>4.0</td>\n",
              "      <td>1.0</td>\n",
              "      <td>1998.0</td>\n",
              "    </tr>\n",
              "    <tr>\n",
              "      <th>2</th>\n",
              "      <td>-1.32</td>\n",
              "      <td>32.0</td>\n",
              "      <td>0.0</td>\n",
              "      <td>102765.0</td>\n",
              "      <td>1.0</td>\n",
              "      <td>29.0</td>\n",
              "      <td>102491.0</td>\n",
              "      <td>1.0</td>\n",
              "      <td>32.0</td>\n",
              "      <td>22.0</td>\n",
              "      <td>5.0</td>\n",
              "      <td>3.92</td>\n",
              "      <td>3.0</td>\n",
              "      <td>62.0</td>\n",
              "      <td>4.0</td>\n",
              "      <td>1.0</td>\n",
              "      <td>1998.0</td>\n",
              "    </tr>\n",
              "    <tr>\n",
              "      <th>3</th>\n",
              "      <td>5.46</td>\n",
              "      <td>32.0</td>\n",
              "      <td>-5.0</td>\n",
              "      <td>101647.0</td>\n",
              "      <td>1.0</td>\n",
              "      <td>83.0</td>\n",
              "      <td>102563.0</td>\n",
              "      <td>1.0</td>\n",
              "      <td>70.0</td>\n",
              "      <td>37.0</td>\n",
              "      <td>5.0</td>\n",
              "      <td>14.00</td>\n",
              "      <td>3.0</td>\n",
              "      <td>62.0</td>\n",
              "      <td>4.0</td>\n",
              "      <td>1.0</td>\n",
              "      <td>1998.0</td>\n",
              "    </tr>\n",
              "    <tr>\n",
              "      <th>4</th>\n",
              "      <td>-3.77</td>\n",
              "      <td>32.0</td>\n",
              "      <td>0.0</td>\n",
              "      <td>102796.0</td>\n",
              "      <td>1.0</td>\n",
              "      <td>70.0</td>\n",
              "      <td>102104.0</td>\n",
              "      <td>1.0</td>\n",
              "      <td>54.0</td>\n",
              "      <td>-43.0</td>\n",
              "      <td>5.0</td>\n",
              "      <td>-21.37</td>\n",
              "      <td>3.0</td>\n",
              "      <td>62.0</td>\n",
              "      <td>4.0</td>\n",
              "      <td>1.0</td>\n",
              "      <td>1998.0</td>\n",
              "    </tr>\n",
              "  </tbody>\n",
              "</table>\n",
              "</div>"
            ],
            "text/plain": [
              "   age_diff  draw_size  ...  tourney_month  tourney_year\n",
              "0      0.82       32.0  ...            1.0        1998.0\n",
              "1     -4.91       32.0  ...            1.0        1998.0\n",
              "2     -1.32       32.0  ...            1.0        1998.0\n",
              "3      5.46       32.0  ...            1.0        1998.0\n",
              "4     -3.77       32.0  ...            1.0        1998.0\n",
              "\n",
              "[5 rows x 17 columns]"
            ]
          },
          "metadata": {
            "tags": []
          },
          "execution_count": 6
        }
      ]
    },
    {
      "cell_type": "code",
      "metadata": {
        "id": "xMp9rvK94pHh",
        "colab_type": "code",
        "outputId": "cba5004d-cd1f-4685-cb3c-24beafb6b7dc",
        "colab": {
          "base_uri": "https://localhost:8080/",
          "height": 102
        }
      },
      "source": [
        "labels_encoded[:5]"
      ],
      "execution_count": 0,
      "outputs": [
        {
          "output_type": "execute_result",
          "data": {
            "text/plain": [
              "array([[1., 0.],\n",
              "       [1., 0.],\n",
              "       [0., 1.],\n",
              "       [1., 0.],\n",
              "       [0., 1.]])"
            ]
          },
          "metadata": {
            "tags": []
          },
          "execution_count": 7
        }
      ]
    },
    {
      "cell_type": "code",
      "metadata": {
        "id": "gg8Z0Sz_WbqZ",
        "colab_type": "code",
        "colab": {}
      },
      "source": [
        "# split into training and test set\n",
        "X_train, X_test, y_train_encoded, y_test_encoded = train_test_split(features, labels_encoded)\n",
        "y_test = label_encoder.inverse_transform(y_test_encoded)"
      ],
      "execution_count": 0,
      "outputs": []
    },
    {
      "cell_type": "code",
      "metadata": {
        "id": "7CBvO5xwcGnw",
        "colab_type": "code",
        "outputId": "84da313e-2de2-4789-869e-c661018141bb",
        "colab": {
          "base_uri": "https://localhost:8080/",
          "height": 34
        }
      },
      "source": [
        "X_train.shape"
      ],
      "execution_count": 0,
      "outputs": [
        {
          "output_type": "execute_result",
          "data": {
            "text/plain": [
              "(43401, 17)"
            ]
          },
          "metadata": {
            "tags": []
          },
          "execution_count": 9
        }
      ]
    },
    {
      "cell_type": "markdown",
      "metadata": {
        "id": "Y0vIecdvpHOx",
        "colab_type": "text"
      },
      "source": [
        "# Implement Neural Network\n",
        "\n",
        "LR is just a 1 layer dense network with softmax\n",
        "\n",
        "We should get similar results as our [logistic regression notebook](https://github.com/sv650s/sb-capstone2/blob/master/notebooks/4-atp_logistic_regression.ipynb)\n",
        "\n",
        "Baseline of our model is 65% accruacy\n",
        "\n"
      ]
    },
    {
      "cell_type": "code",
      "metadata": {
        "id": "9TDPA9XWoe0m",
        "colab_type": "code",
        "outputId": "eef9b649-63ca-4ea9-9870-42b3f03d92bc",
        "colab": {
          "base_uri": "https://localhost:8080/",
          "height": 493
        }
      },
      "source": [
        "from keras.models import Sequential \n",
        "from keras.layers import Dense, Activation, BatchNormalization\n",
        "from keras import regularizers\n",
        "import keras as K\n",
        "\n",
        "\n",
        "output_dim = nb_classes = 2\n",
        "model_lr = Sequential() \n",
        "model_lr.add(Dense(X_train.shape[1] * 3, \n",
        "                   input_shape=(X_train.shape[1], ),\n",
        "                   kernel_regularizer=regularizers.l2(0.01),\n",
        "                   kernel_initializer=K.initializers.glorot_uniform(seed=1))) \n",
        "model_lr.add(BatchNormalization())\n",
        "model_lr.add(Activation(\"relu\"))\n",
        "# model_lr.add(Dropout(0.2))\n",
        "\n",
        "model_lr.add(Dense(X_train.shape[1] * 3, \n",
        "                   kernel_regularizer=regularizers.l2(0.01),\n",
        "                   kernel_initializer=K.initializers.glorot_uniform(seed=1))) \n",
        "model_lr.add(BatchNormalization())\n",
        "model_lr.add(Activation(\"relu\"))\n",
        "# model_lr.add(Dropout(0.2))\n",
        "\n",
        "model_lr.add(Dense(output_dim, \n",
        "                   kernel_initializer=K.initializers.glorot_uniform(seed=1))) \n",
        "model_lr.add(Activation(\"softmax\"))\n",
        "batch_size = 32 \n",
        "epochs = 100\n",
        "\n",
        "model_lr.compile(optimizer='sgd', loss='binary_crossentropy', metrics=['accuracy']) \n",
        "model_lr.summary()"
      ],
      "execution_count": 0,
      "outputs": [
        {
          "output_type": "stream",
          "text": [
            "Model: \"sequential_13\"\n",
            "_________________________________________________________________\n",
            "Layer (type)                 Output Shape              Param #   \n",
            "=================================================================\n",
            "dense_30 (Dense)             (None, 51)                918       \n",
            "_________________________________________________________________\n",
            "batch_normalization_19 (Batc (None, 51)                204       \n",
            "_________________________________________________________________\n",
            "activation_28 (Activation)   (None, 51)                0         \n",
            "_________________________________________________________________\n",
            "dropout_12 (Dropout)         (None, 51)                0         \n",
            "_________________________________________________________________\n",
            "dense_31 (Dense)             (None, 51)                2652      \n",
            "_________________________________________________________________\n",
            "batch_normalization_20 (Batc (None, 51)                204       \n",
            "_________________________________________________________________\n",
            "activation_29 (Activation)   (None, 51)                0         \n",
            "_________________________________________________________________\n",
            "dropout_13 (Dropout)         (None, 51)                0         \n",
            "_________________________________________________________________\n",
            "dense_32 (Dense)             (None, 2)                 104       \n",
            "_________________________________________________________________\n",
            "activation_30 (Activation)   (None, 2)                 0         \n",
            "=================================================================\n",
            "Total params: 4,082\n",
            "Trainable params: 3,878\n",
            "Non-trainable params: 204\n",
            "_________________________________________________________________\n"
          ],
          "name": "stdout"
        }
      ]
    },
    {
      "cell_type": "code",
      "metadata": {
        "id": "VT7DyAeqXg4c",
        "colab_type": "code",
        "outputId": "060472fa-9d5a-4f7c-a35d-7e9902d96359",
        "colab": {
          "base_uri": "https://localhost:8080/",
          "height": 408
        }
      },
      "source": [
        "callbacks = [EarlyStopping(monitor='val_loss', patience=4, restore_best_weights=True, verbose=1),\n",
        "             ModelCheckpoint(filepath=f'{MODEL_DIR}/lr.h5', monitor='val_loss', save_best_only=True),\n",
        "             ReduceLROnPlateau(monitor='val_loss', factor=0.4,patience=2, min_lr=0.00001, mode='auto')]\n",
        "\n",
        "\n",
        "history = model_lr.fit(X_train, y_train_encoded, \n",
        "                       batch_size=batch_size, \n",
        "                       epochs=epochs,\n",
        "                       verbose=1, \n",
        "                       validation_split=0.2,\n",
        "                       callbacks=callbacks) \n",
        "\n",
        "# evalute our model\n",
        "score = model_lr.evaluate(X_test, y_test_encoded, verbose=0) \n",
        "print('Test score:', score[0]) \n",
        "print('Test accuracy:', score[1])"
      ],
      "execution_count": 0,
      "outputs": [
        {
          "output_type": "stream",
          "text": [
            "Train on 34720 samples, validate on 8681 samples\n",
            "Epoch 1/100\n",
            "34720/34720 [==============================] - 9s 259us/step - loss: 0.7263 - acc: 0.5338 - val_loss: 0.7204 - val_acc: 0.5423\n",
            "Epoch 2/100\n",
            "34720/34720 [==============================] - 8s 221us/step - loss: 0.6786 - acc: 0.5834 - val_loss: 5.6209 - val_acc: 0.4982\n",
            "Epoch 3/100\n",
            "34720/34720 [==============================] - 8s 222us/step - loss: 0.6692 - acc: 0.6005 - val_loss: 3.1483 - val_acc: 0.4982\n",
            "Epoch 4/100\n",
            "34720/34720 [==============================] - 8s 221us/step - loss: 0.6604 - acc: 0.6135 - val_loss: 4.4124 - val_acc: 0.4982\n",
            "Epoch 5/100\n",
            "34720/34720 [==============================] - 8s 220us/step - loss: 0.6595 - acc: 0.6154 - val_loss: 0.6703 - val_acc: 0.5901\n",
            "Epoch 6/100\n",
            "34720/34720 [==============================] - 8s 221us/step - loss: 0.6582 - acc: 0.6181 - val_loss: 0.7095 - val_acc: 0.5170\n",
            "Epoch 7/100\n",
            "34720/34720 [==============================] - 8s 220us/step - loss: 0.6555 - acc: 0.6233 - val_loss: 1.5610 - val_acc: 0.4982\n",
            "Epoch 8/100\n",
            "34720/34720 [==============================] - 8s 220us/step - loss: 0.6507 - acc: 0.6301 - val_loss: 1.5791 - val_acc: 0.4982\n",
            "Epoch 9/100\n",
            "34720/34720 [==============================] - 8s 220us/step - loss: 0.6501 - acc: 0.6293 - val_loss: 2.0134 - val_acc: 0.5022\n",
            "Restoring model weights from the end of the best epoch\n",
            "Epoch 00009: early stopping\n",
            "Test score: 0.6700952917001635\n",
            "Test accuracy: 0.5894795050846482\n"
          ],
          "name": "stdout"
        }
      ]
    },
    {
      "cell_type": "code",
      "metadata": {
        "id": "Qzd3WsxNe6K2",
        "colab_type": "code",
        "outputId": "bf88a0cf-129e-4c11-f45d-eee7f20b984c",
        "colab": {
          "base_uri": "https://localhost:8080/",
          "height": 585
        }
      },
      "source": [
        "# Plot training & validation accuracy values\n",
        "plt.plot(history.history['acc'])\n",
        "plt.plot(history.history['val_acc'])\n",
        "plt.title('Model accuracy')\n",
        "plt.ylabel('Accuracy')\n",
        "plt.xlabel('Epoch')\n",
        "plt.legend(['Train', 'Test'], loc='upper left')\n",
        "plt.show()\n",
        "\n",
        "# Plot training & validation loss values\n",
        "plt.plot(history.history['loss'])\n",
        "plt.plot(history.history['val_loss'])\n",
        "plt.title('Model loss')\n",
        "plt.ylabel('Loss')\n",
        "plt.xlabel('Epoch')\n",
        "plt.legend(['Train', 'Test'], loc='upper left')\n",
        "plt.show()"
      ],
      "execution_count": 0,
      "outputs": [
        {
          "output_type": "display_data",
          "data": {
            "image/png": "[encoded data removed]",
            "text/plain": [
              "<Figure size 432x288 with 1 Axes>"
            ]
          },
          "metadata": {
            "tags": []
          }
        },
        {
          "output_type": "display_data",
          "data": {
            "image/png": "[encoded data removed]",
            "text/plain": [
              "<Figure size 432x288 with 1 Axes>"
            ]
          },
          "metadata": {
            "tags": []
          }
        }
      ]
    },
    {
      "cell_type": "code",
      "metadata": {
        "id": "PwiUcorMeVzL",
        "colab_type": "code",
        "colab": {}
      },
      "source": [
        "# use our model to predict\n",
        "y_predict_encoded = model_lr.predict(X_test)\n"
      ],
      "execution_count": 0,
      "outputs": []
    },
    {
      "cell_type": "code",
      "metadata": {
        "id": "aUovPTvV2FLj",
        "colab_type": "code",
        "outputId": "e594f996-cf17-4fe9-b420-d8d1c426b9ff",
        "colab": {
          "base_uri": "https://localhost:8080/",
          "height": 357
        }
      },
      "source": [
        "y_predict_encoded[:20]"
      ],
      "execution_count": 0,
      "outputs": [
        {
          "output_type": "execute_result",
          "data": {
            "text/plain": [
              "array([[0.45116225, 0.5488378 ],\n",
              "       [0.47045255, 0.52954745],\n",
              "       [0.38274476, 0.6172552 ],\n",
              "       [0.40085313, 0.59914684],\n",
              "       [0.4164451 , 0.58355486],\n",
              "       [0.42741182, 0.57258815],\n",
              "       [0.45037073, 0.5496293 ],\n",
              "       [0.4057005 , 0.59429944],\n",
              "       [0.44861192, 0.5513881 ],\n",
              "       [0.4403318 , 0.5596682 ],\n",
              "       [0.38025296, 0.619747  ],\n",
              "       [0.5110385 , 0.48896155],\n",
              "       [0.4494965 , 0.5505035 ],\n",
              "       [0.46884942, 0.5311506 ],\n",
              "       [0.30482522, 0.69517475],\n",
              "       [0.42869243, 0.5713076 ],\n",
              "       [0.4579004 , 0.54209965],\n",
              "       [0.42415947, 0.57584053],\n",
              "       [0.502757  , 0.497243  ],\n",
              "       [0.4072299 , 0.59277016]], dtype=float32)"
            ]
          },
          "metadata": {
            "tags": []
          },
          "execution_count": 79
        }
      ]
    },
    {
      "cell_type": "code",
      "metadata": {
        "id": "XUiTZZpi4Ald",
        "colab_type": "code",
        "outputId": "9ca8f6d3-1342-4f5f-f196-781ebdcb4710",
        "colab": {
          "base_uri": "https://localhost:8080/",
          "height": 34
        }
      },
      "source": [
        "y_predict = [row.idxmax() for index, row in pd.DataFrame(y_predict_encoded).iterrows()]\n",
        "y_predict[:20]"
      ],
      "execution_count": 0,
      "outputs": [
        {
          "output_type": "execute_result",
          "data": {
            "text/plain": [
              "[1, 1, 1, 1, 1, 1, 1, 1, 1, 1, 1, 0, 1, 1, 1, 1, 1, 1, 0, 1]"
            ]
          },
          "metadata": {
            "tags": []
          },
          "execution_count": 80
        }
      ]
    },
    {
      "cell_type": "code",
      "metadata": {
        "id": "QH4bAbT3vbl7",
        "colab_type": "code",
        "colab": {}
      },
      "source": [
        ""
      ],
      "execution_count": 0,
      "outputs": []
    },
    {
      "cell_type": "code",
      "metadata": {
        "id": "wAzX2tPYtmAw",
        "colab_type": "code",
        "outputId": "7d2e327a-cbf9-409d-fcf6-61a0aef00320",
        "colab": {
          "base_uri": "https://localhost:8080/",
          "height": 170
        }
      },
      "source": [
        "print(classification_report(y_test, y_predict, target_names=[\"loss\", \"win\"]))"
      ],
      "execution_count": 0,
      "outputs": [
        {
          "output_type": "stream",
          "text": [
            "              precision    recall  f1-score   support\n",
            "\n",
            "        loss       0.72      0.31      0.43      7283\n",
            "         win       0.55      0.88      0.68      7184\n",
            "\n",
            "    accuracy                           0.59     14467\n",
            "   macro avg       0.64      0.59      0.55     14467\n",
            "weighted avg       0.64      0.59      0.55     14467\n",
            "\n"
          ],
          "name": "stdout"
        }
      ]
    },
    {
      "cell_type": "code",
      "metadata": {
        "id": "tkj6-3KbjuPf",
        "colab_type": "code",
        "outputId": "5761608e-d989-44ca-8fe8-24fa95585c8b",
        "colab": {
          "base_uri": "https://localhost:8080/",
          "height": 325
        }
      },
      "source": [
        "cm = confusion_matrix(y_test, y_predict)\n",
        "print(cm)\n",
        "sns.heatmap(cm)"
      ],
      "execution_count": 0,
      "outputs": [
        {
          "output_type": "stream",
          "text": [
            "[[2222 5061]\n",
            " [ 878 6306]]\n"
          ],
          "name": "stdout"
        },
        {
          "output_type": "execute_result",
          "data": {
            "text/plain": [
              "<matplotlib.axes._subplots.AxesSubplot at 0x7fa12f853198>"
            ]
          },
          "metadata": {
            "tags": []
          },
          "execution_count": 82
        },
        {
          "output_type": "display_data",
          "data": {
            "image/png": "[encoded data removed]",
            "text/plain": [
              "<Figure size 432x288 with 2 Axes>"
            ]
          },
          "metadata": {
            "tags": []
          }
        }
      ]
    },
    {
      "cell_type": "code",
      "metadata": {
        "id": "nsfwXGUOqVhk",
        "colab_type": "code",
        "colab": {}
      },
      "source": [
        ""
      ],
      "execution_count": 0,
      "outputs": []
    }
  ]
}