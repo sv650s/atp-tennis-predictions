{
 "cells": [
  {
   "cell_type": "markdown",
   "metadata": {},
   "source": [
    "# ATP Tennis Predictions Using Player History/Matchup Data\n",
    "\n",
    "In our previous [notebook](https://github.com/sv650s/sb-capstone2/blob/master/notebooks/7-apt_advanced_feature_engineering.ipynb), we created new datasets with player history leading up to the match as well as matchup history between the 2 players. Player history is based on the most recent 5 matches played and matchup history is also based on the most recent 5 matches played\n",
    "\n",
    "In this notebook, we will run our models with these datasets to see if we get improvements from the new data\n",
    "\n",
    "Our best performing model so far is Random Forest using our basic diff dataset where we diffed available player stats between the 2 players and created features from them and using data from 1998 to 2019\n",
    "\n",
    "### Results from Random Forest using diff dataset:\n",
    "\n",
    "Random Forest Accruacy score: 0.8524918780673256\n",
    "\n",
    "```\n",
    "              precision    recall  f1-score   support\n",
    "\n",
    "        Loss       0.82      0.90      0.86      7115\n",
    "         Win       0.89      0.81      0.85      7352\n",
    "\n",
    "    accuracy                           0.85     14467\n",
    "   macro avg       0.86      0.85      0.85     14467\n",
    "weighted avg       0.86      0.85      0.85     14467\n",
    "```"
   ]
  },
  {
   "cell_type": "code",
   "execution_count": 1,
   "metadata": {},
   "outputs": [],
   "source": [
    "import pandas as pd\n",
    "import numpy as np\n",
    "import matplotlib.pyplot as plt\n",
    "import seaborn as sns\n",
    "from sklearn.neighbors import KNeighborsClassifier\n",
    "from sklearn.linear_model import LogisticRegression\n",
    "from sklearn.ensemble import RandomForestClassifier\n",
    "from sklearn.model_selection import train_test_split\n",
    "from sklearn.metrics import classification_report, confusion_matrix\n",
    "from sklearn.decomposition import PCA\n",
    "from sklearn.preprocessing import MinMaxScaler\n",
    "from datetime import datetime\n",
    "import pickle\n",
    "import json\n",
    "\n",
    "%matplotlib inline\n",
    "sns.set()\n",
    "\n",
    "\n",
    "# date\n",
    "DATE_FORMAT = '%Y-%m-%d'\n",
    "DATE = datetime.now().strftime(DATE_FORMAT)\n",
    "\n",
    "# files\n",
    "DATASET_DIR = '../datasets'\n",
    "FEATURE_FILE_DIFF = f'{DATASET_DIR}/atp_matches_1998-2019_features-diff-matchup5.csv'\n",
    "FEATURE_FILE_1985_DIFF = f'{DATASET_DIR}/atp_matches_1985-2019_features-diff-matchup5.csv'\n",
    "FEATURE_FILE_DIFF_OHE = f'{DATASET_DIR}/atp_matches_1998-2019_features-diff-ohe-matchup5.csv'\n",
    "FEATURE_FILE_1985_DIFF_OHE = f'{DATASET_DIR}/atp_matches_1985-2019_features-diff-ohe-matchup5.csv'\n",
    "\n",
    "START_YEAR = 1998\n",
    "END_YEAR = 2019\n",
    "\n",
    "MODEL_DIR = '../models'\n",
    "MODEL_FILE_KNN = f'{MODEL_DIR}/knn-{START_YEAR}-{END_YEAR}-diff-matchup5.pkl'\n",
    "MODEL_FILE_LR = f'{MODEL_DIR}/lr-{START_YEAR}-{END_YEAR}-diff-matchup5.pkl'\n",
    "MODEL_FILE_RF = f'{MODEL_DIR}/rf-{START_YEAR}-{END_YEAR}-diff-matchup5.pkl'\n",
    "MODEL_FILE_KNN_OHE = f'{MODEL_DIR}/knn-{START_YEAR}-{END_YEAR}-diff-ohe-matchup5.pkl'\n",
    "MODEL_FILE_LR_OHE = f'{MODEL_DIR}/lr-{START_YEAR}-{END_YEAR}-diff-ohe-matchup5.pkl'\n",
    "MODEL_FILE_RF_OHE = f'{MODEL_DIR}/rf-{START_YEAR}-{END_YEAR}-diff-ohe-matchup5.pkl'\n",
    "\n",
    "LABEL_COL = 'p1_winner'\n",
    "\n",
    "# random seed\n",
    "RSTATE = 1\n",
    "N_JOBS = 4\n",
    "MAX_ITER = 100\n",
    "\n"
   ]
  },
  {
   "cell_type": "code",
   "execution_count": 2,
   "metadata": {},
   "outputs": [],
   "source": [
    "def analyze_predictions(model, X_test, y_test, y_predict, y_predict_proba=None):\n",
    "    print(f'Model Score: {model.score(X_test, y_test)}')\n",
    "    \n",
    "    if y_predict_proba:\n",
    "        print(roc_auc_score(y_test, y_predict_proba))\n",
    "    \n",
    "    print(classification_report(y_test, y_predict, target_names=['Loss', 'Win']))\n",
    "    cm = pd.DataFrame(confusion_matrix(y_test, y_predict), index=['Loss', 'Win'], \n",
    "                  columns = ['Loss', 'Win'])\n",
    "    print(cm)\n",
    "    sns.heatmap(cm, annot=True)\n",
    "    \n",
    "    \n",
    "\n",
    "def plot_2d(X_test, y_predict):\n",
    "    \"\"\"\n",
    "    Use PCA to dimensionality reduction then plot win vs loses\n",
    "    :param: X_test - test features\n",
    "    :param: y_predict - predictions from model\n",
    "    \"\"\"\n",
    "    \n",
    "    # normalize our data first before using PCA so weights are the same for all variables\n",
    "    mms = MinMaxScaler()\n",
    "    normalized_df = X_test.copy()\n",
    "    for col in normalized_df.columns:\n",
    "        normalized_col = mms.fit_transform([normalized_df[col].values])\n",
    "        normalized_df[col] = normalized_col[-1]\n",
    "    \n",
    "\n",
    "    # reduce X to 2D\n",
    "    X_test_2d = pd.DataFrame(PCA(n_components=2).fit_transform(X_test))\n",
    "\n",
    "    # let's figure out which ones of these are predicted Wins\n",
    "    wins = X_test_2d[y_predict == 1]\n",
    "\n",
    "    # entries that are predicted losses\n",
    "    losses = X_test_2d[y_predict == 0]\n",
    "\n",
    "    f, a = plt.subplots(1, 1, figsize=(20,5))\n",
    "    p = sns.scatterplot(x=0, y=1, data=losses, ax=a, color='r', alpha=0.25)\n",
    "    p = sns.scatterplot(x=0, y=1, data=wins, ax=a, color='b', alpha=0.25)\n"
   ]
  },
  {
   "cell_type": "markdown",
   "metadata": {},
   "source": [
    "# Reading in our data"
   ]
  },
  {
   "cell_type": "code",
   "execution_count": 3,
   "metadata": {},
   "outputs": [],
   "source": [
    "# extract features and labels\n",
    "features = pd.read_csv(f'{FEATURE_FILE_DIFF}')\n",
    "labels = features[LABEL_COL].copy()\n",
    "features = features.drop([LABEL_COL], axis=1)\n",
    "\n",
    "# train our model\n",
    "X_train, X_test, y_train, y_test = \\\n",
    "        train_test_split(features, labels, random_state=RSTATE)"
   ]
  },
  {
   "cell_type": "code",
   "execution_count": 22,
   "metadata": {},
   "outputs": [
    {
     "data": {
      "text/plain": [
       "array(['age_diff', 'draw_size', 'ht_diff', 'p1', 'p1_games_lost',\n",
       "       'p1_games_won', 'p1_games_won_percentage', 'p1_hand', 'p1_ioc',\n",
       "       'p1_losses', 'p1_matchup_games', 'p1_matchup_games_won_percentage',\n",
       "       'p1_matchup_losses', 'p1_matchup_sets',\n",
       "       'p1_matchup_sets_won_percentage', 'p1_matchup_win_percentage',\n",
       "       'p1_matchup_wins', 'p1_sets_lost', 'p1_sets_won',\n",
       "       'p1_sets_won_percentage', 'p1_win_percentage', 'p1_wins', 'p2',\n",
       "       'p2_games_lost', 'p2_games_won', 'p2_games_won_percentage',\n",
       "       'p2_hand', 'p2_ioc', 'p2_losses', 'p2_matchup_games',\n",
       "       'p2_matchup_losses', 'p2_matchup_sets', 'p2_matchup_wins',\n",
       "       'p2_sets_lost', 'p2_sets_won', 'p2_sets_won_percentage',\n",
       "       'p2_win_percentage', 'p2_wins', 'rank_diff', 'round_label',\n",
       "       'seed_diff', 'surface_label', 'tourney_id_label',\n",
       "       'tourney_level_label', 'tourney_month', 'tourney_year'],\n",
       "      dtype=object)"
      ]
     },
     "execution_count": 22,
     "metadata": {},
     "output_type": "execute_result"
    }
   ],
   "source": [
    "np.sort(features.columns)"
   ]
  },
  {
   "cell_type": "code",
   "execution_count": 24,
   "metadata": {},
   "outputs": [
    {
     "data": {
      "text/plain": [
       "['p1_games_won',\n",
       " 'p1_losses',\n",
       " 'p1_matchup_games',\n",
       " 'p1_matchup_losses',\n",
       " 'p1_matchup_sets',\n",
       " 'p1_matchup_wins',\n",
       " 'p1_sets_lost',\n",
       " 'p1_sets_won',\n",
       " 'p1_wins',\n",
       " 'p2_games_won',\n",
       " 'p2_losses',\n",
       " 'p2_matchup_games',\n",
       " 'p2_matchup_losses',\n",
       " 'p2_matchup_sets',\n",
       " 'p2_matchup_wins',\n",
       " 'p2_sets_lost',\n",
       " 'p2_sets_won',\n",
       " 'p2_wins']"
      ]
     },
     "execution_count": 24,
     "metadata": {},
     "output_type": "execute_result"
    }
   ],
   "source": [
    "DELETE_COLUMNS = [\"p1_games_won\", \"p1_losses\", \"p1_matchup_games\", \"p1_matchup_losses\", \"p1_matchup_sets\", \"p1_matchup_wins\", \"p1_sets_lost\", \"p1_sets_won\", \"p1_wins\"]\n",
    "DELETE_COLUMNS.extend([col.replace(\"p1\", \"p2\") for col in DELETE_COLUMNS])\n",
    "DELETE_COLUMNS"
   ]
  },
  {
   "cell_type": "markdown",
   "metadata": {},
   "source": [
    "## Logistic Regression"
   ]
  },
  {
   "cell_type": "code",
   "execution_count": 4,
   "metadata": {},
   "outputs": [
    {
     "name": "stderr",
     "output_type": "stream",
     "text": [
      "[Parallel(n_jobs=4)]: Using backend LokyBackend with 4 concurrent workers.\n",
      "[Parallel(n_jobs=4)]: Done   1 out of   1 | elapsed:    1.3s finished\n"
     ]
    },
    {
     "name": "stdout",
     "output_type": "stream",
     "text": [
      "Model Score: 0.6927280086346466\n",
      "              precision    recall  f1-score   support\n",
      "\n",
      "        Loss       0.70      0.66      0.68      7378\n",
      "         Win       0.68      0.72      0.70      7446\n",
      "\n",
      "    accuracy                           0.69     14824\n",
      "   macro avg       0.69      0.69      0.69     14824\n",
      "weighted avg       0.69      0.69      0.69     14824\n",
      "\n",
      "      Loss   Win\n",
      "Loss  4901  2477\n",
      "Win   2078  5368\n"
     ]
    },
    {
     "data": {
      "image/png": "[encoded data removed]",
      "text/plain": [
       "<Figure size 432x288 with 2 Axes>"
      ]
     },
     "metadata": {
      "needs_background": "light"
     },
     "output_type": "display_data"
    }
   ],
   "source": [
    "lr = LogisticRegression(n_jobs = N_JOBS, verbose = 1, max_iter = MAX_ITER, random_state = RSTATE, solver = 'lbfgs').fit(X_train, y_train)\n",
    "y_predict_lr = lr.predict(X_test)\n",
    "\n",
    "analyze_predictions(lr, X_test, y_test, y_predict_lr)"
   ]
  },
  {
   "cell_type": "code",
   "execution_count": 5,
   "metadata": {},
   "outputs": [],
   "source": [
    "pickle.dump(lr, open(MODEL_FILE_LR, 'wb'))"
   ]
  },
  {
   "cell_type": "markdown",
   "metadata": {},
   "source": [
    "## KNN"
   ]
  },
  {
   "cell_type": "code",
   "execution_count": 6,
   "metadata": {},
   "outputs": [
    {
     "name": "stdout",
     "output_type": "stream",
     "text": [
      "Model Score: 0.6080005396654075\n",
      "              precision    recall  f1-score   support\n",
      "\n",
      "        Loss       0.61      0.61      0.61      7378\n",
      "         Win       0.61      0.61      0.61      7446\n",
      "\n",
      "    accuracy                           0.61     14824\n",
      "   macro avg       0.61      0.61      0.61     14824\n",
      "weighted avg       0.61      0.61      0.61     14824\n",
      "\n",
      "      Loss   Win\n",
      "Loss  4503  2875\n",
      "Win   2936  4510\n"
     ]
    },
    {
     "data": {
      "image/png": "[encoded data removed]",
      "text/plain": [
       "<Figure size 432x288 with 2 Axes>"
      ]
     },
     "metadata": {
      "needs_background": "light"
     },
     "output_type": "display_data"
    }
   ],
   "source": [
    "knn = KNeighborsClassifier(n_jobs = N_JOBS).fit(X_train, y_train)\n",
    "y_predict_knn = knn.predict(X_test)\n",
    "\n",
    "analyze_predictions(knn, X_test, y_test, y_predict_knn)"
   ]
  },
  {
   "cell_type": "code",
   "execution_count": 7,
   "metadata": {},
   "outputs": [],
   "source": [
    "pickle.dump(knn, open(MODEL_FILE_KNN, 'wb'))"
   ]
  },
  {
   "cell_type": "markdown",
   "metadata": {},
   "source": [
    "## Random Forest"
   ]
  },
  {
   "cell_type": "code",
   "execution_count": 8,
   "metadata": {},
   "outputs": [
    {
     "name": "stderr",
     "output_type": "stream",
     "text": [
      "//anaconda3/envs/capstone2/lib/python3.7/site-packages/sklearn/ensemble/forest.py:245: FutureWarning: The default value of n_estimators will change from 10 in version 0.20 to 100 in 0.22.\n",
      "  \"10 in version 0.20 to 100 in 0.22.\", FutureWarning)\n",
      "[Parallel(n_jobs=1)]: Using backend SequentialBackend with 1 concurrent workers.\n",
      "[Parallel(n_jobs=1)]: Done  10 out of  10 | elapsed:    0.9s finished\n",
      "[Parallel(n_jobs=1)]: Using backend SequentialBackend with 1 concurrent workers.\n",
      "[Parallel(n_jobs=1)]: Done  10 out of  10 | elapsed:    0.0s finished\n",
      "[Parallel(n_jobs=1)]: Using backend SequentialBackend with 1 concurrent workers.\n",
      "[Parallel(n_jobs=1)]: Done  10 out of  10 | elapsed:    0.0s finished\n"
     ]
    },
    {
     "name": "stdout",
     "output_type": "stream",
     "text": [
      "Model Score: 0.815636805180788\n",
      "              precision    recall  f1-score   support\n",
      "\n",
      "        Loss       0.79      0.86      0.82      7378\n",
      "         Win       0.85      0.77      0.81      7446\n",
      "\n",
      "    accuracy                           0.82     14824\n",
      "   macro avg       0.82      0.82      0.82     14824\n",
      "weighted avg       0.82      0.82      0.82     14824\n",
      "\n",
      "      Loss   Win\n",
      "Loss  6327  1051\n",
      "Win   1682  5764\n"
     ]
    },
    {
     "data": {
      "image/png": "[encoded data removed]",
      "text/plain": [
       "<Figure size 432x288 with 2 Axes>"
      ]
     },
     "metadata": {
      "needs_background": "light"
     },
     "output_type": "display_data"
    }
   ],
   "source": [
    "rf = RandomForestClassifier(random_state=RSTATE, verbose=1).fit(X_train, y_train)\n",
    "y_predict_rf = rf.predict(X_test)\n",
    "\n",
    "analyze_predictions(rf, X_test, y_test, y_predict_rf)"
   ]
  },
  {
   "cell_type": "code",
   "execution_count": 9,
   "metadata": {},
   "outputs": [],
   "source": [
    "pickle.dump(rf, open(MODEL_FILE_RF, 'wb'))"
   ]
  },
  {
   "cell_type": "code",
   "execution_count": null,
   "metadata": {},
   "outputs": [],
   "source": []
  },
  {
   "cell_type": "markdown",
   "metadata": {},
   "source": [
    "# Reading in One Hot Encoded Data With History/Matchup"
   ]
  },
  {
   "cell_type": "code",
   "execution_count": 10,
   "metadata": {},
   "outputs": [],
   "source": [
    "# extract features and labels\n",
    "features_ohe = pd.read_csv(f'{FEATURE_FILE_DIFF_OHE}')\n",
    "labels_ohe = features_ohe[LABEL_COL].copy()\n",
    "features_ohe = features_ohe.drop([LABEL_COL], axis=1)\n",
    "\n",
    "# train our model\n",
    "X_train_ohe, X_test_ohe, y_train_ohe, y_test_ohe = \\\n",
    "        train_test_split(features_ohe, labels, random_state=RSTATE)"
   ]
  },
  {
   "cell_type": "markdown",
   "metadata": {},
   "source": [
    "## Logistic Regression"
   ]
  },
  {
   "cell_type": "code",
   "execution_count": 12,
   "metadata": {},
   "outputs": [
    {
     "name": "stderr",
     "output_type": "stream",
     "text": [
      "[Parallel(n_jobs=4)]: Using backend LokyBackend with 4 concurrent workers.\n",
      "[Parallel(n_jobs=4)]: Done   1 out of   1 | elapsed:  4.0min finished\n"
     ]
    },
    {
     "name": "stdout",
     "output_type": "stream",
     "text": [
      "Model Score: 0.6971127900701565\n",
      "              precision    recall  f1-score   support\n",
      "\n",
      "        Loss       0.70      0.68      0.69      7378\n",
      "         Win       0.69      0.72      0.70      7446\n",
      "\n",
      "    accuracy                           0.70     14824\n",
      "   macro avg       0.70      0.70      0.70     14824\n",
      "weighted avg       0.70      0.70      0.70     14824\n",
      "\n",
      "      Loss   Win\n",
      "Loss  4986  2392\n",
      "Win   2098  5348\n"
     ]
    },
    {
     "data": {
      "image/png": "[encoded data removed]",
      "text/plain": [
       "<Figure size 432x288 with 2 Axes>"
      ]
     },
     "metadata": {
      "needs_background": "light"
     },
     "output_type": "display_data"
    }
   ],
   "source": [
    "lr_ohe = LogisticRegression(n_jobs = N_JOBS, verbose = 1, max_iter = MAX_ITER, random_state = RSTATE, solver = 'lbfgs').fit(X_train_ohe, y_train_ohe)\n",
    "y_predict_lr_ohe = lr_ohe.predict(X_test_ohe)\n",
    "\n",
    "analyze_predictions(lr_ohe, X_test_ohe, y_test_ohe, y_predict_lr_ohe)"
   ]
  },
  {
   "cell_type": "code",
   "execution_count": 13,
   "metadata": {},
   "outputs": [],
   "source": [
    "pickle.dump(lr_ohe, open(MODEL_FILE_LR_OHE, 'wb'))"
   ]
  },
  {
   "cell_type": "markdown",
   "metadata": {},
   "source": [
    "## KNN"
   ]
  },
  {
   "cell_type": "code",
   "execution_count": 14,
   "metadata": {},
   "outputs": [
    {
     "name": "stdout",
     "output_type": "stream",
     "text": [
      "Model Score: 0.7947247706422018\n",
      "              precision    recall  f1-score   support\n",
      "\n",
      "        Loss       0.78      0.82      0.80      7378\n",
      "         Win       0.81      0.77      0.79      7446\n",
      "\n",
      "    accuracy                           0.79     14824\n",
      "   macro avg       0.80      0.79      0.79     14824\n",
      "weighted avg       0.80      0.79      0.79     14824\n",
      "\n",
      "      Loss   Win\n",
      "Loss  6077  1301\n",
      "Win   1742  5704\n"
     ]
    },
    {
     "data": {
      "image/png": "[encoded data removed]",
      "text/plain": [
       "<Figure size 432x288 with 2 Axes>"
      ]
     },
     "metadata": {
      "needs_background": "light"
     },
     "output_type": "display_data"
    }
   ],
   "source": [
    "knn_ohe = KNeighborsClassifier(n_jobs = N_JOBS).fit(X_train_ohe, y_train_ohe)\n",
    "y_predict_knn_ohe = knn_ohe.predict(X_test_ohe)\n",
    "\n",
    "analyze_predictions(knn_ohe, X_test_ohe, y_test_ohe, y_predict_knn_ohe)"
   ]
  },
  {
   "cell_type": "code",
   "execution_count": 15,
   "metadata": {},
   "outputs": [],
   "source": [
    "pickle.dump(knn_ohe, open(MODEL_FILE_KNN_OHE, 'wb'))"
   ]
  },
  {
   "cell_type": "markdown",
   "metadata": {},
   "source": [
    "## Random Forest"
   ]
  },
  {
   "cell_type": "code",
   "execution_count": 16,
   "metadata": {},
   "outputs": [
    {
     "name": "stderr",
     "output_type": "stream",
     "text": [
      "//anaconda3/envs/capstone2/lib/python3.7/site-packages/sklearn/ensemble/forest.py:245: FutureWarning: The default value of n_estimators will change from 10 in version 0.20 to 100 in 0.22.\n",
      "  \"10 in version 0.20 to 100 in 0.22.\", FutureWarning)\n",
      "[Parallel(n_jobs=1)]: Using backend SequentialBackend with 1 concurrent workers.\n",
      "[Parallel(n_jobs=1)]: Done  10 out of  10 | elapsed:    6.2s finished\n",
      "[Parallel(n_jobs=1)]: Using backend SequentialBackend with 1 concurrent workers.\n",
      "[Parallel(n_jobs=1)]: Done  10 out of  10 | elapsed:    0.1s finished\n",
      "[Parallel(n_jobs=1)]: Using backend SequentialBackend with 1 concurrent workers.\n",
      "[Parallel(n_jobs=1)]: Done  10 out of  10 | elapsed:    0.1s finished\n"
     ]
    },
    {
     "name": "stdout",
     "output_type": "stream",
     "text": [
      "Model Score: 0.7122908796546141\n",
      "              precision    recall  f1-score   support\n",
      "\n",
      "        Loss       0.69      0.77      0.73      7378\n",
      "         Win       0.74      0.65      0.69      7446\n",
      "\n",
      "    accuracy                           0.71     14824\n",
      "   macro avg       0.72      0.71      0.71     14824\n",
      "weighted avg       0.72      0.71      0.71     14824\n",
      "\n",
      "      Loss   Win\n",
      "Loss  5705  1673\n",
      "Win   2592  4854\n"
     ]
    },
    {
     "data": {
      "image/png": "[encoded data removed]",
      "text/plain": [
       "<Figure size 432x288 with 2 Axes>"
      ]
     },
     "metadata": {
      "needs_background": "light"
     },
     "output_type": "display_data"
    }
   ],
   "source": [
    "rf_ohe = RandomForestClassifier(random_state=RSTATE, verbose=1).fit(X_train_ohe, y_train_ohe)\n",
    "y_predict_rf_ohe = rf_ohe.predict(X_test_ohe)\n",
    "\n",
    "analyze_predictions(rf_ohe, X_test_ohe, y_test_ohe, y_predict_rf_ohe)"
   ]
  },
  {
   "cell_type": "code",
   "execution_count": 17,
   "metadata": {},
   "outputs": [],
   "source": [
    "pickle.dump(rf_ohe, open(MODEL_FILE_RF_OHE, 'wb'))"
   ]
  }
 ],
 "metadata": {
  "kernelspec": {
   "display_name": "Python 3",
   "language": "python",
   "name": "python3"
  },
  "language_info": {
   "codemirror_mode": {
    "name": "ipython",
    "version": 3
   },
   "file_extension": ".py",
   "mimetype": "text/x-python",
   "name": "python",
   "nbconvert_exporter": "python",
   "pygments_lexer": "ipython3",
   "version": "3.7.3"
  }
 },
 "nbformat": 4,
 "nbformat_minor": 4
}
