{
  "nbformat": 4,
  "nbformat_minor": 0,
  "metadata": {
    "colab": {
      "name": "5.0.0-classification-1layer_nn-2xfeatures-ordinal-history5_win_perc-stats5.ipynb",
      "provenance": [],
      "collapsed_sections": [],
      "machine_shape": "hm",
      "include_colab_link": true
    },
    "kernelspec": {
      "name": "python3",
      "display_name": "Python 3"
    },
    "accelerator": "GPU"
  },
  "cells": [
    {
      "cell_type": "markdown",
      "metadata": {
        "id": "view-in-github",
        "colab_type": "text"
      },
      "source": [
        "<a href=\"https://colab.research.google.com/github/sv650s/atp-tennis-predictions/blob/dataset2/notebooks/5.0.0-classification-1layer_nn-2xfeatures-ordinal-history5_win_perc-stats5.ipynb\" target=\"_parent\"><img src=\"https://colab.research.google.com/assets/colab-badge.svg\" alt=\"Open In Colab\"/></a>"
      ]
    },
    {
      "cell_type": "markdown",
      "metadata": {
        "id": "maNMeGSioSdx",
        "colab_type": "text"
      },
      "source": [
        "# ATP Tennis Data - NN Using One Hot Encoding\n",
        "\n",
        "In this notebook, I we will run our data through a 1 layer NN where number of hidden units is 2x number of features\n",
        "\n",
        "Columns that will be used in this notebook are:\n",
        "* raw ordinal features -ie, p1/p2_rank, p1/p2_height\n",
        "* history win percentage for each player for the last 5 maches\n",
        "* raw player stats from last 5 maches\n",
        "\n",
        "We will compare the results of the NN with the Gradient Boosting model\n",
        "\n",
        "```\n",
        "Model Score: 0.6829169480081027\n",
        "\n",
        "ROC/AUC Score: 0.6829166839061929\n",
        "              precision    recall  f1-score   support\n",
        "\n",
        "        Loss       0.68      0.68      0.68     14815\n",
        "         Win       0.68      0.68      0.68     14805\n",
        "\n",
        "    accuracy                           0.68     29620\n",
        "   macro avg       0.68      0.68      0.68     29620\n",
        "weighted avg       0.68      0.68      0.68     29620\n",
        "```\n",
        "\n",
        "# Results\n",
        "\n",
        "This NN architecture has about the same accuracy of our baseline model with Decision Tress where we only use the difference in player rank as a features\n",
        "\n",
        "Accuracy for this model is: 0.6542538825118164\n",
        "\n",
        "```\n",
        "              precision    recall  f1-score   support\n",
        "\n",
        "        loss       0.66      0.66      0.66     14890\n",
        "         win       0.65      0.65      0.65     14730\n",
        "\n",
        "    accuracy                           0.65     29620\n",
        "   macro avg       0.65      0.65      0.65     29620\n",
        "weighted avg       0.65      0.65      0.65     29620\n",
        "```"
      ]
    },
    {
      "cell_type": "code",
      "metadata": {
        "id": "KAcNYkLbn46s",
        "colab_type": "code",
        "outputId": "8b487edb-802b-4a20-b867-08d5aeaf4b9a",
        "colab": {
          "base_uri": "https://localhost:8080/",
          "height": 34
        }
      },
      "source": [
        "from google.colab import drive\n",
        "drive.mount('/content/drive')\n"
      ],
      "execution_count": 1,
      "outputs": [
        {
          "output_type": "stream",
          "text": [
            "Drive already mounted at /content/drive; to attempt to forcibly remount, call drive.mount(\"/content/drive\", force_remount=True).\n"
          ],
          "name": "stdout"
        }
      ]
    },
    {
      "cell_type": "code",
      "metadata": {
        "id": "A56-84YeuRCZ",
        "colab_type": "code",
        "outputId": "169157f1-a0d4-44b2-8a3c-86e7a142807d",
        "colab": {
          "base_uri": "https://localhost:8080/",
          "height": 51
        }
      },
      "source": [
        "%tensorflow_version 2.x\n",
        "\n",
        "\n",
        "import tensorflow as tf\n",
        "# checl to make sure we are using GPU here\n",
        "tf.test.gpu_device_name()"
      ],
      "execution_count": 2,
      "outputs": [
        {
          "output_type": "stream",
          "text": [
            "TensorFlow 2.x selected.\n"
          ],
          "name": "stdout"
        },
        {
          "output_type": "execute_result",
          "data": {
            "text/plain": [
              "'/device:GPU:0'"
            ]
          },
          "metadata": {
            "tags": []
          },
          "execution_count": 2
        }
      ]
    },
    {
      "cell_type": "code",
      "metadata": {
        "id": "Q6FhTGhHo8RT",
        "colab_type": "code",
        "outputId": "60a322af-62e9-48e9-acaa-7b5206e87965",
        "colab": {
          "base_uri": "https://localhost:8080/",
          "height": 51
        }
      },
      "source": [
        "import sys\n",
        "import pandas as pd\n",
        "import numpy as np\n",
        "from datetime import datetime\n",
        "import pickle\n",
        "import json\n",
        "import sys\n",
        "import matplotlib.pyplot as plt\n",
        "import seaborn as sns\n",
        "import logging\n",
        "\n",
        "from sklearn.model_selection import train_test_split\n",
        "from sklearn.metrics import classification_report, confusion_matrix, accuracy_score\n",
        "from sklearn.preprocessing import OneHotEncoder\n",
        "\n",
        "from keras.models import Sequential\n",
        "from keras.layers import Dense, Activation, Dropout\n",
        "from keras.layers.normalization import BatchNormalization\n",
        "from keras.callbacks import EarlyStopping, ReduceLROnPlateau, ModelCheckpoint\n",
        "from keras.optimizers import SGD\n",
        "\n",
        "# add our google drive directory to path so we can load custom modules\n",
        "DRIVE_DIR = \"drive/My Drive/Springboard/capstone2\"\n",
        "sys.path.append(DRIVE_DIR)\n",
        "import util.model_util as mu\n",
        "from util.model_util import LABEL_COL, RSTATE\n",
        "\n",
        "\n",
        "logging.basicConfig(level=logging.INFO)\n",
        "%matplotlib inline\n",
        "sns.set()\n",
        "\n",
        "tf.test.gpu_device_name()"
      ],
      "execution_count": 3,
      "outputs": [
        {
          "output_type": "stream",
          "text": [
            "Using TensorFlow backend.\n"
          ],
          "name": "stderr"
        },
        {
          "output_type": "execute_result",
          "data": {
            "text/plain": [
              "'/device:GPU:0'"
            ]
          },
          "metadata": {
            "tags": []
          },
          "execution_count": 3
        }
      ]
    },
    {
      "cell_type": "code",
      "metadata": {
        "id": "sO579yKwn46J",
        "colab_type": "code",
        "colab": {}
      },
      "source": [
        "DATASET_DIR = f'{DRIVE_DIR}/datasets'\n",
        "MODEL_DIR = f'{DRIVE_DIR}/models'\n",
        "REPORT_DIR = f'{DRIVE_DIR}/reports'\n",
        "\n",
        "START_YEAR = 1998\n",
        "END_YEAR = 2018\n",
        "\n",
        "DEBUG = False\n",
        "MODEL_NAME = 'nn_1layer-2xfeatures-ordinal-history5_win_perc-stats5'\n",
        "mu.ModelWrapper.MODEL_DIR = f'{DRIVE_DIR}/models'\n",
        "\n",
        "\n",
        "if DEBUG:\n",
        "  FEATURE_FILE = f'{DATASET_DIR}/atp_matches_1985-2019_features_test-raw_diff-ohe-history-matchup-stats.csv'\n",
        "  MODEL_NAME = f'{MODEL_NAME}-test'\n",
        "  mu.ModelWrapper.REPORT_FILE = f'{DRIVE_DIR}/reports/summary-test.csv'\n",
        "else:\n",
        "  FEATURE_FILE = f'{DATASET_DIR}/atp_matches_1985-2019_features-raw_diff-ohe-history-matchup-stats.csv'\n",
        "  mu.ModelWrapper.REPORT_FILE = f'{DRIVE_DIR}/reports/summary.csv'\n"
      ],
      "execution_count": 0,
      "outputs": []
    },
    {
      "cell_type": "code",
      "metadata": {
        "id": "zRGm73EhWkPA",
        "colab_type": "code",
        "outputId": "ef7671d4-efcd-4736-a563-17188d6b3176",
        "colab": {
          "base_uri": "https://localhost:8080/",
          "height": 989
        }
      },
      "source": [
        "filters = [\"util.model_util.BaseOrdinalFilter\", \"util.model_util.History5WinPercentageFilter\", \"util.model_util.Stats5RawFilter\"]\n",
        "MODEL_BASENAME = f'{MODEL_DIR}/{MODEL_NAME}'\n",
        "\n",
        "\n",
        "features, labels = mu.ModelWrapper.get_data(FEATURE_FILE, LABEL_COL, START_YEAR, END_YEAR, column_filters = filters,\n",
        "                                                split_train_test = False)\n",
        "print(features.shape)\n",
        "print(features.info())\n",
        "features.head()"
      ],
      "execution_count": 5,
      "outputs": [
        {
          "output_type": "stream",
          "text": [
            "INFO:util.model_util:Adding filter: util.model_util.BaseOrdinalFilter\n",
            "INFO:util.model_util:Adding filter: util.model_util.History5WinPercentageFilter\n",
            "INFO:util.model_util:Adding filter: util.model_util.Stats5RawFilter\n",
            "INFO:util.model_util:loading drive/My Drive/Springboard/capstone2/datasets/atp_matches_1985-2019_features-raw_diff-ohe-history-matchup-stats.csv\n",
            "INFO:util.model_util:Shape before filtering: (118478, 5464)\n",
            "INFO:util.model_util:Shape after filtering: (118478, 31)\n",
            "INFO:util.model_util:Final Features shape: (118478, 31)\n"
          ],
          "name": "stderr"
        },
        {
          "output_type": "stream",
          "text": [
            "(118478, 31)\n",
            "<class 'pandas.core.frame.DataFrame'>\n",
            "Int64Index: 118478 entries, 81324 to 199801\n",
            "Data columns (total 31 columns):\n",
            "draw_size                     118478 non-null int64\n",
            "round_label                   118478 non-null int64\n",
            "tourney_level_label           118478 non-null int64\n",
            "tourney_month                 118478 non-null int64\n",
            "tourney_year                  118478 non-null int64\n",
            "p1_age                        118478 non-null float64\n",
            "p1_ht                         118478 non-null float64\n",
            "p1_rank                       118478 non-null int64\n",
            "p2_age                        118478 non-null float64\n",
            "p2_ht                         118478 non-null float64\n",
            "p2_rank                       118478 non-null int64\n",
            "p1_history5_win_percentage    118478 non-null float64\n",
            "p2_history5_win_percentage    118478 non-null float64\n",
            "p1_stats5_1stin               118478 non-null int64\n",
            "p1_stats5_1stwon              118478 non-null int64\n",
            "p1_stats5_2ndwon              118478 non-null int64\n",
            "p1_stats5_ace                 118478 non-null int64\n",
            "p1_stats5_bpfaced             118478 non-null int64\n",
            "p1_stats5_bpsaved             118478 non-null int64\n",
            "p1_stats5_df                  118478 non-null int64\n",
            "p1_stats5_svgms               118478 non-null int64\n",
            "p1_stats5_svpt                118478 non-null int64\n",
            "p2_stats5_1stin               118478 non-null int64\n",
            "p2_stats5_1stwon              118478 non-null int64\n",
            "p2_stats5_2ndwon              118478 non-null int64\n",
            "p2_stats5_ace                 118478 non-null int64\n",
            "p2_stats5_bpfaced             118478 non-null int64\n",
            "p2_stats5_bpsaved             118478 non-null int64\n",
            "p2_stats5_df                  118478 non-null int64\n",
            "p2_stats5_svgms               118478 non-null int64\n",
            "p2_stats5_svpt                118478 non-null int64\n",
            "dtypes: float64(6), int64(25)\n",
            "memory usage: 28.9 MB\n",
            "None\n"
          ],
          "name": "stdout"
        },
        {
          "output_type": "execute_result",
          "data": {
            "text/html": [
              "<div>\n",
              "<style scoped>\n",
              "    .dataframe tbody tr th:only-of-type {\n",
              "        vertical-align: middle;\n",
              "    }\n",
              "\n",
              "    .dataframe tbody tr th {\n",
              "        vertical-align: top;\n",
              "    }\n",
              "\n",
              "    .dataframe thead th {\n",
              "        text-align: right;\n",
              "    }\n",
              "</style>\n",
              "<table border=\"1\" class=\"dataframe\">\n",
              "  <thead>\n",
              "    <tr style=\"text-align: right;\">\n",
              "      <th></th>\n",
              "      <th>draw_size</th>\n",
              "      <th>round_label</th>\n",
              "      <th>tourney_level_label</th>\n",
              "      <th>tourney_month</th>\n",
              "      <th>tourney_year</th>\n",
              "      <th>p1_age</th>\n",
              "      <th>p1_ht</th>\n",
              "      <th>p1_rank</th>\n",
              "      <th>p2_age</th>\n",
              "      <th>p2_ht</th>\n",
              "      <th>p2_rank</th>\n",
              "      <th>p1_history5_win_percentage</th>\n",
              "      <th>p2_history5_win_percentage</th>\n",
              "      <th>p1_stats5_1stin</th>\n",
              "      <th>p1_stats5_1stwon</th>\n",
              "      <th>p1_stats5_2ndwon</th>\n",
              "      <th>p1_stats5_ace</th>\n",
              "      <th>p1_stats5_bpfaced</th>\n",
              "      <th>p1_stats5_bpsaved</th>\n",
              "      <th>p1_stats5_df</th>\n",
              "      <th>p1_stats5_svgms</th>\n",
              "      <th>p1_stats5_svpt</th>\n",
              "      <th>p2_stats5_1stin</th>\n",
              "      <th>p2_stats5_1stwon</th>\n",
              "      <th>p2_stats5_2ndwon</th>\n",
              "      <th>p2_stats5_ace</th>\n",
              "      <th>p2_stats5_bpfaced</th>\n",
              "      <th>p2_stats5_bpsaved</th>\n",
              "      <th>p2_stats5_df</th>\n",
              "      <th>p2_stats5_svgms</th>\n",
              "      <th>p2_stats5_svpt</th>\n",
              "    </tr>\n",
              "  </thead>\n",
              "  <tbody>\n",
              "    <tr>\n",
              "      <th>81324</th>\n",
              "      <td>32</td>\n",
              "      <td>5</td>\n",
              "      <td>4</td>\n",
              "      <td>1</td>\n",
              "      <td>1998</td>\n",
              "      <td>25.79</td>\n",
              "      <td>183.0</td>\n",
              "      <td>4</td>\n",
              "      <td>26.61</td>\n",
              "      <td>188.0</td>\n",
              "      <td>74</td>\n",
              "      <td>0.6</td>\n",
              "      <td>0.4</td>\n",
              "      <td>36</td>\n",
              "      <td>26</td>\n",
              "      <td>14</td>\n",
              "      <td>6</td>\n",
              "      <td>6</td>\n",
              "      <td>4</td>\n",
              "      <td>2</td>\n",
              "      <td>9</td>\n",
              "      <td>65</td>\n",
              "      <td>45</td>\n",
              "      <td>31</td>\n",
              "      <td>16</td>\n",
              "      <td>4</td>\n",
              "      <td>7</td>\n",
              "      <td>4</td>\n",
              "      <td>2</td>\n",
              "      <td>12</td>\n",
              "      <td>76</td>\n",
              "    </tr>\n",
              "    <tr>\n",
              "      <th>81325</th>\n",
              "      <td>32</td>\n",
              "      <td>5</td>\n",
              "      <td>4</td>\n",
              "      <td>1</td>\n",
              "      <td>1998</td>\n",
              "      <td>26.61</td>\n",
              "      <td>188.0</td>\n",
              "      <td>74</td>\n",
              "      <td>25.79</td>\n",
              "      <td>183.0</td>\n",
              "      <td>4</td>\n",
              "      <td>0.4</td>\n",
              "      <td>0.6</td>\n",
              "      <td>45</td>\n",
              "      <td>31</td>\n",
              "      <td>16</td>\n",
              "      <td>4</td>\n",
              "      <td>7</td>\n",
              "      <td>4</td>\n",
              "      <td>2</td>\n",
              "      <td>12</td>\n",
              "      <td>76</td>\n",
              "      <td>36</td>\n",
              "      <td>26</td>\n",
              "      <td>14</td>\n",
              "      <td>6</td>\n",
              "      <td>6</td>\n",
              "      <td>4</td>\n",
              "      <td>2</td>\n",
              "      <td>9</td>\n",
              "      <td>65</td>\n",
              "    </tr>\n",
              "    <tr>\n",
              "      <th>81326</th>\n",
              "      <td>32</td>\n",
              "      <td>5</td>\n",
              "      <td>4</td>\n",
              "      <td>1</td>\n",
              "      <td>1998</td>\n",
              "      <td>27.76</td>\n",
              "      <td>185.0</td>\n",
              "      <td>79</td>\n",
              "      <td>22.85</td>\n",
              "      <td>175.0</td>\n",
              "      <td>87</td>\n",
              "      <td>0.4</td>\n",
              "      <td>0.4</td>\n",
              "      <td>43</td>\n",
              "      <td>33</td>\n",
              "      <td>20</td>\n",
              "      <td>8</td>\n",
              "      <td>6</td>\n",
              "      <td>3</td>\n",
              "      <td>3</td>\n",
              "      <td>13</td>\n",
              "      <td>82</td>\n",
              "      <td>46</td>\n",
              "      <td>26</td>\n",
              "      <td>10</td>\n",
              "      <td>0</td>\n",
              "      <td>8</td>\n",
              "      <td>3</td>\n",
              "      <td>3</td>\n",
              "      <td>10</td>\n",
              "      <td>68</td>\n",
              "    </tr>\n",
              "    <tr>\n",
              "      <th>81327</th>\n",
              "      <td>32</td>\n",
              "      <td>5</td>\n",
              "      <td>4</td>\n",
              "      <td>1</td>\n",
              "      <td>1998</td>\n",
              "      <td>22.85</td>\n",
              "      <td>175.0</td>\n",
              "      <td>87</td>\n",
              "      <td>27.76</td>\n",
              "      <td>185.0</td>\n",
              "      <td>79</td>\n",
              "      <td>0.4</td>\n",
              "      <td>0.4</td>\n",
              "      <td>46</td>\n",
              "      <td>26</td>\n",
              "      <td>10</td>\n",
              "      <td>0</td>\n",
              "      <td>8</td>\n",
              "      <td>3</td>\n",
              "      <td>3</td>\n",
              "      <td>10</td>\n",
              "      <td>68</td>\n",
              "      <td>43</td>\n",
              "      <td>33</td>\n",
              "      <td>20</td>\n",
              "      <td>8</td>\n",
              "      <td>6</td>\n",
              "      <td>3</td>\n",
              "      <td>3</td>\n",
              "      <td>13</td>\n",
              "      <td>82</td>\n",
              "    </tr>\n",
              "    <tr>\n",
              "      <th>81328</th>\n",
              "      <td>32</td>\n",
              "      <td>5</td>\n",
              "      <td>4</td>\n",
              "      <td>1</td>\n",
              "      <td>1998</td>\n",
              "      <td>21.76</td>\n",
              "      <td>185.0</td>\n",
              "      <td>93</td>\n",
              "      <td>23.08</td>\n",
              "      <td>185.0</td>\n",
              "      <td>71</td>\n",
              "      <td>0.4</td>\n",
              "      <td>0.2</td>\n",
              "      <td>38</td>\n",
              "      <td>27</td>\n",
              "      <td>13</td>\n",
              "      <td>5</td>\n",
              "      <td>7</td>\n",
              "      <td>5</td>\n",
              "      <td>1</td>\n",
              "      <td>9</td>\n",
              "      <td>64</td>\n",
              "      <td>39</td>\n",
              "      <td>31</td>\n",
              "      <td>11</td>\n",
              "      <td>9</td>\n",
              "      <td>4</td>\n",
              "      <td>2</td>\n",
              "      <td>2</td>\n",
              "      <td>11</td>\n",
              "      <td>68</td>\n",
              "    </tr>\n",
              "  </tbody>\n",
              "</table>\n",
              "</div>"
            ],
            "text/plain": [
              "       draw_size  round_label  ...  p2_stats5_svgms  p2_stats5_svpt\n",
              "81324         32            5  ...               12              76\n",
              "81325         32            5  ...                9              65\n",
              "81326         32            5  ...               10              68\n",
              "81327         32            5  ...               13              82\n",
              "81328         32            5  ...               11              68\n",
              "\n",
              "[5 rows x 31 columns]"
            ]
          },
          "metadata": {
            "tags": []
          },
          "execution_count": 5
        }
      ]
    },
    {
      "cell_type": "code",
      "metadata": {
        "id": "FmAY5jvsYXKM",
        "colab_type": "code",
        "outputId": "3607163c-073e-4089-c62a-c12c7a326146",
        "colab": {
          "base_uri": "https://localhost:8080/",
          "height": 102
        }
      },
      "source": [
        "# one hot encode our labels for Keras\n",
        "label_encoder = OneHotEncoder(handle_unknown='ignore', sparse=False)\n",
        "labels_encoded = label_encoder.fit_transform(pd.DataFrame(labels))\n",
        "labels_encoded[:5]"
      ],
      "execution_count": 6,
      "outputs": [
        {
          "output_type": "execute_result",
          "data": {
            "text/plain": [
              "array([[0., 1.],\n",
              "       [1., 0.],\n",
              "       [0., 1.],\n",
              "       [1., 0.],\n",
              "       [0., 1.]])"
            ]
          },
          "metadata": {
            "tags": []
          },
          "execution_count": 6
        }
      ]
    },
    {
      "cell_type": "code",
      "metadata": {
        "id": "gg8Z0Sz_WbqZ",
        "colab_type": "code",
        "colab": {}
      },
      "source": [
        "# split into training and test set\n",
        "X_train, X_test, y_train_encoded, y_test_encoded = train_test_split(features, labels_encoded)\n",
        "y_test = label_encoder.inverse_transform(y_test_encoded)"
      ],
      "execution_count": 0,
      "outputs": []
    },
    {
      "cell_type": "code",
      "metadata": {
        "id": "7CBvO5xwcGnw",
        "colab_type": "code",
        "outputId": "2cbd3c0f-6296-4410-c9b2-eb38dca8c7db",
        "colab": {
          "base_uri": "https://localhost:8080/",
          "height": 34
        }
      },
      "source": [
        "X_train.shape"
      ],
      "execution_count": 8,
      "outputs": [
        {
          "output_type": "execute_result",
          "data": {
            "text/plain": [
              "(88858, 31)"
            ]
          },
          "metadata": {
            "tags": []
          },
          "execution_count": 8
        }
      ]
    },
    {
      "cell_type": "markdown",
      "metadata": {
        "id": "Y0vIecdvpHOx",
        "colab_type": "text"
      },
      "source": [
        "# Implement Neural Network\n",
        "\n",
        "\n"
      ]
    },
    {
      "cell_type": "code",
      "metadata": {
        "id": "9TDPA9XWoe0m",
        "colab_type": "code",
        "outputId": "301f0898-01aa-4a76-e036-a55a4cb80fa6",
        "colab": {
          "base_uri": "https://localhost:8080/",
          "height": 323
        }
      },
      "source": [
        "from tensorflow.keras.models import Sequential \n",
        "from tensorflow.keras.layers import Dense, Activation, BatchNormalization\n",
        "from tensorflow.keras import regularizers\n",
        "import tensorflow.keras as K\n",
        "\n",
        "RSTATE = 1\n",
        "\n",
        "output_dim = nb_classes = 2\n",
        "model_lr = Sequential() \n",
        "model_lr.add(Dense(X_train.shape[1] * 3, \n",
        "                   input_shape=(X_train.shape[1], ),\n",
        "                   kernel_regularizer=regularizers.l2(0.01),\n",
        "                   kernel_initializer=K.initializers.glorot_uniform(seed=RSTATE))) \n",
        "model_lr.add(BatchNormalization())\n",
        "model_lr.add(Activation(\"relu\"))\n",
        "\n",
        "\n",
        "model_lr.add(Dense(output_dim, \n",
        "                   kernel_initializer=K.initializers.glorot_uniform(seed=RSTATE))) \n",
        "model_lr.add(Activation(\"softmax\"))\n",
        "batch_size = 129 \n",
        "epochs = 100\n",
        "\n",
        "model_lr.compile(optimizer='sgd', loss='binary_crossentropy', metrics=['accuracy']) \n",
        "\n",
        "model_json = model_lr.to_json()\n",
        "with open(f'{MODEL_BASENAME}.json', 'w') as file:\n",
        "  file.write(model_json)\n",
        "\n",
        "model_lr.summary()"
      ],
      "execution_count": 9,
      "outputs": [
        {
          "output_type": "stream",
          "text": [
            "Model: \"sequential\"\n",
            "_________________________________________________________________\n",
            "Layer (type)                 Output Shape              Param #   \n",
            "=================================================================\n",
            "dense (Dense)                (None, 93)                2976      \n",
            "_________________________________________________________________\n",
            "batch_normalization (BatchNo (None, 93)                372       \n",
            "_________________________________________________________________\n",
            "activation (Activation)      (None, 93)                0         \n",
            "_________________________________________________________________\n",
            "dense_1 (Dense)              (None, 2)                 188       \n",
            "_________________________________________________________________\n",
            "activation_1 (Activation)    (None, 2)                 0         \n",
            "=================================================================\n",
            "Total params: 3,536\n",
            "Trainable params: 3,350\n",
            "Non-trainable params: 186\n",
            "_________________________________________________________________\n"
          ],
          "name": "stdout"
        }
      ]
    },
    {
      "cell_type": "code",
      "metadata": {
        "id": "VT7DyAeqXg4c",
        "colab_type": "code",
        "outputId": "1f8c3a6e-42d5-4420-f7fd-7cf6dba0c190",
        "colab": {
          "base_uri": "https://localhost:8080/",
          "height": 1000
        }
      },
      "source": [
        "from tensorflow.keras.callbacks import EarlyStopping, ModelCheckpoint, ReduceLROnPlateau\n",
        "\n",
        "callbacks = [EarlyStopping(monitor='val_loss', patience=10, restore_best_weights=True, verbose=1),\n",
        "             ModelCheckpoint(filepath=f'{MODEL_BASENAME}.h5', monitor='val_loss', save_best_only=True),\n",
        "             ReduceLROnPlateau(monitor='val_loss', factor=0.4,patience=2, min_lr=0.00001, mode='auto')]\n",
        "\n",
        "\n",
        "history = model_lr.fit(X_train, y_train_encoded, \n",
        "                       batch_size=batch_size, \n",
        "                       epochs=epochs,\n",
        "                       verbose=1, \n",
        "                       validation_split=0.2,\n",
        "                       callbacks=callbacks) \n",
        "\n",
        "# evalute our model\n",
        "score = model_lr.evaluate(X_test, y_test_encoded, verbose=0) \n",
        "print('Test score:', score[0]) \n",
        "print('Test accuracy:', score[1])"
      ],
      "execution_count": 10,
      "outputs": [
        {
          "output_type": "stream",
          "text": [
            "WARNING:tensorflow:Falling back from v2 loop because of error: Failed to find data adapter that can handle input: <class 'pandas.core.frame.DataFrame'>, <class 'NoneType'>\n"
          ],
          "name": "stdout"
        },
        {
          "output_type": "stream",
          "text": [
            "WARNING:tensorflow:Falling back from v2 loop because of error: Failed to find data adapter that can handle input: <class 'pandas.core.frame.DataFrame'>, <class 'NoneType'>\n"
          ],
          "name": "stderr"
        },
        {
          "output_type": "stream",
          "text": [
            "Train on 71086 samples, validate on 17772 samples\n",
            "Epoch 1/100\n",
            "71086/71086 [==============================] - 3s 49us/sample - loss: 1.0661 - accuracy: 0.6346 - val_loss: 1.1219 - val_accuracy: 0.5721\n",
            "Epoch 2/100\n",
            "71086/71086 [==============================] - 3s 39us/sample - loss: 0.9699 - accuracy: 0.6462 - val_loss: 1.0260 - val_accuracy: 0.5813\n",
            "Epoch 3/100\n",
            "71086/71086 [==============================] - 3s 38us/sample - loss: 0.9006 - accuracy: 0.6478 - val_loss: 0.8758 - val_accuracy: 0.6420\n",
            "Epoch 4/100\n",
            "71086/71086 [==============================] - 3s 39us/sample - loss: 0.8458 - accuracy: 0.6497 - val_loss: 0.8357 - val_accuracy: 0.6363\n",
            "Epoch 5/100\n",
            "71086/71086 [==============================] - 3s 38us/sample - loss: 0.8014 - accuracy: 0.6496 - val_loss: 0.8097 - val_accuracy: 0.6274\n",
            "Epoch 6/100\n",
            "71086/71086 [==============================] - 3s 38us/sample - loss: 0.7664 - accuracy: 0.6492 - val_loss: 0.8746 - val_accuracy: 0.5594\n",
            "Epoch 7/100\n",
            "71086/71086 [==============================] - 3s 38us/sample - loss: 0.7383 - accuracy: 0.6492 - val_loss: 0.7679 - val_accuracy: 0.6135\n",
            "Epoch 8/100\n",
            "71086/71086 [==============================] - 3s 38us/sample - loss: 0.7157 - accuracy: 0.6500 - val_loss: 0.7463 - val_accuracy: 0.6190\n",
            "Epoch 9/100\n",
            "71086/71086 [==============================] - 3s 38us/sample - loss: 0.6978 - accuracy: 0.6510 - val_loss: 0.7361 - val_accuracy: 0.5994\n",
            "Epoch 10/100\n",
            "71086/71086 [==============================] - 3s 38us/sample - loss: 0.6827 - accuracy: 0.6503 - val_loss: 0.9880 - val_accuracy: 0.5080\n",
            "Epoch 11/100\n",
            "71086/71086 [==============================] - 3s 39us/sample - loss: 0.6716 - accuracy: 0.6512 - val_loss: 0.6767 - val_accuracy: 0.6357\n",
            "Epoch 12/100\n",
            "71086/71086 [==============================] - 3s 38us/sample - loss: 0.6628 - accuracy: 0.6521 - val_loss: 1.0910 - val_accuracy: 0.5182\n",
            "Epoch 13/100\n",
            "71086/71086 [==============================] - 3s 38us/sample - loss: 0.6554 - accuracy: 0.6513 - val_loss: 0.6601 - val_accuracy: 0.6434\n",
            "Epoch 14/100\n",
            "71086/71086 [==============================] - 3s 38us/sample - loss: 0.6495 - accuracy: 0.6513 - val_loss: 1.7113 - val_accuracy: 0.5177\n",
            "Epoch 15/100\n",
            "71086/71086 [==============================] - 3s 38us/sample - loss: 0.6453 - accuracy: 0.6512 - val_loss: 0.6790 - val_accuracy: 0.6119\n",
            "Epoch 16/100\n",
            "71086/71086 [==============================] - 3s 38us/sample - loss: 0.6402 - accuracy: 0.6524 - val_loss: 0.7211 - val_accuracy: 0.5667\n",
            "Epoch 17/100\n",
            "71086/71086 [==============================] - 3s 43us/sample - loss: 0.6382 - accuracy: 0.6530 - val_loss: 0.6433 - val_accuracy: 0.6482\n",
            "Epoch 18/100\n",
            "71086/71086 [==============================] - 3s 38us/sample - loss: 0.6371 - accuracy: 0.6543 - val_loss: 0.6655 - val_accuracy: 0.6229\n",
            "Epoch 19/100\n",
            "71086/71086 [==============================] - 3s 38us/sample - loss: 0.6365 - accuracy: 0.6535 - val_loss: 0.7722 - val_accuracy: 0.5787\n",
            "Epoch 20/100\n",
            "71086/71086 [==============================] - 3s 38us/sample - loss: 0.6346 - accuracy: 0.6545 - val_loss: 0.6467 - val_accuracy: 0.6398\n",
            "Epoch 21/100\n",
            "71086/71086 [==============================] - 3s 43us/sample - loss: 0.6340 - accuracy: 0.6535 - val_loss: 0.6409 - val_accuracy: 0.6443\n",
            "Epoch 22/100\n",
            "71086/71086 [==============================] - 3s 39us/sample - loss: 0.6338 - accuracy: 0.6529 - val_loss: 0.6391 - val_accuracy: 0.6463\n",
            "Epoch 23/100\n",
            "71086/71086 [==============================] - 3s 39us/sample - loss: 0.6321 - accuracy: 0.6552 - val_loss: 0.6357 - val_accuracy: 0.6493\n",
            "Epoch 24/100\n",
            "71086/71086 [==============================] - 3s 38us/sample - loss: 0.6322 - accuracy: 0.6537 - val_loss: 0.7695 - val_accuracy: 0.5570\n",
            "Epoch 25/100\n",
            "71086/71086 [==============================] - 3s 38us/sample - loss: 0.6319 - accuracy: 0.6542 - val_loss: 0.6383 - val_accuracy: 0.6490\n",
            "Epoch 26/100\n",
            "71086/71086 [==============================] - 3s 39us/sample - loss: 0.6316 - accuracy: 0.6532 - val_loss: 0.6443 - val_accuracy: 0.6380\n",
            "Epoch 27/100\n",
            "71086/71086 [==============================] - 3s 38us/sample - loss: 0.6312 - accuracy: 0.6555 - val_loss: 0.6365 - val_accuracy: 0.6480\n",
            "Epoch 28/100\n",
            "71086/71086 [==============================] - 3s 44us/sample - loss: 0.6306 - accuracy: 0.6546 - val_loss: 0.6329 - val_accuracy: 0.6504\n",
            "Epoch 29/100\n",
            "71086/71086 [==============================] - 3s 38us/sample - loss: 0.6306 - accuracy: 0.6552 - val_loss: 0.6336 - val_accuracy: 0.6534\n",
            "Epoch 30/100\n",
            "71086/71086 [==============================] - 3s 38us/sample - loss: 0.6302 - accuracy: 0.6562 - val_loss: 0.6331 - val_accuracy: 0.6533\n",
            "Epoch 31/100\n",
            "71086/71086 [==============================] - 3s 38us/sample - loss: 0.6302 - accuracy: 0.6546 - val_loss: 0.6330 - val_accuracy: 0.6516\n",
            "Epoch 32/100\n",
            "71086/71086 [==============================] - 3s 37us/sample - loss: 0.6301 - accuracy: 0.6561 - val_loss: 0.6334 - val_accuracy: 0.6509\n",
            "Epoch 33/100\n",
            "71086/71086 [==============================] - 3s 38us/sample - loss: 0.6301 - accuracy: 0.6551 - val_loss: 0.6331 - val_accuracy: 0.6521\n",
            "Epoch 34/100\n",
            "71086/71086 [==============================] - 3s 38us/sample - loss: 0.6298 - accuracy: 0.6560 - val_loss: 0.6331 - val_accuracy: 0.6519\n",
            "Epoch 35/100\n",
            "71086/71086 [==============================] - 3s 38us/sample - loss: 0.6298 - accuracy: 0.6541 - val_loss: 0.6335 - val_accuracy: 0.6518\n",
            "Epoch 36/100\n",
            "71086/71086 [==============================] - 3s 38us/sample - loss: 0.6305 - accuracy: 0.6546 - val_loss: 0.6331 - val_accuracy: 0.6517\n",
            "Epoch 37/100\n",
            "71086/71086 [==============================] - 3s 46us/sample - loss: 0.6301 - accuracy: 0.6557 - val_loss: 0.6329 - val_accuracy: 0.6514\n",
            "Epoch 38/100\n",
            "71086/71086 [==============================] - 3s 38us/sample - loss: 0.6299 - accuracy: 0.6573 - val_loss: 0.6328 - val_accuracy: 0.6519\n",
            "Epoch 39/100\n",
            "71086/71086 [==============================] - 3s 38us/sample - loss: 0.6301 - accuracy: 0.6555 - val_loss: 0.6333 - val_accuracy: 0.6511\n",
            "Epoch 40/100\n",
            "71086/71086 [==============================] - 3s 38us/sample - loss: 0.6299 - accuracy: 0.6546 - val_loss: 0.6328 - val_accuracy: 0.6511\n",
            "Epoch 41/100\n",
            "71086/71086 [==============================] - 3s 38us/sample - loss: 0.6300 - accuracy: 0.6555 - val_loss: 0.6329 - val_accuracy: 0.6515\n",
            "Epoch 42/100\n",
            "71086/71086 [==============================] - 3s 38us/sample - loss: 0.6300 - accuracy: 0.6562 - val_loss: 0.6334 - val_accuracy: 0.6520\n",
            "Epoch 43/100\n",
            "71086/71086 [==============================] - 3s 38us/sample - loss: 0.6300 - accuracy: 0.6544 - val_loss: 0.6330 - val_accuracy: 0.6520\n",
            "Epoch 44/100\n",
            "71086/71086 [==============================] - 3s 38us/sample - loss: 0.6301 - accuracy: 0.6559 - val_loss: 0.6328 - val_accuracy: 0.6514\n",
            "Epoch 45/100\n",
            "71086/71086 [==============================] - 3s 38us/sample - loss: 0.6299 - accuracy: 0.6554 - val_loss: 0.6330 - val_accuracy: 0.6516\n",
            "Epoch 46/100\n",
            "71086/71086 [==============================] - 3s 38us/sample - loss: 0.6303 - accuracy: 0.6554 - val_loss: 0.6330 - val_accuracy: 0.6518\n",
            "Epoch 47/100\n",
            "71086/71086 [==============================] - 3s 38us/sample - loss: 0.6301 - accuracy: 0.6548 - val_loss: 0.6330 - val_accuracy: 0.6517\n",
            "Epoch 48/100\n",
            "70821/71086 [============================>.] - ETA: 0s - loss: 0.6303 - accuracy: 0.6548Restoring model weights from the end of the best epoch.\n",
            "71086/71086 [==============================] - 3s 38us/sample - loss: 0.6303 - accuracy: 0.6547 - val_loss: 0.6331 - val_accuracy: 0.6519\n",
            "Epoch 00048: early stopping\n",
            "WARNING:tensorflow:Falling back from v2 loop because of error: Failed to find data adapter that can handle input: <class 'pandas.core.frame.DataFrame'>, <class 'NoneType'>\n"
          ],
          "name": "stdout"
        },
        {
          "output_type": "stream",
          "text": [
            "WARNING:tensorflow:Falling back from v2 loop because of error: Failed to find data adapter that can handle input: <class 'pandas.core.frame.DataFrame'>, <class 'NoneType'>\n"
          ],
          "name": "stderr"
        },
        {
          "output_type": "stream",
          "text": [
            "Test score: 0.6312320396354438\n",
            "Test accuracy: 0.65486157\n"
          ],
          "name": "stdout"
        }
      ]
    },
    {
      "cell_type": "code",
      "metadata": {
        "id": "8wxNtsNf9JEZ",
        "colab_type": "code",
        "colab": {
          "base_uri": "https://localhost:8080/",
          "height": 34
        },
        "outputId": "496b30e2-7eca-4c94-9858-9daf3ab726bf"
      },
      "source": [
        "history.history.keys()"
      ],
      "execution_count": 11,
      "outputs": [
        {
          "output_type": "execute_result",
          "data": {
            "text/plain": [
              "dict_keys(['loss', 'accuracy', 'val_loss', 'val_accuracy', 'lr'])"
            ]
          },
          "metadata": {
            "tags": []
          },
          "execution_count": 11
        }
      ]
    },
    {
      "cell_type": "code",
      "metadata": {
        "id": "Qzd3WsxNe6K2",
        "colab_type": "code",
        "outputId": "2b17ba3c-3b98-4d18-b354-1da96aaf0638",
        "colab": {
          "base_uri": "https://localhost:8080/",
          "height": 355
        }
      },
      "source": [
        "f, a = plt.subplots(1, 2, figsize=(20, 5))\n",
        "\n",
        "# Plot training & validation accuracy values\n",
        "a[0].plot(history.history['accuracy'])\n",
        "a[0].plot(history.history['val_accuracy'])\n",
        "a[0].set_title('Model accuracy')\n",
        "a[0].set_ylabel('Accuracy')\n",
        "a[0].set_xlabel('Epoch')\n",
        "a[0].legend(['Train', 'Test'], loc='upper left')\n",
        "# plt.show()\n",
        "\n",
        "# Plot training & validation loss values\n",
        "a[1].plot(history.history['loss'])\n",
        "a[1].plot(history.history['val_loss'])\n",
        "a[1].set_title('Model loss')\n",
        "a[1].set_ylabel('Loss')\n",
        "a[1].set_xlabel('Epoch')\n",
        "a[1].legend(['Train', 'Test'], loc='upper left')\n",
        "plt.show()"
      ],
      "execution_count": 12,
      "outputs": [
        {
          "output_type": "display_data",
          "data": {
            "image/png": "[encoded data removed]",
            "text/plain": [
              "<Figure size 1440x360 with 2 Axes>"
            ]
          },
          "metadata": {
            "tags": []
          }
        }
      ]
    },
    {
      "cell_type": "code",
      "metadata": {
        "id": "PwiUcorMeVzL",
        "colab_type": "code",
        "colab": {
          "base_uri": "https://localhost:8080/",
          "height": 51
        },
        "outputId": "941f531a-b0f3-4ea6-9df5-0db0c3486ce1"
      },
      "source": [
        "# use our model to predict\n",
        "y_predict_encoded = model_lr.predict(X_test)\n"
      ],
      "execution_count": 13,
      "outputs": [
        {
          "output_type": "stream",
          "text": [
            "WARNING:tensorflow:Falling back from v2 loop because of error: Failed to find data adapter that can handle input: <class 'pandas.core.frame.DataFrame'>, <class 'NoneType'>\n"
          ],
          "name": "stdout"
        },
        {
          "output_type": "stream",
          "text": [
            "WARNING:tensorflow:Falling back from v2 loop because of error: Failed to find data adapter that can handle input: <class 'pandas.core.frame.DataFrame'>, <class 'NoneType'>\n"
          ],
          "name": "stderr"
        }
      ]
    },
    {
      "cell_type": "code",
      "metadata": {
        "id": "aUovPTvV2FLj",
        "colab_type": "code",
        "outputId": "318ffedb-e912-4550-c496-530232f480af",
        "colab": {
          "base_uri": "https://localhost:8080/",
          "height": 357
        }
      },
      "source": [
        "y_predict_encoded[:20]"
      ],
      "execution_count": 14,
      "outputs": [
        {
          "output_type": "execute_result",
          "data": {
            "text/plain": [
              "array([[0.5816319 , 0.41836807],\n",
              "       [0.5708424 , 0.42915756],\n",
              "       [0.32084906, 0.67915094],\n",
              "       [0.70089144, 0.29910856],\n",
              "       [0.6188038 , 0.38119626],\n",
              "       [0.46538922, 0.5346108 ],\n",
              "       [0.5708827 , 0.42911735],\n",
              "       [0.5587439 , 0.4412561 ],\n",
              "       [0.3329086 , 0.66709137],\n",
              "       [0.23588973, 0.76411027],\n",
              "       [0.44568932, 0.5543107 ],\n",
              "       [0.28771198, 0.7122881 ],\n",
              "       [0.39226764, 0.6077324 ],\n",
              "       [0.38888773, 0.61111224],\n",
              "       [0.28425714, 0.7157429 ],\n",
              "       [0.6232315 , 0.3767685 ],\n",
              "       [0.61337817, 0.3866218 ],\n",
              "       [0.4223735 , 0.5776265 ],\n",
              "       [0.55678684, 0.44321316],\n",
              "       [0.83247185, 0.16752817]], dtype=float32)"
            ]
          },
          "metadata": {
            "tags": []
          },
          "execution_count": 14
        }
      ]
    },
    {
      "cell_type": "code",
      "metadata": {
        "id": "XUiTZZpi4Ald",
        "colab_type": "code",
        "outputId": "39746d69-80af-49c0-a538-7055829def3f",
        "colab": {
          "base_uri": "https://localhost:8080/",
          "height": 34
        }
      },
      "source": [
        "y_predict = [row.idxmax() for index, row in pd.DataFrame(y_predict_encoded).iterrows()]\n",
        "y_predict[:20]"
      ],
      "execution_count": 15,
      "outputs": [
        {
          "output_type": "execute_result",
          "data": {
            "text/plain": [
              "[0, 0, 1, 0, 0, 1, 0, 0, 1, 1, 1, 1, 1, 1, 1, 0, 0, 1, 0, 0]"
            ]
          },
          "metadata": {
            "tags": []
          },
          "execution_count": 15
        }
      ]
    },
    {
      "cell_type": "code",
      "metadata": {
        "id": "QH4bAbT3vbl7",
        "colab_type": "code",
        "colab": {}
      },
      "source": [
        ""
      ],
      "execution_count": 0,
      "outputs": []
    },
    {
      "cell_type": "code",
      "metadata": {
        "id": "EVDcfQh0PqdN",
        "colab_type": "code",
        "colab": {}
      },
      "source": [
        "\n",
        "mw = mu.ModelWrapper(model_lr, MODEL_NAME, FEATURE_FILE, START_YEAR, END_YEAR, \n",
        "                  X_train = X_train, \n",
        "                  y_train = label_encoder.inverse_transform(y_train_encoded), \n",
        "                  X_test = X_test, y_test = y_test, model_name = MODEL_NAME)\n",
        "mw.y_predict = y_predict"
      ],
      "execution_count": 0,
      "outputs": []
    },
    {
      "cell_type": "code",
      "metadata": {
        "id": "JB0Ir21ZSKXg",
        "colab_type": "code",
        "colab": {
          "base_uri": "https://localhost:8080/",
          "height": 546
        },
        "outputId": "681d3a17-5f03-4ce4-fdd9-94878ba92546"
      },
      "source": [
        "mw.analyze()"
      ],
      "execution_count": 17,
      "outputs": [
        {
          "output_type": "stream",
          "text": [
            "INFO:numexpr.utils:NumExpr defaulting to 4 threads.\n"
          ],
          "name": "stderr"
        },
        {
          "output_type": "stream",
          "text": [
            "Model Score: 0.6548615800135044\n",
            "\n",
            "ROC/AUC Score: 0.654897160828065\n",
            "              precision    recall  f1-score   support\n",
            "\n",
            "        Loss       0.65      0.66      0.65     14607\n",
            "         Win       0.66      0.65      0.66     15013\n",
            "\n",
            "    accuracy                           0.65     29620\n",
            "   macro avg       0.65      0.65      0.65     29620\n",
            "weighted avg       0.65      0.65      0.65     29620\n",
            "\n",
            "      Loss   Win\n",
            "Loss  9604  5003\n",
            "Win   5220  9793\n"
          ],
          "name": "stdout"
        },
        {
          "output_type": "display_data",
          "data": {
            "image/png": "[encoded data removed]",
            "text/plain": [
              "<Figure size 432x288 with 2 Axes>"
            ]
          },
          "metadata": {
            "tags": []
          }
        }
      ]
    },
    {
      "cell_type": "code",
      "metadata": {
        "id": "xejzcGQjSP30",
        "colab_type": "code",
        "colab": {
          "base_uri": "https://localhost:8080/",
          "height": 34
        },
        "outputId": "165fc012-2c86-4976-a613-2e4f1be6e3a2"
      },
      "source": [
        "mw.save(save_model = False)"
      ],
      "execution_count": 18,
      "outputs": [
        {
          "output_type": "stream",
          "text": [
            "Saving report: drive/My Drive/Springboard/capstone2/reports/summary.csv\n"
          ],
          "name": "stdout"
        }
      ]
    },
    {
      "cell_type": "code",
      "metadata": {
        "id": "pKhNh63iSQwR",
        "colab_type": "code",
        "colab": {
          "base_uri": "https://localhost:8080/",
          "height": 34
        },
        "outputId": "c8b333d2-4ebf-4631-e8a2-834dacd1a8ab"
      },
      "source": [
        "print(f'Last Finished: {datetime.now().strftime(\"%Y-%m-%d %H:%M\")}')"
      ],
      "execution_count": 19,
      "outputs": [
        {
          "output_type": "stream",
          "text": [
            "Last Finished: 2019-11-01 23:46\n"
          ],
          "name": "stdout"
        }
      ]
    },
    {
      "cell_type": "code",
      "metadata": {
        "id": "3Ezpq4BlUaZr",
        "colab_type": "code",
        "colab": {}
      },
      "source": [
        ""
      ],
      "execution_count": 0,
      "outputs": []
    }
  ]
}