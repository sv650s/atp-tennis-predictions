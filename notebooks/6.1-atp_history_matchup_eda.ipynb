{
 "cells": [
  {
   "cell_type": "markdown",
   "metadata": {},
   "source": [
    "# Player History and Matchup History EDU\n",
    "\n",
    "Now that we created data for player history and matchup history. Let's do some exploratory data analysis so we understand our data before using it\n",
    "\n",
    "We will use the diff + history/matchup dataset since it has less columns and loads faster"
   ]
  },
  {
   "cell_type": "code",
   "execution_count": 8,
   "metadata": {},
   "outputs": [],
   "source": [
    "import pandas as pd\n",
    "import numpy as np\n",
    "import matplotlib.pyplot as plt\n",
    "import seaborn as sns\n",
    "from sklearn.neighbors import KNeighborsClassifier\n",
    "from sklearn.tree import DecisionTreeClassifier\n",
    "from sklearn.model_selection import train_test_split\n",
    "from sklearn.linear_model import LogisticRegression\n",
    "from sklearn.metrics import classification_report, confusion_matrix\n",
    "from sklearn.ensemble import RandomForestClassifier, GradientBoostingClassifier, AdaBoostClassifier\n",
    "from sklearn.decomposition import PCA\n",
    "from datetime import datetime\n",
    "import pickle\n",
    "import json\n",
    "import os\n",
    "import sys\n",
    "import re\n",
    "module_path = os.path.abspath(os.path.join('..'))\n",
    "if module_path not in sys.path:\n",
    "    sys.path.append(module_path)\n",
    "\n",
    "from util import jupyter_util as ju\n",
    "from util.model_util import ModelWrapper\n",
    "\n",
    "%matplotlib inline\n",
    "sns.set()\n",
    "\n",
    "\n",
    "\n",
    "# update this\n",
    "FEATURE_FILE = f'../datasets/atp_matches_1985-2019_features-diff-matchup5.csv'\n",
    "\n",
    "START_YEAR = 1998\n",
    "END_YEAR = 2019\n",
    "\n"
   ]
  },
  {
   "cell_type": "markdown",
   "metadata": {},
   "source": [
    "# Let's load our data from 1998 on"
   ]
  },
  {
   "cell_type": "code",
   "execution_count": 9,
   "metadata": {},
   "outputs": [
    {
     "data": {
      "text/plain": [
       "(59293, 50)"
      ]
     },
     "execution_count": 9,
     "metadata": {},
     "output_type": "execute_result"
    }
   ],
   "source": [
    "data = pd.read_csv(FEATURE_FILE)\n",
    "data = data[data.tourney_year >= START_YEAR]\n",
    "data.shape"
   ]
  },
  {
   "cell_type": "code",
   "execution_count": 10,
   "metadata": {},
   "outputs": [
    {
     "data": {
      "text/plain": [
       "['p1_hand',\n",
       " 'p1_ioc',\n",
       " 'p1_winner',\n",
       " 'p2_hand',\n",
       " 'p2_ioc',\n",
       " 'p1_history_games_lost',\n",
       " 'p1_history_games_won',\n",
       " 'p1_history_games_won_percentage',\n",
       " 'p1_losses',\n",
       " 'p1_matchup_games',\n",
       " 'p1_matchup_games_won_percentage',\n",
       " 'p1_matchup_losses',\n",
       " 'p1_matchup_sets',\n",
       " 'p1_matchup_sets_won_percentage',\n",
       " 'p1_matchup_win_percentage',\n",
       " 'p1_matchup_wins',\n",
       " 'p1_history_sets_lost',\n",
       " 'p1_history_sets_won',\n",
       " 'p1_history_sets_won_percentage',\n",
       " 'p1_history_win_percentage',\n",
       " 'p1_history_wins',\n",
       " 'p2_history_games_lost',\n",
       " 'p2_history_games_won',\n",
       " 'p2_history_games_won_percentage',\n",
       " 'p2_history_losses',\n",
       " 'p2_matchup_games',\n",
       " 'p2_matchup_games_won_percentage',\n",
       " 'p2_matchup_losses',\n",
       " 'p2_matchup_sets',\n",
       " 'p2_matchup_sets_won_percentage',\n",
       " 'p2_matchup_win_percentage',\n",
       " 'p2_matchup_wins',\n",
       " 'p2_history_sets_lost',\n",
       " 'p2_history_sets_won',\n",
       " 'p2_history_sets_won_percentage',\n",
       " 'p2_win_percentage',\n",
       " 'p2_wins']"
      ]
     },
     "execution_count": 10,
     "metadata": {},
     "output_type": "execute_result"
    }
   ],
   "source": [
    "[col for col in data.columns if re.search(r\"(p1|p2)_[a-z_]+\", col)]"
   ]
  },
  {
   "cell_type": "markdown",
   "metadata": {},
   "source": [
    "# Let's look at how many players have a total of 5 matches leading up to our match\n",
    "\n",
    "Looks like almost all players at 5 matches coming into our match"
   ]
  },
  {
   "cell_type": "code",
   "execution_count": 14,
   "metadata": {},
   "outputs": [
    {
     "name": "stdout",
     "output_type": "stream",
     "text": [
      "(118586,)\n"
     ]
    },
    {
     "data": {
      "text/plain": [
       "<matplotlib.axes._subplots.AxesSubplot at 0x7fc5ea1633c8>"
      ]
     },
     "execution_count": 14,
     "metadata": {},
     "output_type": "execute_result"
    },
    {
     "data": {
      "image/png": "[encoded data removed]",
      "text/plain": [
       "<Figure size 432x288 with 1 Axes>"
      ]
     },
     "metadata": {},
     "output_type": "display_data"
    }
   ],
   "source": [
    "data_orig = data.copy()\n",
    "data[\"p1_matches\"] = data[\"p1_history_wins\"] + data[\"p1_losses\"]\n",
    "data[\"p2_matches\"] = data[\"p2_wins\"] + data[\"p2_history_losses\"]\n",
    "matches = data[\"p1_matches\"].append(data[\"p2_matches\"])\n",
    "print(matches.shape)\n",
    "matches.plot(kind='hist')"
   ]
  },
  {
   "cell_type": "markdown",
   "metadata": {},
   "source": [
    "## Only 37.4 % of players come into a match with a winning record\n",
    "\n",
    "Doesn't look like we have enough data to fill in the entire histogram, but it's probably close to normally distributed"
   ]
  },
  {
   "cell_type": "code",
   "execution_count": 24,
   "metadata": {},
   "outputs": [
    {
     "data": {
      "text/plain": [
       "False    74229\n",
       "True     44357\n",
       "dtype: int64"
      ]
     },
     "execution_count": 24,
     "metadata": {},
     "output_type": "execute_result"
    },
    {
     "data": {
      "image/png": "[encoded data removed]",
      "text/plain": [
       "<Figure size 432x288 with 1 Axes>"
      ]
     },
     "metadata": {},
     "output_type": "display_data"
    }
   ],
   "source": [
    "match_percentage = data[\"p1_history_win_percentage\"].append(data[\"p2_win_percentage\"])\n",
    "matches_num = match_percentage.shape[0]\n",
    "match_percentage.plot(kind='hist')\n",
    "\n",
    "winning_record = match_percentage > 0.5\n",
    "winning_record.value_counts()"
   ]
  },
  {
   "cell_type": "markdown",
   "metadata": {},
   "source": [
    "## 75% of players come into a match with 3 or less wins. Only 25% of player come into a match winning 4 or 5 out of matches coming into a match"
   ]
  },
  {
   "cell_type": "code",
   "execution_count": 27,
   "metadata": {},
   "outputs": [
    {
     "data": {
      "text/plain": [
       "<matplotlib.axes._subplots.AxesSubplot at 0x7fc3885e59e8>"
      ]
     },
     "execution_count": 27,
     "metadata": {},
     "output_type": "execute_result"
    },
    {
     "data": {
      "image/png": "[encoded data removed]",
      "text/plain": [
       "<Figure size 432x288 with 1 Axes>"
      ]
     },
     "metadata": {},
     "output_type": "display_data"
    }
   ],
   "source": [
    "wins = data[\"p1_history_wins\"].append(data[\"p2_wins\"])\n",
    "wins.plot(kind='hist', bins=6)"
   ]
  },
  {
   "cell_type": "code",
   "execution_count": 28,
   "metadata": {},
   "outputs": [
    {
     "data": {
      "text/plain": [
       "array([1., 2., 3.])"
      ]
     },
     "execution_count": 28,
     "metadata": {},
     "output_type": "execute_result"
    }
   ],
   "source": [
    "np.quantile(wins, [0.25, 0.5, 0.75])"
   ]
  },
  {
   "cell_type": "markdown",
   "metadata": {},
   "source": [
    "# Match-Ups"
   ]
  },
  {
   "cell_type": "code",
   "execution_count": null,
   "metadata": {},
   "outputs": [],
   "source": []
  }
 ],
 "metadata": {
  "kernelspec": {
   "display_name": "Python 3",
   "language": "python",
   "name": "python3"
  },
  "language_info": {
   "codemirror_mode": {
    "name": "ipython",
    "version": 3
   },
   "file_extension": ".py",
   "mimetype": "text/x-python",
   "name": "python",
   "nbconvert_exporter": "python",
   "pygments_lexer": "ipython3",
   "version": "3.7.3"
  }
 },
 "nbformat": 4,
 "nbformat_minor": 4
}
