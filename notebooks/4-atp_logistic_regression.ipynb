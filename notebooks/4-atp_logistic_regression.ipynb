{
 "cells": [
  {
   "cell_type": "markdown",
   "metadata": {},
   "source": [
    "# ATP Tennis Data\n",
    "\n",
    "In previous [notebook](https://github.com/sv650s/sb-capstone2/blob/master/notebooks/3-atp_basic_feature_engineering.ipynb) we did some feature engineering and created our file with ~57k entries for training if we take data from 1998 to now\n",
    "\n",
    "In this notebook, we will load this dataset in and run logistic regression on our datasets and see what our accuracy is.\n",
    "\n",
    "Null Hypothesis:\n",
    "Our null hypothesis is an accuracy of ~65%. This is derived from if we were to purely use the player rank to predict winner. We will use this as our baseline for evaluating our models.\n",
    "\n",
    "Metric:\n",
    "* Since this is binary classification, we will use training accuracy to evaluate our model\n",
    "\n",
    "Findings:\n",
    "* Logistic Regression is not able to derive relationship between player 1 and player 2 status automatically - ie, rank, seed, height. This performs similarly to our null hypothesis. We find that we diff these stats and created features from the, Logistic Regression's performance improved\n",
    "* Adding more historical data (ie, 1998 to 2019 vs 1985 to 2019) actually makes the model perform worse if we don't use one hot encoding. This could possibly be caused by the fact that player match behavior is changing over time and older match data deviates more from current match behavior\n",
    "    * While using one hot encoding when we only looked at dataset from 1998 to 2019 made our model perform worse, we see that when we look at the entire dataset from 1985 to 2019, our model performance actually improves. This actually gave us the higest accruacy score of 68.8% as opposed to using player stats diff with dataset from 1998 to 2019 (68.5%). However, due to data size and time to train the model, I think it will be a better bet to not use one hot encoding for logistic regression so you can iterate faster"
   ]
  },
  {
   "cell_type": "code",
   "execution_count": 1,
   "metadata": {},
   "outputs": [],
   "source": [
    "import pandas as pd\n",
    "import numpy as np\n",
    "import matplotlib.pyplot as plt\n",
    "import seaborn as sns\n",
    "from sklearn.linear_model import LogisticRegression\n",
    "from sklearn.model_selection import train_test_split\n",
    "from sklearn.metrics import classification_report, confusion_matrix\n",
    "from datetime import datetime\n",
    "import pickle\n",
    "import json\n",
    "\n",
    "%matplotlib inline\n",
    "sns.set()"
   ]
  },
  {
   "cell_type": "code",
   "execution_count": 20,
   "metadata": {},
   "outputs": [],
   "source": [
    "# date\n",
    "DATE_FORMAT = '%Y-%m-%d'\n",
    "DATE = datetime.now().strftime(DATE_FORMAT)\n",
    "\n",
    "# files\n",
    "DATASET_DIR = '../datasets'\n",
    "FEATURE_FILE_1985 = f'{DATASET_DIR}/atp_matches_1985-2019_features-raw.csv'\n",
    "FEATURE_FILE_1985_DIFF = f'{DATASET_DIR}/atp_matches_1985-2019_features-diff.csv'\n",
    "FEATURE_FILE_1985_DIFF_OHE = f'{DATASET_DIR}/atp_matches_1985-2019_features-diff-ohe.csv'\n",
    "MODEL_DIR = '../models'\n",
    "MODEL_FILE = f'{MODEL_DIR}/{DATE}-lr.csv'\n",
    "MODEL_FILE = f'{MODEL_DIR}/{DATE}-lr-diff.csv'\n",
    "\n",
    "REPORT_DIR = '../reports'\n",
    "REFPORT_FILE = f'{REPORT_DIR}/report.csv'\n",
    "\n",
    "LABEL_COL = 'p1_winner'\n",
    "\n",
    "# random seed\n",
    "RSTATE = 1\n",
    "N_JOBS = 4\n",
    "MAX_ITER = 1000\n",
    "\n"
   ]
  },
  {
   "cell_type": "markdown",
   "metadata": {},
   "source": [
    "# Testing Feature Set 1\n",
    "\n",
    "This feature set, we have both p1 and p2 statistics"
   ]
  },
  {
   "cell_type": "code",
   "execution_count": 3,
   "metadata": {},
   "outputs": [
    {
     "name": "stdout",
     "output_type": "stream",
     "text": [
      "<class 'pandas.core.frame.DataFrame'>\n",
      "RangeIndex: 57868 entries, 0 to 57867\n",
      "Data columns (total 22 columns):\n",
      "draw_size              57868 non-null int64\n",
      "p1                     57868 non-null int64\n",
      "p1_age                 57868 non-null float64\n",
      "p1_hand                57868 non-null int64\n",
      "p1_ht                  57868 non-null float64\n",
      "p1_ioc                 57868 non-null int64\n",
      "p1_rank                57868 non-null int64\n",
      "p1_seed                57868 non-null int64\n",
      "p1_winner              57868 non-null int64\n",
      "p2                     57868 non-null int64\n",
      "p2_age                 57868 non-null float64\n",
      "p2_hand                57868 non-null int64\n",
      "p2_ht                  57868 non-null float64\n",
      "p2_ioc                 57868 non-null int64\n",
      "p2_rank                57868 non-null int64\n",
      "p2_seed                57868 non-null int64\n",
      "round_label            57868 non-null int64\n",
      "surface_label          57868 non-null int64\n",
      "tourney_id_label       57868 non-null int64\n",
      "tourney_level_label    57868 non-null int64\n",
      "tourney_month          57868 non-null int64\n",
      "tourney_year           57868 non-null int64\n",
      "dtypes: float64(4), int64(18)\n",
      "memory usage: 9.7 MB\n"
     ]
    }
   ],
   "source": [
    "features_orig = pd.read_csv(FEATURE_FILE_1998)\n",
    "features_orig.info()"
   ]
  },
  {
   "cell_type": "code",
   "execution_count": 4,
   "metadata": {},
   "outputs": [],
   "source": [
    "features = features_orig\n",
    "labels = features[LABEL_COL].copy()\n",
    "features = features.drop([LABEL_COL], axis=1)"
   ]
  },
  {
   "cell_type": "code",
   "execution_count": 5,
   "metadata": {},
   "outputs": [
    {
     "data": {
      "text/plain": [
       "0    1\n",
       "1    1\n",
       "2    0\n",
       "3    0\n",
       "4    0\n",
       "Name: p1_winner, dtype: int64"
      ]
     },
     "execution_count": 5,
     "metadata": {},
     "output_type": "execute_result"
    }
   ],
   "source": [
    "labels.head()"
   ]
  },
  {
   "cell_type": "code",
   "execution_count": 6,
   "metadata": {},
   "outputs": [
    {
     "data": {
      "text/html": [
       "<div>\n",
       "<style scoped>\n",
       "    .dataframe tbody tr th:only-of-type {\n",
       "        vertical-align: middle;\n",
       "    }\n",
       "\n",
       "    .dataframe tbody tr th {\n",
       "        vertical-align: top;\n",
       "    }\n",
       "\n",
       "    .dataframe thead th {\n",
       "        text-align: right;\n",
       "    }\n",
       "</style>\n",
       "<table border=\"1\" class=\"dataframe\">\n",
       "  <thead>\n",
       "    <tr style=\"text-align: right;\">\n",
       "      <th></th>\n",
       "      <th>0</th>\n",
       "      <th>1</th>\n",
       "      <th>2</th>\n",
       "      <th>3</th>\n",
       "      <th>4</th>\n",
       "    </tr>\n",
       "  </thead>\n",
       "  <tbody>\n",
       "    <tr>\n",
       "      <th>draw_size</th>\n",
       "      <td>32.00</td>\n",
       "      <td>32.00</td>\n",
       "      <td>32.00</td>\n",
       "      <td>32.00</td>\n",
       "      <td>32.00</td>\n",
       "    </tr>\n",
       "    <tr>\n",
       "      <th>p1</th>\n",
       "      <td>102035.00</td>\n",
       "      <td>101727.00</td>\n",
       "      <td>102491.00</td>\n",
       "      <td>101647.00</td>\n",
       "      <td>102104.00</td>\n",
       "    </tr>\n",
       "    <tr>\n",
       "      <th>p1_age</th>\n",
       "      <td>25.79</td>\n",
       "      <td>27.76</td>\n",
       "      <td>23.08</td>\n",
       "      <td>28.25</td>\n",
       "      <td>25.37</td>\n",
       "    </tr>\n",
       "    <tr>\n",
       "      <th>p1_hand</th>\n",
       "      <td>1.00</td>\n",
       "      <td>1.00</td>\n",
       "      <td>1.00</td>\n",
       "      <td>1.00</td>\n",
       "      <td>1.00</td>\n",
       "    </tr>\n",
       "    <tr>\n",
       "      <th>p1_ht</th>\n",
       "      <td>183.00</td>\n",
       "      <td>185.00</td>\n",
       "      <td>185.00</td>\n",
       "      <td>175.00</td>\n",
       "      <td>188.00</td>\n",
       "    </tr>\n",
       "    <tr>\n",
       "      <th>p1_ioc</th>\n",
       "      <td>70.00</td>\n",
       "      <td>3.00</td>\n",
       "      <td>32.00</td>\n",
       "      <td>83.00</td>\n",
       "      <td>54.00</td>\n",
       "    </tr>\n",
       "    <tr>\n",
       "      <th>p1_rank</th>\n",
       "      <td>4.00</td>\n",
       "      <td>79.00</td>\n",
       "      <td>71.00</td>\n",
       "      <td>76.00</td>\n",
       "      <td>65.00</td>\n",
       "    </tr>\n",
       "    <tr>\n",
       "      <th>p1_seed</th>\n",
       "      <td>1.00</td>\n",
       "      <td>24.00</td>\n",
       "      <td>18.00</td>\n",
       "      <td>21.00</td>\n",
       "      <td>16.00</td>\n",
       "    </tr>\n",
       "    <tr>\n",
       "      <th>p2</th>\n",
       "      <td>101917.00</td>\n",
       "      <td>102548.00</td>\n",
       "      <td>102765.00</td>\n",
       "      <td>102563.00</td>\n",
       "      <td>102796.00</td>\n",
       "    </tr>\n",
       "    <tr>\n",
       "      <th>p2_age</th>\n",
       "      <td>26.61</td>\n",
       "      <td>22.85</td>\n",
       "      <td>21.76</td>\n",
       "      <td>22.79</td>\n",
       "      <td>21.60</td>\n",
       "    </tr>\n",
       "    <tr>\n",
       "      <th>p2_hand</th>\n",
       "      <td>1.00</td>\n",
       "      <td>1.00</td>\n",
       "      <td>1.00</td>\n",
       "      <td>1.00</td>\n",
       "      <td>1.00</td>\n",
       "    </tr>\n",
       "    <tr>\n",
       "      <th>p2_ht</th>\n",
       "      <td>188.00</td>\n",
       "      <td>175.00</td>\n",
       "      <td>185.00</td>\n",
       "      <td>180.00</td>\n",
       "      <td>188.00</td>\n",
       "    </tr>\n",
       "    <tr>\n",
       "      <th>p2_ioc</th>\n",
       "      <td>64.00</td>\n",
       "      <td>17.00</td>\n",
       "      <td>29.00</td>\n",
       "      <td>70.00</td>\n",
       "      <td>70.00</td>\n",
       "    </tr>\n",
       "    <tr>\n",
       "      <th>p2_rank</th>\n",
       "      <td>74.00</td>\n",
       "      <td>87.00</td>\n",
       "      <td>93.00</td>\n",
       "      <td>39.00</td>\n",
       "      <td>22.00</td>\n",
       "    </tr>\n",
       "    <tr>\n",
       "      <th>p2_seed</th>\n",
       "      <td>19.00</td>\n",
       "      <td>25.00</td>\n",
       "      <td>27.00</td>\n",
       "      <td>7.00</td>\n",
       "      <td>4.00</td>\n",
       "    </tr>\n",
       "    <tr>\n",
       "      <th>round_label</th>\n",
       "      <td>5.00</td>\n",
       "      <td>5.00</td>\n",
       "      <td>5.00</td>\n",
       "      <td>5.00</td>\n",
       "      <td>5.00</td>\n",
       "    </tr>\n",
       "    <tr>\n",
       "      <th>surface_label</th>\n",
       "      <td>3.00</td>\n",
       "      <td>3.00</td>\n",
       "      <td>3.00</td>\n",
       "      <td>3.00</td>\n",
       "      <td>3.00</td>\n",
       "    </tr>\n",
       "    <tr>\n",
       "      <th>tourney_id_label</th>\n",
       "      <td>62.00</td>\n",
       "      <td>62.00</td>\n",
       "      <td>62.00</td>\n",
       "      <td>62.00</td>\n",
       "      <td>62.00</td>\n",
       "    </tr>\n",
       "    <tr>\n",
       "      <th>tourney_level_label</th>\n",
       "      <td>4.00</td>\n",
       "      <td>4.00</td>\n",
       "      <td>4.00</td>\n",
       "      <td>4.00</td>\n",
       "      <td>4.00</td>\n",
       "    </tr>\n",
       "    <tr>\n",
       "      <th>tourney_month</th>\n",
       "      <td>1.00</td>\n",
       "      <td>1.00</td>\n",
       "      <td>1.00</td>\n",
       "      <td>1.00</td>\n",
       "      <td>1.00</td>\n",
       "    </tr>\n",
       "    <tr>\n",
       "      <th>tourney_year</th>\n",
       "      <td>1998.00</td>\n",
       "      <td>1998.00</td>\n",
       "      <td>1998.00</td>\n",
       "      <td>1998.00</td>\n",
       "      <td>1998.00</td>\n",
       "    </tr>\n",
       "  </tbody>\n",
       "</table>\n",
       "</div>"
      ],
      "text/plain": [
       "                             0          1          2          3          4\n",
       "draw_size                32.00      32.00      32.00      32.00      32.00\n",
       "p1                   102035.00  101727.00  102491.00  101647.00  102104.00\n",
       "p1_age                   25.79      27.76      23.08      28.25      25.37\n",
       "p1_hand                   1.00       1.00       1.00       1.00       1.00\n",
       "p1_ht                   183.00     185.00     185.00     175.00     188.00\n",
       "p1_ioc                   70.00       3.00      32.00      83.00      54.00\n",
       "p1_rank                   4.00      79.00      71.00      76.00      65.00\n",
       "p1_seed                   1.00      24.00      18.00      21.00      16.00\n",
       "p2                   101917.00  102548.00  102765.00  102563.00  102796.00\n",
       "p2_age                   26.61      22.85      21.76      22.79      21.60\n",
       "p2_hand                   1.00       1.00       1.00       1.00       1.00\n",
       "p2_ht                   188.00     175.00     185.00     180.00     188.00\n",
       "p2_ioc                   64.00      17.00      29.00      70.00      70.00\n",
       "p2_rank                  74.00      87.00      93.00      39.00      22.00\n",
       "p2_seed                  19.00      25.00      27.00       7.00       4.00\n",
       "round_label               5.00       5.00       5.00       5.00       5.00\n",
       "surface_label             3.00       3.00       3.00       3.00       3.00\n",
       "tourney_id_label         62.00      62.00      62.00      62.00      62.00\n",
       "tourney_level_label       4.00       4.00       4.00       4.00       4.00\n",
       "tourney_month             1.00       1.00       1.00       1.00       1.00\n",
       "tourney_year           1998.00    1998.00    1998.00    1998.00    1998.00"
      ]
     },
     "execution_count": 6,
     "metadata": {},
     "output_type": "execute_result"
    }
   ],
   "source": [
    "features.head().T"
   ]
  },
  {
   "cell_type": "markdown",
   "metadata": {},
   "source": [
    "## Split into training and test sets"
   ]
  },
  {
   "cell_type": "code",
   "execution_count": 7,
   "metadata": {},
   "outputs": [
    {
     "name": "stdout",
     "output_type": "stream",
     "text": [
      "Training size 43401 test size 14467\n"
     ]
    }
   ],
   "source": [
    "X_train, X_test, y_train, y_test = train_test_split(features, labels, random_state=RSTATE)\n",
    "print(f'Training size {len(y_train)} test size {len(y_test)}')"
   ]
  },
  {
   "cell_type": "code",
   "execution_count": 8,
   "metadata": {},
   "outputs": [
    {
     "name": "stderr",
     "output_type": "stream",
     "text": [
      "[Parallel(n_jobs=4)]: Using backend LokyBackend with 4 concurrent workers.\n",
      "[Parallel(n_jobs=4)]: Done   1 out of   1 | elapsed:    1.2s finished\n"
     ]
    }
   ],
   "source": [
    "lr = LogisticRegression(n_jobs = N_JOBS, verbose = 1, max_iter = MAX_ITER, random_state = RSTATE, solver = 'lbfgs').fit(X_train, y_train)"
   ]
  },
  {
   "cell_type": "code",
   "execution_count": 9,
   "metadata": {},
   "outputs": [
    {
     "data": {
      "text/plain": [
       "array([1, 0, 0, 1, 0, 1, 1, 1, 0, 0])"
      ]
     },
     "execution_count": 9,
     "metadata": {},
     "output_type": "execute_result"
    }
   ],
   "source": [
    "y_predict = lr.predict(X_test)\n",
    "y_predict[:10]"
   ]
  },
  {
   "cell_type": "code",
   "execution_count": 10,
   "metadata": {},
   "outputs": [
    {
     "name": "stdout",
     "output_type": "stream",
     "text": [
      "              precision    recall  f1-score   support\n",
      "\n",
      "        Loss       0.65      0.65      0.65      7224\n",
      "         Win       0.65      0.65      0.65      7243\n",
      "\n",
      "    accuracy                           0.65     14467\n",
      "   macro avg       0.65      0.65      0.65     14467\n",
      "weighted avg       0.65      0.65      0.65     14467\n",
      "\n"
     ]
    }
   ],
   "source": [
    "print(classification_report(y_test, y_predict, target_names=['Loss', 'Win']))"
   ]
  },
  {
   "cell_type": "code",
   "execution_count": 11,
   "metadata": {},
   "outputs": [
    {
     "name": "stdout",
     "output_type": "stream",
     "text": [
      "      Loss   Win\n",
      "Loss  4722  2502\n",
      "Win   2560  4683\n"
     ]
    },
    {
     "data": {
      "text/plain": [
       "<matplotlib.axes._subplots.AxesSubplot at 0x7fc5884b0470>"
      ]
     },
     "execution_count": 11,
     "metadata": {},
     "output_type": "execute_result"
    },
    {
     "data": {
      "image/png": "[encoded data removed]",
      "text/plain": [
       "<Figure size 432x288 with 2 Axes>"
      ]
     },
     "metadata": {
      "needs_background": "light"
     },
     "output_type": "display_data"
    }
   ],
   "source": [
    "cm = pd.DataFrame(confusion_matrix(y_test, y_predict), index=['Loss', 'Win'], columns = ['Loss', 'Win'])\n",
    "print(cm)\n",
    "sns.heatmap(cm, annot=True)"
   ]
  },
  {
   "cell_type": "markdown",
   "metadata": {},
   "source": [
    "### Logistic Regression with just player stats does not perform any better than our null hypothesis"
   ]
  },
  {
   "cell_type": "markdown",
   "metadata": {},
   "source": [
    "# Test Our Feature Set 2 - Diff player stats\n",
    "\n",
    "This feature set uses difference in player stats"
   ]
  },
  {
   "cell_type": "code",
   "execution_count": 12,
   "metadata": {},
   "outputs": [
    {
     "name": "stderr",
     "output_type": "stream",
     "text": [
      "[Parallel(n_jobs=4)]: Using backend LokyBackend with 4 concurrent workers.\n",
      "[Parallel(n_jobs=4)]: Done   1 out of   1 | elapsed:    0.8s finished\n"
     ]
    }
   ],
   "source": [
    "# extract features and labels\n",
    "features_diff = pd.read_csv(FEATURE_FILE_1998_DIFF)\n",
    "labels_diff = features_diff[LABEL_COL].copy()\n",
    "features_diff = features_diff.drop([LABEL_COL], axis=1)\n",
    "\n",
    "# train our model\n",
    "X_train_diff, X_test_diff, y_train_diff, y_test_diff = train_test_split(features_diff, labels_diff, random_state=RSTATE)\n",
    "lr_diff = LogisticRegression(n_jobs = N_JOBS, verbose = 1, max_iter = MAX_ITER, random_state = RSTATE, solver = 'lbfgs').fit(X_train_diff, y_train_diff)\n",
    "y_predict_diff = lr_diff.predict(X_test_diff)\n"
   ]
  },
  {
   "cell_type": "code",
   "execution_count": 33,
   "metadata": {},
   "outputs": [
    {
     "data": {
      "text/plain": [
       "0.6856984862099952"
      ]
     },
     "execution_count": 33,
     "metadata": {},
     "output_type": "execute_result"
    }
   ],
   "source": [
    "lr_diff.score(X_test_diff, y_test_diff)"
   ]
  },
  {
   "cell_type": "code",
   "execution_count": 13,
   "metadata": {},
   "outputs": [
    {
     "name": "stdout",
     "output_type": "stream",
     "text": [
      "              precision    recall  f1-score   support\n",
      "\n",
      "        Loss       0.69      0.66      0.68      7115\n",
      "         Win       0.68      0.71      0.70      7352\n",
      "\n",
      "    accuracy                           0.69     14467\n",
      "   macro avg       0.69      0.69      0.69     14467\n",
      "weighted avg       0.69      0.69      0.69     14467\n",
      "\n"
     ]
    }
   ],
   "source": [
    "print(classification_report(y_test_diff, y_predict_diff, target_names=['Loss', 'Win']))"
   ]
  },
  {
   "cell_type": "code",
   "execution_count": 14,
   "metadata": {},
   "outputs": [
    {
     "name": "stdout",
     "output_type": "stream",
     "text": [
      "      Loss   Win\n",
      "Loss  4724  2391\n",
      "Win   2156  5196\n"
     ]
    },
    {
     "data": {
      "text/plain": [
       "<matplotlib.axes._subplots.AxesSubplot at 0x7fc5ba4beef0>"
      ]
     },
     "execution_count": 14,
     "metadata": {},
     "output_type": "execute_result"
    },
    {
     "data": {
      "image/png": "[encoded data removed]",
      "text/plain": [
       "<Figure size 432x288 with 2 Axes>"
      ]
     },
     "metadata": {
      "needs_background": "light"
     },
     "output_type": "display_data"
    }
   ],
   "source": [
    "cm_diff = pd.DataFrame(confusion_matrix(y_test_diff, y_predict_diff), index=['Loss', 'Win'], columns = ['Loss', 'Win'])\n",
    "print(cm_diff)\n",
    "sns.heatmap(cm_diff, annot=True)"
   ]
  },
  {
   "cell_type": "markdown",
   "metadata": {},
   "source": [
    "## Feature Importance\n",
    "\n",
    "Use statsmodel to look at our feature importance"
   ]
  },
  {
   "cell_type": "markdown",
   "metadata": {},
   "source": [
    "## Feature Set 2 Summary\n",
    "\n",
    "We are seeing a slight improvement on the diff data set (set 2). It looks like logistic regression is not able to pick up relationship between columns to make predictions (ie, player 1 rank vs player 2 rank)\n",
    "\n",
    "We see precision increase of about 3 to 4% and recall improvement from 1% to 6% and increase of f1 score from 3 to 5%\n",
    "\n",
    "We should be using this feature engineering technique for future data and models"
   ]
  },
  {
   "cell_type": "markdown",
   "metadata": {},
   "source": [
    "# Feature Set 3 - 1985 to 2019\n",
    "\n",
    "I created a 3rd dataset based in the player stats diff feature engineering technique. However, for this dataset, instead starting the data from 1998. This dataset starts at 1985 and have about 99k entries"
   ]
  },
  {
   "cell_type": "code",
   "execution_count": 15,
   "metadata": {},
   "outputs": [
    {
     "name": "stderr",
     "output_type": "stream",
     "text": [
      "[Parallel(n_jobs=4)]: Using backend LokyBackend with 4 concurrent workers.\n",
      "[Parallel(n_jobs=4)]: Done   1 out of   1 | elapsed:    0.5s finished\n"
     ]
    }
   ],
   "source": [
    "# extract features and labels\n",
    "features_1985diff = pd.read_csv(FEATURE_FILE_1985_DIFF)\n",
    "labels_1985diff = features_1985diff[LABEL_COL].copy()\n",
    "features_1985diff = features_1985diff.drop([LABEL_COL], axis=1)\n",
    "\n",
    "# train our model\n",
    "X_train_1985diff, X_test_1985diff, y_train_1985diff, y_test_1985diff = \\\n",
    "        train_test_split(features_1985diff, labels_1985diff, random_state=RSTATE)\n",
    "lr_1985diff = LogisticRegression(n_jobs = N_JOBS, \n",
    "                                 verbose = 1, \n",
    "                                 max_iter = MAX_ITER, \n",
    "                                 random_state = RSTATE, \n",
    "                                 solver = 'lbfgs').fit(X_train_1985diff, y_train_1985diff)\n",
    "y_predict_1985diff = lr_1985diff.predict(X_test_1985diff)\n"
   ]
  },
  {
   "cell_type": "code",
   "execution_count": 16,
   "metadata": {},
   "outputs": [
    {
     "name": "stdout",
     "output_type": "stream",
     "text": [
      "              precision    recall  f1-score   support\n",
      "\n",
      "        Loss       0.69      0.66      0.68     12502\n",
      "         Win       0.67      0.71      0.69     12487\n",
      "\n",
      "    accuracy                           0.68     24989\n",
      "   macro avg       0.68      0.68      0.68     24989\n",
      "weighted avg       0.68      0.68      0.68     24989\n",
      "\n"
     ]
    }
   ],
   "source": [
    "print(classification_report(y_test_1985diff, y_predict_1985diff, target_names=['Loss', 'Win']))"
   ]
  },
  {
   "cell_type": "code",
   "execution_count": 17,
   "metadata": {},
   "outputs": [
    {
     "name": "stdout",
     "output_type": "stream",
     "text": [
      "      Loss   Win\n",
      "Loss  8249  4253\n",
      "Win   3670  8817\n"
     ]
    },
    {
     "data": {
      "text/plain": [
       "<matplotlib.axes._subplots.AxesSubplot at 0x7fc588597fd0>"
      ]
     },
     "execution_count": 17,
     "metadata": {},
     "output_type": "execute_result"
    },
    {
     "data": {
      "image/png": "[encoded data removed]",
      "text/plain": [
       "<Figure size 432x288 with 2 Axes>"
      ]
     },
     "metadata": {
      "needs_background": "light"
     },
     "output_type": "display_data"
    }
   ],
   "source": [
    "cm_1985diff = pd.DataFrame(confusion_matrix(y_test_1985diff, y_predict_1985diff), index=['Loss', 'Win'], \n",
    "                  columns = ['Loss', 'Win'])\n",
    "print(cm_1985diff)\n",
    "sns.heatmap(cm_1985diff, annot=True)"
   ]
  },
  {
   "cell_type": "markdown",
   "metadata": {},
   "source": [
    "# Dataset 3 Summary\n",
    "\n",
    "Interesting. With more previous data, our precision and recall actually decreased by 1% as well as our macro average.\n",
    "\n",
    "It is possible that the game is changing over time. Older data may not represent data that you would get today and does not provide more information to help us predict current behavior\n",
    "\n",
    "Let's look at one more thing - expected win percentage over the past 3 decades to see how likely a better ranked player will win a match.\n",
    "\n",
    "You can see that over the past 3 decades, this number is becoming more significant"
   ]
  },
  {
   "cell_type": "code",
   "execution_count": 18,
   "metadata": {},
   "outputs": [
    {
     "name": "stdout",
     "output_type": "stream",
     "text": [
      "Expected win percentage - 90s: 0.6414095011619737\n",
      "Expected win percentage - 00s: 0.6485231401042489\n",
      "Expected win percentage - 10s: 0.6635793495867426\n"
     ]
    }
   ],
   "source": [
    "# let's calculated all matches that we expected to win and did win\n",
    "preprocessed1985 = pd.read_csv(f'{DATASET_DIR}/atp_matches_1985-2019_preprocessed.csv', parse_dates=[\"tourney_date\"])\n",
    "preprocessed1985['expected_win'] = preprocessed1985.apply(lambda x: 1 if x.winner_rank < x.loser_rank else 0, axis=1)\n",
    "\n",
    "# now let's look at them by decade\n",
    "m90s = preprocessed1985[(preprocessed1985.tourney_date >= datetime(1990, 1, 1)) &\n",
    "                (preprocessed1985.tourney_date < datetime(2001, 1, 1))]\n",
    "m00s = preprocessed1985[(preprocessed1985.tourney_date >= datetime(2000, 1, 1)) &\n",
    "                (preprocessed1985.tourney_date < datetime(2011, 1, 1))]\n",
    "m10s = preprocessed1985[(preprocessed1985.tourney_date >= datetime(2010, 1, 1))]\n",
    "\n",
    "\n",
    "print(f'Expected win percentage - 90s: {m90s.expected_win.sum()/len(m90s)}')\n",
    "print(f'Expected win percentage - 00s: {m00s.expected_win.sum()/len(m00s)}')\n",
    "print(f'Expected win percentage - 10s: {m10s.expected_win.sum()/len(m10s)}')\n"
   ]
  },
  {
   "cell_type": "markdown",
   "metadata": {},
   "source": [
    "# Dataset 4 - One Hot Encoded (1998 to 2019)\n",
    "\n",
    "We will run this dataset through LR and see if we get improvements through One Hot Encoding our non-oridnal categorical features"
   ]
  },
  {
   "cell_type": "code",
   "execution_count": 21,
   "metadata": {},
   "outputs": [],
   "source": [
    "features_1998_diff_ohe = pd.read_csv(FEATURE_FILE_1998_DIFF_OHE)\n",
    "# filter out rows before 1998\n",
    "features_1998_diff_ohe = features_1998_diff_ohe[features_1998_diff_ohe.tourney_year >= 1998]\n",
    "labels_1998_diff_ohe = features_1998_diff_ohe[LABEL_COL].copy()\n",
    "features_1998_diff_ohe = features_1998_diff_ohe.drop([LABEL_COL], axis=1)\n",
    "\n"
   ]
  },
  {
   "cell_type": "code",
   "execution_count": 22,
   "metadata": {},
   "outputs": [
    {
     "name": "stderr",
     "output_type": "stream",
     "text": [
      "[Parallel(n_jobs=4)]: Using backend LokyBackend with 4 concurrent workers.\n",
      "[Parallel(n_jobs=4)]: Done   1 out of   1 | elapsed: 37.5min finished\n"
     ]
    }
   ],
   "source": [
    "\n",
    "\n",
    "# train our model\n",
    "X_train_1998_diff_ohe, X_test_1998_diff_ohe, y_train_1998_diff_ohe, y_test_1998_diff_ohe = \\\n",
    "        train_test_split(features_1998_diff_ohe, labels_1998_diff_ohe, random_state=RSTATE)\n",
    "lr_1998_diff_ohe = LogisticRegression(n_jobs = N_JOBS, \n",
    "                                 verbose = 1, \n",
    "                                 max_iter = MAX_ITER, \n",
    "                                 random_state = RSTATE, \n",
    "                                 solver = 'lbfgs').fit(X_train_1998_diff_ohe, y_train_1998_diff_ohe)\n",
    "y_predict_1998_diff_ohe = lr_1998_diff_ohe.predict(X_test_1998_diff_ohe)"
   ]
  },
  {
   "cell_type": "code",
   "execution_count": 23,
   "metadata": {},
   "outputs": [
    {
     "data": {
      "text/plain": [
       "0.6695223961144091"
      ]
     },
     "execution_count": 23,
     "metadata": {},
     "output_type": "execute_result"
    }
   ],
   "source": [
    "lr_1998_diff_ohe.score(X_test_1998_diff_ohe, y_test_1998_diff_ohe)"
   ]
  },
  {
   "cell_type": "code",
   "execution_count": 24,
   "metadata": {},
   "outputs": [
    {
     "name": "stdout",
     "output_type": "stream",
     "text": [
      "              precision    recall  f1-score   support\n",
      "\n",
      "        Loss       0.67      0.66      0.67      7378\n",
      "         Win       0.67      0.68      0.67      7446\n",
      "\n",
      "    accuracy                           0.67     14824\n",
      "   macro avg       0.67      0.67      0.67     14824\n",
      "weighted avg       0.67      0.67      0.67     14824\n",
      "\n"
     ]
    }
   ],
   "source": [
    "print(classification_report(y_test_1998_diff_ohe, y_predict_1998_diff_ohe, target_names=['Loss', 'Win']))"
   ]
  },
  {
   "cell_type": "code",
   "execution_count": 25,
   "metadata": {},
   "outputs": [
    {
     "name": "stdout",
     "output_type": "stream",
     "text": [
      "      Loss   Win\n",
      "Loss  4869  2509\n",
      "Win   2390  5056\n"
     ]
    },
    {
     "data": {
      "text/plain": [
       "<matplotlib.axes._subplots.AxesSubplot at 0x7fc5884b02e8>"
      ]
     },
     "execution_count": 25,
     "metadata": {},
     "output_type": "execute_result"
    },
    {
     "data": {
      "image/png": "[encoded data removed]",
      "text/plain": [
       "<Figure size 432x288 with 2 Axes>"
      ]
     },
     "metadata": {
      "needs_background": "light"
     },
     "output_type": "display_data"
    }
   ],
   "source": [
    "cm_1998_diff_ohe = pd.DataFrame(confusion_matrix(y_test_1998_diff_ohe, y_predict_1998_diff_ohe), index=['Loss', 'Win'], \n",
    "                  columns = ['Loss', 'Win'])\n",
    "print(cm_1998_diff_ohe)\n",
    "sns.heatmap(cm_1998_diff_ohe, annot=True)"
   ]
  },
  {
   "cell_type": "markdown",
   "metadata": {},
   "source": [
    "# Dataset 4.1 - One Hot Encoded (1985 to 2019)"
   ]
  },
  {
   "cell_type": "code",
   "execution_count": 27,
   "metadata": {},
   "outputs": [
    {
     "name": "stderr",
     "output_type": "stream",
     "text": [
      "[Parallel(n_jobs=4)]: Using backend LokyBackend with 4 concurrent workers.\n",
      "[Parallel(n_jobs=4)]: Done   1 out of   1 | elapsed:  5.1min finished\n"
     ]
    }
   ],
   "source": [
    "features_1985_diff_ohe = pd.read_csv(FEATURE_FILE_1985_DIFF_OHE)\n",
    "labels_1985_diff_ohe = features_1985_diff_ohe[LABEL_COL].copy()\n",
    "features_1985_diff_ohe = features_1985_diff_ohe.drop([LABEL_COL], axis=1)\n",
    "\n",
    "\n",
    "\n",
    "# train our model\n",
    "X_train_1985_diff_ohe, X_test_1985_diff_ohe, y_train_1985_diff_ohe, y_test_1985_diff_ohe = \\\n",
    "        train_test_split(features_1985_diff_ohe, labels_1985_diff_ohe, random_state=RSTATE)\n",
    "lr_1985_diff_ohe = LogisticRegression(n_jobs = N_JOBS, \n",
    "                                 verbose = 1, \n",
    "                                 max_iter = MAX_ITER, \n",
    "                                 random_state = RSTATE, \n",
    "                                 solver = 'lbfgs').fit(X_train_1985_diff_ohe, y_train_1985_diff_ohe)\n",
    "y_predict_1985_diff_ohe = lr_1985_diff_ohe.predict(X_test_1985_diff_ohe)"
   ]
  },
  {
   "cell_type": "code",
   "execution_count": 28,
   "metadata": {},
   "outputs": [
    {
     "data": {
      "text/plain": [
       "0.6882228180399376"
      ]
     },
     "execution_count": 28,
     "metadata": {},
     "output_type": "execute_result"
    }
   ],
   "source": [
    "lr_1985_diff_ohe.score(X_test_1985_diff_ohe, y_test_1985_diff_ohe)"
   ]
  },
  {
   "cell_type": "code",
   "execution_count": 30,
   "metadata": {},
   "outputs": [
    {
     "name": "stdout",
     "output_type": "stream",
     "text": [
      "              precision    recall  f1-score   support\n",
      "\n",
      "        Loss       0.70      0.67      0.68     12502\n",
      "         Win       0.68      0.71      0.69     12487\n",
      "\n",
      "    accuracy                           0.69     24989\n",
      "   macro avg       0.69      0.69      0.69     24989\n",
      "weighted avg       0.69      0.69      0.69     24989\n",
      "\n"
     ]
    }
   ],
   "source": [
    "print(classification_report(y_test_1985_diff_ohe, y_predict_1985_diff_ohe, target_names=['Loss', 'Win']))"
   ]
  },
  {
   "cell_type": "code",
   "execution_count": 32,
   "metadata": {},
   "outputs": [
    {
     "name": "stdout",
     "output_type": "stream",
     "text": [
      "      Loss   Win\n",
      "Loss  8354  4148\n",
      "Win   3643  8844\n"
     ]
    },
    {
     "data": {
      "text/plain": [
       "<matplotlib.axes._subplots.AxesSubplot at 0x7fc58865c978>"
      ]
     },
     "execution_count": 32,
     "metadata": {},
     "output_type": "execute_result"
    },
    {
     "data": {
      "image/png": "[encoded data removed]",
      "text/plain": [
       "<Figure size 432x288 with 2 Axes>"
      ]
     },
     "metadata": {
      "needs_background": "light"
     },
     "output_type": "display_data"
    }
   ],
   "source": [
    "cm_1985_diff_ohe = pd.DataFrame(confusion_matrix(y_test_1985_diff_ohe, y_predict_1985_diff_ohe), index=['Loss', 'Win'], \n",
    "                  columns = ['Loss', 'Win'])\n",
    "print(cm_1985_diff_ohe)\n",
    "sns.heatmap(cm_1985_diff_ohe, annot=True)"
   ]
  },
  {
   "cell_type": "markdown",
   "metadata": {},
   "source": [
    "# Our Null Hypothesis\n",
    "\n",
    "Before we being, let's define our null hypothesis. Our hypothesis is that if p1 has ranking lower than p2, p1 should win.\n",
    "\n",
    "First, let's get a sense of how often upsets happen - ie, player with higher rank wins a match against player with lower rank\n",
    "\n",
    "For this we have to load the dataset before we created the features and encoded everything\n",
    "\n",
    "Looks like 65% of ATP matches are won by players with lower rank - this will be our benchmark for our models"
   ]
  },
  {
   "cell_type": "code",
   "execution_count": 36,
   "metadata": {},
   "outputs": [],
   "source": [
    "null_labels = features_1985diff.apply(lambda x: 1 if x[\"rank_diff\"] < 0 else 0, axis=1)"
   ]
  },
  {
   "cell_type": "code",
   "execution_count": 37,
   "metadata": {},
   "outputs": [
    {
     "name": "stdout",
     "output_type": "stream",
     "text": [
      "              precision    recall  f1-score   support\n",
      "\n",
      "        Loss       0.66      0.65      0.65     50265\n",
      "         Win       0.65      0.65      0.65     49690\n",
      "\n",
      "    accuracy                           0.65     99955\n",
      "   macro avg       0.65      0.65      0.65     99955\n",
      "weighted avg       0.65      0.65      0.65     99955\n",
      "\n"
     ]
    }
   ],
   "source": [
    "print(classification_report(labels_1985diff, null_labels, target_names=['Loss', 'Win']))"
   ]
  },
  {
   "cell_type": "code",
   "execution_count": 38,
   "metadata": {},
   "outputs": [
    {
     "name": "stdout",
     "output_type": "stream",
     "text": [
      "       Loss    Win\n",
      "Loss  32791  17474\n",
      "Win   17265  32425\n"
     ]
    },
    {
     "data": {
      "text/plain": [
       "<matplotlib.axes._subplots.AxesSubplot at 0x7fc57d479c18>"
      ]
     },
     "execution_count": 38,
     "metadata": {},
     "output_type": "execute_result"
    },
    {
     "data": {
      "image/png": "[encoded data removed]",
      "text/plain": [
       "<Figure size 432x288 with 2 Axes>"
      ]
     },
     "metadata": {
      "needs_background": "light"
     },
     "output_type": "display_data"
    }
   ],
   "source": [
    "cm = pd.DataFrame(confusion_matrix(labels_1985diff, null_labels), index=['Loss', 'Win'], columns = ['Loss', 'Win'])\n",
    "print(cm)\n",
    "sns.heatmap(cm, annot=True)"
   ]
  }
 ],
 "metadata": {
  "kernelspec": {
   "display_name": "Python 3",
   "language": "python",
   "name": "python3"
  },
  "language_info": {
   "codemirror_mode": {
    "name": "ipython",
    "version": 3
   },
   "file_extension": ".py",
   "mimetype": "text/x-python",
   "name": "python",
   "nbconvert_exporter": "python",
   "pygments_lexer": "ipython3",
   "version": "3.7.3"
  }
 },
 "nbformat": 4,
 "nbformat_minor": 4
}
