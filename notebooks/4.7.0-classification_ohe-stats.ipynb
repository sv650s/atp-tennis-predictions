{
 "cells": [
  {
   "cell_type": "markdown",
   "metadata": {},
   "source": [
    "# ATP Tennis Data - Player Diff Stats + One Hot Encoding (All Categorical Data) + Player History\n",
    "\n",
    "\n",
    "\n",
    "### Results that did the best from Decision Tree Classifier with player diff + one hot encoded categorial features:\n",
    "\n",
    "\n",
    "# Summary of Results\n",
    "\n",
    "\n"
   ]
  },
  {
   "cell_type": "code",
   "execution_count": 1,
   "metadata": {},
   "outputs": [],
   "source": [
    "import pandas as pd\n",
    "import numpy as np\n",
    "import matplotlib.pyplot as plt\n",
    "import seaborn as sns\n",
    "from sklearn.neighbors import KNeighborsClassifier\n",
    "from sklearn.tree import DecisionTreeClassifier\n",
    "from sklearn.model_selection import train_test_split\n",
    "from sklearn.linear_model import LogisticRegression\n",
    "from sklearn.metrics import classification_report, confusion_matrix\n",
    "from sklearn.ensemble import RandomForestClassifier, GradientBoostingClassifier, AdaBoostClassifier\n",
    "from sklearn.decomposition import PCA\n",
    "from sklearn.model_selection import train_test_split\n",
    "\n",
    "\n",
    "from datetime import datetime\n",
    "import pickle\n",
    "import json\n",
    "import os\n",
    "import sys\n",
    "import re\n",
    "module_path = os.path.abspath(os.path.join('..'))\n",
    "if module_path not in sys.path:\n",
    "    sys.path.append(module_path)\n",
    "\n",
    "from util import jupyter_util as ju\n",
    "import util.model_util as mu\n",
    "from util.model_util import RSTATE, N_JOBS, MAX_ITER, LABEL_COL\n",
    "from sklearn.model_selection import train_test_split\n",
    "\n",
    "\n",
    "%matplotlib inline\n",
    "sns.set()\n",
    "\n",
    "\n",
    "# date\n",
    "DATE_FORMAT = '%Y-%m-%d'\n",
    "DATE = datetime.now().strftime(DATE_FORMAT)\n",
    "\n",
    "DESCRIPTION = \"ohe-stats\"\n",
    "\n",
    "# sometimes I run these notebooks via command line. Environment variable is set so we know whether we are in DEBUG mode or not\n",
    "# if you want to manually run this in DEBUG mode, change default value to True\n",
    "DEBUG = bool(os.environ.get(\"IPYNB_DEBUG\", False))\n",
    "\n",
    "if DEBUG:\n",
    "    mu.ModelWrapper.REPORT_FILE = '../reports/summary-test.csv'\n",
    "    FEATURE_FILE = f'../datasets/atp_matches_1985-2019_features_test-raw_diff-ohe-history-matchup-stats.csv'\n",
    "    DESCRIPTION = f\"{DESCRIPTION}-test\"\n",
    "\n",
    "else:\n",
    "    # update this\n",
    "    FEATURE_FILE = f'../datasets/atp_matches_1985-2019_features-raw_diff-ohe-history-matchup-stats.csv'\n",
    "\n",
    "START_YEAR = 1985\n",
    "END_YEAR = 2018\n",
    "\n"
   ]
  },
  {
   "cell_type": "code",
   "execution_count": 2,
   "metadata": {},
   "outputs": [],
   "source": [
    "features = pd.read_csv(FEATURE_FILE)\n",
    "features = features[features.tourney_year <= END_YEAR]\n",
    "labels = features[LABEL_COL]"
   ]
  },
  {
   "cell_type": "code",
   "execution_count": 3,
   "metadata": {},
   "outputs": [],
   "source": [
    "features1998 = features[features.tourney_year >= 1998]\n",
    "labels1998 = features1998[LABEL_COL]"
   ]
  },
  {
   "cell_type": "markdown",
   "metadata": {},
   "source": [
    "# Gradient Boosting - Baseline\n",
    "\n",
    "If I didn't know anything about tennis, I would use seed diff to make my predictions.\n",
    "\n",
    "From EDA, this should result in about 65% accuracy"
   ]
  },
  {
   "cell_type": "code",
   "execution_count": 4,
   "metadata": {},
   "outputs": [],
   "source": [
    "def filter_baseline_features(data: pd.DataFrame):\n",
    "\n",
    "    seed_filter = mu.BaseRankDiffFilter(data)\n",
    "    new_data = seed_filter.get_data()\n",
    "    \n",
    "    return new_data\n",
    "\n",
    "features_baseline = filter_baseline_features(features)"
   ]
  },
  {
   "cell_type": "code",
   "execution_count": 5,
   "metadata": {},
   "outputs": [],
   "source": [
    "X_train_baseline, X_test_baseline, y_train_baseline, y_test_baseline = train_test_split(features_baseline, labels, random_state = RSTATE)"
   ]
  },
  {
   "cell_type": "code",
   "execution_count": 6,
   "metadata": {},
   "outputs": [
    {
     "name": "stdout",
     "output_type": "stream",
     "text": [
      "      Iter       Train Loss   Remaining Time \n",
      "         1           1.3648            1.99s\n",
      "         2           1.3474            3.45s\n",
      "         3           1.3331            2.78s\n",
      "         4           1.3214            2.43s\n",
      "         5           1.3118            2.20s\n",
      "         6           1.3038            2.02s\n",
      "         7           1.2973            1.93s\n",
      "         8           1.2919            1.81s\n",
      "         9           1.2875            1.70s\n",
      "        10           1.2838            1.61s\n",
      "        20           1.2689            1.16s\n",
      "        30           1.2665            1.07s\n",
      "        40           1.2660            0.95s\n"
     ]
    }
   ],
   "source": [
    "\n",
    "# train our model\n",
    "\n",
    "gb_baseline = mu.ModelWrapper(GradientBoostingClassifier(random_state=RSTATE, verbose=1, n_iter_no_change = 4),\n",
    "                  description = f'{DESCRIPTION}-baseline', \n",
    "                 data_file = FEATURE_FILE,\n",
    "                  start_year = START_YEAR,\n",
    "                  end_year = END_YEAR,\n",
    "                   X_train = X_train_baseline,\n",
    "                   y_train = y_train_baseline,\n",
    "                   X_test = X_test_baseline,\n",
    "                   y_test = y_test_baseline, \n",
    "                  data_filter = filter_baseline_features).fit()\n",
    "y_predict_baseline = gb_baseline.predict()"
   ]
  },
  {
   "cell_type": "code",
   "execution_count": 7,
   "metadata": {},
   "outputs": [
    {
     "name": "stdout",
     "output_type": "stream",
     "text": [
      "Model Score: 0.6531069827033953\n",
      "\n",
      "ROC/AUC Score: 0.6531133501167702\n",
      "              precision    recall  f1-score   support\n",
      "\n",
      "        Loss       0.66      0.65      0.65     12522\n",
      "         Win       0.65      0.66      0.65     12454\n",
      "\n",
      "    accuracy                           0.65     24976\n",
      "   macro avg       0.65      0.65      0.65     24976\n",
      "weighted avg       0.65      0.65      0.65     24976\n",
      "\n",
      "      Loss   Win\n",
      "Loss  8149  4373\n",
      "Win   4291  8163\n"
     ]
    },
    {
     "data": {
      "image/png": "[encoded data removed]",
      "text/plain": [
       "<Figure size 432x288 with 2 Axes>"
      ]
     },
     "metadata": {
      "needs_background": "light"
     },
     "output_type": "display_data"
    }
   ],
   "source": [
    "gb_baseline.analyze()"
   ]
  },
  {
   "cell_type": "code",
   "execution_count": 8,
   "metadata": {},
   "outputs": [
    {
     "name": "stdout",
     "output_type": "stream",
     "text": [
      "Saving report: ../reports/summary.csv\n"
     ]
    }
   ],
   "source": [
    "gb_baseline.save()"
   ]
  },
  {
   "cell_type": "code",
   "execution_count": 9,
   "metadata": {},
   "outputs": [],
   "source": [
    "report = pd.DataFrame()\n",
    "report = report.append({\"accuracy\": gb_baseline.accuracy, \"description\": gb_baseline.description}, ignore_index=True)"
   ]
  },
  {
   "cell_type": "markdown",
   "metadata": {},
   "source": [
    "# Gradient Boosting - Raw Data(OHE) and Raw Stats"
   ]
  },
  {
   "cell_type": "code",
   "execution_count": 10,
   "metadata": {},
   "outputs": [],
   "source": [
    "def filter_raw_plus_stats_features(data: pd.DataFrame):\n",
    "\n",
    "    print(f'Before: shape {data.shape}')\n",
    "\n",
    "    \n",
    "    default = mu.DefaultColumnFilter(data)\n",
    "    raw = mu.StatsRawFilter(data)\n",
    "    \n",
    "    new_data = pd.concat([default.get_data(), raw.get_data()], axis=1)\n",
    "    \n",
    "    print(f'After: shape {data.shape}')\n",
    "    \n",
    "    return new_data\n"
   ]
  },
  {
   "cell_type": "code",
   "execution_count": 11,
   "metadata": {},
   "outputs": [
    {
     "name": "stdout",
     "output_type": "stream",
     "text": [
      "Before: shape (99901, 5460)\n",
      "After: shape (99901, 5460)\n"
     ]
    },
    {
     "data": {
      "text/plain": [
       "['p1_stats_1stin_avg',\n",
       " 'p1_stats_1stwon_avg',\n",
       " 'p1_stats_2ndwon_avg',\n",
       " 'p1_stats_ace_avg',\n",
       " 'p1_stats_bpfaced_avg',\n",
       " 'p1_stats_bpsaved_avg',\n",
       " 'p1_stats_df_avg',\n",
       " 'p1_stats_svgms_avg',\n",
       " 'p1_stats_svpt_avg',\n",
       " 'p2_stats_1stin_avg',\n",
       " 'p2_stats_1stwon_avg',\n",
       " 'p2_stats_2ndwon_avg',\n",
       " 'p2_stats_ace_avg',\n",
       " 'p2_stats_bpfaced_avg',\n",
       " 'p2_stats_bpsaved_avg',\n",
       " 'p2_stats_df_avg',\n",
       " 'p2_stats_svgms_avg',\n",
       " 'p2_stats_svpt_avg']"
      ]
     },
     "execution_count": 11,
     "metadata": {},
     "output_type": "execute_result"
    }
   ],
   "source": [
    "features_raw = filter_raw_plus_stats_features(features)\n",
    "# let's see what's left\n",
    "[col for col in features_raw.columns if re.search(\"stats\", col)]"
   ]
  },
  {
   "cell_type": "code",
   "execution_count": 12,
   "metadata": {},
   "outputs": [],
   "source": [
    "X_train_raw, X_test_raw, y_train_raw, y_test_raw = train_test_split(features_raw, labels, random_state = RSTATE)"
   ]
  },
  {
   "cell_type": "code",
   "execution_count": 13,
   "metadata": {},
   "outputs": [
    {
     "name": "stdout",
     "output_type": "stream",
     "text": [
      "      Iter       Train Loss   Remaining Time \n",
      "         1           1.3642           26.19m\n",
      "         2           1.3461           25.77m\n",
      "         3           1.3312           25.16m\n",
      "         4           1.3183           24.85m\n",
      "         5           1.3079           24.53m\n",
      "         6           1.2990           24.22m\n",
      "         7           1.2915           24.03m\n",
      "         8           1.2853           23.58m\n",
      "         9           1.2798           23.13m\n",
      "        10           1.2750           22.66m\n",
      "        20           1.2500           19.68m\n",
      "        30           1.2390           17.17m\n",
      "        40           1.2317           14.73m\n",
      "        50           1.2270           12.26m\n",
      "        60           1.2234            9.74m\n",
      "        70           1.2203            7.29m\n",
      "        80           1.2176            4.90m\n",
      "        90           1.2151            2.48m\n",
      "       100           1.2129            0.00s\n"
     ]
    }
   ],
   "source": [
    "\n",
    "# train our model\n",
    "\n",
    "gb = mu.ModelWrapper(GradientBoostingClassifier(random_state=RSTATE, verbose=1, n_iter_no_change = 4),\n",
    "                  description = f'{DESCRIPTION}-stats', \n",
    "                 data_file = FEATURE_FILE,\n",
    "                  start_year = START_YEAR,\n",
    "                  end_year = END_YEAR,\n",
    "                   X_train = X_train_raw,\n",
    "                   y_train = y_train_raw,\n",
    "                   X_test = X_test_raw,\n",
    "                   y_test = y_test_raw, \n",
    "                  data_filter = filter_raw_plus_stats_features).fit()\n",
    "y_predict_gb = gb.predict()"
   ]
  },
  {
   "cell_type": "code",
   "execution_count": 14,
   "metadata": {},
   "outputs": [
    {
     "name": "stdout",
     "output_type": "stream",
     "text": [
      "Model Score: 0.6627562459961563\n",
      "\n",
      "ROC/AUC Score: 0.6627623579064201\n",
      "              precision    recall  f1-score   support\n",
      "\n",
      "        Loss       0.66      0.66      0.66     12522\n",
      "         Win       0.66      0.67      0.66     12454\n",
      "\n",
      "    accuracy                           0.66     24976\n",
      "   macro avg       0.66      0.66      0.66     24976\n",
      "weighted avg       0.66      0.66      0.66     24976\n",
      "\n",
      "      Loss   Win\n",
      "Loss  8271  4251\n",
      "Win   4172  8282\n"
     ]
    },
    {
     "data": {
      "image/png": "[encoded data removed]",
      "text/plain": [
       "<Figure size 432x288 with 2 Axes>"
      ]
     },
     "metadata": {
      "needs_background": "light"
     },
     "output_type": "display_data"
    }
   ],
   "source": [
    "gb.analyze()"
   ]
  },
  {
   "cell_type": "code",
   "execution_count": 15,
   "metadata": {},
   "outputs": [
    {
     "name": "stdout",
     "output_type": "stream",
     "text": [
      "Saving report: ../reports/summary.csv\n"
     ]
    }
   ],
   "source": [
    "gb.save()"
   ]
  },
  {
   "cell_type": "code",
   "execution_count": 16,
   "metadata": {},
   "outputs": [],
   "source": [
    "report = report.append({\"accuracy\": gb.accuracy, \"description\": gb.description}, ignore_index=True)"
   ]
  },
  {
   "cell_type": "markdown",
   "metadata": {},
   "source": [
    "# Grandient Boosting - Raw Data(OHE) and Diff Stats\n",
    "\n",
    "Diffed all time average player stats"
   ]
  },
  {
   "cell_type": "code",
   "execution_count": 17,
   "metadata": {},
   "outputs": [
    {
     "name": "stdout",
     "output_type": "stream",
     "text": [
      "Before: shape (99901, 5460)\n",
      "After: shape (99901, 5262)\n"
     ]
    },
    {
     "data": {
      "text/plain": [
       "['p1_stats_1stin_avg_diff',\n",
       " 'p1_stats_1stwon_avg_diff',\n",
       " 'p1_stats_2ndwon_avg_diff',\n",
       " 'p1_stats_ace_avg_diff',\n",
       " 'p1_stats_bpfaced_avg_diff',\n",
       " 'p1_stats_bpsaved_avg_diff',\n",
       " 'p1_stats_df_avg_diff',\n",
       " 'p1_stats_svgms_avg_diff',\n",
       " 'p1_stats_svpt_avg_diff']"
      ]
     },
     "execution_count": 17,
     "metadata": {},
     "output_type": "execute_result"
    }
   ],
   "source": [
    "import importlib\n",
    "importlib.reload(mu)\n",
    "\n",
    "def filter_stats_diff_features(data: pd.DataFrame):\n",
    "    \n",
    "    print(f'Before: shape {data.shape}')\n",
    "    \n",
    "    default = mu.DefaultColumnFilter(data)\n",
    "    stats_diff = mu.StatsDiffFilter(data)\n",
    "    new_data = pd.concat([default.get_data(), stats_diff.get_data()], axis=1)\n",
    "    \n",
    "    print(f'After: shape {new_data.shape}')\n",
    "    \n",
    "    return new_data\n",
    "\n",
    "stats_diff = filter_stats_diff_features(features)\n",
    "# let's see what's left\n",
    "[col for col in stats_diff.columns if re.search(\"stats\", col)]"
   ]
  },
  {
   "cell_type": "code",
   "execution_count": 18,
   "metadata": {},
   "outputs": [],
   "source": [
    "X_train_diff, X_test_diff, y_train_diff, y_test_diff = train_test_split(stats_diff, labels, random_state = RSTATE)"
   ]
  },
  {
   "cell_type": "code",
   "execution_count": 19,
   "metadata": {},
   "outputs": [
    {
     "name": "stdout",
     "output_type": "stream",
     "text": [
      "      Iter       Train Loss   Remaining Time \n",
      "         1           1.3637           24.90m\n",
      "         2           1.3452           24.64m\n",
      "         3           1.3299           24.31m\n",
      "         4           1.3172           24.77m\n",
      "         5           1.3066           24.99m\n",
      "         6           1.2977           25.01m\n",
      "         7           1.2902           24.96m\n",
      "         8           1.2839           24.87m\n",
      "         9           1.2785           24.72m\n",
      "        10           1.2739           24.56m\n",
      "        20           1.2506           21.47m\n",
      "        30           1.2409           18.89m\n",
      "        40           1.2348           16.05m\n",
      "        50           1.2307           13.38m\n",
      "        60           1.2268           10.74m\n",
      "        70           1.2240            8.08m\n",
      "        80           1.2212            5.38m\n",
      "        90           1.2190            2.65m\n",
      "       100           1.2163            0.00s\n"
     ]
    }
   ],
   "source": [
    "\n",
    "# train our model\n",
    "\n",
    "gb_diff = mu.ModelWrapper(GradientBoostingClassifier(random_state=RSTATE, verbose=1, n_iter_no_change = 4),\n",
    "                  description = f'{DESCRIPTION}-stats_diff', \n",
    "                 data_file = FEATURE_FILE,\n",
    "                  start_year = START_YEAR,\n",
    "                  end_year = END_YEAR,\n",
    "                   X_train = X_train_diff,\n",
    "                   y_train = y_train_diff,\n",
    "                   X_test = X_test_diff,\n",
    "                   y_test = y_test_diff, \n",
    "                  data_filter = filter_stats_diff_features).fit()\n",
    "y_predict_gb_dfiff = gb_diff.predict()"
   ]
  },
  {
   "cell_type": "code",
   "execution_count": 20,
   "metadata": {},
   "outputs": [
    {
     "name": "stdout",
     "output_type": "stream",
     "text": [
      "Model Score: 0.6619554772581678\n",
      "\n",
      "ROC/AUC Score: 0.66197095809304\n",
      "              precision    recall  f1-score   support\n",
      "\n",
      "        Loss       0.67      0.66      0.66     12522\n",
      "         Win       0.66      0.67      0.66     12454\n",
      "\n",
      "    accuracy                           0.66     24976\n",
      "   macro avg       0.66      0.66      0.66     24976\n",
      "weighted avg       0.66      0.66      0.66     24976\n",
      "\n",
      "      Loss   Win\n",
      "Loss  8218  4304\n",
      "Win   4139  8315\n"
     ]
    },
    {
     "data": {
      "image/png": "[encoded data removed]",
      "text/plain": [
       "<Figure size 432x288 with 2 Axes>"
      ]
     },
     "metadata": {
      "needs_background": "light"
     },
     "output_type": "display_data"
    }
   ],
   "source": [
    "gb_diff.analyze()"
   ]
  },
  {
   "cell_type": "code",
   "execution_count": 21,
   "metadata": {},
   "outputs": [
    {
     "name": "stdout",
     "output_type": "stream",
     "text": [
      "Saving report: ../reports/summary.csv\n"
     ]
    }
   ],
   "source": [
    "gb_diff.save()"
   ]
  },
  {
   "cell_type": "code",
   "execution_count": 22,
   "metadata": {},
   "outputs": [],
   "source": [
    "report = report.append({\"accuracy\": gb_diff.accuracy, \"description\": gb_diff.description}, ignore_index=True)"
   ]
  },
  {
   "cell_type": "markdown",
   "metadata": {},
   "source": [
    "# Grandient Boosting - Raw Data(OHE) + stats5 diff\n",
    "\n",
    "Average stats for each player diffed (ie, p1 - p2 stats)"
   ]
  },
  {
   "cell_type": "code",
   "execution_count": 23,
   "metadata": {},
   "outputs": [
    {
     "name": "stdout",
     "output_type": "stream",
     "text": [
      "Before: shape (99901, 5460)\n",
      "After: shape (99901, 5262)\n"
     ]
    },
    {
     "data": {
      "text/plain": [
       "['p1_stats_1stin_avg_diff',\n",
       " 'p1_stats_1stwon_avg_diff',\n",
       " 'p1_stats_2ndwon_avg_diff',\n",
       " 'p1_stats_ace_avg_diff',\n",
       " 'p1_stats_bpfaced_avg_diff',\n",
       " 'p1_stats_bpsaved_avg_diff',\n",
       " 'p1_stats_df_avg_diff',\n",
       " 'p1_stats_svgms_avg_diff',\n",
       " 'p1_stats_svpt_avg_diff']"
      ]
     },
     "execution_count": 23,
     "metadata": {},
     "output_type": "execute_result"
    }
   ],
   "source": [
    "import importlib\n",
    "importlib.reload(mu)\n",
    "\n",
    "def filter_stats5_diff_features(data: pd.DataFrame):\n",
    "    \n",
    "    print(f'Before: shape {data.shape}')\n",
    "    \n",
    "    default = mu.DefaultColumnFilter(data)\n",
    "\n",
    "    stats_diff = mu.StatsDiffFilter(data)\n",
    "    stats5_diff = mu.Stats5DiffFilter(data)\n",
    "\n",
    "    new_data = pd.concat([default.get_data(), stats_diff.get_data(), stats5_diff.get_data()], axis=1)\n",
    "    \n",
    "    print(f'After: shape {new_data.shape}')\n",
    "    \n",
    "    return new_data\n",
    "\n",
    "stats5_diff = filter_stats_diff_features(features)\n",
    "# let's see what's left\n",
    "[col for col in stats_diff.columns if re.search(\"stats\", col)]"
   ]
  },
  {
   "cell_type": "code",
   "execution_count": 24,
   "metadata": {},
   "outputs": [],
   "source": [
    "X_train_diff5, X_test_diff5, y_train_diff5, y_test_diff5 = train_test_split(stats5_diff, labels, random_state = RSTATE)"
   ]
  },
  {
   "cell_type": "code",
   "execution_count": 25,
   "metadata": {},
   "outputs": [
    {
     "name": "stdout",
     "output_type": "stream",
     "text": [
      "      Iter       Train Loss   Remaining Time \n",
      "         1           1.3637           21.15m\n",
      "         2           1.3452           20.79m\n",
      "         3           1.3299           20.54m\n",
      "         4           1.3172           20.36m\n",
      "         5           1.3066           20.37m\n",
      "         6           1.2977           20.53m\n",
      "         7           1.2902           20.58m\n",
      "         8           1.2839           20.59m\n",
      "         9           1.2785           20.42m\n",
      "        10           1.2739           20.08m\n",
      "        20           1.2506           18.59m\n",
      "        30           1.2409           16.21m\n",
      "        40           1.2348           13.81m\n",
      "        50           1.2307           11.44m\n",
      "        60           1.2268            8.99m\n",
      "        70           1.2240            6.67m\n",
      "        80           1.2212            4.42m\n",
      "        90           1.2190            2.21m\n",
      "       100           1.2163            0.00s\n"
     ]
    }
   ],
   "source": [
    "gb_diff5 = mu.ModelWrapper(GradientBoostingClassifier(random_state=RSTATE, verbose=1, n_iter_no_change = 4),\n",
    "                  description = f'{DESCRIPTION}-stats_diff5', \n",
    "                 data_file = FEATURE_FILE,\n",
    "                  start_year = START_YEAR,\n",
    "                  end_year = END_YEAR,\n",
    "                   X_train = X_train_diff5,\n",
    "                   y_train = y_train_diff5,\n",
    "                   X_test = X_test_diff5,\n",
    "                   y_test = y_test_diff5, \n",
    "                  data_filter = filter_stats5_diff_features).fit()\n",
    "y_predict_gb_dfiff5 = gb_diff5.predict()"
   ]
  },
  {
   "cell_type": "code",
   "execution_count": 26,
   "metadata": {},
   "outputs": [
    {
     "name": "stdout",
     "output_type": "stream",
     "text": [
      "Model Score: 0.6619554772581678\n",
      "\n",
      "ROC/AUC Score: 0.66197095809304\n",
      "              precision    recall  f1-score   support\n",
      "\n",
      "        Loss       0.67      0.66      0.66     12522\n",
      "         Win       0.66      0.67      0.66     12454\n",
      "\n",
      "    accuracy                           0.66     24976\n",
      "   macro avg       0.66      0.66      0.66     24976\n",
      "weighted avg       0.66      0.66      0.66     24976\n",
      "\n",
      "      Loss   Win\n",
      "Loss  8218  4304\n",
      "Win   4139  8315\n"
     ]
    },
    {
     "data": {
      "image/png": "[encoded data removed]",
      "text/plain": [
       "<Figure size 432x288 with 2 Axes>"
      ]
     },
     "metadata": {
      "needs_background": "light"
     },
     "output_type": "display_data"
    }
   ],
   "source": [
    "gb_diff5.analyze()"
   ]
  },
  {
   "cell_type": "code",
   "execution_count": 27,
   "metadata": {},
   "outputs": [
    {
     "name": "stdout",
     "output_type": "stream",
     "text": [
      "Saving report: ../reports/summary.csv\n"
     ]
    }
   ],
   "source": [
    "gb_diff5.save()"
   ]
  },
  {
   "cell_type": "code",
   "execution_count": 28,
   "metadata": {},
   "outputs": [],
   "source": [
    "report = report.append({\"accuracy\": gb_diff5.accuracy, \"description\": gb_diff5.description}, ignore_index=True)"
   ]
  },
  {
   "cell_type": "markdown",
   "metadata": {},
   "source": [
    "# Sample Weights\n",
    "\n",
    "We saw from inital EDA, that upset rate is changing over the past couple of decades which means that earlier samples may not be as meaningful in our predictions as later samples. We will assign weights to our samples according to the year the tournament was in.\n",
    "\n",
    "This first method assigns a different weight to each year with the last year in our samples 2018 having the highest weight.\n",
    "\n",
    "We will compare results with the best so far:\n",
    "\n",
    "```\n",
    "Model Score: 0.6627562459961563\n",
    "\n",
    "ROC/AUC Score: 0.6627623579064201\n",
    "              precision    recall  f1-score   support\n",
    "\n",
    "        Loss       0.66      0.66      0.66     12522\n",
    "         Win       0.66      0.67      0.66     12454\n",
    "\n",
    "    accuracy                           0.66     24976\n",
    "   macro avg       0.66      0.66      0.66     24976\n",
    "weighted avg       0.66      0.66      0.66     24976\n",
    "```"
   ]
  },
  {
   "cell_type": "code",
   "execution_count": 29,
   "metadata": {},
   "outputs": [
    {
     "name": "stdout",
     "output_type": "stream",
     "text": [
      "      Iter       Train Loss   Remaining Time \n",
      "         1           1.3622           26.47m\n",
      "         2           1.3426           25.83m\n",
      "         3           1.3262           25.49m\n",
      "         4           1.3128           26.07m\n",
      "         5           1.3015           25.95m\n",
      "         6           1.2921           25.82m\n",
      "         7           1.2840           25.61m\n",
      "         8           1.2773           25.40m\n",
      "         9           1.2715           25.21m\n",
      "        10           1.2667           24.97m\n",
      "        20           1.2418           22.09m\n",
      "        30           1.2317           19.09m\n",
      "        40           1.2250           15.76m\n",
      "        50           1.2200           13.13m\n",
      "        60           1.2157           10.55m\n",
      "        70           1.2117            8.06m\n",
      "        80           1.2082            5.55m\n"
     ]
    }
   ],
   "source": [
    "importlib.reload(mu)\n",
    "# assign sample weights\n",
    "ywc = mu.IntervalBasedWeightCalculator(X_train_diff, \"tourney_year\", 1)\n",
    "gb_diff_ywc = mu.ModelWrapper(GradientBoostingClassifier(random_state=RSTATE, verbose=1, n_iter_no_change = 4),\n",
    "                  description = f'{DESCRIPTION}-stats_diff-weights_bin1', \n",
    "                 data_file = FEATURE_FILE,\n",
    "                  start_year = START_YEAR,\n",
    "                  end_year = END_YEAR,\n",
    "                   X_train = X_train_diff,\n",
    "                   y_train = y_train_diff,\n",
    "                   X_test = X_test_diff,\n",
    "                   y_test = y_test_diff, \n",
    "                  data_filter = filter_stats_diff_features).fit(sample_weights = ywc.get_weights())\n",
    "y_predict_gb_diff_ywc = gb_diff_ywc.predict()"
   ]
  },
  {
   "cell_type": "markdown",
   "metadata": {},
   "source": [
    "### This looks promising. Not drastic accuracy increase but there is some"
   ]
  },
  {
   "cell_type": "code",
   "execution_count": 30,
   "metadata": {},
   "outputs": [
    {
     "name": "stdout",
     "output_type": "stream",
     "text": [
      "Model Score: 0.6596732863549007\n",
      "\n",
      "ROC/AUC Score: 0.6596958359229621\n",
      "              precision    recall  f1-score   support\n",
      "\n",
      "        Loss       0.66      0.65      0.66     12522\n",
      "         Win       0.66      0.67      0.66     12454\n",
      "\n",
      "    accuracy                           0.66     24976\n",
      "   macro avg       0.66      0.66      0.66     24976\n",
      "weighted avg       0.66      0.66      0.66     24976\n",
      "\n",
      "      Loss   Win\n",
      "Loss  8157  4365\n",
      "Win   4135  8319\n"
     ]
    },
    {
     "data": {
      "image/png": "[encoded data removed]",
      "text/plain": [
       "<Figure size 432x288 with 2 Axes>"
      ]
     },
     "metadata": {
      "needs_background": "light"
     },
     "output_type": "display_data"
    }
   ],
   "source": [
    "gb_diff_ywc.analyze()"
   ]
  },
  {
   "cell_type": "code",
   "execution_count": 31,
   "metadata": {},
   "outputs": [
    {
     "name": "stdout",
     "output_type": "stream",
     "text": [
      "Saving report: ../reports/summary.csv\n"
     ]
    }
   ],
   "source": [
    "gb_diff_ywc.save()"
   ]
  },
  {
   "cell_type": "code",
   "execution_count": 32,
   "metadata": {},
   "outputs": [],
   "source": [
    "report = report.append({\"accuracy\": gb_diff_ywc.accuracy, \"description\": gb_diff_ywc.description}, ignore_index=True)"
   ]
  },
  {
   "cell_type": "code",
   "execution_count": null,
   "metadata": {},
   "outputs": [],
   "source": []
  },
  {
   "cell_type": "markdown",
   "metadata": {},
   "source": [
    "# Sample Weights - 10 bins\n",
    "\n",
    "With this method, we will take years of tournament and construct equal sized bins. We wills start with 10 bins\n",
    "\n",
    "We will compare results to the following:\n",
    "\n",
    "```\n",
    "\n",
    "```"
   ]
  },
  {
   "cell_type": "code",
   "execution_count": 33,
   "metadata": {},
   "outputs": [
    {
     "name": "stdout",
     "output_type": "stream",
     "text": [
      "      Iter       Train Loss   Remaining Time \n",
      "         1           1.3622           29.01m\n",
      "         2           1.3426           27.81m\n",
      "         3           1.3263           27.09m\n",
      "         4           1.3129           26.35m\n",
      "         5           1.3017           25.83m\n",
      "         6           1.2922           25.08m\n",
      "         7           1.2841           25.10m\n",
      "         8           1.2773           25.11m\n",
      "         9           1.2716           25.08m\n",
      "        10           1.2668           25.07m\n",
      "        20           1.2420           22.12m\n",
      "        30           1.2317           19.74m\n",
      "        40           1.2252           17.29m\n",
      "        50           1.2198           14.50m\n",
      "        60           1.2155           11.30m\n",
      "        70           1.2120            8.32m\n",
      "        80           1.2084            5.63m\n"
     ]
    }
   ],
   "source": [
    "# assign sample weights\n",
    "ybwc10 = mu.BinBasedWeightCalculator(X_train_diff, \"tourney_year\", 10)\n",
    "gb_diff_yb10 = mu.ModelWrapper(GradientBoostingClassifier(random_state=RSTATE, verbose=1, n_iter_no_change = 4),\n",
    "                  description = f'{DESCRIPTION}-stats_diff-weights_bin1', \n",
    "                 data_file = FEATURE_FILE,\n",
    "                  start_year = START_YEAR,\n",
    "                  end_year = END_YEAR,\n",
    "                  data_filter = filter_stats_diff_features)\n",
    "gb_diff_yb10.fit(X_train_diff, y_train_diff, sample_weights = ybwc10.get_weights())\n",
    "y_predict_gb_diff_yb10 = gb_diff_yb10.predict(X_test_diff)"
   ]
  },
  {
   "cell_type": "code",
   "execution_count": 34,
   "metadata": {},
   "outputs": [
    {
     "name": "stdout",
     "output_type": "stream",
     "text": [
      "Model Score: 0.6612748238308777\n",
      "\n",
      "ROC/AUC Score: 0.6612943329904776\n",
      "              precision    recall  f1-score   support\n",
      "\n",
      "        Loss       0.66      0.65      0.66     12522\n",
      "         Win       0.66      0.67      0.66     12454\n",
      "\n",
      "    accuracy                           0.66     24976\n",
      "   macro avg       0.66      0.66      0.66     24976\n",
      "weighted avg       0.66      0.66      0.66     24976\n",
      "\n",
      "      Loss   Win\n",
      "Loss  8191  4331\n",
      "Win   4129  8325\n"
     ]
    },
    {
     "data": {
      "image/png": "[encoded data removed]",
      "text/plain": [
       "<Figure size 432x288 with 2 Axes>"
      ]
     },
     "metadata": {
      "needs_background": "light"
     },
     "output_type": "display_data"
    }
   ],
   "source": [
    "gb_diff_yb10.analyze(y_test_diff)"
   ]
  },
  {
   "cell_type": "code",
   "execution_count": 35,
   "metadata": {},
   "outputs": [
    {
     "name": "stdout",
     "output_type": "stream",
     "text": [
      "Saving report: ../reports/summary.csv\n"
     ]
    }
   ],
   "source": [
    "gb_diff_yb10.save()"
   ]
  },
  {
   "cell_type": "code",
   "execution_count": 36,
   "metadata": {},
   "outputs": [],
   "source": [
    "report = report.append({\"accuracy\": gb_diff_yb10.accuracy, \"description\": gb_diff_yb10.description}, ignore_index=True)"
   ]
  },
  {
   "cell_type": "markdown",
   "metadata": {},
   "source": [
    "# Sample Weights - Bin Every 5 Years\n",
    "\n",
    "Since we saw in EDA that there might be a significant drop or increase in upset rates every 5 years. Our data covers 20 years, so let's try using 4 bins and see how this affects our model\n",
    "\n",
    "\n",
    "We will compare results to the following:\n",
    "\n",
    "```\n",
    "\n",
    "```"
   ]
  },
  {
   "cell_type": "code",
   "execution_count": 37,
   "metadata": {},
   "outputs": [
    {
     "name": "stdout",
     "output_type": "stream",
     "text": [
      "      Iter       Train Loss   Remaining Time \n",
      "         1           1.3623           33.68m\n",
      "         2           1.3427           33.59m\n",
      "         3           1.3265           33.79m\n",
      "         4           1.3131           33.08m\n",
      "         5           1.3018           32.38m\n",
      "         6           1.2924           32.68m\n",
      "         7           1.2843           32.59m\n",
      "         8           1.2777           32.18m\n",
      "         9           1.2719           31.58m\n",
      "        10           1.2670           31.10m\n",
      "        20           1.2422           26.69m\n",
      "        30           1.2321           23.58m\n",
      "        40           1.2260           19.89m\n",
      "        50           1.2204           16.26m\n",
      "        60           1.2161           12.87m\n",
      "        70           1.2121            9.53m\n",
      "        80           1.2087            6.22m\n",
      "        90           1.2062            3.12m\n",
      "       100           1.2033            0.00s\n"
     ]
    }
   ],
   "source": [
    "# assign sample weights\n",
    "ybwc4 = mu.IntervalBasedWeightCalculator(X_train_diff, \"tourney_year\", 5)\n",
    "gb_diff_yb4 = mu.ModelWrapper(GradientBoostingClassifier(random_state=RSTATE, verbose=1, n_iter_no_change = 4),\n",
    "                  description = f'{DESCRIPTION}-stats_diff-weights_bin5yr', \n",
    "                 data_file = FEATURE_FILE,\n",
    "                  start_year = START_YEAR,\n",
    "                  end_year = END_YEAR,\n",
    "                  data_filter = filter_stats_diff_features).fit(X_train_diff, y_train_diff, sample_weights = ybwc4.get_weights())\n",
    "y_predict_gb_diff_yb4 = gb_diff_yb4.predict(X_test_diff)"
   ]
  },
  {
   "cell_type": "code",
   "execution_count": 38,
   "metadata": {},
   "outputs": [
    {
     "name": "stdout",
     "output_type": "stream",
     "text": [
      "Model Score: 0.6604740550928891\n",
      "\n",
      "ROC/AUC Score: 0.6604839654361848\n",
      "              precision    recall  f1-score   support\n",
      "\n",
      "        Loss       0.66      0.66      0.66     12522\n",
      "         Win       0.66      0.66      0.66     12454\n",
      "\n",
      "    accuracy                           0.66     24976\n",
      "   macro avg       0.66      0.66      0.66     24976\n",
      "weighted avg       0.66      0.66      0.66     24976\n",
      "\n",
      "      Loss   Win\n",
      "Loss  8225  4297\n",
      "Win   4183  8271\n"
     ]
    },
    {
     "data": {
      "image/png": "[encoded data removed]",
      "text/plain": [
       "<Figure size 432x288 with 2 Axes>"
      ]
     },
     "metadata": {
      "needs_background": "light"
     },
     "output_type": "display_data"
    }
   ],
   "source": [
    "gb_diff_yb4.analyze(y_test_diff)"
   ]
  },
  {
   "cell_type": "code",
   "execution_count": 39,
   "metadata": {},
   "outputs": [
    {
     "name": "stdout",
     "output_type": "stream",
     "text": [
      "Saving report: ../reports/summary.csv\n"
     ]
    }
   ],
   "source": [
    "gb_diff_yb4.save()"
   ]
  },
  {
   "cell_type": "code",
   "execution_count": 40,
   "metadata": {},
   "outputs": [],
   "source": [
    "report = report.append({\"accuracy\": gb_diff_yb4.accuracy, \"description\": gb_diff_yb4.description}, ignore_index=True)"
   ]
  },
  {
   "cell_type": "markdown",
   "metadata": {},
   "source": [
    "#  History Diff Data Year Bin Every 5 Years"
   ]
  },
  {
   "cell_type": "code",
   "execution_count": 41,
   "metadata": {},
   "outputs": [
    {
     "name": "stdout",
     "output_type": "stream",
     "text": [
      "Before: shape (99901, 5460)\n",
      "After: shape (99901, 5256)\n"
     ]
    },
    {
     "data": {
      "text/plain": [
       "['p1_history5_games_won_percentage_diff',\n",
       " 'p1_history5_sets_won_percentage_diff',\n",
       " 'p1_history5_win_percentage_diff']"
      ]
     },
     "execution_count": 41,
     "metadata": {},
     "output_type": "execute_result"
    }
   ],
   "source": [
    "importlib.reload(mu)\n",
    "\n",
    "def filter_history5_diff_features(data: pd.DataFrame):\n",
    "    \n",
    "    print(f'Before: shape {data.shape}')\n",
    "    \n",
    "    default = mu.DefaultColumnFilter(data)\n",
    "\n",
    "    history_diff = mu.History5PercentageDiffFilter(data)\n",
    "\n",
    "    new_data = pd.concat([default.get_data(), history_diff.get_data()], axis=1)\n",
    "    \n",
    "    print(f'After: shape {new_data.shape}')\n",
    "    \n",
    "    return new_data\n",
    "\n",
    "history5_diff = filter_history5_diff_features(features)\n",
    "# let's see what's left\n",
    "[col for col in history5_diff.columns if re.search(r\"history\", col)]"
   ]
  },
  {
   "cell_type": "code",
   "execution_count": 42,
   "metadata": {},
   "outputs": [],
   "source": [
    "X_train_history5_diff, X_test_history5_diff, y_train_history5_diff, y_test_history5_diff = \\\n",
    "                train_test_split(history5_diff, labels, random_state = RSTATE)"
   ]
  },
  {
   "cell_type": "code",
   "execution_count": 43,
   "metadata": {},
   "outputs": [
    {
     "name": "stdout",
     "output_type": "stream",
     "text": [
      "      Iter       Train Loss   Remaining Time \n",
      "         1           1.3642           33.16m\n",
      "         2           1.3464           32.20m\n",
      "         3           1.3317           31.68m\n",
      "         4           1.3196           30.66m\n",
      "         5           1.3097           29.81m\n",
      "         6           1.3012           29.21m\n",
      "         7           1.2942           28.71m\n",
      "         8           1.2883           28.21m\n",
      "         9           1.2833           27.77m\n",
      "        10           1.2790           27.40m\n",
      "        20           1.2581           23.07m\n",
      "        30           1.2492           18.74m\n",
      "        40           1.2443           15.64m\n",
      "        50           1.2401           13.19m\n",
      "        60           1.2366           11.07m\n",
      "        70           1.2338            8.64m\n",
      "        80           1.2313            5.88m\n",
      "        90           1.2290            2.99m\n",
      "       100           1.2269            0.00s\n"
     ]
    }
   ],
   "source": [
    "gb_history5_diff = mu.ModelWrapper(GradientBoostingClassifier(random_state=RSTATE, verbose=1, n_iter_no_change = 4),\n",
    "                  description = f'{DESCRIPTION}-history5_diff-weight_bin5yr', \n",
    "                 data_file = FEATURE_FILE,\n",
    "                  start_year = START_YEAR,\n",
    "                  end_year = END_YEAR,\n",
    "                  data_filter = filter_history5_diff_features)\n",
    "gb_history5_diff.fit(X_train_history5_diff, y_train_history5_diff, sample_weights = ybwc4.get_weights())\n",
    "y_predict_gb_history5_diff = gb_history5_diff.predict(X_test_history5_diff)"
   ]
  },
  {
   "cell_type": "code",
   "execution_count": 44,
   "metadata": {},
   "outputs": [
    {
     "name": "stdout",
     "output_type": "stream",
     "text": [
      "Model Score: 0.6556694426649584\n",
      "\n",
      "ROC/AUC Score: 0.6556653641125263\n",
      "              precision    recall  f1-score   support\n",
      "\n",
      "        Loss       0.66      0.66      0.66     12522\n",
      "         Win       0.65      0.65      0.65     12454\n",
      "\n",
      "    accuracy                           0.66     24976\n",
      "   macro avg       0.66      0.66      0.66     24976\n",
      "weighted avg       0.66      0.66      0.66     24976\n",
      "\n",
      "      Loss   Win\n",
      "Loss  8229  4293\n",
      "Win   4307  8147\n"
     ]
    },
    {
     "data": {
      "image/png": "[encoded data removed]",
      "text/plain": [
       "<Figure size 432x288 with 2 Axes>"
      ]
     },
     "metadata": {
      "needs_background": "light"
     },
     "output_type": "display_data"
    }
   ],
   "source": [
    "gb_history5_diff.analyze(y_test_history5_diff)"
   ]
  },
  {
   "cell_type": "code",
   "execution_count": 45,
   "metadata": {},
   "outputs": [
    {
     "name": "stdout",
     "output_type": "stream",
     "text": [
      "Saving report: ../reports/summary.csv\n"
     ]
    }
   ],
   "source": [
    "gb_history5_diff.save()"
   ]
  },
  {
   "cell_type": "code",
   "execution_count": 46,
   "metadata": {},
   "outputs": [],
   "source": [
    "report = report.append({\"accuracy\": gb_history5_diff.accuracy, \"description\": gb_history5_diff.description}, ignore_index=True)"
   ]
  },
  {
   "cell_type": "markdown",
   "metadata": {},
   "source": [
    "# Combine History Diff Data with Stats Diff and Bin Every 5 Years"
   ]
  },
  {
   "cell_type": "code",
   "execution_count": 47,
   "metadata": {},
   "outputs": [
    {
     "name": "stdout",
     "output_type": "stream",
     "text": [
      "Before: shape (99901, 5460)\n",
      "After: shape (99901, 5265)\n"
     ]
    },
    {
     "data": {
      "text/plain": [
       "['p1_stats_1stin_avg_diff',\n",
       " 'p1_stats_1stwon_avg_diff',\n",
       " 'p1_stats_2ndwon_avg_diff',\n",
       " 'p1_stats_ace_avg_diff',\n",
       " 'p1_stats_bpfaced_avg_diff',\n",
       " 'p1_stats_bpsaved_avg_diff',\n",
       " 'p1_stats_df_avg_diff',\n",
       " 'p1_stats_svgms_avg_diff',\n",
       " 'p1_stats_svpt_avg_diff',\n",
       " 'p1_history5_games_won_percentage_diff',\n",
       " 'p1_history5_sets_won_percentage_diff',\n",
       " 'p1_history5_win_percentage_diff']"
      ]
     },
     "execution_count": 47,
     "metadata": {},
     "output_type": "execute_result"
    }
   ],
   "source": [
    "importlib.reload(mu)\n",
    "\n",
    "def filter_history_diff_stats5_diff_features(data: pd.DataFrame):\n",
    "    \n",
    "    print(f'Before: shape {data.shape}')\n",
    "    \n",
    "    default = mu.DefaultColumnFilter(data)\n",
    "\n",
    "    stats_diff = mu.StatsDiffFilter(data)\n",
    "    history_diff = mu.History5PercentageDiffFilter(data)\n",
    "\n",
    "    new_data = pd.concat([default.get_data(), stats_diff.get_data(), history_diff.get_data()], axis=1)\n",
    "    \n",
    "    print(f'After: shape {new_data.shape}')\n",
    "    \n",
    "    return new_data\n",
    "\n",
    "history5_stats5_diff = filter_history_diff_stats5_diff_features(features)\n",
    "# let's see what's left\n",
    "[col for col in history5_stats5_diff.columns if re.search(r\"(stats|history)\", col)]"
   ]
  },
  {
   "cell_type": "code",
   "execution_count": 48,
   "metadata": {},
   "outputs": [],
   "source": [
    "X_train_history5_stats5_diff, X_test_history5_stats5_diff, y_train_history5_stats5_diff, y_test_history5_stats5_diff = \\\n",
    "                train_test_split(history5_stats5_diff, labels, random_state = RSTATE)"
   ]
  },
  {
   "cell_type": "code",
   "execution_count": null,
   "metadata": {},
   "outputs": [
    {
     "name": "stdout",
     "output_type": "stream",
     "text": [
      "      Iter       Train Loss   Remaining Time \n",
      "         1           1.3623           46.16m\n",
      "         2           1.3427           40.60m\n",
      "         3           1.3265           38.70m\n",
      "         4           1.3131           39.33m\n",
      "         5           1.3018           39.23m\n",
      "         6           1.2924           37.90m\n",
      "         7           1.2843           37.06m\n",
      "         8           1.2777           36.33m\n",
      "         9           1.2719           35.69m\n",
      "        10           1.2670           35.02m\n",
      "        20           1.2422           28.98m\n",
      "        30           1.2321           23.77m\n"
     ]
    }
   ],
   "source": [
    "gb_history5_stats5_diff = mu.ModelWrapper(GradientBoostingClassifier(random_state=RSTATE, verbose=1, n_iter_no_change = 4),\n",
    "                  description = f'{DESCRIPTION}-history5_diff-stats5_diff-weights_bin5yr', \n",
    "                 data_file = FEATURE_FILE,\n",
    "                  start_year = START_YEAR,\n",
    "                  end_year = END_YEAR,\n",
    "                  data_filter = filter_history_diff_stats5_diff_features)\n",
    "gb_history5_stats5_diff.fit(X_train_history5_stats5_diff, y_train_history5_stats5_diff, sample_weights = ybwc4.get_weights())\n",
    "y_predict_gb_history_5_stats5 = gb_history5_stats5_diff.predict(X_test_history5_stats5_diff)"
   ]
  },
  {
   "cell_type": "code",
   "execution_count": null,
   "metadata": {},
   "outputs": [],
   "source": [
    "gb_history5_stats5_diff.analyze(y_test_history5_stats5_diff)"
   ]
  },
  {
   "cell_type": "code",
   "execution_count": null,
   "metadata": {},
   "outputs": [],
   "source": [
    "gb_history5_stats5_diff.save()"
   ]
  },
  {
   "cell_type": "code",
   "execution_count": null,
   "metadata": {},
   "outputs": [],
   "source": [
    "report = report.append({\"accuracy\": gb_history5_stats5_diff.accuracy, \"description\": gb_history5_stats5_diff.description}, ignore_index=True)"
   ]
  },
  {
   "cell_type": "markdown",
   "metadata": {},
   "source": [
    "# Combine History Diff Data with Stats Diff and 5 Year Bins - 1998 Data"
   ]
  },
  {
   "cell_type": "code",
   "execution_count": null,
   "metadata": {},
   "outputs": [],
   "source": [
    "importlib.reload(mu)\n",
    "\n",
    "# def filter_history_diff_stats5_diff_features(data: pd.DataFrame):\n",
    "    \n",
    "#     print(f'Before: shape {data.shape}')\n",
    "    \n",
    "#     default = mu.DefaultColumnFilter(data)\n",
    "\n",
    "#     stats_diff = mu.StatsDiffFilter(data)\n",
    "#     history_diff = mu.History5PercentageDiffFilter(data)\n",
    "\n",
    "#     new_data = pd.concat([default.get_data(), stats_diff.get_data(), history_diff.get_data()], axis=1)\n",
    "    \n",
    "#     print(f'After: shape {new_data.shape}')\n",
    "    \n",
    "#     return new_data\n",
    "\n",
    "history5_stats5_diff1998 = filter_history_diff_stats5_diff_features(features1998)\n",
    "# let's see what's left\n",
    "[col for col in history5_stats5_diff1998.columns if re.search(r\"(stats|history)\", col)]"
   ]
  },
  {
   "cell_type": "code",
   "execution_count": null,
   "metadata": {},
   "outputs": [],
   "source": [
    "X_train_history5_stats5_diff1998, X_test_history5_stats5_diff1998, y_train_history5_stats5_diff1998, y_test_history5_stats5_diff1998 = \\\n",
    "                train_test_split(history5_stats5_diff1998, labels1998, random_state = RSTATE)"
   ]
  },
  {
   "cell_type": "code",
   "execution_count": null,
   "metadata": {},
   "outputs": [],
   "source": [
    "ybwc4_1998 = mu.IntervalBasedWeightCalculator(X_train_history5_stats5_diff1998, \"tourney_year\", 5)\n",
    "\n",
    "gb_history5_stats5_diff1998 = mu.ModelWrapper(GradientBoostingClassifier(random_state=RSTATE, verbose=1, n_iter_no_change = 4),\n",
    "                  description = f'{DESCRIPTION}-history5_diff-stats5_diff-weights_bin5yr', \n",
    "                 data_file = FEATURE_FILE,\n",
    "                  start_year = 1998,\n",
    "                  end_year = END_YEAR,\n",
    "                  data_filter = filter_history_diff_stats5_diff_features)\n",
    "\n",
    "gb_history5_stats5_diff1998.fit(X_train_history5_stats5_diff1998, y_train_history5_stats5_diff1998, sample_weights = ybwc4_1998.get_weights())\n",
    "\n",
    "y_predict_gb_history_5_stats5_diff_1998 = gb_history5_stats5_diff1998.predict(X_test_history5_stats5_diff1998)"
   ]
  },
  {
   "cell_type": "code",
   "execution_count": null,
   "metadata": {},
   "outputs": [],
   "source": [
    "importlib.reload(mu)\n",
    "gb_history5_stats5_diff1998.analyze(y_test_history5_stats5_diff1998)"
   ]
  },
  {
   "cell_type": "code",
   "execution_count": null,
   "metadata": {},
   "outputs": [],
   "source": [
    "gb_history5_stats5_diff1998.save()"
   ]
  },
  {
   "cell_type": "code",
   "execution_count": null,
   "metadata": {},
   "outputs": [],
   "source": [
    "report = report.append({\"accuracy\": gb_history5_stats5_diff1998.accuracy, \"description\": gb_history5_stats5_diff1998.description}, ignore_index=True)"
   ]
  },
  {
   "cell_type": "markdown",
   "metadata": {},
   "source": [
    "# History Diff - 5 year bins (1998)"
   ]
  },
  {
   "cell_type": "code",
   "execution_count": null,
   "metadata": {},
   "outputs": [],
   "source": [
    "importlib.reload(mu)\n",
    "\n",
    "def filter_history_diff_features(data: pd.DataFrame):\n",
    "    \n",
    "    print(f'Before: shape {data.shape}')\n",
    "    \n",
    "    default = mu.DefaultColumnFilter(data)\n",
    "\n",
    "    history_diff = mu.History5PercentageDiffFilter(data)\n",
    "\n",
    "    new_data = pd.concat([default.get_data(), history_diff.get_data()], axis=1)\n",
    "    \n",
    "    print(f'After: shape {new_data.shape}')\n",
    "    \n",
    "    return new_data\n",
    "\n",
    "history5_diff1998 = filter_history_diff_features(features1998)\n",
    "# let's see what's left\n",
    "[col for col in history5_diff1998.columns if re.search(r\"(stats|history)\", col)]"
   ]
  },
  {
   "cell_type": "code",
   "execution_count": null,
   "metadata": {},
   "outputs": [],
   "source": [
    "X_train_history5_diff1998, X_test_history5_diff1998, y_train_history5_diff1998, y_test_history5_diff1998 = \\\n",
    "                train_test_split(history5_diff1998, labels1998, random_state = RSTATE)"
   ]
  },
  {
   "cell_type": "code",
   "execution_count": null,
   "metadata": {},
   "outputs": [],
   "source": [
    "ybwc4_1998 = mu.IntervalBasedWeightCalculator(X_train_history5_stats5_diff1998, \"tourney_year\", 5)\n",
    "\n",
    "gb_history5_diff1998 = mu.ModelWrapper(GradientBoostingClassifier(random_state=RSTATE, verbose=1, n_iter_no_change = 4),\n",
    "                  description = f'{DESCRIPTION}-history5_diff-bin5', \n",
    "                 data_file = FEATURE_FILE,\n",
    "                  start_year = 1998,\n",
    "                  end_year = END_YEAR,\n",
    "                  data_filter = filter_history_diff_features)\n",
    "\n",
    "gb_history5_diff1998.fit(X_train_history5_diff1998, y_train_history5_diff1998, sample_weights = ybwc4_1998.get_weights())\n",
    "\n",
    "y_predict_gb_history_5_stats5_diff_1998 = gb_history5_diff1998.predict(X_test_history5_diff1998)"
   ]
  },
  {
   "cell_type": "code",
   "execution_count": null,
   "metadata": {},
   "outputs": [],
   "source": [
    "importlib.reload(mu)\n",
    "gb_history5_diff1998.analyze(y_test_history5_diff1998)"
   ]
  },
  {
   "cell_type": "code",
   "execution_count": null,
   "metadata": {},
   "outputs": [],
   "source": [
    "gb_history5_diff1998.save()"
   ]
  },
  {
   "cell_type": "code",
   "execution_count": null,
   "metadata": {},
   "outputs": [],
   "source": [
    "report = report.append({\"accuracy\": gb_history5_diff1998.accuracy, \"description\": gb_history5_diff1998.description}, ignore_index=True)"
   ]
  },
  {
   "cell_type": "markdown",
   "metadata": {},
   "source": [
    "# History Diff - no Bin (1998)"
   ]
  },
  {
   "cell_type": "code",
   "execution_count": null,
   "metadata": {},
   "outputs": [],
   "source": [
    "importlib.reload(mu)\n",
    "\n",
    "# def filter_history_diff_features(data: pd.DataFrame):\n",
    "    \n",
    "#     print(f'Before: shape {data.shape}')\n",
    "    \n",
    "#     default = mu.DefaultColumnFilter(data)\n",
    "\n",
    "#     history_diff = mu.History5PercentageDiffFilter(data)\n",
    "\n",
    "#     new_data = pd.concat([default.get_data(), history_diff.get_data()], axis=1)\n",
    "    \n",
    "#     print(f'After: shape {new_data.shape}')\n",
    "    \n",
    "#     return new_data\n",
    "\n",
    "# history5_diff1998_nobin = filter_history_diff_features(features1998)\n",
    "# # let's see what's left\n",
    "# [col for col in history5_diff1998.columns if re.search(r\"(stats|history)\", col)]"
   ]
  },
  {
   "cell_type": "code",
   "execution_count": null,
   "metadata": {},
   "outputs": [],
   "source": [
    "# X_train_history5_diff1998, X_test_history5_diff1998, y_train_history5_diff1998, y_test_history5_diff1998 = \\\n",
    "#                 train_test_split(history5_diff1998, labels1998, random_state = RSTATE)"
   ]
  },
  {
   "cell_type": "code",
   "execution_count": null,
   "metadata": {},
   "outputs": [],
   "source": [
    "\n",
    "gb_history5_diff1998_nobin = mu.ModelWrapper(GradientBoostingClassifier(random_state=RSTATE, verbose=1, n_iter_no_change = 4),\n",
    "                  description = f'{DESCRIPTION}-history5_diff', \n",
    "                 data_file = FEATURE_FILE,\n",
    "                  start_year = 1998,\n",
    "                  end_year = END_YEAR,\n",
    "                  data_filter = filter_history_diff_features)\n",
    "\n",
    "gb_history5_diff1998_nobin.fit(X_train_history5_diff1998, y_train_history5_diff1998)\n",
    "\n",
    "y_predict_gb_history_5_stats5_diff_1998 = gb_history5_diff1998_nobin.predict(X_test_history5_diff1998)"
   ]
  },
  {
   "cell_type": "code",
   "execution_count": null,
   "metadata": {},
   "outputs": [],
   "source": [
    "importlib.reload(mu)\n",
    "gb_history5_diff1998_nobin.analyze(y_test_history5_diff1998)"
   ]
  },
  {
   "cell_type": "code",
   "execution_count": null,
   "metadata": {},
   "outputs": [],
   "source": [
    "gb_history5_diff1998_nobin.save()"
   ]
  },
  {
   "cell_type": "code",
   "execution_count": null,
   "metadata": {},
   "outputs": [],
   "source": [
    "report = report.append({\"accuracy\": gb_history5_diff1998_nobin.accuracy, \"description\": gb_history5_diff1998_nobin.description}, ignore_index=True)"
   ]
  },
  {
   "cell_type": "code",
   "execution_count": null,
   "metadata": {},
   "outputs": [],
   "source": []
  },
  {
   "cell_type": "code",
   "execution_count": null,
   "metadata": {},
   "outputs": [],
   "source": []
  },
  {
   "cell_type": "code",
   "execution_count": null,
   "metadata": {},
   "outputs": [],
   "source": []
  },
  {
   "cell_type": "code",
   "execution_count": null,
   "metadata": {},
   "outputs": [],
   "source": []
  },
  {
   "cell_type": "markdown",
   "metadata": {},
   "source": [
    "# Results"
   ]
  },
  {
   "cell_type": "code",
   "execution_count": null,
   "metadata": {},
   "outputs": [],
   "source": [
    "report"
   ]
  },
  {
   "cell_type": "code",
   "execution_count": null,
   "metadata": {},
   "outputs": [],
   "source": [
    "best_dataset = report.loc[report.accuracy.idxmax()].description\n",
    "print(f'Best Dataset: {best_dataset}')\n",
    "\n",
    "f, a = plt.subplots(1, 1, figsize=(20, 5))\n",
    "_ = sns.lineplot(x=\"description\", y=\"accuracy\", data=report, ax=a, sort=False)\n",
    "_ = a.axhline(0.65, ls='--', color='r')\n",
    "_ = a.set_label(f\"Accuracy\")\n",
    "_ = plt.xticks(rotation=45)\n"
   ]
  },
  {
   "cell_type": "code",
   "execution_count": null,
   "metadata": {},
   "outputs": [],
   "source": []
  },
  {
   "cell_type": "code",
   "execution_count": null,
   "metadata": {},
   "outputs": [],
   "source": [
    "import shap\n",
    "\n",
    "shap.initjs()\n",
    "\n",
    "explainer = shap.TreeExplainer(gb_history5_stats5_diff.model, data=X_train_history5_stats5_diff1998.values)\n",
    "shap_values = explainer.shap_values(X_test_history5_stats5_diff1998.values)"
   ]
  },
  {
   "cell_type": "code",
   "execution_count": null,
   "metadata": {},
   "outputs": [],
   "source": [
    "shap.summary_plot(shap_values, X_test_history5_stats5_diff1998, max_display=30)"
   ]
  },
  {
   "cell_type": "code",
   "execution_count": null,
   "metadata": {},
   "outputs": [],
   "source": [
    "shap.summary_plot(shap_values, feature_names=X_test_history5_stats5_diff1998.columns, title=\"Feature Importance\")"
   ]
  },
  {
   "cell_type": "code",
   "execution_count": null,
   "metadata": {},
   "outputs": [],
   "source": []
  },
  {
   "cell_type": "code",
   "execution_count": null,
   "metadata": {},
   "outputs": [],
   "source": [
    "print(f'Last Finished: {datetime.now().strftime(\"%Y-%m-%d %H:%M\")}')"
   ]
  },
  {
   "cell_type": "code",
   "execution_count": null,
   "metadata": {},
   "outputs": [],
   "source": []
  }
 ],
 "metadata": {
  "kernelspec": {
   "display_name": "Python 3",
   "language": "python",
   "name": "python3"
  },
  "language_info": {
   "codemirror_mode": {
    "name": "ipython",
    "version": 3
   },
   "file_extension": ".py",
   "mimetype": "text/x-python",
   "name": "python",
   "nbconvert_exporter": "python",
   "pygments_lexer": "ipython3",
   "version": "3.7.3"
  }
 },
 "nbformat": 4,
 "nbformat_minor": 4
}
